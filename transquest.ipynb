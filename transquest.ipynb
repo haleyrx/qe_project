{
  "nbformat": 4,
  "nbformat_minor": 5,
  "metadata": {
    "kernelspec": {
      "name": "python3",
      "display_name": "Python 3"
    },
    "colab": {
      "name": "transquest.ipynb",
      "provenance": [],
      "collapsed_sections": [],
      "toc_visible": true,
      "include_colab_link": true
    },
    "language_info": {
      "name": "python"
    },
    "accelerator": "GPU",
    "widgets": {
      "application/vnd.jupyter.widget-state+json": {
        "a732c4ce5c42479fa57c378a48d3980c": {
          "model_module": "@jupyter-widgets/controls",
          "model_name": "HBoxModel",
          "state": {
            "_view_name": "HBoxView",
            "_dom_classes": [],
            "_model_name": "HBoxModel",
            "_view_module": "@jupyter-widgets/controls",
            "_model_module_version": "1.5.0",
            "_view_count": null,
            "_view_module_version": "1.5.0",
            "box_style": "",
            "layout": "IPY_MODEL_756f80078e08493ab95463ec19e8b94f",
            "_model_module": "@jupyter-widgets/controls",
            "children": [
              "IPY_MODEL_f314583a8db94152a85d3886bd76f8fc",
              "IPY_MODEL_c12fd71cb4dc4cc3bd80c4b138181c10"
            ]
          }
        },
        "756f80078e08493ab95463ec19e8b94f": {
          "model_module": "@jupyter-widgets/base",
          "model_name": "LayoutModel",
          "state": {
            "_view_name": "LayoutView",
            "grid_template_rows": null,
            "right": null,
            "justify_content": null,
            "_view_module": "@jupyter-widgets/base",
            "overflow": null,
            "_model_module_version": "1.2.0",
            "_view_count": null,
            "flex_flow": null,
            "width": null,
            "min_width": null,
            "border": null,
            "align_items": null,
            "bottom": null,
            "_model_module": "@jupyter-widgets/base",
            "top": null,
            "grid_column": null,
            "overflow_y": null,
            "overflow_x": null,
            "grid_auto_flow": null,
            "grid_area": null,
            "grid_template_columns": null,
            "flex": null,
            "_model_name": "LayoutModel",
            "justify_items": null,
            "grid_row": null,
            "max_height": null,
            "align_content": null,
            "visibility": null,
            "align_self": null,
            "height": null,
            "min_height": null,
            "padding": null,
            "grid_auto_rows": null,
            "grid_gap": null,
            "max_width": null,
            "order": null,
            "_view_module_version": "1.2.0",
            "grid_template_areas": null,
            "object_position": null,
            "object_fit": null,
            "grid_auto_columns": null,
            "margin": null,
            "display": null,
            "left": null
          }
        },
        "f314583a8db94152a85d3886bd76f8fc": {
          "model_module": "@jupyter-widgets/controls",
          "model_name": "FloatProgressModel",
          "state": {
            "_view_name": "ProgressView",
            "style": "IPY_MODEL_58f2c3b5e1a14b2c81c850974ec07149",
            "_dom_classes": [],
            "description": "Downloading: 100%",
            "_model_name": "FloatProgressModel",
            "bar_style": "success",
            "max": 2244861551,
            "_view_module": "@jupyter-widgets/controls",
            "_model_module_version": "1.5.0",
            "value": 2244861551,
            "_view_count": null,
            "_view_module_version": "1.5.0",
            "orientation": "horizontal",
            "min": 0,
            "description_tooltip": null,
            "_model_module": "@jupyter-widgets/controls",
            "layout": "IPY_MODEL_0eb7194d7c8440e794d9fb2b1503d844"
          }
        },
        "c12fd71cb4dc4cc3bd80c4b138181c10": {
          "model_module": "@jupyter-widgets/controls",
          "model_name": "HTMLModel",
          "state": {
            "_view_name": "HTMLView",
            "style": "IPY_MODEL_bdc901b3b2814a1dbdae99fa802a16c7",
            "_dom_classes": [],
            "description": "",
            "_model_name": "HTMLModel",
            "placeholder": "​",
            "_view_module": "@jupyter-widgets/controls",
            "_model_module_version": "1.5.0",
            "value": " 2.24G/2.24G [00:55&lt;00:00, 40.3MB/s]",
            "_view_count": null,
            "_view_module_version": "1.5.0",
            "description_tooltip": null,
            "_model_module": "@jupyter-widgets/controls",
            "layout": "IPY_MODEL_f053187afc35473ba31d31906326beb9"
          }
        },
        "58f2c3b5e1a14b2c81c850974ec07149": {
          "model_module": "@jupyter-widgets/controls",
          "model_name": "ProgressStyleModel",
          "state": {
            "_view_name": "StyleView",
            "_model_name": "ProgressStyleModel",
            "description_width": "initial",
            "_view_module": "@jupyter-widgets/base",
            "_model_module_version": "1.5.0",
            "_view_count": null,
            "_view_module_version": "1.2.0",
            "bar_color": null,
            "_model_module": "@jupyter-widgets/controls"
          }
        },
        "0eb7194d7c8440e794d9fb2b1503d844": {
          "model_module": "@jupyter-widgets/base",
          "model_name": "LayoutModel",
          "state": {
            "_view_name": "LayoutView",
            "grid_template_rows": null,
            "right": null,
            "justify_content": null,
            "_view_module": "@jupyter-widgets/base",
            "overflow": null,
            "_model_module_version": "1.2.0",
            "_view_count": null,
            "flex_flow": null,
            "width": null,
            "min_width": null,
            "border": null,
            "align_items": null,
            "bottom": null,
            "_model_module": "@jupyter-widgets/base",
            "top": null,
            "grid_column": null,
            "overflow_y": null,
            "overflow_x": null,
            "grid_auto_flow": null,
            "grid_area": null,
            "grid_template_columns": null,
            "flex": null,
            "_model_name": "LayoutModel",
            "justify_items": null,
            "grid_row": null,
            "max_height": null,
            "align_content": null,
            "visibility": null,
            "align_self": null,
            "height": null,
            "min_height": null,
            "padding": null,
            "grid_auto_rows": null,
            "grid_gap": null,
            "max_width": null,
            "order": null,
            "_view_module_version": "1.2.0",
            "grid_template_areas": null,
            "object_position": null,
            "object_fit": null,
            "grid_auto_columns": null,
            "margin": null,
            "display": null,
            "left": null
          }
        },
        "bdc901b3b2814a1dbdae99fa802a16c7": {
          "model_module": "@jupyter-widgets/controls",
          "model_name": "DescriptionStyleModel",
          "state": {
            "_view_name": "StyleView",
            "_model_name": "DescriptionStyleModel",
            "description_width": "",
            "_view_module": "@jupyter-widgets/base",
            "_model_module_version": "1.5.0",
            "_view_count": null,
            "_view_module_version": "1.2.0",
            "_model_module": "@jupyter-widgets/controls"
          }
        },
        "f053187afc35473ba31d31906326beb9": {
          "model_module": "@jupyter-widgets/base",
          "model_name": "LayoutModel",
          "state": {
            "_view_name": "LayoutView",
            "grid_template_rows": null,
            "right": null,
            "justify_content": null,
            "_view_module": "@jupyter-widgets/base",
            "overflow": null,
            "_model_module_version": "1.2.0",
            "_view_count": null,
            "flex_flow": null,
            "width": null,
            "min_width": null,
            "border": null,
            "align_items": null,
            "bottom": null,
            "_model_module": "@jupyter-widgets/base",
            "top": null,
            "grid_column": null,
            "overflow_y": null,
            "overflow_x": null,
            "grid_auto_flow": null,
            "grid_area": null,
            "grid_template_columns": null,
            "flex": null,
            "_model_name": "LayoutModel",
            "justify_items": null,
            "grid_row": null,
            "max_height": null,
            "align_content": null,
            "visibility": null,
            "align_self": null,
            "height": null,
            "min_height": null,
            "padding": null,
            "grid_auto_rows": null,
            "grid_gap": null,
            "max_width": null,
            "order": null,
            "_view_module_version": "1.2.0",
            "grid_template_areas": null,
            "object_position": null,
            "object_fit": null,
            "grid_auto_columns": null,
            "margin": null,
            "display": null,
            "left": null
          }
        }
      }
    }
  },
  "cells": [
    {
      "cell_type": "markdown",
      "metadata": {
        "id": "view-in-github",
        "colab_type": "text"
      },
      "source": [
        "<a href=\"https://colab.research.google.com/github/haleyrx/qe_project/blob/main/transquest.ipynb\" target=\"_parent\"><img src=\"https://colab.research.google.com/assets/colab-badge.svg\" alt=\"Open In Colab\"/></a>"
      ]
    },
    {
      "cell_type": "markdown",
      "metadata": {
        "id": "EPkGlI90jLv8"
      },
      "source": [
        "## **Prep**"
      ],
      "id": "EPkGlI90jLv8"
    },
    {
      "cell_type": "code",
      "metadata": {
        "colab": {
          "base_uri": "https://localhost:8080/"
        },
        "id": "_v8uSC_O3y3P",
        "outputId": "ffc42762-52b7-428d-d484-f26003c0fcb6"
      },
      "source": [
        "from google.colab import drive\n",
        "drive.mount('/content/gdrive')"
      ],
      "id": "_v8uSC_O3y3P",
      "execution_count": 2,
      "outputs": [
        {
          "output_type": "stream",
          "text": [
            "Mounted at /content/gdrive\n"
          ],
          "name": "stdout"
        }
      ]
    },
    {
      "cell_type": "code",
      "metadata": {
        "colab": {
          "base_uri": "https://localhost:8080/"
        },
        "id": "Dq8KdSHZ33KE",
        "outputId": "e2512140-a3a5-4e15-9ae0-0c3454b77bf5"
      },
      "source": [
        "%cd gdrive/MyDrive/CS7643"
      ],
      "id": "Dq8KdSHZ33KE",
      "execution_count": 7,
      "outputs": [
        {
          "output_type": "stream",
          "text": [
            "/content/gdrive/MyDrive/CS7643\n"
          ],
          "name": "stdout"
        }
      ]
    },
    {
      "cell_type": "code",
      "metadata": {
        "id": "1DgvOrJpMzT8",
        "colab": {
          "base_uri": "https://localhost:8080/"
        },
        "outputId": "3c80d095-12d1-47b8-eedb-82f8a7f548fa"
      },
      "source": [
        "# ! git clone https://2726c3be06d254f6092d9413236205338399aed0@github.com/haleyrx/qe_project"
      ],
      "id": "1DgvOrJpMzT8",
      "execution_count": null,
      "outputs": [
        {
          "output_type": "stream",
          "text": [
            "fatal: destination path 'qe_project' already exists and is not an empty directory.\n"
          ],
          "name": "stdout"
        }
      ]
    },
    {
      "cell_type": "code",
      "metadata": {
        "colab": {
          "base_uri": "https://localhost:8080/"
        },
        "id": "Orqmv_FO4UKR",
        "outputId": "cfb8f5c6-a20b-4bb4-e2e5-96fa6518a915"
      },
      "source": [
        "!ls"
      ],
      "id": "Orqmv_FO4UKR",
      "execution_count": 4,
      "outputs": [
        {
          "output_type": "stream",
          "text": [
            "colab_setup.ipynb  CS7643_HW4  qe_project\n"
          ],
          "name": "stdout"
        }
      ]
    },
    {
      "cell_type": "code",
      "metadata": {
        "colab": {
          "base_uri": "https://localhost:8080/"
        },
        "id": "8SPIeCW5391t",
        "outputId": "38b72a21-e3a9-4862-bf0b-55d07319a7d6"
      },
      "source": [
        "%cd qe_project\n",
        "# ! git pull"
      ],
      "id": "8SPIeCW5391t",
      "execution_count": 8,
      "outputs": [
        {
          "output_type": "stream",
          "text": [
            "/content/gdrive/MyDrive/CS7643/qe_project\n"
          ],
          "name": "stdout"
        }
      ]
    },
    {
      "cell_type": "code",
      "metadata": {
        "id": "10Fg1qM1NOnI",
        "colab": {
          "base_uri": "https://localhost:8080/"
        },
        "outputId": "061cd9e3-5185-4995-990e-9d7ff4d53cdd"
      },
      "source": [
        "!pip install sentencepiece\n",
        "!pip install transformers==3\n"
      ],
      "id": "10Fg1qM1NOnI",
      "execution_count": 5,
      "outputs": [
        {
          "output_type": "stream",
          "text": [
            "Requirement already satisfied: sentencepiece in /usr/local/lib/python3.7/dist-packages (0.1.95)\n",
            "Requirement already satisfied: transformers==3 in /usr/local/lib/python3.7/dist-packages (3.0.0)\n",
            "Requirement already satisfied: tqdm>=4.27 in /usr/local/lib/python3.7/dist-packages (from transformers==3) (4.41.1)\n",
            "Requirement already satisfied: filelock in /usr/local/lib/python3.7/dist-packages (from transformers==3) (3.0.12)\n",
            "Requirement already satisfied: sentencepiece in /usr/local/lib/python3.7/dist-packages (from transformers==3) (0.1.95)\n",
            "Requirement already satisfied: numpy in /usr/local/lib/python3.7/dist-packages (from transformers==3) (1.19.5)\n",
            "Requirement already satisfied: regex!=2019.12.17 in /usr/local/lib/python3.7/dist-packages (from transformers==3) (2019.12.20)\n",
            "Requirement already satisfied: packaging in /usr/local/lib/python3.7/dist-packages (from transformers==3) (20.9)\n",
            "Requirement already satisfied: requests in /usr/local/lib/python3.7/dist-packages (from transformers==3) (2.23.0)\n",
            "Requirement already satisfied: tokenizers==0.8.0-rc4 in /usr/local/lib/python3.7/dist-packages (from transformers==3) (0.8.0rc4)\n",
            "Requirement already satisfied: sacremoses in /usr/local/lib/python3.7/dist-packages (from transformers==3) (0.0.45)\n",
            "Requirement already satisfied: pyparsing>=2.0.2 in /usr/local/lib/python3.7/dist-packages (from packaging->transformers==3) (2.4.7)\n",
            "Requirement already satisfied: idna<3,>=2.5 in /usr/local/lib/python3.7/dist-packages (from requests->transformers==3) (2.10)\n",
            "Requirement already satisfied: urllib3!=1.25.0,!=1.25.1,<1.26,>=1.21.1 in /usr/local/lib/python3.7/dist-packages (from requests->transformers==3) (1.24.3)\n",
            "Requirement already satisfied: certifi>=2017.4.17 in /usr/local/lib/python3.7/dist-packages (from requests->transformers==3) (2020.12.5)\n",
            "Requirement already satisfied: chardet<4,>=3.0.2 in /usr/local/lib/python3.7/dist-packages (from requests->transformers==3) (3.0.4)\n",
            "Requirement already satisfied: click in /usr/local/lib/python3.7/dist-packages (from sacremoses->transformers==3) (7.1.2)\n",
            "Requirement already satisfied: joblib in /usr/local/lib/python3.7/dist-packages (from sacremoses->transformers==3) (1.0.1)\n",
            "Requirement already satisfied: six in /usr/local/lib/python3.7/dist-packages (from sacremoses->transformers==3) (1.15.0)\n"
          ],
          "name": "stdout"
        }
      ]
    },
    {
      "cell_type": "code",
      "metadata": {
        "id": "B2QTWHwjN8Lp",
        "colab": {
          "base_uri": "https://localhost:8080/"
        },
        "outputId": "f172c500-2c39-4985-89a5-1918014ae908"
      },
      "source": [
        "!nvidia-smi"
      ],
      "id": "B2QTWHwjN8Lp",
      "execution_count": 1,
      "outputs": [
        {
          "output_type": "stream",
          "text": [
            "Mon Apr 19 16:08:15 2021       \n",
            "+-----------------------------------------------------------------------------+\n",
            "| NVIDIA-SMI 460.67       Driver Version: 460.32.03    CUDA Version: 11.2     |\n",
            "|-------------------------------+----------------------+----------------------+\n",
            "| GPU  Name        Persistence-M| Bus-Id        Disp.A | Volatile Uncorr. ECC |\n",
            "| Fan  Temp  Perf  Pwr:Usage/Cap|         Memory-Usage | GPU-Util  Compute M. |\n",
            "|                               |                      |               MIG M. |\n",
            "|===============================+======================+======================|\n",
            "|   0  Tesla P100-PCIE...  Off  | 00000000:00:04.0 Off |                    0 |\n",
            "| N/A   38C    P0    27W / 250W |      0MiB / 16280MiB |      0%      Default |\n",
            "|                               |                      |                  N/A |\n",
            "+-------------------------------+----------------------+----------------------+\n",
            "                                                                               \n",
            "+-----------------------------------------------------------------------------+\n",
            "| Processes:                                                                  |\n",
            "|  GPU   GI   CI        PID   Type   Process name                  GPU Memory |\n",
            "|        ID   ID                                                   Usage      |\n",
            "|=============================================================================|\n",
            "|  No running processes found                                                 |\n",
            "+-----------------------------------------------------------------------------+\n"
          ],
          "name": "stdout"
        }
      ]
    },
    {
      "cell_type": "code",
      "metadata": {
        "id": "LE3G-EhYn5Pu",
        "colab": {
          "base_uri": "https://localhost:8080/",
          "height": 35
        },
        "outputId": "42c66b75-814a-4ea5-fc4f-dbf6f53e6457"
      },
      "source": [
        "%pwd"
      ],
      "id": "LE3G-EhYn5Pu",
      "execution_count": 6,
      "outputs": [
        {
          "output_type": "execute_result",
          "data": {
            "application/vnd.google.colaboratory.intrinsic+json": {
              "type": "string"
            },
            "text/plain": [
              "'/content'"
            ]
          },
          "metadata": {
            "tags": []
          },
          "execution_count": 6
        }
      ]
    },
    {
      "cell_type": "markdown",
      "metadata": {
        "id": "DFMB3O7ZtxF-"
      },
      "source": [
        "### Set up parameters"
      ],
      "id": "DFMB3O7ZtxF-"
    },
    {
      "cell_type": "code",
      "metadata": {
        "id": "6vSsgptt_vEe"
      },
      "source": [
        "SEED = 777\n",
        "RESULT_FILE = 'ne-en_result.tsv'\n",
        "METRICS_FILE = 'ne-en_metrics.txt'\n",
        "BEST_MODEL_FILE = 'ne-en_best_model.bin'\n",
        "MODEL_TYPE = 'xlmroberta'\n",
        "MODEL_NAME = 'xlm-roberta-large'\n",
        "TRAIN_DATA = 'ne-en/train.neen.df.short.tsv'\n",
        "DEV_DATA = 'ne-en/dev.neen.df.short.tsv'\n",
        "TEST_DATA = 'ne-en/test20.neen.df.short.tsv'\n",
        "\n",
        "# Model parameters\n",
        "args = {\n",
        "    'data_dir': './data/',\n",
        "    'output_dir': './results/',\n",
        "    'best_model_dir': './best_models/',\n",
        "  \n",
        "    'max_seq_length': 128,\n",
        "    'train_batch_size': 8,\n",
        "    'gradient_accumulation_steps': 1,\n",
        "    'eval_batch_size': 8,\n",
        "    'num_train_epochs': 3,\n",
        "    'weight_decay': 0,\n",
        "    'learning_rate': 1e-5,\n",
        "    'adam_epsilon': 1e-8,\n",
        "    'warmup_ratio': 0.1,\n",
        "    'warmup_steps': 0,\n",
        "    'max_grad_norm': 1.0,\n",
        "    \"manual_seed\": SEED,\n",
        "\n",
        "}"
      ],
      "id": "6vSsgptt_vEe",
      "execution_count": 13,
      "outputs": []
    },
    {
      "cell_type": "code",
      "metadata": {
        "id": "YYnB2vQpuAfR"
      },
      "source": [
        "# Get relevant paths\n",
        "\n",
        "import os \n",
        "\n",
        "train_path = os.path.join(args['data_dir'], TRAIN_DATA)\n",
        "dev_path = os.path.join(args['data_dir'], DEV_DATA)\n",
        "test_path = os.path.join(args['data_dir'], TEST_DATA)\n",
        "best_model_path = os.path.join(args['best_model_dir'], BEST_MODEL_FILE)\n",
        "results_path = os.path.join(args['output_dir'], RESULT_FILE)\n",
        "metrics_path = os.path.join(args['output_dir'], METRICS_FILE)\n"
      ],
      "id": "YYnB2vQpuAfR",
      "execution_count": 14,
      "outputs": []
    },
    {
      "cell_type": "code",
      "metadata": {
        "colab": {
          "base_uri": "https://localhost:8080/",
          "height": 35
        },
        "id": "BoQbUi9lrPph",
        "outputId": "8654bed3-5a4f-47b5-c84f-6c0f211132ec"
      },
      "source": [
        "train_path"
      ],
      "id": "BoQbUi9lrPph",
      "execution_count": 15,
      "outputs": [
        {
          "output_type": "execute_result",
          "data": {
            "application/vnd.google.colaboratory.intrinsic+json": {
              "type": "string"
            },
            "text/plain": [
              "'./data/ne-en/train.neen.df.short.tsv'"
            ]
          },
          "metadata": {
            "tags": []
          },
          "execution_count": 15
        }
      ]
    },
    {
      "cell_type": "markdown",
      "metadata": {
        "id": "HiL9PxhpjSkS"
      },
      "source": [
        "## Read in Data"
      ],
      "id": "HiL9PxhpjSkS"
    },
    {
      "cell_type": "code",
      "metadata": {
        "id": "UoauqED0Drop"
      },
      "source": [
        "import csv\n",
        "import pandas as pd\n",
        "\n",
        "# function adapted from https://github.com/TharinduDR/\n",
        "def read_file(path, index='index'):\n",
        "    indices = []\n",
        "    originals = []\n",
        "    translations = []\n",
        "    z_means = []\n",
        "    with open(path, mode='r', encoding='utf-8-sig') as csvfile:\n",
        "        reader = csv.DictReader(csvfile, delimiter='\\t', quoting=csv.QUOTE_NONE)\n",
        "        for row in reader:\n",
        "            indices.append(row[index])\n",
        "            originals.append(row['original'])\n",
        "            translations.append(row['translation'])\n",
        "            z_means.append(float(row['z_mean']))\n",
        "\n",
        "    return pd.DataFrame(\n",
        "        {'index': indices,\n",
        "         'original': originals,\n",
        "         'translation': translations,\n",
        "         'z_mean': z_means\n",
        "         })"
      ],
      "id": "UoauqED0Drop",
      "execution_count": 21,
      "outputs": []
    },
    {
      "cell_type": "code",
      "metadata": {
        "id": "IQW0bZbMmrac",
        "colab": {
          "base_uri": "https://localhost:8080/",
          "height": 204
        },
        "outputId": "ffa7f22b-7e79-4969-d4c8-0c6f2f89a557"
      },
      "source": [
        "# import pandas as pd\n",
        "# df_train = pd.read_csv(train_path, sep='\\t', encoding='utf-8-sig')\n",
        "df_train = read_file(train_path)\n",
        "train = df_train[['original', 'translation', 'z_mean']]\n",
        "train.head()"
      ],
      "id": "IQW0bZbMmrac",
      "execution_count": 22,
      "outputs": [
        {
          "output_type": "execute_result",
          "data": {
            "text/html": [
              "<div>\n",
              "<style scoped>\n",
              "    .dataframe tbody tr th:only-of-type {\n",
              "        vertical-align: middle;\n",
              "    }\n",
              "\n",
              "    .dataframe tbody tr th {\n",
              "        vertical-align: top;\n",
              "    }\n",
              "\n",
              "    .dataframe thead th {\n",
              "        text-align: right;\n",
              "    }\n",
              "</style>\n",
              "<table border=\"1\" class=\"dataframe\">\n",
              "  <thead>\n",
              "    <tr style=\"text-align: right;\">\n",
              "      <th></th>\n",
              "      <th>original</th>\n",
              "      <th>translation</th>\n",
              "      <th>z_mean</th>\n",
              "    </tr>\n",
              "  </thead>\n",
              "  <tbody>\n",
              "    <tr>\n",
              "      <th>0</th>\n",
              "      <td>रैका भन्ने शब्दबाट रैकावर/रैका तप्पा नामाकरण भ...</td>\n",
              "      <td>Raikawar / Raika Tappa is named from the word ...</td>\n",
              "      <td>0.853093</td>\n",
              "    </tr>\n",
              "    <tr>\n",
              "      <th>1</th>\n",
              "      <td>यो कुरा हनुमानको पादपीठमा कुँदिएको अभिलेखबाट थ...</td>\n",
              "      <td>It is known from a recipe that is cooked in th...</td>\n",
              "      <td>-0.431285</td>\n",
              "    </tr>\n",
              "    <tr>\n",
              "      <th>2</th>\n",
              "      <td>प्रस्तुत काव्यमा छन्दशास्त्रीय नियमअनुसार ‘शिख...</td>\n",
              "      <td>According to the rosary rules in the present c...</td>\n",
              "      <td>-1.465843</td>\n",
              "    </tr>\n",
              "    <tr>\n",
              "      <th>3</th>\n",
              "      <td>सिन्धुलीमाढी शहरमा झन्डै ४० हजार मानीस बसोबास ...</td>\n",
              "      <td>Maanis live nearly 40 thousand in the city of ...</td>\n",
              "      <td>-0.516619</td>\n",
              "    </tr>\n",
              "    <tr>\n",
              "      <th>4</th>\n",
              "      <td>भगवान् शिवको हातमा रहेको त्रिशुल, बज्र आयुध नै...</td>\n",
              "      <td>The Tree, which is in the hands of the goddess...</td>\n",
              "      <td>-1.058211</td>\n",
              "    </tr>\n",
              "  </tbody>\n",
              "</table>\n",
              "</div>"
            ],
            "text/plain": [
              "                                            original  ...    z_mean\n",
              "0  रैका भन्ने शब्दबाट रैकावर/रैका तप्पा नामाकरण भ...  ...  0.853093\n",
              "1  यो कुरा हनुमानको पादपीठमा कुँदिएको अभिलेखबाट थ...  ... -0.431285\n",
              "2  प्रस्तुत काव्यमा छन्दशास्त्रीय नियमअनुसार ‘शिख...  ... -1.465843\n",
              "3  सिन्धुलीमाढी शहरमा झन्डै ४० हजार मानीस बसोबास ...  ... -0.516619\n",
              "4  भगवान् शिवको हातमा रहेको त्रिशुल, बज्र आयुध नै...  ... -1.058211\n",
              "\n",
              "[5 rows x 3 columns]"
            ]
          },
          "metadata": {
            "tags": []
          },
          "execution_count": 22
        }
      ]
    },
    {
      "cell_type": "code",
      "metadata": {
        "colab": {
          "base_uri": "https://localhost:8080/",
          "height": 204
        },
        "id": "fPn0pdAv94XL",
        "outputId": "cd1cbd23-326c-4d41-c774-e8922396d63e"
      },
      "source": [
        "# df_dev = pd.read_csv(dev_path,sep='\\t')\n",
        "df_dev = read_file(dev_path)\n",
        "dev = df_dev[['original', 'translation', 'z_mean']]\n",
        "dev.head()"
      ],
      "id": "fPn0pdAv94XL",
      "execution_count": 23,
      "outputs": [
        {
          "output_type": "execute_result",
          "data": {
            "text/html": [
              "<div>\n",
              "<style scoped>\n",
              "    .dataframe tbody tr th:only-of-type {\n",
              "        vertical-align: middle;\n",
              "    }\n",
              "\n",
              "    .dataframe tbody tr th {\n",
              "        vertical-align: top;\n",
              "    }\n",
              "\n",
              "    .dataframe thead th {\n",
              "        text-align: right;\n",
              "    }\n",
              "</style>\n",
              "<table border=\"1\" class=\"dataframe\">\n",
              "  <thead>\n",
              "    <tr style=\"text-align: right;\">\n",
              "      <th></th>\n",
              "      <th>original</th>\n",
              "      <th>translation</th>\n",
              "      <th>z_mean</th>\n",
              "    </tr>\n",
              "  </thead>\n",
              "  <tbody>\n",
              "    <tr>\n",
              "      <th>0</th>\n",
              "      <td>बौद्धहरु गुम्बा वा देवतालाई परिक्रमा गर्दा दाह...</td>\n",
              "      <td>Bonpos, if the inhabitants are gamblers or god...</td>\n",
              "      <td>-0.983843</td>\n",
              "    </tr>\n",
              "    <tr>\n",
              "      <th>1</th>\n",
              "      <td>त्यसै गरी वेदका उपवेदहरू निम्न अनुसार छन्ः ऋग्...</td>\n",
              "      <td>So far the subsidiaries of the altar are as fo...</td>\n",
              "      <td>0.333005</td>\n",
              "    </tr>\n",
              "    <tr>\n",
              "      <th>2</th>\n",
              "      <td>आधारभूत संरचनामा सुधारको बेला, यो उपेक्षा गरीर...</td>\n",
              "      <td>During improvements to the basic structure, it...</td>\n",
              "      <td>0.708585</td>\n",
              "    </tr>\n",
              "    <tr>\n",
              "      <th>3</th>\n",
              "      <td>दाजुभाइले निस्रोमा टक्राएको चामल र विभिन्न खान...</td>\n",
              "      <td>The brothers carry a trapped chamber and vario...</td>\n",
              "      <td>-0.379051</td>\n",
              "    </tr>\n",
              "    <tr>\n",
              "      <th>4</th>\n",
              "      <td>फिल्म र कुनिजले मिश्रित प्रतिक्रिया पाए पनि चल...</td>\n",
              "      <td>Although the film and kuniz received a mixed r...</td>\n",
              "      <td>2.510893</td>\n",
              "    </tr>\n",
              "  </tbody>\n",
              "</table>\n",
              "</div>"
            ],
            "text/plain": [
              "                                            original  ...    z_mean\n",
              "0  बौद्धहरु गुम्बा वा देवतालाई परिक्रमा गर्दा दाह...  ... -0.983843\n",
              "1  त्यसै गरी वेदका उपवेदहरू निम्न अनुसार छन्ः ऋग्...  ...  0.333005\n",
              "2  आधारभूत संरचनामा सुधारको बेला, यो उपेक्षा गरीर...  ...  0.708585\n",
              "3  दाजुभाइले निस्रोमा टक्राएको चामल र विभिन्न खान...  ... -0.379051\n",
              "4  फिल्म र कुनिजले मिश्रित प्रतिक्रिया पाए पनि चल...  ...  2.510893\n",
              "\n",
              "[5 rows x 3 columns]"
            ]
          },
          "metadata": {
            "tags": []
          },
          "execution_count": 23
        }
      ]
    },
    {
      "cell_type": "code",
      "metadata": {
        "colab": {
          "base_uri": "https://localhost:8080/",
          "height": 204
        },
        "id": "G19rmEtc-It0",
        "outputId": "43b13e9a-034b-4edd-a4e4-5cf9a09865ba"
      },
      "source": [
        "# df_test = pd.read_csv(test_path,sep='\\t')\n",
        "df_test = read_file(test_path)\n",
        "test = df_test[['original', 'translation', 'z_mean']]\n",
        "test.head()"
      ],
      "id": "G19rmEtc-It0",
      "execution_count": 24,
      "outputs": [
        {
          "output_type": "execute_result",
          "data": {
            "text/html": [
              "<div>\n",
              "<style scoped>\n",
              "    .dataframe tbody tr th:only-of-type {\n",
              "        vertical-align: middle;\n",
              "    }\n",
              "\n",
              "    .dataframe tbody tr th {\n",
              "        vertical-align: top;\n",
              "    }\n",
              "\n",
              "    .dataframe thead th {\n",
              "        text-align: right;\n",
              "    }\n",
              "</style>\n",
              "<table border=\"1\" class=\"dataframe\">\n",
              "  <thead>\n",
              "    <tr style=\"text-align: right;\">\n",
              "      <th></th>\n",
              "      <th>original</th>\n",
              "      <th>translation</th>\n",
              "      <th>z_mean</th>\n",
              "    </tr>\n",
              "  </thead>\n",
              "  <tbody>\n",
              "    <tr>\n",
              "      <th>0</th>\n",
              "      <td>कोशी  अन्चल अस्पतालका साथै केही सामुदायीक तथा ...</td>\n",
              "      <td>Some community and private health institutions...</td>\n",
              "      <td>1.125492</td>\n",
              "    </tr>\n",
              "    <tr>\n",
              "      <th>1</th>\n",
              "      <td>विक्रम सम्वत२०३६ पछिको कथालेखन काललाई समसामयिक...</td>\n",
              "      <td>While the storytelling calculations after the ...</td>\n",
              "      <td>-0.561816</td>\n",
              "    </tr>\n",
              "    <tr>\n",
              "      <th>2</th>\n",
              "      <td>तथापी, उनले आफ्नो अधिकांश आविष्कारहरू बाहिर प्...</td>\n",
              "      <td>Nevertheless, many stole his inventions becaus...</td>\n",
              "      <td>0.179027</td>\n",
              "    </tr>\n",
              "    <tr>\n",
              "      <th>3</th>\n",
              "      <td>यस्तै अङ्गीरसमा करुण रसको कुरा उल्लेख नगर्नाले...</td>\n",
              "      <td>Similar to Angirus, not mentioning the Caribbe...</td>\n",
              "      <td>-0.194699</td>\n",
              "    </tr>\n",
              "    <tr>\n",
              "      <th>4</th>\n",
              "      <td>पछिल्लो समयमा सारावली, मानसागरी, जातकतत्व, भृग...</td>\n",
              "      <td>In later times, there have been sufficient chr...</td>\n",
              "      <td>0.363625</td>\n",
              "    </tr>\n",
              "  </tbody>\n",
              "</table>\n",
              "</div>"
            ],
            "text/plain": [
              "                                            original  ...    z_mean\n",
              "0  कोशी  अन्चल अस्पतालका साथै केही सामुदायीक तथा ...  ...  1.125492\n",
              "1  विक्रम सम्वत२०३६ पछिको कथालेखन काललाई समसामयिक...  ... -0.561816\n",
              "2  तथापी, उनले आफ्नो अधिकांश आविष्कारहरू बाहिर प्...  ...  0.179027\n",
              "3  यस्तै अङ्गीरसमा करुण रसको कुरा उल्लेख नगर्नाले...  ... -0.194699\n",
              "4  पछिल्लो समयमा सारावली, मानसागरी, जातकतत्व, भृग...  ...  0.363625\n",
              "\n",
              "[5 rows x 3 columns]"
            ]
          },
          "metadata": {
            "tags": []
          },
          "execution_count": 24
        }
      ]
    },
    {
      "cell_type": "code",
      "metadata": {
        "id": "AwDjf70J-lMB"
      },
      "source": [
        "train = train.rename(columns={'original': 'text_a', 'translation': 'text_b', 'z_mean': 'labels'}).dropna()\n",
        "dev = dev.rename(columns={'original': 'text_a', 'translation': 'text_b', 'z_mean': 'labels'}).dropna()\n",
        "test = test.rename(columns={'original': 'text_a', 'translation': 'text_b', 'z_mean': 'labels'}).dropna()"
      ],
      "id": "AwDjf70J-lMB",
      "execution_count": 25,
      "outputs": []
    },
    {
      "cell_type": "markdown",
      "metadata": {
        "id": "I_gKfdhChQaG"
      },
      "source": [
        "### Use sklearn to preprocess z-scores\n"
      ],
      "id": "I_gKfdhChQaG"
    },
    {
      "cell_type": "code",
      "metadata": {
        "id": "searching-equity"
      },
      "source": [
        "from sklearn import preprocessing\n",
        "min_max_scaler = preprocessing.MinMaxScaler()\n",
        "\n",
        "\n",
        "def fit(df, label):\n",
        "    x = df[[label]].values.astype(float)\n",
        "    x_scaled = min_max_scaler.fit_transform(x)\n",
        "    df[label] = x_scaled\n",
        "    return df\n",
        "\n",
        "\n",
        "def un_fit(df, label):\n",
        "    x = df[[label]].values.astype(float)\n",
        "    x_unscaled = min_max_scaler.inverse_transform(x)\n",
        "    df[label] = x_unscaled\n",
        "    return df"
      ],
      "id": "searching-equity",
      "execution_count": 26,
      "outputs": []
    },
    {
      "cell_type": "code",
      "metadata": {
        "id": "rcLQXavR_iY_"
      },
      "source": [
        "train = fit(train, 'labels')\n",
        "dev = fit(dev, 'labels')"
      ],
      "id": "rcLQXavR_iY_",
      "execution_count": 27,
      "outputs": []
    },
    {
      "cell_type": "markdown",
      "metadata": {
        "id": "Xpy69dtawS34"
      },
      "source": [
        "### Import packages"
      ],
      "id": "Xpy69dtawS34"
    },
    {
      "cell_type": "code",
      "metadata": {
        "id": "J7w7rmTrTcjv"
      },
      "source": [
        "import transformers\n",
        "from transformers import AdamW, get_linear_schedule_with_warmup\n",
        "from transformers import XLMRobertaConfig, XLMRobertaTokenizer, XLMRobertaForSequenceClassification, XLMRobertaModel\n",
        "import torch\n",
        "\n",
        "import numpy as np\n",
        "import pandas as pd\n",
        "from pylab import rcParams\n",
        "import matplotlib.pyplot as plt\n",
        "from matplotlib import rc\n",
        "from sklearn.metrics import mean_squared_error, mean_absolute_error\n",
        "from scipy import stats\n",
        "from collections import defaultdict\n",
        "from textwrap import wrap\n",
        "\n",
        "from torch import nn, optim\n",
        "from torch.utils.data import Dataset, DataLoader"
      ],
      "id": "J7w7rmTrTcjv",
      "execution_count": 28,
      "outputs": []
    },
    {
      "cell_type": "code",
      "metadata": {
        "colab": {
          "base_uri": "https://localhost:8080/"
        },
        "id": "MCiPHSh-TYta",
        "outputId": "eb881729-9f50-4c3b-ee2d-9e534d390e37"
      },
      "source": [
        "# Check device\n",
        "device = torch.device(\"cuda\" if torch.cuda.is_available() else \"cpu\")\n",
        "device"
      ],
      "id": "MCiPHSh-TYta",
      "execution_count": 29,
      "outputs": [
        {
          "output_type": "execute_result",
          "data": {
            "text/plain": [
              "device(type='cuda')"
            ]
          },
          "metadata": {
            "tags": []
          },
          "execution_count": 29
        }
      ]
    },
    {
      "cell_type": "markdown",
      "metadata": {
        "id": "zmgSEt44wp6p"
      },
      "source": [
        "### Download pretrained model"
      ],
      "id": "zmgSEt44wp6p"
    },
    {
      "cell_type": "code",
      "metadata": {
        "id": "50emkbPkUPnf"
      },
      "source": [
        "# Initialize config, tokenizer, and pretrained model\n",
        "MODEL_CLASSES = {'xlmroberta': (XLMRobertaConfig, XLMRobertaModel, XLMRobertaTokenizer)}\n",
        "\n",
        "config_class, model_class, tokenizer_class = MODEL_CLASSES[MODEL_TYPE]\n",
        "\n",
        "config = config_class.from_pretrained(MODEL_NAME, num_labels=1)\n",
        "tokenizer = tokenizer_class.from_pretrained(MODEL_NAME)"
      ],
      "id": "50emkbPkUPnf",
      "execution_count": 30,
      "outputs": []
    },
    {
      "cell_type": "markdown",
      "metadata": {
        "id": "n3rD10Qvwt6s"
      },
      "source": [
        "### Create data loader and load batches"
      ],
      "id": "n3rD10Qvwt6s"
    },
    {
      "cell_type": "code",
      "metadata": {
        "id": "wGNNC5auM2AN"
      },
      "source": [
        "class TranslationDataset(Dataset):\n",
        "  def __init__(self, text_a, text_b, labels, tokenizer, max_len):\n",
        "    self.text_a = text_a\n",
        "    self.text_b = text_b\n",
        "    self.labels = labels\n",
        "    self.tokenizer = tokenizer\n",
        "    self.max_len = max_len\n",
        "\n",
        "  def __len__(self):\n",
        "    return len(self.text_a)\n",
        "\n",
        "  def __getitem__(self, item):\n",
        "    original = str(self.text_a[item])\n",
        "    translation = str(self.text_b[item])\n",
        "    label = float(self.labels[item])\n",
        "    encoding = self.tokenizer.encode_plus(\n",
        "      original,\n",
        "      translation,\n",
        "      add_special_tokens=True,\n",
        "      max_length=self.max_len,\n",
        "      return_token_type_ids=False,\n",
        "      padding='max_length',\n",
        "      truncation='longest_first',\n",
        "      return_attention_mask=True,\n",
        "      return_tensors='pt',\n",
        "    )\n",
        "\n",
        "    return {\n",
        "      'original_text': original,\n",
        "      'translation_text': translation,\n",
        "      'input_ids': encoding['input_ids'].flatten(),\n",
        "      'attention_mask': encoding['attention_mask'].flatten(),\n",
        "      'label': torch.tensor(label, dtype=torch.float32)\n",
        "    }"
      ],
      "id": "wGNNC5auM2AN",
      "execution_count": 44,
      "outputs": []
    },
    {
      "cell_type": "code",
      "metadata": {
        "id": "p5aGo74Il9ci"
      },
      "source": [
        "def create_data_loader(df, tokenizer, max_len, batch_size):\n",
        "  ds = TranslationDataset(\n",
        "    text_a=df.text_a.to_numpy(),\n",
        "    text_b=df.text_b.to_numpy(),\n",
        "    labels=df.labels.to_numpy(),\n",
        "    tokenizer=tokenizer,\n",
        "    max_len=max_len\n",
        "  )\n",
        "\n",
        "  return DataLoader(\n",
        "    ds,\n",
        "    batch_size=batch_size,\n",
        "    num_workers=2\n",
        "  )"
      ],
      "id": "p5aGo74Il9ci",
      "execution_count": 45,
      "outputs": []
    },
    {
      "cell_type": "code",
      "metadata": {
        "id": "6mgdstvfmxlv"
      },
      "source": [
        "train_data_loader = create_data_loader(train, tokenizer, args['max_seq_length'], args['train_batch_size'])\n",
        "dev_data_loader = create_data_loader(dev, tokenizer, args['max_seq_length'], args['train_batch_size'])\n",
        "test_data_loader = create_data_loader(test, tokenizer, args['max_seq_length'], args['train_batch_size'])"
      ],
      "id": "6mgdstvfmxlv",
      "execution_count": 46,
      "outputs": []
    },
    {
      "cell_type": "code",
      "metadata": {
        "colab": {
          "base_uri": "https://localhost:8080/"
        },
        "id": "EMGuqAFKokDS",
        "outputId": "bbc1c9a3-ebd3-41ea-e053-0b56df4e5268"
      },
      "source": [
        "data = next(iter(train_data_loader))\n",
        "data.keys()"
      ],
      "id": "EMGuqAFKokDS",
      "execution_count": 49,
      "outputs": [
        {
          "output_type": "execute_result",
          "data": {
            "text/plain": [
              "dict_keys(['original_text', 'translation_text', 'input_ids', 'attention_mask', 'label'])"
            ]
          },
          "metadata": {
            "tags": []
          },
          "execution_count": 49
        }
      ]
    },
    {
      "cell_type": "code",
      "metadata": {
        "colab": {
          "base_uri": "https://localhost:8080/"
        },
        "id": "dEZoT2t6pTTC",
        "outputId": "ec1d5584-cbe8-446e-cad8-42aa7d592868"
      },
      "source": [
        "print(data['input_ids'].shape)\n",
        "print(data['attention_mask'].shape)\n",
        "print(data['label'].shape)"
      ],
      "id": "dEZoT2t6pTTC",
      "execution_count": 50,
      "outputs": [
        {
          "output_type": "stream",
          "text": [
            "torch.Size([8, 128])\n",
            "torch.Size([8, 128])\n",
            "torch.Size([8])\n"
          ],
          "name": "stdout"
        }
      ]
    },
    {
      "cell_type": "code",
      "metadata": {
        "colab": {
          "base_uri": "https://localhost:8080/"
        },
        "id": "IALZRIZF2F3H",
        "outputId": "69d0a5b5-9b11-4d31-c7a6-e5e01c2e3058"
      },
      "source": [
        "print(data['original_text'][0])\n",
        "print(data['label'][0].numpy())"
      ],
      "id": "IALZRIZF2F3H",
      "execution_count": 36,
      "outputs": [
        {
          "output_type": "stream",
          "text": [
            "कोशी  अन्चल अस्पतालका साथै केही सामुदायीक तथा निजि स्वास्थ्य संस्था पनि बिराटनगरमा रहेका छन ।\n",
            "1.1254919\n"
          ],
          "name": "stdout"
        }
      ]
    },
    {
      "cell_type": "markdown",
      "metadata": {
        "id": "hg_V0Zhhw6Ll"
      },
      "source": [
        "### Define MonoTransQuest Model"
      ],
      "id": "hg_V0Zhhw6Ll"
    },
    {
      "cell_type": "code",
      "metadata": {
        "id": "IElDL0WPuyK9"
      },
      "source": [
        "class MonoTransQuest(nn.Module):\n",
        "\n",
        "  def __init__(self, config):\n",
        "    super(MonoTransQuest, self).__init__()\n",
        "    self.model = model_class.from_pretrained(MODEL_NAME)\n",
        "    self.dense = nn.Linear(config.hidden_size, config.hidden_size)\n",
        "    self.dropout = nn.Dropout(config.hidden_dropout_prob)\n",
        "    self.out_proj = nn.Linear(config.hidden_size, config.num_labels)\n",
        "  \n",
        "  def forward(self, input_ids, attention_mask):\n",
        "    outputs = self.model(input_ids=input_ids, attention_mask=attention_mask)\n",
        "    sequence_output = outputs[0]\n",
        "    x = sequence_output[:, 0, :]  # take <s> token (equiv. to [CLS])\n",
        "    x = self.dropout(x)\n",
        "    x = self.dense(x)\n",
        "    x = torch.tanh(x)\n",
        "    x = self.dropout(x)\n",
        "    x = self.out_proj(x)\n",
        "\n",
        "    return torch.sigmoid(x)"
      ],
      "id": "IElDL0WPuyK9",
      "execution_count": 37,
      "outputs": []
    },
    {
      "cell_type": "code",
      "metadata": {
        "id": "f_QhuHSi0c14"
      },
      "source": [
        "model = MonoTransQuest(config)\n",
        "model = model.to(device)"
      ],
      "id": "f_QhuHSi0c14",
      "execution_count": 38,
      "outputs": []
    },
    {
      "cell_type": "markdown",
      "metadata": {
        "id": "43WheJVzxAIY"
      },
      "source": [
        "### Training"
      ],
      "id": "43WheJVzxAIY"
    },
    {
      "cell_type": "code",
      "metadata": {
        "id": "unX_3I59Oqml"
      },
      "source": [
        "import math\n",
        "\n",
        "t_total = len(train_data_loader) // args['gradient_accumulation_steps'] * args['num_train_epochs']\n",
        "warmup_steps = math.ceil(t_total * args['warmup_ratio'])\n",
        "args['warmup_steps'] = warmup_steps if args['warmup_steps'] == 0 else args['warmup_steps']\n",
        "\n",
        "optimizer = AdamW(model.parameters(), lr=args['learning_rate'], eps=args['adam_epsilon'])\n",
        "scheduler = get_linear_schedule_with_warmup(\n",
        "  optimizer,\n",
        "  num_warmup_steps=args['warmup_steps'], \n",
        "  num_training_steps=t_total\n",
        ")\n",
        "\n",
        "loss_fn = nn.MSELoss().to(device)"
      ],
      "id": "unX_3I59Oqml",
      "execution_count": 39,
      "outputs": []
    },
    {
      "cell_type": "code",
      "metadata": {
        "id": "Pd1kfrd1UPXT"
      },
      "source": [
        "def train_epoch(\n",
        "  model,\n",
        "  data_loader,\n",
        "  loss_fn,\n",
        "  optimizer,\n",
        "  device,\n",
        "  scheduler,\n",
        "  n_examples\n",
        "):\n",
        "  model = model.train()\n",
        "  losses = []\n",
        "  for d in data_loader:\n",
        "    input_ids = d[\"input_ids\"].to(device)\n",
        "    attention_mask = d[\"attention_mask\"].to(device)\n",
        "    labels = torch.unsqueeze(d[\"label\"], 1)\n",
        "    labels = labels.float()\n",
        "    labels = labels.to(device)\n",
        "    outputs = model(\n",
        "      input_ids=input_ids,\n",
        "      attention_mask=attention_mask\n",
        "    )\n",
        "    loss = loss_fn(outputs, labels)\n",
        "    losses.append(loss.item())\n",
        "    loss.backward()\n",
        "    nn.utils.clip_grad_norm_(model.parameters(), max_norm=args['max_grad_norm'])\n",
        "    optimizer.step()\n",
        "    scheduler.step()\n",
        "    optimizer.zero_grad()\n",
        "  return np.mean(losses)"
      ],
      "id": "Pd1kfrd1UPXT",
      "execution_count": 40,
      "outputs": []
    },
    {
      "cell_type": "code",
      "metadata": {
        "id": "8B8ctTAsUxsG"
      },
      "source": [
        "def eval_model(model, data_loader, loss_fn, device, n_examples):\n",
        "  model = model.eval()\n",
        "  losses = []\n",
        "  with torch.no_grad():\n",
        "    for d in data_loader:\n",
        "      input_ids = d[\"input_ids\"].to(device)\n",
        "      attention_mask = d[\"attention_mask\"].to(device)\n",
        "      labels = torch.unsqueeze(d[\"label\"], 1)\n",
        "      labels = labels.float()\n",
        "      labels = labels.to(device)\n",
        "      outputs = model(\n",
        "        input_ids=input_ids,\n",
        "        attention_mask=attention_mask\n",
        "      )\n",
        "      loss = loss_fn(outputs, labels)\n",
        "      losses.append(loss.item())\n",
        "  return np.mean(losses)"
      ],
      "id": "8B8ctTAsUxsG",
      "execution_count": 41,
      "outputs": []
    },
    {
      "cell_type": "code",
      "metadata": {
        "colab": {
          "base_uri": "https://localhost:8080/"
        },
        "id": "6UcIPfl8Uzna",
        "outputId": "e06ecd49-1d3b-40dc-e10c-52620de2dd81"
      },
      "source": [
        "%%time\n",
        "\n",
        "history = defaultdict(list)\n",
        "best_loss = float('inf')\n",
        "for epoch in range(args['num_train_epochs']):\n",
        "  print(f'Epoch {epoch + 1}/{args[\"num_train_epochs\"]}')\n",
        "  print('-' * 10)\n",
        "  train_loss = train_epoch(\n",
        "    model,\n",
        "    train_data_loader,\n",
        "    loss_fn,\n",
        "    optimizer,\n",
        "    device,\n",
        "    scheduler,\n",
        "    len(df_train)\n",
        "  )\n",
        "  print(f'Train loss {train_loss}')\n",
        "  val_loss = eval_model(\n",
        "    model,\n",
        "    dev_data_loader,\n",
        "    loss_fn,\n",
        "    device,\n",
        "    len(df_dev)\n",
        "  )\n",
        "  print(f'Val   loss {val_loss}')\n",
        "  print()\n",
        "  history['train_loss'].append(train_loss)\n",
        "  history['val_loss'].append(val_loss)\n",
        "  if val_loss < best_loss:\n",
        "    torch.save(model.state_dict(), best_model_path)\n",
        "    best_loss = val_loss"
      ],
      "id": "6UcIPfl8Uzna",
      "execution_count": 51,
      "outputs": [
        {
          "output_type": "stream",
          "text": [
            "Epoch 1/3\n",
            "----------\n",
            "Train loss 0.02535230063021715\n",
            "Val   loss 0.014296964200213551\n",
            "\n",
            "Epoch 2/3\n",
            "----------\n",
            "Train loss 0.01735194735095969\n",
            "Val   loss 0.013529758712276817\n",
            "\n",
            "Epoch 3/3\n",
            "----------\n",
            "Train loss 0.012359097366287772\n",
            "Val   loss 0.013967813489958644\n",
            "\n",
            "CPU times: user 11min 35s, sys: 8min 7s, total: 19min 42s\n",
            "Wall time: 20min 37s\n"
          ],
          "name": "stdout"
        }
      ]
    },
    {
      "cell_type": "code",
      "metadata": {
        "id": "gYwXx_vsdgfP",
        "colab": {
          "base_uri": "https://localhost:8080/",
          "height": 295
        },
        "outputId": "8f2c6c18-1427-4cde-c92d-65d85062b2ce"
      },
      "source": [
        "# Plot graphs \n",
        "plt.plot(history['train_loss'], label='train loss')\n",
        "plt.plot(history['val_loss'], label='validation loss')\n",
        "plt.title('Training history')\n",
        "plt.ylabel('Loss')\n",
        "plt.xlabel('Epoch')\n",
        "plt.legend()\n",
        "plt.ylim([0, 0.09]);"
      ],
      "id": "gYwXx_vsdgfP",
      "execution_count": 52,
      "outputs": [
        {
          "output_type": "display_data",
          "data": {
            "image/png": "[encoded data removed]",
            "text/plain": [
              "<Figure size 432x288 with 1 Axes>"
            ]
          },
          "metadata": {
            "tags": [],
            "needs_background": "light"
          }
        }
      ]
    },
    {
      "cell_type": "markdown",
      "metadata": {
        "id": "vIrZTkIoxMsG"
      },
      "source": [
        "### Generating predictions and metrics"
      ],
      "id": "vIrZTkIoxMsG"
    },
    {
      "cell_type": "code",
      "metadata": {
        "colab": {
          "base_uri": "https://localhost:8080/",
          "height": 66,
          "referenced_widgets": [
            "a732c4ce5c42479fa57c378a48d3980c",
            "756f80078e08493ab95463ec19e8b94f",
            "f314583a8db94152a85d3886bd76f8fc",
            "c12fd71cb4dc4cc3bd80c4b138181c10",
            "58f2c3b5e1a14b2c81c850974ec07149",
            "0eb7194d7c8440e794d9fb2b1503d844",
            "bdc901b3b2814a1dbdae99fa802a16c7",
            "f053187afc35473ba31d31906326beb9"
          ]
        },
        "id": "iBqTYThop1P4",
        "outputId": "d6bcee56-f5f5-48fe-d0fd-093d93605268"
      },
      "source": [
        "# Load pretrained model\n",
        "model = MonoTransQuest(config)\n",
        "model.load_state_dict(torch.load(best_model_path))\n",
        "model = model.to(device)"
      ],
      "id": "iBqTYThop1P4",
      "execution_count": null,
      "outputs": [
        {
          "output_type": "display_data",
          "data": {
            "application/vnd.jupyter.widget-view+json": {
              "model_id": "a732c4ce5c42479fa57c378a48d3980c",
              "version_minor": 0,
              "version_major": 2
            },
            "text/plain": [
              "HBox(children=(FloatProgress(value=0.0, description='Downloading', max=2244861551.0, style=ProgressStyle(descr…"
            ]
          },
          "metadata": {
            "tags": []
          }
        },
        {
          "output_type": "stream",
          "text": [
            "\n"
          ],
          "name": "stdout"
        }
      ]
    },
    {
      "cell_type": "code",
      "metadata": {
        "id": "w5cMbbkxxG9M"
      },
      "source": [
        "# Function to calculate predictions on test set\n",
        "def get_predictions(model, data_loader):\n",
        "  model = model.eval()\n",
        "  predictions = []\n",
        "  real_values = []\n",
        "  originals = []\n",
        "  translations = []\n",
        "\n",
        "  with torch.no_grad():\n",
        "    for d in data_loader:\n",
        "      ori = d[\"original_text\"]\n",
        "      trans = d[\"translation_text\"]\n",
        "      input_ids = d[\"input_ids\"].to(device)\n",
        "      attention_mask = d[\"attention_mask\"].to(device)\n",
        "      labels = torch.unsqueeze(d[\"label\"], 1)\n",
        "      labels = labels.float()\n",
        "      labels = labels.to(device)\n",
        "      preds = model(\n",
        "        input_ids=input_ids,\n",
        "        attention_mask=attention_mask\n",
        "      )\n",
        "      originals.extend(ori)\n",
        "      translations.extend(trans)\n",
        "      predictions.extend(preds)\n",
        "      real_values.extend(labels)\n",
        "  predictions = torch.stack(predictions).cpu()\n",
        "  real_values = torch.stack(real_values).cpu()\n",
        "  return originals, translations, predictions, real_values"
      ],
      "id": "w5cMbbkxxG9M",
      "execution_count": 53,
      "outputs": []
    },
    {
      "cell_type": "code",
      "metadata": {
        "id": "y0vpYzeq08U7",
        "colab": {
          "base_uri": "https://localhost:8080/",
          "height": 979
        },
        "outputId": "4624170b-7074-4bf9-9c8f-a4179fb7e31a"
      },
      "source": [
        "# Get predictions \n",
        "originals, translations, predictions, real_values = get_predictions(model,test_data_loader)\n",
        "\n",
        "preds = predictions.numpy().squeeze()\n",
        "labels = real_values.numpy().squeeze()\n",
        "original = np.array(originals)\n",
        "translation = np.array(translations)\n",
        "\n",
        "df_results = pd.DataFrame()\n",
        "df_results['original'] = original\n",
        "df_results['translation'] = translation\n",
        "df_results['z_mean'] = labels\n",
        "df_results['pred_zscore'] = preds\n",
        "\n",
        "df_results = un_fit(df_results, 'pred_zscore')\n",
        "\n",
        "df_results.head(30)"
      ],
      "id": "y0vpYzeq08U7",
      "execution_count": 54,
      "outputs": [
        {
          "output_type": "execute_result",
          "data": {
            "text/html": [
              "<div>\n",
              "<style scoped>\n",
              "    .dataframe tbody tr th:only-of-type {\n",
              "        vertical-align: middle;\n",
              "    }\n",
              "\n",
              "    .dataframe tbody tr th {\n",
              "        vertical-align: top;\n",
              "    }\n",
              "\n",
              "    .dataframe thead th {\n",
              "        text-align: right;\n",
              "    }\n",
              "</style>\n",
              "<table border=\"1\" class=\"dataframe\">\n",
              "  <thead>\n",
              "    <tr style=\"text-align: right;\">\n",
              "      <th></th>\n",
              "      <th>original</th>\n",
              "      <th>translation</th>\n",
              "      <th>z_mean</th>\n",
              "      <th>pred_zscore</th>\n",
              "    </tr>\n",
              "  </thead>\n",
              "  <tbody>\n",
              "    <tr>\n",
              "      <th>0</th>\n",
              "      <td>कोशी  अन्चल अस्पतालका साथै केही सामुदायीक तथा ...</td>\n",
              "      <td>Some community and private health institutions...</td>\n",
              "      <td>1.125492</td>\n",
              "      <td>0.796844</td>\n",
              "    </tr>\n",
              "    <tr>\n",
              "      <th>1</th>\n",
              "      <td>विक्रम सम्वत२०३६ पछिको कथालेखन काललाई समसामयिक...</td>\n",
              "      <td>While the storytelling calculations after the ...</td>\n",
              "      <td>-0.561816</td>\n",
              "      <td>-0.104177</td>\n",
              "    </tr>\n",
              "    <tr>\n",
              "      <th>2</th>\n",
              "      <td>तथापी, उनले आफ्नो अधिकांश आविष्कारहरू बाहिर प्...</td>\n",
              "      <td>Nevertheless, many stole his inventions becaus...</td>\n",
              "      <td>0.179027</td>\n",
              "      <td>1.070837</td>\n",
              "    </tr>\n",
              "    <tr>\n",
              "      <th>3</th>\n",
              "      <td>यस्तै अङ्गीरसमा करुण रसको कुरा उल्लेख नगर्नाले...</td>\n",
              "      <td>Similar to Angirus, not mentioning the Caribbe...</td>\n",
              "      <td>-0.194699</td>\n",
              "      <td>-0.591664</td>\n",
              "    </tr>\n",
              "    <tr>\n",
              "      <th>4</th>\n",
              "      <td>पछिल्लो समयमा सारावली, मानसागरी, जातकतत्व, भृग...</td>\n",
              "      <td>In later times, there have been sufficient chr...</td>\n",
              "      <td>0.363625</td>\n",
              "      <td>0.987900</td>\n",
              "    </tr>\n",
              "    <tr>\n",
              "      <th>5</th>\n",
              "      <td>हरिनास गाँउपालिका तथा स्थानीय व्यक्ति एवम् स्थ...</td>\n",
              "      <td>Harinas lawns and local persons ambassador to ...</td>\n",
              "      <td>-0.650483</td>\n",
              "      <td>-0.389181</td>\n",
              "    </tr>\n",
              "    <tr>\n",
              "      <th>6</th>\n",
              "      <td>यसको निष्ठापूर्वक व्रत लिनाले वाजपेय यज्ञको फल...</td>\n",
              "      <td>Its cruelly betrayed linnaean receives the fru...</td>\n",
              "      <td>-0.736335</td>\n",
              "      <td>-0.760745</td>\n",
              "    </tr>\n",
              "    <tr>\n",
              "      <th>7</th>\n",
              "      <td>भूमी सम्बन्धी कार्यक्रम लागू गरि देशका गरिब जन...</td>\n",
              "      <td>The gender relations program was intended to b...</td>\n",
              "      <td>-0.425573</td>\n",
              "      <td>-0.380894</td>\n",
              "    </tr>\n",
              "    <tr>\n",
              "      <th>8</th>\n",
              "      <td>ती राजा पुत्र, पौत्र र धन आदिबाट संपन्न र भगवा...</td>\n",
              "      <td>These were the King Sons, and the fifth and th...</td>\n",
              "      <td>-0.202931</td>\n",
              "      <td>-0.551641</td>\n",
              "    </tr>\n",
              "    <tr>\n",
              "      <th>9</th>\n",
              "      <td>उक्त प्रतियोगिताको सेमिफाइनलमा भारत विरूद्व ने...</td>\n",
              "      <td>In the semifinals of that contest, India defea...</td>\n",
              "      <td>-0.155642</td>\n",
              "      <td>0.926328</td>\n",
              "    </tr>\n",
              "    <tr>\n",
              "      <th>10</th>\n",
              "      <td>संस्कृत भाषामा महात्मा अथवा महान आत्मा एक सम्म...</td>\n",
              "      <td>In the collective language, the great spirit, ...</td>\n",
              "      <td>-0.361243</td>\n",
              "      <td>-0.102294</td>\n",
              "    </tr>\n",
              "    <tr>\n",
              "      <th>11</th>\n",
              "      <td>विशेष गरी विलियम शेक्सपियरका सिर्जनाहरु उनी पढ...</td>\n",
              "      <td>He read the creations of William Shexpierre, e...</td>\n",
              "      <td>0.998833</td>\n",
              "      <td>0.806385</td>\n",
              "    </tr>\n",
              "    <tr>\n",
              "      <th>12</th>\n",
              "      <td>चिन्ता छैन केही लुट्न सके लुट कान्छा सालको पात...</td>\n",
              "      <td>Not worrying something spoiled loot younger sa...</td>\n",
              "      <td>-0.612770</td>\n",
              "      <td>-0.833721</td>\n",
              "    </tr>\n",
              "    <tr>\n",
              "      <th>13</th>\n",
              "      <td>अष्टापदका दुर्गम हुने तथा आफ्नो प्रशान्त, प्रा...</td>\n",
              "      <td>It has become a principal jurisdiction because...</td>\n",
              "      <td>-0.383297</td>\n",
              "      <td>-0.631300</td>\n",
              "    </tr>\n",
              "    <tr>\n",
              "      <th>14</th>\n",
              "      <td>वरपरका मानिसलाई समेत सजिलो होस् भन्ने हेतुले य...</td>\n",
              "      <td>This is the work of the wandering man, which i...</td>\n",
              "      <td>-1.295455</td>\n",
              "      <td>-0.693951</td>\n",
              "    </tr>\n",
              "    <tr>\n",
              "      <th>15</th>\n",
              "      <td>सन् २०००को डिसेम्बरमा नेकपा माओवादीले रोल्पा र...</td>\n",
              "      <td>In December 2000, NEC introduced a decree on t...</td>\n",
              "      <td>-0.085980</td>\n",
              "      <td>-0.353277</td>\n",
              "    </tr>\n",
              "    <tr>\n",
              "      <th>16</th>\n",
              "      <td>राहु, केतु र सङ्कटाको दशा वा अंतर्दशामा महामृत...</td>\n",
              "      <td>Rahu, ketu and the dasha of troubles or asteri...</td>\n",
              "      <td>-0.515513</td>\n",
              "      <td>-0.636785</td>\n",
              "    </tr>\n",
              "    <tr>\n",
              "      <th>17</th>\n",
              "      <td>यसले ब्रिट्नीलाई कहिल्यै छ नम्बर एक शुरुवात एल...</td>\n",
              "      <td>It made Britney the only female artist to have...</td>\n",
              "      <td>0.743527</td>\n",
              "      <td>1.374218</td>\n",
              "    </tr>\n",
              "    <tr>\n",
              "      <th>18</th>\n",
              "      <td>त्यस कारण ख्याति र प्रसिद्धि कामउनेलाई हिन्दुआ...</td>\n",
              "      <td>For that reason, hindering the revenue and inc...</td>\n",
              "      <td>-0.585516</td>\n",
              "      <td>-0.620740</td>\n",
              "    </tr>\n",
              "    <tr>\n",
              "      <th>19</th>\n",
              "      <td>यस किसिमको साहित्यमा साहित्यकार अालोचनात्मक द्...</td>\n",
              "      <td>In this kind of literature, the literature is ...</td>\n",
              "      <td>-0.399222</td>\n",
              "      <td>-0.335352</td>\n",
              "    </tr>\n",
              "    <tr>\n",
              "      <th>20</th>\n",
              "      <td>त्यसै चाडपर्वहरू मध्य सबैभन्दा लामो समय चल्ने ...</td>\n",
              "      <td>Sometimes the feasts are the longest running a...</td>\n",
              "      <td>-0.552207</td>\n",
              "      <td>-0.254336</td>\n",
              "    </tr>\n",
              "    <tr>\n",
              "      <th>21</th>\n",
              "      <td>यस्तै हाल हरिनास गाउँपालिकाको सम्पूर्ण वडा तथा...</td>\n",
              "      <td>Similarly, the whole of harinas village and th...</td>\n",
              "      <td>0.673567</td>\n",
              "      <td>0.848244</td>\n",
              "    </tr>\n",
              "    <tr>\n",
              "      <th>22</th>\n",
              "      <td>यसको कुप्रभाव पर्ला कि भनेर सहयोगीहरूले भन्दा ...</td>\n",
              "      <td>He said he was rather than the assistants whet...</td>\n",
              "      <td>-0.448080</td>\n",
              "      <td>-0.822343</td>\n",
              "    </tr>\n",
              "    <tr>\n",
              "      <th>23</th>\n",
              "      <td>विभाग भन्नाले आन्तरिक राजस्व विभागका साथै आन्त...</td>\n",
              "      <td>The Department must also remember the IRS, alo...</td>\n",
              "      <td>0.173083</td>\n",
              "      <td>-0.198425</td>\n",
              "    </tr>\n",
              "    <tr>\n",
              "      <th>24</th>\n",
              "      <td>भगवान विष्णुले पहिले त वसुदेव देवकीलाई आफ्नो च...</td>\n",
              "      <td>The goddess first visited wusudayev devaki in ...</td>\n",
              "      <td>-0.764602</td>\n",
              "      <td>-0.487218</td>\n",
              "    </tr>\n",
              "    <tr>\n",
              "      <th>25</th>\n",
              "      <td>त्यस पछी नाभिस्थान नजिकै रहेको सिद्धेश्वर पर्व...</td>\n",
              "      <td>And it shall come to pass before the vision of...</td>\n",
              "      <td>-0.633280</td>\n",
              "      <td>-0.241993</td>\n",
              "    </tr>\n",
              "    <tr>\n",
              "      <th>26</th>\n",
              "      <td>पासाङ राष्ट्रियताप्रति त्यत्तिकै संवेदनशील हुन...</td>\n",
              "      <td>Pasang is so sensitive to nationalism.</td>\n",
              "      <td>1.769888</td>\n",
              "      <td>1.871426</td>\n",
              "    </tr>\n",
              "    <tr>\n",
              "      <th>27</th>\n",
              "      <td>यसका साथै अन्य नागरिकले पनि आफ्नो समुदाय र प्र...</td>\n",
              "      <td>Along with its other citizens, the holiday is ...</td>\n",
              "      <td>0.104716</td>\n",
              "      <td>1.170314</td>\n",
              "    </tr>\n",
              "    <tr>\n",
              "      <th>28</th>\n",
              "      <td>यसको कारणबाट ईस्ट इण्डिया कम्पनीले नेपाल माथि ...</td>\n",
              "      <td>Through this reason, the East India company to...</td>\n",
              "      <td>0.763809</td>\n",
              "      <td>1.016372</td>\n",
              "    </tr>\n",
              "    <tr>\n",
              "      <th>29</th>\n",
              "      <td>कञ्चनजङ्घा हिमाल नेपाल र सिक्किमको सिमानामा रह...</td>\n",
              "      <td>The Kanchanjangha Himal is on the border of Ne...</td>\n",
              "      <td>2.575879</td>\n",
              "      <td>1.831703</td>\n",
              "    </tr>\n",
              "  </tbody>\n",
              "</table>\n",
              "</div>"
            ],
            "text/plain": [
              "                                             original  ... pred_zscore\n",
              "0   कोशी  अन्चल अस्पतालका साथै केही सामुदायीक तथा ...  ...    0.796844\n",
              "1   विक्रम सम्वत२०३६ पछिको कथालेखन काललाई समसामयिक...  ...   -0.104177\n",
              "2   तथापी, उनले आफ्नो अधिकांश आविष्कारहरू बाहिर प्...  ...    1.070837\n",
              "3   यस्तै अङ्गीरसमा करुण रसको कुरा उल्लेख नगर्नाले...  ...   -0.591664\n",
              "4   पछिल्लो समयमा सारावली, मानसागरी, जातकतत्व, भृग...  ...    0.987900\n",
              "5   हरिनास गाँउपालिका तथा स्थानीय व्यक्ति एवम् स्थ...  ...   -0.389181\n",
              "6   यसको निष्ठापूर्वक व्रत लिनाले वाजपेय यज्ञको फल...  ...   -0.760745\n",
              "7   भूमी सम्बन्धी कार्यक्रम लागू गरि देशका गरिब जन...  ...   -0.380894\n",
              "8   ती राजा पुत्र, पौत्र र धन आदिबाट संपन्न र भगवा...  ...   -0.551641\n",
              "9   उक्त प्रतियोगिताको सेमिफाइनलमा भारत विरूद्व ने...  ...    0.926328\n",
              "10  संस्कृत भाषामा महात्मा अथवा महान आत्मा एक सम्म...  ...   -0.102294\n",
              "11  विशेष गरी विलियम शेक्सपियरका सिर्जनाहरु उनी पढ...  ...    0.806385\n",
              "12  चिन्ता छैन केही लुट्न सके लुट कान्छा सालको पात...  ...   -0.833721\n",
              "13  अष्टापदका दुर्गम हुने तथा आफ्नो प्रशान्त, प्रा...  ...   -0.631300\n",
              "14  वरपरका मानिसलाई समेत सजिलो होस् भन्ने हेतुले य...  ...   -0.693951\n",
              "15  सन् २०००को डिसेम्बरमा नेकपा माओवादीले रोल्पा र...  ...   -0.353277\n",
              "16  राहु, केतु र सङ्कटाको दशा वा अंतर्दशामा महामृत...  ...   -0.636785\n",
              "17  यसले ब्रिट्नीलाई कहिल्यै छ नम्बर एक शुरुवात एल...  ...    1.374218\n",
              "18  त्यस कारण ख्याति र प्रसिद्धि कामउनेलाई हिन्दुआ...  ...   -0.620740\n",
              "19  यस किसिमको साहित्यमा साहित्यकार अालोचनात्मक द्...  ...   -0.335352\n",
              "20  त्यसै चाडपर्वहरू मध्य सबैभन्दा लामो समय चल्ने ...  ...   -0.254336\n",
              "21  यस्तै हाल हरिनास गाउँपालिकाको सम्पूर्ण वडा तथा...  ...    0.848244\n",
              "22  यसको कुप्रभाव पर्ला कि भनेर सहयोगीहरूले भन्दा ...  ...   -0.822343\n",
              "23  विभाग भन्नाले आन्तरिक राजस्व विभागका साथै आन्त...  ...   -0.198425\n",
              "24  भगवान विष्णुले पहिले त वसुदेव देवकीलाई आफ्नो च...  ...   -0.487218\n",
              "25  त्यस पछी नाभिस्थान नजिकै रहेको सिद्धेश्वर पर्व...  ...   -0.241993\n",
              "26  पासाङ राष्ट्रियताप्रति त्यत्तिकै संवेदनशील हुन...  ...    1.871426\n",
              "27  यसका साथै अन्य नागरिकले पनि आफ्नो समुदाय र प्र...  ...    1.170314\n",
              "28  यसको कारणबाट ईस्ट इण्डिया कम्पनीले नेपाल माथि ...  ...    1.016372\n",
              "29  कञ्चनजङ्घा हिमाल नेपाल र सिक्किमको सिमानामा रह...  ...    1.831703\n",
              "\n",
              "[30 rows x 4 columns]"
            ]
          },
          "metadata": {
            "tags": []
          },
          "execution_count": 54
        }
      ]
    },
    {
      "cell_type": "code",
      "metadata": {
        "colab": {
          "base_uri": "https://localhost:8080/"
        },
        "id": "J5v5AaJNExwa",
        "outputId": "d1bc2795-2e70-4a6d-cadf-2e98c5ecd29c"
      },
      "source": [
        "# Get evaluation metrics\n",
        "pearson, _ = stats.pearsonr(df_results['pred_zscore'], df_results['z_mean'])\n",
        "rmse = mean_squared_error(df_results['z_mean'], df_results['pred_zscore'], squared=False)\n",
        "mae = mean_absolute_error(df_results['z_mean'], df_results['pred_zscore'])\n",
        "print(\"Pearson: {}\".format(pearson))\n",
        "print(\"RMSE: {}\".format(rmse))\n",
        "print(\"MAE: {}\".format(mae))\n"
      ],
      "id": "J5v5AaJNExwa",
      "execution_count": 55,
      "outputs": [
        {
          "output_type": "stream",
          "text": [
            "Pearson: 0.7780993102125902\n",
            "RMSE: 0.5431974367422155\n",
            "MAE: 0.41796182175192886\n"
          ],
          "name": "stdout"
        }
      ]
    },
    {
      "cell_type": "code",
      "metadata": {
        "id": "BKLfl0dexpll"
      },
      "source": [
        "# Save predictions to tsv\n",
        "df_results.to_csv(results_path, sep = '\\t', index=False)"
      ],
      "id": "BKLfl0dexpll",
      "execution_count": 56,
      "outputs": []
    },
    {
      "cell_type": "code",
      "metadata": {
        "id": "fUmt0RcC4LYB"
      },
      "source": [
        ""
      ],
      "id": "fUmt0RcC4LYB",
      "execution_count": null,
      "outputs": []
    }
  ]
}