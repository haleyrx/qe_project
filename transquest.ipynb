{
  "nbformat": 4,
  "nbformat_minor": 5,
  "metadata": {
    "kernelspec": {
      "name": "python3",
      "display_name": "Python 3"
    },
    "colab": {
      "name": "transquest.ipynb",
      "provenance": [],
      "collapsed_sections": [],
      "toc_visible": true,
      "include_colab_link": true
    },
    "language_info": {
      "name": "python"
    },
    "accelerator": "GPU",
    "widgets": {
      "application/vnd.jupyter.widget-state+json": {
        "440d0a8faa6142e091bd979be3bc4939": {
          "model_module": "@jupyter-widgets/controls",
          "model_name": "HBoxModel",
          "state": {
            "_view_name": "HBoxView",
            "_dom_classes": [],
            "_model_name": "HBoxModel",
            "_view_module": "@jupyter-widgets/controls",
            "_model_module_version": "1.5.0",
            "_view_count": null,
            "_view_module_version": "1.5.0",
            "box_style": "",
            "layout": "IPY_MODEL_162496ff698f45789389438cfa1ed4b2",
            "_model_module": "@jupyter-widgets/controls",
            "children": [
              "IPY_MODEL_4836d6ccdf8a4ba4923eb4ef02f418ee",
              "IPY_MODEL_bfe04032e199404bb856c677fcc7b7d9"
            ]
          }
        },
        "162496ff698f45789389438cfa1ed4b2": {
          "model_module": "@jupyter-widgets/base",
          "model_name": "LayoutModel",
          "state": {
            "_view_name": "LayoutView",
            "grid_template_rows": null,
            "right": null,
            "justify_content": null,
            "_view_module": "@jupyter-widgets/base",
            "overflow": null,
            "_model_module_version": "1.2.0",
            "_view_count": null,
            "flex_flow": null,
            "width": null,
            "min_width": null,
            "border": null,
            "align_items": null,
            "bottom": null,
            "_model_module": "@jupyter-widgets/base",
            "top": null,
            "grid_column": null,
            "overflow_y": null,
            "overflow_x": null,
            "grid_auto_flow": null,
            "grid_area": null,
            "grid_template_columns": null,
            "flex": null,
            "_model_name": "LayoutModel",
            "justify_items": null,
            "grid_row": null,
            "max_height": null,
            "align_content": null,
            "visibility": null,
            "align_self": null,
            "height": null,
            "min_height": null,
            "padding": null,
            "grid_auto_rows": null,
            "grid_gap": null,
            "max_width": null,
            "order": null,
            "_view_module_version": "1.2.0",
            "grid_template_areas": null,
            "object_position": null,
            "object_fit": null,
            "grid_auto_columns": null,
            "margin": null,
            "display": null,
            "left": null
          }
        },
        "4836d6ccdf8a4ba4923eb4ef02f418ee": {
          "model_module": "@jupyter-widgets/controls",
          "model_name": "FloatProgressModel",
          "state": {
            "_view_name": "ProgressView",
            "style": "IPY_MODEL_498077c71e2e454c81ae35a61c34821d",
            "_dom_classes": [],
            "description": "Downloading: 100%",
            "_model_name": "FloatProgressModel",
            "bar_style": "success",
            "max": 513,
            "_view_module": "@jupyter-widgets/controls",
            "_model_module_version": "1.5.0",
            "value": 513,
            "_view_count": null,
            "_view_module_version": "1.5.0",
            "orientation": "horizontal",
            "min": 0,
            "description_tooltip": null,
            "_model_module": "@jupyter-widgets/controls",
            "layout": "IPY_MODEL_0c250747514d415eb231303400b922ab"
          }
        },
        "bfe04032e199404bb856c677fcc7b7d9": {
          "model_module": "@jupyter-widgets/controls",
          "model_name": "HTMLModel",
          "state": {
            "_view_name": "HTMLView",
            "style": "IPY_MODEL_7ed6cede671b469d86821310e05bbdb2",
            "_dom_classes": [],
            "description": "",
            "_model_name": "HTMLModel",
            "placeholder": "​",
            "_view_module": "@jupyter-widgets/controls",
            "_model_module_version": "1.5.0",
            "value": " 513/513 [00:00&lt;00:00, 14.5kB/s]",
            "_view_count": null,
            "_view_module_version": "1.5.0",
            "description_tooltip": null,
            "_model_module": "@jupyter-widgets/controls",
            "layout": "IPY_MODEL_07d80ac5a05a49a798f76e6dfe305343"
          }
        },
        "498077c71e2e454c81ae35a61c34821d": {
          "model_module": "@jupyter-widgets/controls",
          "model_name": "ProgressStyleModel",
          "state": {
            "_view_name": "StyleView",
            "_model_name": "ProgressStyleModel",
            "description_width": "initial",
            "_view_module": "@jupyter-widgets/base",
            "_model_module_version": "1.5.0",
            "_view_count": null,
            "_view_module_version": "1.2.0",
            "bar_color": null,
            "_model_module": "@jupyter-widgets/controls"
          }
        },
        "0c250747514d415eb231303400b922ab": {
          "model_module": "@jupyter-widgets/base",
          "model_name": "LayoutModel",
          "state": {
            "_view_name": "LayoutView",
            "grid_template_rows": null,
            "right": null,
            "justify_content": null,
            "_view_module": "@jupyter-widgets/base",
            "overflow": null,
            "_model_module_version": "1.2.0",
            "_view_count": null,
            "flex_flow": null,
            "width": null,
            "min_width": null,
            "border": null,
            "align_items": null,
            "bottom": null,
            "_model_module": "@jupyter-widgets/base",
            "top": null,
            "grid_column": null,
            "overflow_y": null,
            "overflow_x": null,
            "grid_auto_flow": null,
            "grid_area": null,
            "grid_template_columns": null,
            "flex": null,
            "_model_name": "LayoutModel",
            "justify_items": null,
            "grid_row": null,
            "max_height": null,
            "align_content": null,
            "visibility": null,
            "align_self": null,
            "height": null,
            "min_height": null,
            "padding": null,
            "grid_auto_rows": null,
            "grid_gap": null,
            "max_width": null,
            "order": null,
            "_view_module_version": "1.2.0",
            "grid_template_areas": null,
            "object_position": null,
            "object_fit": null,
            "grid_auto_columns": null,
            "margin": null,
            "display": null,
            "left": null
          }
        },
        "7ed6cede671b469d86821310e05bbdb2": {
          "model_module": "@jupyter-widgets/controls",
          "model_name": "DescriptionStyleModel",
          "state": {
            "_view_name": "StyleView",
            "_model_name": "DescriptionStyleModel",
            "description_width": "",
            "_view_module": "@jupyter-widgets/base",
            "_model_module_version": "1.5.0",
            "_view_count": null,
            "_view_module_version": "1.2.0",
            "_model_module": "@jupyter-widgets/controls"
          }
        },
        "07d80ac5a05a49a798f76e6dfe305343": {
          "model_module": "@jupyter-widgets/base",
          "model_name": "LayoutModel",
          "state": {
            "_view_name": "LayoutView",
            "grid_template_rows": null,
            "right": null,
            "justify_content": null,
            "_view_module": "@jupyter-widgets/base",
            "overflow": null,
            "_model_module_version": "1.2.0",
            "_view_count": null,
            "flex_flow": null,
            "width": null,
            "min_width": null,
            "border": null,
            "align_items": null,
            "bottom": null,
            "_model_module": "@jupyter-widgets/base",
            "top": null,
            "grid_column": null,
            "overflow_y": null,
            "overflow_x": null,
            "grid_auto_flow": null,
            "grid_area": null,
            "grid_template_columns": null,
            "flex": null,
            "_model_name": "LayoutModel",
            "justify_items": null,
            "grid_row": null,
            "max_height": null,
            "align_content": null,
            "visibility": null,
            "align_self": null,
            "height": null,
            "min_height": null,
            "padding": null,
            "grid_auto_rows": null,
            "grid_gap": null,
            "max_width": null,
            "order": null,
            "_view_module_version": "1.2.0",
            "grid_template_areas": null,
            "object_position": null,
            "object_fit": null,
            "grid_auto_columns": null,
            "margin": null,
            "display": null,
            "left": null
          }
        },
        "43549e4f262447b08b3af12521774207": {
          "model_module": "@jupyter-widgets/controls",
          "model_name": "HBoxModel",
          "state": {
            "_view_name": "HBoxView",
            "_dom_classes": [],
            "_model_name": "HBoxModel",
            "_view_module": "@jupyter-widgets/controls",
            "_model_module_version": "1.5.0",
            "_view_count": null,
            "_view_module_version": "1.5.0",
            "box_style": "",
            "layout": "IPY_MODEL_5f55d4f17b90422aa2e5e13de890027e",
            "_model_module": "@jupyter-widgets/controls",
            "children": [
              "IPY_MODEL_690bcc9fc4fa451b8d90d760c359c315",
              "IPY_MODEL_15c3170bfb254f9a90b7157c0b501a0b"
            ]
          }
        },
        "5f55d4f17b90422aa2e5e13de890027e": {
          "model_module": "@jupyter-widgets/base",
          "model_name": "LayoutModel",
          "state": {
            "_view_name": "LayoutView",
            "grid_template_rows": null,
            "right": null,
            "justify_content": null,
            "_view_module": "@jupyter-widgets/base",
            "overflow": null,
            "_model_module_version": "1.2.0",
            "_view_count": null,
            "flex_flow": null,
            "width": null,
            "min_width": null,
            "border": null,
            "align_items": null,
            "bottom": null,
            "_model_module": "@jupyter-widgets/base",
            "top": null,
            "grid_column": null,
            "overflow_y": null,
            "overflow_x": null,
            "grid_auto_flow": null,
            "grid_area": null,
            "grid_template_columns": null,
            "flex": null,
            "_model_name": "LayoutModel",
            "justify_items": null,
            "grid_row": null,
            "max_height": null,
            "align_content": null,
            "visibility": null,
            "align_self": null,
            "height": null,
            "min_height": null,
            "padding": null,
            "grid_auto_rows": null,
            "grid_gap": null,
            "max_width": null,
            "order": null,
            "_view_module_version": "1.2.0",
            "grid_template_areas": null,
            "object_position": null,
            "object_fit": null,
            "grid_auto_columns": null,
            "margin": null,
            "display": null,
            "left": null
          }
        },
        "690bcc9fc4fa451b8d90d760c359c315": {
          "model_module": "@jupyter-widgets/controls",
          "model_name": "FloatProgressModel",
          "state": {
            "_view_name": "ProgressView",
            "style": "IPY_MODEL_ca0d1addcc754d8e9113976b1b557700",
            "_dom_classes": [],
            "description": "Downloading: 100%",
            "_model_name": "FloatProgressModel",
            "bar_style": "success",
            "max": 5069051,
            "_view_module": "@jupyter-widgets/controls",
            "_model_module_version": "1.5.0",
            "value": 5069051,
            "_view_count": null,
            "_view_module_version": "1.5.0",
            "orientation": "horizontal",
            "min": 0,
            "description_tooltip": null,
            "_model_module": "@jupyter-widgets/controls",
            "layout": "IPY_MODEL_f97aa4f65d4e4900858bdcf49f4ed09a"
          }
        },
        "15c3170bfb254f9a90b7157c0b501a0b": {
          "model_module": "@jupyter-widgets/controls",
          "model_name": "HTMLModel",
          "state": {
            "_view_name": "HTMLView",
            "style": "IPY_MODEL_17f559693cec4391be0acccafbbef22d",
            "_dom_classes": [],
            "description": "",
            "_model_name": "HTMLModel",
            "placeholder": "​",
            "_view_module": "@jupyter-widgets/controls",
            "_model_module_version": "1.5.0",
            "value": " 5.07M/5.07M [00:05&lt;00:00, 867kB/s]",
            "_view_count": null,
            "_view_module_version": "1.5.0",
            "description_tooltip": null,
            "_model_module": "@jupyter-widgets/controls",
            "layout": "IPY_MODEL_d0ce3045d3854dd3b9fc8c99e66a65eb"
          }
        },
        "ca0d1addcc754d8e9113976b1b557700": {
          "model_module": "@jupyter-widgets/controls",
          "model_name": "ProgressStyleModel",
          "state": {
            "_view_name": "StyleView",
            "_model_name": "ProgressStyleModel",
            "description_width": "initial",
            "_view_module": "@jupyter-widgets/base",
            "_model_module_version": "1.5.0",
            "_view_count": null,
            "_view_module_version": "1.2.0",
            "bar_color": null,
            "_model_module": "@jupyter-widgets/controls"
          }
        },
        "f97aa4f65d4e4900858bdcf49f4ed09a": {
          "model_module": "@jupyter-widgets/base",
          "model_name": "LayoutModel",
          "state": {
            "_view_name": "LayoutView",
            "grid_template_rows": null,
            "right": null,
            "justify_content": null,
            "_view_module": "@jupyter-widgets/base",
            "overflow": null,
            "_model_module_version": "1.2.0",
            "_view_count": null,
            "flex_flow": null,
            "width": null,
            "min_width": null,
            "border": null,
            "align_items": null,
            "bottom": null,
            "_model_module": "@jupyter-widgets/base",
            "top": null,
            "grid_column": null,
            "overflow_y": null,
            "overflow_x": null,
            "grid_auto_flow": null,
            "grid_area": null,
            "grid_template_columns": null,
            "flex": null,
            "_model_name": "LayoutModel",
            "justify_items": null,
            "grid_row": null,
            "max_height": null,
            "align_content": null,
            "visibility": null,
            "align_self": null,
            "height": null,
            "min_height": null,
            "padding": null,
            "grid_auto_rows": null,
            "grid_gap": null,
            "max_width": null,
            "order": null,
            "_view_module_version": "1.2.0",
            "grid_template_areas": null,
            "object_position": null,
            "object_fit": null,
            "grid_auto_columns": null,
            "margin": null,
            "display": null,
            "left": null
          }
        },
        "17f559693cec4391be0acccafbbef22d": {
          "model_module": "@jupyter-widgets/controls",
          "model_name": "DescriptionStyleModel",
          "state": {
            "_view_name": "StyleView",
            "_model_name": "DescriptionStyleModel",
            "description_width": "",
            "_view_module": "@jupyter-widgets/base",
            "_model_module_version": "1.5.0",
            "_view_count": null,
            "_view_module_version": "1.2.0",
            "_model_module": "@jupyter-widgets/controls"
          }
        },
        "d0ce3045d3854dd3b9fc8c99e66a65eb": {
          "model_module": "@jupyter-widgets/base",
          "model_name": "LayoutModel",
          "state": {
            "_view_name": "LayoutView",
            "grid_template_rows": null,
            "right": null,
            "justify_content": null,
            "_view_module": "@jupyter-widgets/base",
            "overflow": null,
            "_model_module_version": "1.2.0",
            "_view_count": null,
            "flex_flow": null,
            "width": null,
            "min_width": null,
            "border": null,
            "align_items": null,
            "bottom": null,
            "_model_module": "@jupyter-widgets/base",
            "top": null,
            "grid_column": null,
            "overflow_y": null,
            "overflow_x": null,
            "grid_auto_flow": null,
            "grid_area": null,
            "grid_template_columns": null,
            "flex": null,
            "_model_name": "LayoutModel",
            "justify_items": null,
            "grid_row": null,
            "max_height": null,
            "align_content": null,
            "visibility": null,
            "align_self": null,
            "height": null,
            "min_height": null,
            "padding": null,
            "grid_auto_rows": null,
            "grid_gap": null,
            "max_width": null,
            "order": null,
            "_view_module_version": "1.2.0",
            "grid_template_areas": null,
            "object_position": null,
            "object_fit": null,
            "grid_auto_columns": null,
            "margin": null,
            "display": null,
            "left": null
          }
        },
        "da01bf052842415fad3c0cb143391df5": {
          "model_module": "@jupyter-widgets/controls",
          "model_name": "HBoxModel",
          "state": {
            "_view_name": "HBoxView",
            "_dom_classes": [],
            "_model_name": "HBoxModel",
            "_view_module": "@jupyter-widgets/controls",
            "_model_module_version": "1.5.0",
            "_view_count": null,
            "_view_module_version": "1.5.0",
            "box_style": "",
            "layout": "IPY_MODEL_b9b86cdabe4f4d0b9961ca9fc5291c8e",
            "_model_module": "@jupyter-widgets/controls",
            "children": [
              "IPY_MODEL_45072ce4589f491282e5e0b400f8ff10",
              "IPY_MODEL_99cdc1bc9cd940819920510da80048d1"
            ]
          }
        },
        "b9b86cdabe4f4d0b9961ca9fc5291c8e": {
          "model_module": "@jupyter-widgets/base",
          "model_name": "LayoutModel",
          "state": {
            "_view_name": "LayoutView",
            "grid_template_rows": null,
            "right": null,
            "justify_content": null,
            "_view_module": "@jupyter-widgets/base",
            "overflow": null,
            "_model_module_version": "1.2.0",
            "_view_count": null,
            "flex_flow": null,
            "width": null,
            "min_width": null,
            "border": null,
            "align_items": null,
            "bottom": null,
            "_model_module": "@jupyter-widgets/base",
            "top": null,
            "grid_column": null,
            "overflow_y": null,
            "overflow_x": null,
            "grid_auto_flow": null,
            "grid_area": null,
            "grid_template_columns": null,
            "flex": null,
            "_model_name": "LayoutModel",
            "justify_items": null,
            "grid_row": null,
            "max_height": null,
            "align_content": null,
            "visibility": null,
            "align_self": null,
            "height": null,
            "min_height": null,
            "padding": null,
            "grid_auto_rows": null,
            "grid_gap": null,
            "max_width": null,
            "order": null,
            "_view_module_version": "1.2.0",
            "grid_template_areas": null,
            "object_position": null,
            "object_fit": null,
            "grid_auto_columns": null,
            "margin": null,
            "display": null,
            "left": null
          }
        },
        "45072ce4589f491282e5e0b400f8ff10": {
          "model_module": "@jupyter-widgets/controls",
          "model_name": "FloatProgressModel",
          "state": {
            "_view_name": "ProgressView",
            "style": "IPY_MODEL_884b166a6ad3475b815d17470f844eb6",
            "_dom_classes": [],
            "description": "Downloading: 100%",
            "_model_name": "FloatProgressModel",
            "bar_style": "success",
            "max": 2244861551,
            "_view_module": "@jupyter-widgets/controls",
            "_model_module_version": "1.5.0",
            "value": 2244861551,
            "_view_count": null,
            "_view_module_version": "1.5.0",
            "orientation": "horizontal",
            "min": 0,
            "description_tooltip": null,
            "_model_module": "@jupyter-widgets/controls",
            "layout": "IPY_MODEL_21a763e8561c4750bb2c67376bc4abc7"
          }
        },
        "99cdc1bc9cd940819920510da80048d1": {
          "model_module": "@jupyter-widgets/controls",
          "model_name": "HTMLModel",
          "state": {
            "_view_name": "HTMLView",
            "style": "IPY_MODEL_16ce1e5709f749198e2fba5fd1fbdc37",
            "_dom_classes": [],
            "description": "",
            "_model_name": "HTMLModel",
            "placeholder": "​",
            "_view_module": "@jupyter-widgets/controls",
            "_model_module_version": "1.5.0",
            "value": " 2.24G/2.24G [00:44&lt;00:00, 50.2MB/s]",
            "_view_count": null,
            "_view_module_version": "1.5.0",
            "description_tooltip": null,
            "_model_module": "@jupyter-widgets/controls",
            "layout": "IPY_MODEL_f5d4c2fad7e44c1691d6040f79c54a58"
          }
        },
        "884b166a6ad3475b815d17470f844eb6": {
          "model_module": "@jupyter-widgets/controls",
          "model_name": "ProgressStyleModel",
          "state": {
            "_view_name": "StyleView",
            "_model_name": "ProgressStyleModel",
            "description_width": "initial",
            "_view_module": "@jupyter-widgets/base",
            "_model_module_version": "1.5.0",
            "_view_count": null,
            "_view_module_version": "1.2.0",
            "bar_color": null,
            "_model_module": "@jupyter-widgets/controls"
          }
        },
        "21a763e8561c4750bb2c67376bc4abc7": {
          "model_module": "@jupyter-widgets/base",
          "model_name": "LayoutModel",
          "state": {
            "_view_name": "LayoutView",
            "grid_template_rows": null,
            "right": null,
            "justify_content": null,
            "_view_module": "@jupyter-widgets/base",
            "overflow": null,
            "_model_module_version": "1.2.0",
            "_view_count": null,
            "flex_flow": null,
            "width": null,
            "min_width": null,
            "border": null,
            "align_items": null,
            "bottom": null,
            "_model_module": "@jupyter-widgets/base",
            "top": null,
            "grid_column": null,
            "overflow_y": null,
            "overflow_x": null,
            "grid_auto_flow": null,
            "grid_area": null,
            "grid_template_columns": null,
            "flex": null,
            "_model_name": "LayoutModel",
            "justify_items": null,
            "grid_row": null,
            "max_height": null,
            "align_content": null,
            "visibility": null,
            "align_self": null,
            "height": null,
            "min_height": null,
            "padding": null,
            "grid_auto_rows": null,
            "grid_gap": null,
            "max_width": null,
            "order": null,
            "_view_module_version": "1.2.0",
            "grid_template_areas": null,
            "object_position": null,
            "object_fit": null,
            "grid_auto_columns": null,
            "margin": null,
            "display": null,
            "left": null
          }
        },
        "16ce1e5709f749198e2fba5fd1fbdc37": {
          "model_module": "@jupyter-widgets/controls",
          "model_name": "DescriptionStyleModel",
          "state": {
            "_view_name": "StyleView",
            "_model_name": "DescriptionStyleModel",
            "description_width": "",
            "_view_module": "@jupyter-widgets/base",
            "_model_module_version": "1.5.0",
            "_view_count": null,
            "_view_module_version": "1.2.0",
            "_model_module": "@jupyter-widgets/controls"
          }
        },
        "f5d4c2fad7e44c1691d6040f79c54a58": {
          "model_module": "@jupyter-widgets/base",
          "model_name": "LayoutModel",
          "state": {
            "_view_name": "LayoutView",
            "grid_template_rows": null,
            "right": null,
            "justify_content": null,
            "_view_module": "@jupyter-widgets/base",
            "overflow": null,
            "_model_module_version": "1.2.0",
            "_view_count": null,
            "flex_flow": null,
            "width": null,
            "min_width": null,
            "border": null,
            "align_items": null,
            "bottom": null,
            "_model_module": "@jupyter-widgets/base",
            "top": null,
            "grid_column": null,
            "overflow_y": null,
            "overflow_x": null,
            "grid_auto_flow": null,
            "grid_area": null,
            "grid_template_columns": null,
            "flex": null,
            "_model_name": "LayoutModel",
            "justify_items": null,
            "grid_row": null,
            "max_height": null,
            "align_content": null,
            "visibility": null,
            "align_self": null,
            "height": null,
            "min_height": null,
            "padding": null,
            "grid_auto_rows": null,
            "grid_gap": null,
            "max_width": null,
            "order": null,
            "_view_module_version": "1.2.0",
            "grid_template_areas": null,
            "object_position": null,
            "object_fit": null,
            "grid_auto_columns": null,
            "margin": null,
            "display": null,
            "left": null
          }
        },
        "a732c4ce5c42479fa57c378a48d3980c": {
          "model_module": "@jupyter-widgets/controls",
          "model_name": "HBoxModel",
          "state": {
            "_view_name": "HBoxView",
            "_dom_classes": [],
            "_model_name": "HBoxModel",
            "_view_module": "@jupyter-widgets/controls",
            "_model_module_version": "1.5.0",
            "_view_count": null,
            "_view_module_version": "1.5.0",
            "box_style": "",
            "layout": "IPY_MODEL_756f80078e08493ab95463ec19e8b94f",
            "_model_module": "@jupyter-widgets/controls",
            "children": [
              "IPY_MODEL_f314583a8db94152a85d3886bd76f8fc",
              "IPY_MODEL_c12fd71cb4dc4cc3bd80c4b138181c10"
            ]
          }
        },
        "756f80078e08493ab95463ec19e8b94f": {
          "model_module": "@jupyter-widgets/base",
          "model_name": "LayoutModel",
          "state": {
            "_view_name": "LayoutView",
            "grid_template_rows": null,
            "right": null,
            "justify_content": null,
            "_view_module": "@jupyter-widgets/base",
            "overflow": null,
            "_model_module_version": "1.2.0",
            "_view_count": null,
            "flex_flow": null,
            "width": null,
            "min_width": null,
            "border": null,
            "align_items": null,
            "bottom": null,
            "_model_module": "@jupyter-widgets/base",
            "top": null,
            "grid_column": null,
            "overflow_y": null,
            "overflow_x": null,
            "grid_auto_flow": null,
            "grid_area": null,
            "grid_template_columns": null,
            "flex": null,
            "_model_name": "LayoutModel",
            "justify_items": null,
            "grid_row": null,
            "max_height": null,
            "align_content": null,
            "visibility": null,
            "align_self": null,
            "height": null,
            "min_height": null,
            "padding": null,
            "grid_auto_rows": null,
            "grid_gap": null,
            "max_width": null,
            "order": null,
            "_view_module_version": "1.2.0",
            "grid_template_areas": null,
            "object_position": null,
            "object_fit": null,
            "grid_auto_columns": null,
            "margin": null,
            "display": null,
            "left": null
          }
        },
        "f314583a8db94152a85d3886bd76f8fc": {
          "model_module": "@jupyter-widgets/controls",
          "model_name": "FloatProgressModel",
          "state": {
            "_view_name": "ProgressView",
            "style": "IPY_MODEL_58f2c3b5e1a14b2c81c850974ec07149",
            "_dom_classes": [],
            "description": "Downloading: 100%",
            "_model_name": "FloatProgressModel",
            "bar_style": "success",
            "max": 2244861551,
            "_view_module": "@jupyter-widgets/controls",
            "_model_module_version": "1.5.0",
            "value": 2244861551,
            "_view_count": null,
            "_view_module_version": "1.5.0",
            "orientation": "horizontal",
            "min": 0,
            "description_tooltip": null,
            "_model_module": "@jupyter-widgets/controls",
            "layout": "IPY_MODEL_0eb7194d7c8440e794d9fb2b1503d844"
          }
        },
        "c12fd71cb4dc4cc3bd80c4b138181c10": {
          "model_module": "@jupyter-widgets/controls",
          "model_name": "HTMLModel",
          "state": {
            "_view_name": "HTMLView",
            "style": "IPY_MODEL_bdc901b3b2814a1dbdae99fa802a16c7",
            "_dom_classes": [],
            "description": "",
            "_model_name": "HTMLModel",
            "placeholder": "​",
            "_view_module": "@jupyter-widgets/controls",
            "_model_module_version": "1.5.0",
            "value": " 2.24G/2.24G [00:55&lt;00:00, 40.3MB/s]",
            "_view_count": null,
            "_view_module_version": "1.5.0",
            "description_tooltip": null,
            "_model_module": "@jupyter-widgets/controls",
            "layout": "IPY_MODEL_f053187afc35473ba31d31906326beb9"
          }
        },
        "58f2c3b5e1a14b2c81c850974ec07149": {
          "model_module": "@jupyter-widgets/controls",
          "model_name": "ProgressStyleModel",
          "state": {
            "_view_name": "StyleView",
            "_model_name": "ProgressStyleModel",
            "description_width": "initial",
            "_view_module": "@jupyter-widgets/base",
            "_model_module_version": "1.5.0",
            "_view_count": null,
            "_view_module_version": "1.2.0",
            "bar_color": null,
            "_model_module": "@jupyter-widgets/controls"
          }
        },
        "0eb7194d7c8440e794d9fb2b1503d844": {
          "model_module": "@jupyter-widgets/base",
          "model_name": "LayoutModel",
          "state": {
            "_view_name": "LayoutView",
            "grid_template_rows": null,
            "right": null,
            "justify_content": null,
            "_view_module": "@jupyter-widgets/base",
            "overflow": null,
            "_model_module_version": "1.2.0",
            "_view_count": null,
            "flex_flow": null,
            "width": null,
            "min_width": null,
            "border": null,
            "align_items": null,
            "bottom": null,
            "_model_module": "@jupyter-widgets/base",
            "top": null,
            "grid_column": null,
            "overflow_y": null,
            "overflow_x": null,
            "grid_auto_flow": null,
            "grid_area": null,
            "grid_template_columns": null,
            "flex": null,
            "_model_name": "LayoutModel",
            "justify_items": null,
            "grid_row": null,
            "max_height": null,
            "align_content": null,
            "visibility": null,
            "align_self": null,
            "height": null,
            "min_height": null,
            "padding": null,
            "grid_auto_rows": null,
            "grid_gap": null,
            "max_width": null,
            "order": null,
            "_view_module_version": "1.2.0",
            "grid_template_areas": null,
            "object_position": null,
            "object_fit": null,
            "grid_auto_columns": null,
            "margin": null,
            "display": null,
            "left": null
          }
        },
        "bdc901b3b2814a1dbdae99fa802a16c7": {
          "model_module": "@jupyter-widgets/controls",
          "model_name": "DescriptionStyleModel",
          "state": {
            "_view_name": "StyleView",
            "_model_name": "DescriptionStyleModel",
            "description_width": "",
            "_view_module": "@jupyter-widgets/base",
            "_model_module_version": "1.5.0",
            "_view_count": null,
            "_view_module_version": "1.2.0",
            "_model_module": "@jupyter-widgets/controls"
          }
        },
        "f053187afc35473ba31d31906326beb9": {
          "model_module": "@jupyter-widgets/base",
          "model_name": "LayoutModel",
          "state": {
            "_view_name": "LayoutView",
            "grid_template_rows": null,
            "right": null,
            "justify_content": null,
            "_view_module": "@jupyter-widgets/base",
            "overflow": null,
            "_model_module_version": "1.2.0",
            "_view_count": null,
            "flex_flow": null,
            "width": null,
            "min_width": null,
            "border": null,
            "align_items": null,
            "bottom": null,
            "_model_module": "@jupyter-widgets/base",
            "top": null,
            "grid_column": null,
            "overflow_y": null,
            "overflow_x": null,
            "grid_auto_flow": null,
            "grid_area": null,
            "grid_template_columns": null,
            "flex": null,
            "_model_name": "LayoutModel",
            "justify_items": null,
            "grid_row": null,
            "max_height": null,
            "align_content": null,
            "visibility": null,
            "align_self": null,
            "height": null,
            "min_height": null,
            "padding": null,
            "grid_auto_rows": null,
            "grid_gap": null,
            "max_width": null,
            "order": null,
            "_view_module_version": "1.2.0",
            "grid_template_areas": null,
            "object_position": null,
            "object_fit": null,
            "grid_auto_columns": null,
            "margin": null,
            "display": null,
            "left": null
          }
        }
      }
    }
  },
  "cells": [
    {
      "cell_type": "markdown",
      "metadata": {
        "id": "view-in-github",
        "colab_type": "text"
      },
      "source": [
        "<a href=\"https://colab.research.google.com/github/haleyrx/qe_project/blob/main/transquest.ipynb\" target=\"_parent\"><img src=\"https://colab.research.google.com/assets/colab-badge.svg\" alt=\"Open In Colab\"/></a>"
      ]
    },
    {
      "cell_type": "markdown",
      "metadata": {
        "id": "EPkGlI90jLv8"
      },
      "source": [
        "## **Prep**"
      ],
      "id": "EPkGlI90jLv8"
    },
    {
      "cell_type": "code",
      "metadata": {
        "colab": {
          "base_uri": "https://localhost:8080/"
        },
        "id": "_v8uSC_O3y3P",
        "outputId": "3a4aa9ed-a176-4cb1-91c6-75edd1d65541"
      },
      "source": [
        "from google.colab import drive\n",
        "drive.mount('/content/gdrive')"
      ],
      "id": "_v8uSC_O3y3P",
      "execution_count": 3,
      "outputs": [
        {
          "output_type": "stream",
          "text": [
            "Mounted at /content/gdrive\n"
          ],
          "name": "stdout"
        }
      ]
    },
    {
      "cell_type": "code",
      "metadata": {
        "colab": {
          "base_uri": "https://localhost:8080/"
        },
        "id": "Dq8KdSHZ33KE",
        "outputId": "1ab2b897-feb6-404d-cc3e-be6d4a94cfed"
      },
      "source": [
        "%cd gdrive/MyDrive/CS7643"
      ],
      "id": "Dq8KdSHZ33KE",
      "execution_count": 4,
      "outputs": [
        {
          "output_type": "stream",
          "text": [
            "/content/gdrive/MyDrive/CS7643\n"
          ],
          "name": "stdout"
        }
      ]
    },
    {
      "cell_type": "code",
      "metadata": {
        "id": "1DgvOrJpMzT8",
        "colab": {
          "base_uri": "https://localhost:8080/"
        },
        "outputId": "3c80d095-12d1-47b8-eedb-82f8a7f548fa"
      },
      "source": [
        "# ! git clone https://2726c3be06d254f6092d9413236205338399aed0@github.com/haleyrx/qe_project"
      ],
      "id": "1DgvOrJpMzT8",
      "execution_count": null,
      "outputs": [
        {
          "output_type": "stream",
          "text": [
            "fatal: destination path 'qe_project' already exists and is not an empty directory.\n"
          ],
          "name": "stdout"
        }
      ]
    },
    {
      "cell_type": "code",
      "metadata": {
        "colab": {
          "base_uri": "https://localhost:8080/"
        },
        "id": "Orqmv_FO4UKR",
        "outputId": "18d39e58-814a-429b-f4d0-03f9bd2c1547"
      },
      "source": [
        "!ls"
      ],
      "id": "Orqmv_FO4UKR",
      "execution_count": 5,
      "outputs": [
        {
          "output_type": "stream",
          "text": [
            "colab_setup.ipynb  CS7643_HW4  qe_project\n"
          ],
          "name": "stdout"
        }
      ]
    },
    {
      "cell_type": "code",
      "metadata": {
        "colab": {
          "base_uri": "https://localhost:8080/"
        },
        "id": "8SPIeCW5391t",
        "outputId": "4f70f5a0-f5e2-4d70-8522-9469c59d86b4"
      },
      "source": [
        "%cd qe_project\n",
        "! git pull"
      ],
      "id": "8SPIeCW5391t",
      "execution_count": 6,
      "outputs": [
        {
          "output_type": "stream",
          "text": [
            "/content/gdrive/MyDrive/CS7643/qe_project\n",
            "remote: Enumerating objects: 5, done.\u001b[K\n",
            "remote: Counting objects: 100% (5/5), done.\u001b[K\n",
            "remote: Compressing objects: 100% (3/3), done.\u001b[K\n",
            "remote: Total 3 (delta 2), reused 0 (delta 0), pack-reused 0\n",
            "Unpacking objects: 100% (3/3), done.\n",
            "From https://github.com/haleyrx/qe_project\n",
            "   782d692..e94060c  main       -> origin/main\n",
            "Updating 782d692..e94060c\n",
            "Fast-forward\n",
            " transquest.ipynb | 277 \u001b[32m++++++++++++++++++++++++++++++++\u001b[m\u001b[31m-----------------------\u001b[m\n",
            " 1 file changed, 164 insertions(+), 113 deletions(-)\n"
          ],
          "name": "stdout"
        }
      ]
    },
    {
      "cell_type": "code",
      "metadata": {
        "id": "10Fg1qM1NOnI",
        "colab": {
          "base_uri": "https://localhost:8080/"
        },
        "outputId": "ca1f6aea-83bd-4579-9c26-d1d74156f4ec"
      },
      "source": [
        "!pip install sentencepiece\n",
        "!pip install transformers==3\n"
      ],
      "id": "10Fg1qM1NOnI",
      "execution_count": 7,
      "outputs": [
        {
          "output_type": "stream",
          "text": [
            "Collecting sentencepiece\n",
            "\u001b[?25l  Downloading https://files.pythonhosted.org/packages/f5/99/e0808cb947ba10f575839c43e8fafc9cc44e4a7a2c8f79c60db48220a577/sentencepiece-0.1.95-cp37-cp37m-manylinux2014_x86_64.whl (1.2MB)\n",
            "\r\u001b[K     |▎                               | 10kB 21.1MB/s eta 0:00:01\r\u001b[K     |▌                               | 20kB 20.7MB/s eta 0:00:01\r\u001b[K     |▉                               | 30kB 11.3MB/s eta 0:00:01\r\u001b[K     |█                               | 40kB 9.2MB/s eta 0:00:01\r\u001b[K     |█▍                              | 51kB 8.4MB/s eta 0:00:01\r\u001b[K     |█▋                              | 61kB 8.0MB/s eta 0:00:01\r\u001b[K     |██                              | 71kB 9.0MB/s eta 0:00:01\r\u001b[K     |██▏                             | 81kB 9.5MB/s eta 0:00:01\r\u001b[K     |██▌                             | 92kB 8.3MB/s eta 0:00:01\r\u001b[K     |██▊                             | 102kB 8.0MB/s eta 0:00:01\r\u001b[K     |███                             | 112kB 8.0MB/s eta 0:00:01\r\u001b[K     |███▎                            | 122kB 8.0MB/s eta 0:00:01\r\u001b[K     |███▌                            | 133kB 8.0MB/s eta 0:00:01\r\u001b[K     |███▉                            | 143kB 8.0MB/s eta 0:00:01\r\u001b[K     |████                            | 153kB 8.0MB/s eta 0:00:01\r\u001b[K     |████▍                           | 163kB 8.0MB/s eta 0:00:01\r\u001b[K     |████▋                           | 174kB 8.0MB/s eta 0:00:01\r\u001b[K     |█████                           | 184kB 8.0MB/s eta 0:00:01\r\u001b[K     |█████▏                          | 194kB 8.0MB/s eta 0:00:01\r\u001b[K     |█████▌                          | 204kB 8.0MB/s eta 0:00:01\r\u001b[K     |█████▊                          | 215kB 8.0MB/s eta 0:00:01\r\u001b[K     |██████                          | 225kB 8.0MB/s eta 0:00:01\r\u001b[K     |██████▎                         | 235kB 8.0MB/s eta 0:00:01\r\u001b[K     |██████▌                         | 245kB 8.0MB/s eta 0:00:01\r\u001b[K     |██████▉                         | 256kB 8.0MB/s eta 0:00:01\r\u001b[K     |███████                         | 266kB 8.0MB/s eta 0:00:01\r\u001b[K     |███████▍                        | 276kB 8.0MB/s eta 0:00:01\r\u001b[K     |███████▋                        | 286kB 8.0MB/s eta 0:00:01\r\u001b[K     |████████                        | 296kB 8.0MB/s eta 0:00:01\r\u001b[K     |████████▏                       | 307kB 8.0MB/s eta 0:00:01\r\u001b[K     |████████▍                       | 317kB 8.0MB/s eta 0:00:01\r\u001b[K     |████████▊                       | 327kB 8.0MB/s eta 0:00:01\r\u001b[K     |█████████                       | 337kB 8.0MB/s eta 0:00:01\r\u001b[K     |█████████▎                      | 348kB 8.0MB/s eta 0:00:01\r\u001b[K     |█████████▌                      | 358kB 8.0MB/s eta 0:00:01\r\u001b[K     |█████████▉                      | 368kB 8.0MB/s eta 0:00:01\r\u001b[K     |██████████                      | 378kB 8.0MB/s eta 0:00:01\r\u001b[K     |██████████▍                     | 389kB 8.0MB/s eta 0:00:01\r\u001b[K     |██████████▋                     | 399kB 8.0MB/s eta 0:00:01\r\u001b[K     |███████████                     | 409kB 8.0MB/s eta 0:00:01\r\u001b[K     |███████████▏                    | 419kB 8.0MB/s eta 0:00:01\r\u001b[K     |███████████▍                    | 430kB 8.0MB/s eta 0:00:01\r\u001b[K     |███████████▊                    | 440kB 8.0MB/s eta 0:00:01\r\u001b[K     |████████████                    | 450kB 8.0MB/s eta 0:00:01\r\u001b[K     |████████████▎                   | 460kB 8.0MB/s eta 0:00:01\r\u001b[K     |████████████▌                   | 471kB 8.0MB/s eta 0:00:01\r\u001b[K     |████████████▉                   | 481kB 8.0MB/s eta 0:00:01\r\u001b[K     |█████████████                   | 491kB 8.0MB/s eta 0:00:01\r\u001b[K     |█████████████▍                  | 501kB 8.0MB/s eta 0:00:01\r\u001b[K     |█████████████▋                  | 512kB 8.0MB/s eta 0:00:01\r\u001b[K     |█████████████▉                  | 522kB 8.0MB/s eta 0:00:01\r\u001b[K     |██████████████▏                 | 532kB 8.0MB/s eta 0:00:01\r\u001b[K     |██████████████▍                 | 542kB 8.0MB/s eta 0:00:01\r\u001b[K     |██████████████▊                 | 552kB 8.0MB/s eta 0:00:01\r\u001b[K     |███████████████                 | 563kB 8.0MB/s eta 0:00:01\r\u001b[K     |███████████████▎                | 573kB 8.0MB/s eta 0:00:01\r\u001b[K     |███████████████▌                | 583kB 8.0MB/s eta 0:00:01\r\u001b[K     |███████████████▉                | 593kB 8.0MB/s eta 0:00:01\r\u001b[K     |████████████████                | 604kB 8.0MB/s eta 0:00:01\r\u001b[K     |████████████████▍               | 614kB 8.0MB/s eta 0:00:01\r\u001b[K     |████████████████▋               | 624kB 8.0MB/s eta 0:00:01\r\u001b[K     |████████████████▉               | 634kB 8.0MB/s eta 0:00:01\r\u001b[K     |█████████████████▏              | 645kB 8.0MB/s eta 0:00:01\r\u001b[K     |█████████████████▍              | 655kB 8.0MB/s eta 0:00:01\r\u001b[K     |█████████████████▊              | 665kB 8.0MB/s eta 0:00:01\r\u001b[K     |██████████████████              | 675kB 8.0MB/s eta 0:00:01\r\u001b[K     |██████████████████▎             | 686kB 8.0MB/s eta 0:00:01\r\u001b[K     |██████████████████▌             | 696kB 8.0MB/s eta 0:00:01\r\u001b[K     |██████████████████▉             | 706kB 8.0MB/s eta 0:00:01\r\u001b[K     |███████████████████             | 716kB 8.0MB/s eta 0:00:01\r\u001b[K     |███████████████████▎            | 727kB 8.0MB/s eta 0:00:01\r\u001b[K     |███████████████████▋            | 737kB 8.0MB/s eta 0:00:01\r\u001b[K     |███████████████████▉            | 747kB 8.0MB/s eta 0:00:01\r\u001b[K     |████████████████████▏           | 757kB 8.0MB/s eta 0:00:01\r\u001b[K     |████████████████████▍           | 768kB 8.0MB/s eta 0:00:01\r\u001b[K     |████████████████████▊           | 778kB 8.0MB/s eta 0:00:01\r\u001b[K     |█████████████████████           | 788kB 8.0MB/s eta 0:00:01\r\u001b[K     |█████████████████████▎          | 798kB 8.0MB/s eta 0:00:01\r\u001b[K     |█████████████████████▌          | 808kB 8.0MB/s eta 0:00:01\r\u001b[K     |█████████████████████▉          | 819kB 8.0MB/s eta 0:00:01\r\u001b[K     |██████████████████████          | 829kB 8.0MB/s eta 0:00:01\r\u001b[K     |██████████████████████▎         | 839kB 8.0MB/s eta 0:00:01\r\u001b[K     |██████████████████████▋         | 849kB 8.0MB/s eta 0:00:01\r\u001b[K     |██████████████████████▉         | 860kB 8.0MB/s eta 0:00:01\r\u001b[K     |███████████████████████▏        | 870kB 8.0MB/s eta 0:00:01\r\u001b[K     |███████████████████████▍        | 880kB 8.0MB/s eta 0:00:01\r\u001b[K     |███████████████████████▊        | 890kB 8.0MB/s eta 0:00:01\r\u001b[K     |████████████████████████        | 901kB 8.0MB/s eta 0:00:01\r\u001b[K     |████████████████████████▎       | 911kB 8.0MB/s eta 0:00:01\r\u001b[K     |████████████████████████▌       | 921kB 8.0MB/s eta 0:00:01\r\u001b[K     |████████████████████████▊       | 931kB 8.0MB/s eta 0:00:01\r\u001b[K     |█████████████████████████       | 942kB 8.0MB/s eta 0:00:01\r\u001b[K     |█████████████████████████▎      | 952kB 8.0MB/s eta 0:00:01\r\u001b[K     |█████████████████████████▋      | 962kB 8.0MB/s eta 0:00:01\r\u001b[K     |█████████████████████████▉      | 972kB 8.0MB/s eta 0:00:01\r\u001b[K     |██████████████████████████▏     | 983kB 8.0MB/s eta 0:00:01\r\u001b[K     |██████████████████████████▍     | 993kB 8.0MB/s eta 0:00:01\r\u001b[K     |██████████████████████████▊     | 1.0MB 8.0MB/s eta 0:00:01\r\u001b[K     |███████████████████████████     | 1.0MB 8.0MB/s eta 0:00:01\r\u001b[K     |███████████████████████████▎    | 1.0MB 8.0MB/s eta 0:00:01\r\u001b[K     |███████████████████████████▌    | 1.0MB 8.0MB/s eta 0:00:01\r\u001b[K     |███████████████████████████▊    | 1.0MB 8.0MB/s eta 0:00:01\r\u001b[K     |████████████████████████████    | 1.1MB 8.0MB/s eta 0:00:01\r\u001b[K     |████████████████████████████▎   | 1.1MB 8.0MB/s eta 0:00:01\r\u001b[K     |████████████████████████████▋   | 1.1MB 8.0MB/s eta 0:00:01\r\u001b[K     |████████████████████████████▉   | 1.1MB 8.0MB/s eta 0:00:01\r\u001b[K     |█████████████████████████████▏  | 1.1MB 8.0MB/s eta 0:00:01\r\u001b[K     |█████████████████████████████▍  | 1.1MB 8.0MB/s eta 0:00:01\r\u001b[K     |█████████████████████████████▊  | 1.1MB 8.0MB/s eta 0:00:01\r\u001b[K     |██████████████████████████████  | 1.1MB 8.0MB/s eta 0:00:01\r\u001b[K     |██████████████████████████████▏ | 1.1MB 8.0MB/s eta 0:00:01\r\u001b[K     |██████████████████████████████▌ | 1.1MB 8.0MB/s eta 0:00:01\r\u001b[K     |██████████████████████████████▊ | 1.2MB 8.0MB/s eta 0:00:01\r\u001b[K     |███████████████████████████████ | 1.2MB 8.0MB/s eta 0:00:01\r\u001b[K     |███████████████████████████████▎| 1.2MB 8.0MB/s eta 0:00:01\r\u001b[K     |███████████████████████████████▋| 1.2MB 8.0MB/s eta 0:00:01\r\u001b[K     |███████████████████████████████▉| 1.2MB 8.0MB/s eta 0:00:01\r\u001b[K     |████████████████████████████████| 1.2MB 8.0MB/s \n",
            "\u001b[?25hInstalling collected packages: sentencepiece\n",
            "Successfully installed sentencepiece-0.1.95\n",
            "Collecting transformers==3\n",
            "\u001b[?25l  Downloading https://files.pythonhosted.org/packages/9c/35/1c3f6e62d81f5f0daff1384e6d5e6c5758682a8357ebc765ece2b9def62b/transformers-3.0.0-py3-none-any.whl (754kB)\n",
            "\u001b[K     |████████████████████████████████| 757kB 7.7MB/s \n",
            "\u001b[?25hCollecting sacremoses\n",
            "\u001b[?25l  Downloading https://files.pythonhosted.org/packages/08/cd/342e584ee544d044fb573ae697404ce22ede086c9e87ce5960772084cad0/sacremoses-0.0.44.tar.gz (862kB)\n",
            "\u001b[K     |████████████████████████████████| 870kB 16.0MB/s \n",
            "\u001b[?25hRequirement already satisfied: regex!=2019.12.17 in /usr/local/lib/python3.7/dist-packages (from transformers==3) (2019.12.20)\n",
            "Requirement already satisfied: sentencepiece in /usr/local/lib/python3.7/dist-packages (from transformers==3) (0.1.95)\n",
            "Requirement already satisfied: requests in /usr/local/lib/python3.7/dist-packages (from transformers==3) (2.23.0)\n",
            "Requirement already satisfied: packaging in /usr/local/lib/python3.7/dist-packages (from transformers==3) (20.9)\n",
            "Requirement already satisfied: tqdm>=4.27 in /usr/local/lib/python3.7/dist-packages (from transformers==3) (4.41.1)\n",
            "Requirement already satisfied: filelock in /usr/local/lib/python3.7/dist-packages (from transformers==3) (3.0.12)\n",
            "Requirement already satisfied: numpy in /usr/local/lib/python3.7/dist-packages (from transformers==3) (1.19.5)\n",
            "Collecting tokenizers==0.8.0-rc4\n",
            "\u001b[?25l  Downloading https://files.pythonhosted.org/packages/f7/82/0e82a95bd9db2b32569500cc1bb47aa7c4e0f57aa5e35cceba414096917b/tokenizers-0.8.0rc4-cp37-cp37m-manylinux1_x86_64.whl (3.0MB)\n",
            "\u001b[K     |████████████████████████████████| 3.0MB 36.7MB/s \n",
            "\u001b[?25hRequirement already satisfied: six in /usr/local/lib/python3.7/dist-packages (from sacremoses->transformers==3) (1.15.0)\n",
            "Requirement already satisfied: click in /usr/local/lib/python3.7/dist-packages (from sacremoses->transformers==3) (7.1.2)\n",
            "Requirement already satisfied: joblib in /usr/local/lib/python3.7/dist-packages (from sacremoses->transformers==3) (1.0.1)\n",
            "Requirement already satisfied: urllib3!=1.25.0,!=1.25.1,<1.26,>=1.21.1 in /usr/local/lib/python3.7/dist-packages (from requests->transformers==3) (1.24.3)\n",
            "Requirement already satisfied: chardet<4,>=3.0.2 in /usr/local/lib/python3.7/dist-packages (from requests->transformers==3) (3.0.4)\n",
            "Requirement already satisfied: certifi>=2017.4.17 in /usr/local/lib/python3.7/dist-packages (from requests->transformers==3) (2020.12.5)\n",
            "Requirement already satisfied: idna<3,>=2.5 in /usr/local/lib/python3.7/dist-packages (from requests->transformers==3) (2.10)\n",
            "Requirement already satisfied: pyparsing>=2.0.2 in /usr/local/lib/python3.7/dist-packages (from packaging->transformers==3) (2.4.7)\n",
            "Building wheels for collected packages: sacremoses\n",
            "  Building wheel for sacremoses (setup.py) ... \u001b[?25l\u001b[?25hdone\n",
            "  Created wheel for sacremoses: filename=sacremoses-0.0.44-cp37-none-any.whl size=886084 sha256=330ade533b3d2bd3f380540a9038540555992038376e6e451e62d51dcdf662f9\n",
            "  Stored in directory: /root/.cache/pip/wheels/3e/fb/c0/13ab4d63d537658f448366744654323077c4d90069b6512f3c\n",
            "Successfully built sacremoses\n",
            "Installing collected packages: sacremoses, tokenizers, transformers\n",
            "Successfully installed sacremoses-0.0.44 tokenizers-0.8.0rc4 transformers-3.0.0\n"
          ],
          "name": "stdout"
        }
      ]
    },
    {
      "cell_type": "code",
      "metadata": {
        "id": "B2QTWHwjN8Lp",
        "colab": {
          "base_uri": "https://localhost:8080/"
        },
        "outputId": "142e9789-43df-478b-c1e0-4da26f0e0657"
      },
      "source": [
        "!nvidia-smi"
      ],
      "id": "B2QTWHwjN8Lp",
      "execution_count": 8,
      "outputs": [
        {
          "output_type": "stream",
          "text": [
            "Fri Apr 16 22:11:35 2021       \n",
            "+-----------------------------------------------------------------------------+\n",
            "| NVIDIA-SMI 460.67       Driver Version: 460.32.03    CUDA Version: 11.2     |\n",
            "|-------------------------------+----------------------+----------------------+\n",
            "| GPU  Name        Persistence-M| Bus-Id        Disp.A | Volatile Uncorr. ECC |\n",
            "| Fan  Temp  Perf  Pwr:Usage/Cap|         Memory-Usage | GPU-Util  Compute M. |\n",
            "|                               |                      |               MIG M. |\n",
            "|===============================+======================+======================|\n",
            "|   0  Tesla T4            Off  | 00000000:00:04.0 Off |                    0 |\n",
            "| N/A   50C    P8    10W /  70W |      0MiB / 15109MiB |      0%      Default |\n",
            "|                               |                      |                  N/A |\n",
            "+-------------------------------+----------------------+----------------------+\n",
            "                                                                               \n",
            "+-----------------------------------------------------------------------------+\n",
            "| Processes:                                                                  |\n",
            "|  GPU   GI   CI        PID   Type   Process name                  GPU Memory |\n",
            "|        ID   ID                                                   Usage      |\n",
            "|=============================================================================|\n",
            "|  No running processes found                                                 |\n",
            "+-----------------------------------------------------------------------------+\n"
          ],
          "name": "stdout"
        }
      ]
    },
    {
      "cell_type": "code",
      "metadata": {
        "id": "LE3G-EhYn5Pu",
        "colab": {
          "base_uri": "https://localhost:8080/",
          "height": 35
        },
        "outputId": "5a76c146-20bc-49fd-f9a0-f673f300ba96"
      },
      "source": [
        "%pwd"
      ],
      "id": "LE3G-EhYn5Pu",
      "execution_count": 9,
      "outputs": [
        {
          "output_type": "execute_result",
          "data": {
            "application/vnd.google.colaboratory.intrinsic+json": {
              "type": "string"
            },
            "text/plain": [
              "'/content/gdrive/My Drive/CS7643/qe_project'"
            ]
          },
          "metadata": {
            "tags": []
          },
          "execution_count": 9
        }
      ]
    },
    {
      "cell_type": "markdown",
      "metadata": {
        "id": "DFMB3O7ZtxF-"
      },
      "source": [
        "### Set up parameters"
      ],
      "id": "DFMB3O7ZtxF-"
    },
    {
      "cell_type": "code",
      "metadata": {
        "id": "6vSsgptt_vEe"
      },
      "source": [
        "SEED = 777\n",
        "RESULT_FILE = 'en-de_result.tsv'\n",
        "METRICS_FILE = 'en-de_metrics.txt'\n",
        "BEST_MODEL_FILE = 'en-de_best_model.bin'\n",
        "MODEL_TYPE = 'xlmroberta'\n",
        "MODEL_NAME = 'xlm-roberta-large'\n",
        "TRAIN_DATA = 'en-de/train.ende.df.short.tsv'\n",
        "DEV_DATA = 'en-de/dev.ende.df.short.tsv'\n",
        "TEST_DATA = 'en-de/test20.ende.df.short.tsv'\n",
        "\n",
        "# Model parameters\n",
        "args = {\n",
        "    'data_dir': './data/',\n",
        "    'output_dir': './results/',\n",
        "    'best_model_dir': './best_models/',\n",
        "  \n",
        "    'max_seq_length': 128,\n",
        "    'train_batch_size': 8,\n",
        "    'gradient_accumulation_steps': 1,\n",
        "    'eval_batch_size': 8,\n",
        "    'num_train_epochs': 3,\n",
        "    'weight_decay': 0,\n",
        "    'learning_rate': 1e-5,\n",
        "    'adam_epsilon': 1e-8,\n",
        "    'warmup_ratio': 0.1,\n",
        "    'warmup_steps': 0,\n",
        "    'max_grad_norm': 1.0,\n",
        "    \"manual_seed\": SEED,\n",
        "\n",
        "}"
      ],
      "id": "6vSsgptt_vEe",
      "execution_count": 10,
      "outputs": []
    },
    {
      "cell_type": "code",
      "metadata": {
        "id": "YYnB2vQpuAfR"
      },
      "source": [
        "# Get relevant paths\n",
        "\n",
        "import os \n",
        "\n",
        "train_path = os.path.join(args['data_dir'], TRAIN_DATA)\n",
        "dev_path = os.path.join(args['data_dir'], DEV_DATA)\n",
        "test_path = os.path.join(args['data_dir'], TEST_DATA)\n",
        "best_model_path = os.path.join(args['best_model_dir'], BEST_MODEL_FILE)\n",
        "results_path = os.path.join(args['output_dir'], RESULT_FILE)\n",
        "metrics_path = os.path.join(args['output_dir'], METRICS_FILE)\n"
      ],
      "id": "YYnB2vQpuAfR",
      "execution_count": 14,
      "outputs": []
    },
    {
      "cell_type": "markdown",
      "metadata": {
        "id": "HiL9PxhpjSkS"
      },
      "source": [
        "## Read in Data"
      ],
      "id": "HiL9PxhpjSkS"
    },
    {
      "cell_type": "code",
      "metadata": {
        "id": "IQW0bZbMmrac",
        "colab": {
          "base_uri": "https://localhost:8080/",
          "height": 204
        },
        "outputId": "4e59be38-47e5-49f7-8586-439e74764a41"
      },
      "source": [
        "import pandas as pd\n",
        "df_train = pd.read_csv(train_path,sep=\"\\t\")\n",
        "train = df_train[['original', 'translation', 'z_mean']]\n",
        "train.head()"
      ],
      "id": "IQW0bZbMmrac",
      "execution_count": 15,
      "outputs": [
        {
          "output_type": "execute_result",
          "data": {
            "text/html": [
              "<div>\n",
              "<style scoped>\n",
              "    .dataframe tbody tr th:only-of-type {\n",
              "        vertical-align: middle;\n",
              "    }\n",
              "\n",
              "    .dataframe tbody tr th {\n",
              "        vertical-align: top;\n",
              "    }\n",
              "\n",
              "    .dataframe thead th {\n",
              "        text-align: right;\n",
              "    }\n",
              "</style>\n",
              "<table border=\"1\" class=\"dataframe\">\n",
              "  <thead>\n",
              "    <tr style=\"text-align: right;\">\n",
              "      <th></th>\n",
              "      <th>original</th>\n",
              "      <th>translation</th>\n",
              "      <th>z_mean</th>\n",
              "    </tr>\n",
              "  </thead>\n",
              "  <tbody>\n",
              "    <tr>\n",
              "      <th>0</th>\n",
              "      <td>José Ortega y Gasset visited Husserl at Freibu...</td>\n",
              "      <td>1934 besuchte José Ortega y Gasset Husserl in ...</td>\n",
              "      <td>1.119409</td>\n",
              "    </tr>\n",
              "    <tr>\n",
              "      <th>1</th>\n",
              "      <td>However, a disappointing ninth in China meant ...</td>\n",
              "      <td>Eine enttäuschende Neunte in China bedeutete j...</td>\n",
              "      <td>-0.488591</td>\n",
              "    </tr>\n",
              "    <tr>\n",
              "      <th>2</th>\n",
              "      <td>In his diary, Chase wrote that the release of ...</td>\n",
              "      <td>In seinem Tagebuch, Chase schrieb, dass die Ve...</td>\n",
              "      <td>-2.207007</td>\n",
              "    </tr>\n",
              "    <tr>\n",
              "      <th>3</th>\n",
              "      <td>Heavy arquebuses mounted on wagons were called...</td>\n",
              "      <td>Schwere Arquebuses auf Waggons montiert wurden...</td>\n",
              "      <td>-0.799946</td>\n",
              "    </tr>\n",
              "    <tr>\n",
              "      <th>4</th>\n",
              "      <td>Once North Pacific salmon die off after spawni...</td>\n",
              "      <td>Sobald der nordpazifische Lachs nach dem Laich...</td>\n",
              "      <td>0.381633</td>\n",
              "    </tr>\n",
              "  </tbody>\n",
              "</table>\n",
              "</div>"
            ],
            "text/plain": [
              "                                            original  ...    z_mean\n",
              "0  José Ortega y Gasset visited Husserl at Freibu...  ...  1.119409\n",
              "1  However, a disappointing ninth in China meant ...  ... -0.488591\n",
              "2  In his diary, Chase wrote that the release of ...  ... -2.207007\n",
              "3  Heavy arquebuses mounted on wagons were called...  ... -0.799946\n",
              "4  Once North Pacific salmon die off after spawni...  ...  0.381633\n",
              "\n",
              "[5 rows x 3 columns]"
            ]
          },
          "metadata": {
            "tags": []
          },
          "execution_count": 15
        }
      ]
    },
    {
      "cell_type": "code",
      "metadata": {
        "colab": {
          "base_uri": "https://localhost:8080/",
          "height": 204
        },
        "id": "fPn0pdAv94XL",
        "outputId": "4dd9ceff-e008-4ad6-ad3c-eaa850c7be57"
      },
      "source": [
        "df_dev = pd.read_csv(dev_path,sep='\\t')\n",
        "dev = df_dev[['original', 'translation', 'z_mean']]\n",
        "dev.head()"
      ],
      "id": "fPn0pdAv94XL",
      "execution_count": 16,
      "outputs": [
        {
          "output_type": "execute_result",
          "data": {
            "text/html": [
              "<div>\n",
              "<style scoped>\n",
              "    .dataframe tbody tr th:only-of-type {\n",
              "        vertical-align: middle;\n",
              "    }\n",
              "\n",
              "    .dataframe tbody tr th {\n",
              "        vertical-align: top;\n",
              "    }\n",
              "\n",
              "    .dataframe thead th {\n",
              "        text-align: right;\n",
              "    }\n",
              "</style>\n",
              "<table border=\"1\" class=\"dataframe\">\n",
              "  <thead>\n",
              "    <tr style=\"text-align: right;\">\n",
              "      <th></th>\n",
              "      <th>original</th>\n",
              "      <th>translation</th>\n",
              "      <th>z_mean</th>\n",
              "    </tr>\n",
              "  </thead>\n",
              "  <tbody>\n",
              "    <tr>\n",
              "      <th>0</th>\n",
              "      <td>Simultaneously, the Legion took part to the pa...</td>\n",
              "      <td>Gleichzeitig nahm die Legion an der Befriedung...</td>\n",
              "      <td>-0.312186</td>\n",
              "    </tr>\n",
              "    <tr>\n",
              "      <th>1</th>\n",
              "      <td>He also begins an affair with Veronica Harring...</td>\n",
              "      <td>Er beginnt auch eine Affäre mit Veronica Harri...</td>\n",
              "      <td>-0.401581</td>\n",
              "    </tr>\n",
              "    <tr>\n",
              "      <th>2</th>\n",
              "      <td>The urban morphology of these two local waters...</td>\n",
              "      <td>Die urbane Morphologie dieser beiden lokalen W...</td>\n",
              "      <td>0.275414</td>\n",
              "    </tr>\n",
              "    <tr>\n",
              "      <th>3</th>\n",
              "      <td>Important finds included a bronze axe in Wellw...</td>\n",
              "      <td>Wichtige Funde waren eine Bronzeaxt in Wellwoo...</td>\n",
              "      <td>0.580925</td>\n",
              "    </tr>\n",
              "    <tr>\n",
              "      <th>4</th>\n",
              "      <td>Previously, Englishmen had drunk mainly dark s...</td>\n",
              "      <td>Früher hatten Engländer vor allem dunkle Stout...</td>\n",
              "      <td>-1.895129</td>\n",
              "    </tr>\n",
              "  </tbody>\n",
              "</table>\n",
              "</div>"
            ],
            "text/plain": [
              "                                            original  ...    z_mean\n",
              "0  Simultaneously, the Legion took part to the pa...  ... -0.312186\n",
              "1  He also begins an affair with Veronica Harring...  ... -0.401581\n",
              "2  The urban morphology of these two local waters...  ...  0.275414\n",
              "3  Important finds included a bronze axe in Wellw...  ...  0.580925\n",
              "4  Previously, Englishmen had drunk mainly dark s...  ... -1.895129\n",
              "\n",
              "[5 rows x 3 columns]"
            ]
          },
          "metadata": {
            "tags": []
          },
          "execution_count": 16
        }
      ]
    },
    {
      "cell_type": "code",
      "metadata": {
        "colab": {
          "base_uri": "https://localhost:8080/",
          "height": 204
        },
        "id": "G19rmEtc-It0",
        "outputId": "ab2d4c32-4754-4033-80bb-97897877bfbf"
      },
      "source": [
        "df_test = pd.read_csv(test_path,sep='\\t')\n",
        "test = df_test[['original', 'translation', 'z_mean']]\n",
        "test.head()"
      ],
      "id": "G19rmEtc-It0",
      "execution_count": 17,
      "outputs": [
        {
          "output_type": "execute_result",
          "data": {
            "text/html": [
              "<div>\n",
              "<style scoped>\n",
              "    .dataframe tbody tr th:only-of-type {\n",
              "        vertical-align: middle;\n",
              "    }\n",
              "\n",
              "    .dataframe tbody tr th {\n",
              "        vertical-align: top;\n",
              "    }\n",
              "\n",
              "    .dataframe thead th {\n",
              "        text-align: right;\n",
              "    }\n",
              "</style>\n",
              "<table border=\"1\" class=\"dataframe\">\n",
              "  <thead>\n",
              "    <tr style=\"text-align: right;\">\n",
              "      <th></th>\n",
              "      <th>original</th>\n",
              "      <th>translation</th>\n",
              "      <th>z_mean</th>\n",
              "    </tr>\n",
              "  </thead>\n",
              "  <tbody>\n",
              "    <tr>\n",
              "      <th>0</th>\n",
              "      <td>The Sultan appoints judges, and can grant pard...</td>\n",
              "      <td>Der Sultan ernennt Richter und kann Begnadigun...</td>\n",
              "      <td>0.349371</td>\n",
              "    </tr>\n",
              "    <tr>\n",
              "      <th>1</th>\n",
              "      <td>Antisemitism in modern Ukraine Antisemitism an...</td>\n",
              "      <td>Antisemitismus in der modernen Ukraine Antisem...</td>\n",
              "      <td>0.392435</td>\n",
              "    </tr>\n",
              "    <tr>\n",
              "      <th>2</th>\n",
              "      <td>Morales continued his feud with Buddy Rose, de...</td>\n",
              "      <td>Morales setzte seine Fehde mit Buddy Rose fort...</td>\n",
              "      <td>0.645034</td>\n",
              "    </tr>\n",
              "    <tr>\n",
              "      <th>3</th>\n",
              "      <td>American Maury Tripp attended the Jamboree fro...</td>\n",
              "      <td>Der Amerikaner Maury Tripp besuchte das Jambor...</td>\n",
              "      <td>0.544519</td>\n",
              "    </tr>\n",
              "    <tr>\n",
              "      <th>4</th>\n",
              "      <td>He bowled a series of bouncers at Viv Richards...</td>\n",
              "      <td>Er boomte eine Reihe von Bouncern bei Viv Rich...</td>\n",
              "      <td>-0.589531</td>\n",
              "    </tr>\n",
              "  </tbody>\n",
              "</table>\n",
              "</div>"
            ],
            "text/plain": [
              "                                            original  ...    z_mean\n",
              "0  The Sultan appoints judges, and can grant pard...  ...  0.349371\n",
              "1  Antisemitism in modern Ukraine Antisemitism an...  ...  0.392435\n",
              "2  Morales continued his feud with Buddy Rose, de...  ...  0.645034\n",
              "3  American Maury Tripp attended the Jamboree fro...  ...  0.544519\n",
              "4  He bowled a series of bouncers at Viv Richards...  ... -0.589531\n",
              "\n",
              "[5 rows x 3 columns]"
            ]
          },
          "metadata": {
            "tags": []
          },
          "execution_count": 17
        }
      ]
    },
    {
      "cell_type": "code",
      "metadata": {
        "id": "AwDjf70J-lMB"
      },
      "source": [
        "train = train.rename(columns={'original': 'text_a', 'translation': 'text_b', 'z_mean': 'labels'}).dropna()\n",
        "dev = dev.rename(columns={'original': 'text_a', 'translation': 'text_b', 'z_mean': 'labels'}).dropna()\n",
        "test = test.rename(columns={'original': 'text_a', 'translation': 'text_b', 'z_mean': 'labels'}).dropna()"
      ],
      "id": "AwDjf70J-lMB",
      "execution_count": null,
      "outputs": []
    },
    {
      "cell_type": "markdown",
      "metadata": {
        "id": "I_gKfdhChQaG"
      },
      "source": [
        "### Use sklearn to preprocess z-scores\n"
      ],
      "id": "I_gKfdhChQaG"
    },
    {
      "cell_type": "code",
      "metadata": {
        "id": "searching-equity"
      },
      "source": [
        "from sklearn import preprocessing\n",
        "min_max_scaler = preprocessing.MinMaxScaler()\n",
        "\n",
        "\n",
        "def fit(df, label):\n",
        "    x = df[[label]].values.astype(float)\n",
        "    x_scaled = min_max_scaler.fit_transform(x)\n",
        "    df[label] = x_scaled\n",
        "    return df\n",
        "\n",
        "\n",
        "def un_fit(df, label):\n",
        "    x = df[[label]].values.astype(float)\n",
        "    x_unscaled = min_max_scaler.inverse_transform(x)\n",
        "    df[label] = x_unscaled\n",
        "    return df"
      ],
      "id": "searching-equity",
      "execution_count": null,
      "outputs": []
    },
    {
      "cell_type": "code",
      "metadata": {
        "id": "rcLQXavR_iY_"
      },
      "source": [
        "train = fit(train, 'labels')\n",
        "dev = fit(dev, 'labels')"
      ],
      "id": "rcLQXavR_iY_",
      "execution_count": null,
      "outputs": []
    },
    {
      "cell_type": "markdown",
      "metadata": {
        "id": "Xpy69dtawS34"
      },
      "source": [
        "### Import packages"
      ],
      "id": "Xpy69dtawS34"
    },
    {
      "cell_type": "code",
      "metadata": {
        "id": "J7w7rmTrTcjv"
      },
      "source": [
        "import transformers\n",
        "from transformers import AdamW, get_linear_schedule_with_warmup\n",
        "from transformers import XLMRobertaConfig, XLMRobertaTokenizer, XLMRobertaForSequenceClassification, XLMRobertaModel\n",
        "import torch\n",
        "\n",
        "import numpy as np\n",
        "import pandas as pd\n",
        "from pylab import rcParams\n",
        "import matplotlib.pyplot as plt\n",
        "from matplotlib import rc\n",
        "from sklearn.metrics import mean_squared_error, mean_absolute_error\n",
        "from scipy import stats\n",
        "from collections import defaultdict\n",
        "from textwrap import wrap\n",
        "\n",
        "from torch import nn, optim\n",
        "from torch.utils.data import Dataset, DataLoader"
      ],
      "id": "J7w7rmTrTcjv",
      "execution_count": null,
      "outputs": []
    },
    {
      "cell_type": "code",
      "metadata": {
        "colab": {
          "base_uri": "https://localhost:8080/"
        },
        "id": "MCiPHSh-TYta",
        "outputId": "addb235b-5af8-4e22-f197-134a3e5eabdc"
      },
      "source": [
        "# Check device\n",
        "device = torch.device(\"cuda\" if torch.cuda.is_available() else \"cpu\")\n",
        "device"
      ],
      "id": "MCiPHSh-TYta",
      "execution_count": null,
      "outputs": [
        {
          "output_type": "execute_result",
          "data": {
            "text/plain": [
              "device(type='cuda')"
            ]
          },
          "metadata": {
            "tags": []
          },
          "execution_count": 17
        }
      ]
    },
    {
      "cell_type": "markdown",
      "metadata": {
        "id": "zmgSEt44wp6p"
      },
      "source": [
        "### Download pretrained model"
      ],
      "id": "zmgSEt44wp6p"
    },
    {
      "cell_type": "code",
      "metadata": {
        "id": "50emkbPkUPnf",
        "colab": {
          "base_uri": "https://localhost:8080/",
          "height": 115,
          "referenced_widgets": [
            "440d0a8faa6142e091bd979be3bc4939",
            "162496ff698f45789389438cfa1ed4b2",
            "4836d6ccdf8a4ba4923eb4ef02f418ee",
            "bfe04032e199404bb856c677fcc7b7d9",
            "498077c71e2e454c81ae35a61c34821d",
            "0c250747514d415eb231303400b922ab",
            "7ed6cede671b469d86821310e05bbdb2",
            "07d80ac5a05a49a798f76e6dfe305343",
            "43549e4f262447b08b3af12521774207",
            "5f55d4f17b90422aa2e5e13de890027e",
            "690bcc9fc4fa451b8d90d760c359c315",
            "15c3170bfb254f9a90b7157c0b501a0b",
            "ca0d1addcc754d8e9113976b1b557700",
            "f97aa4f65d4e4900858bdcf49f4ed09a",
            "17f559693cec4391be0acccafbbef22d",
            "d0ce3045d3854dd3b9fc8c99e66a65eb"
          ]
        },
        "outputId": "00c66f30-90bb-4588-f457-797657f29508"
      },
      "source": [
        "# Initialize config, tokenizer, and pretrained model\n",
        "MODEL_CLASSES = {'xlmroberta': (XLMRobertaConfig, XLMRobertaModel, XLMRobertaTokenizer)}\n",
        "\n",
        "config_class, model_class, tokenizer_class = MODEL_CLASSES[MODEL_TYPE]\n",
        "\n",
        "config = config_class.from_pretrained(MODEL_NAME, num_labels=1)\n",
        "tokenizer = tokenizer_class.from_pretrained(MODEL_NAME)"
      ],
      "id": "50emkbPkUPnf",
      "execution_count": null,
      "outputs": [
        {
          "output_type": "display_data",
          "data": {
            "application/vnd.jupyter.widget-view+json": {
              "model_id": "440d0a8faa6142e091bd979be3bc4939",
              "version_minor": 0,
              "version_major": 2
            },
            "text/plain": [
              "HBox(children=(FloatProgress(value=0.0, description='Downloading', max=513.0, style=ProgressStyle(description_…"
            ]
          },
          "metadata": {
            "tags": []
          }
        },
        {
          "output_type": "stream",
          "text": [
            "\n"
          ],
          "name": "stdout"
        },
        {
          "output_type": "display_data",
          "data": {
            "application/vnd.jupyter.widget-view+json": {
              "model_id": "43549e4f262447b08b3af12521774207",
              "version_minor": 0,
              "version_major": 2
            },
            "text/plain": [
              "HBox(children=(FloatProgress(value=0.0, description='Downloading', max=5069051.0, style=ProgressStyle(descript…"
            ]
          },
          "metadata": {
            "tags": []
          }
        },
        {
          "output_type": "stream",
          "text": [
            "\n"
          ],
          "name": "stdout"
        }
      ]
    },
    {
      "cell_type": "markdown",
      "metadata": {
        "id": "n3rD10Qvwt6s"
      },
      "source": [
        "### Create data loader and load batches"
      ],
      "id": "n3rD10Qvwt6s"
    },
    {
      "cell_type": "code",
      "metadata": {
        "id": "wGNNC5auM2AN"
      },
      "source": [
        "class TranslationDataset(Dataset):\n",
        "  def __init__(self, text_a, text_b, labels, tokenizer, max_len):\n",
        "    self.text_a = text_a\n",
        "    self.text_b = text_b\n",
        "    self.labels = labels\n",
        "    self.tokenizer = tokenizer\n",
        "    self.max_len = max_len\n",
        "\n",
        "  def __len__(self):\n",
        "    return len(self.text_a)\n",
        "\n",
        "  def __getitem__(self, item):\n",
        "    original = str(self.text_a[item])\n",
        "    translation = str(self.text_b[item])\n",
        "    label = float(self.labels[item])\n",
        "    encoding = self.tokenizer.encode_plus(\n",
        "      original,\n",
        "      translation,\n",
        "      add_special_tokens=True,\n",
        "      max_length=self.max_len,\n",
        "      return_token_type_ids=False,\n",
        "      padding='max_length',\n",
        "      truncation=True,\n",
        "      return_attention_mask=True,\n",
        "      return_tensors='pt',\n",
        "    )\n",
        "\n",
        "    return {\n",
        "      'original_text': original,\n",
        "      'translation_text': translation,\n",
        "      'input_ids': encoding['input_ids'].flatten(),\n",
        "      'attention_mask': encoding['attention_mask'].flatten(),\n",
        "      'label': torch.tensor(label, dtype=torch.float32)\n",
        "    }"
      ],
      "id": "wGNNC5auM2AN",
      "execution_count": null,
      "outputs": []
    },
    {
      "cell_type": "code",
      "metadata": {
        "id": "p5aGo74Il9ci"
      },
      "source": [
        "def create_data_loader(df, tokenizer, max_len, batch_size):\n",
        "  ds = TranslationDataset(\n",
        "    text_a=df.text_a.to_numpy(),\n",
        "    text_b=df.text_b.to_numpy(),\n",
        "    labels=df.labels.to_numpy(),\n",
        "    tokenizer=tokenizer,\n",
        "    max_len=max_len\n",
        "  )\n",
        "\n",
        "  return DataLoader(\n",
        "    ds,\n",
        "    batch_size=batch_size,\n",
        "    num_workers=2\n",
        "  )"
      ],
      "id": "p5aGo74Il9ci",
      "execution_count": null,
      "outputs": []
    },
    {
      "cell_type": "code",
      "metadata": {
        "id": "6mgdstvfmxlv"
      },
      "source": [
        "train_data_loader = create_data_loader(train, tokenizer, args['max_seq_length'], args['train_batch_size'])\n",
        "dev_data_loader = create_data_loader(dev, tokenizer, args['max_seq_length'], args['train_batch_size'])\n",
        "test_data_loader = create_data_loader(test, tokenizer, args['max_seq_length'], args['train_batch_size'])"
      ],
      "id": "6mgdstvfmxlv",
      "execution_count": null,
      "outputs": []
    },
    {
      "cell_type": "code",
      "metadata": {
        "colab": {
          "base_uri": "https://localhost:8080/"
        },
        "id": "EMGuqAFKokDS",
        "outputId": "04460657-6d4b-42ff-b689-afd0d395e3f0"
      },
      "source": [
        "data = next(iter(test_data_loader))\n",
        "data.keys()"
      ],
      "id": "EMGuqAFKokDS",
      "execution_count": null,
      "outputs": [
        {
          "output_type": "execute_result",
          "data": {
            "text/plain": [
              "dict_keys(['original_text', 'translation_text', 'input_ids', 'attention_mask', 'label'])"
            ]
          },
          "metadata": {
            "tags": []
          },
          "execution_count": 23
        }
      ]
    },
    {
      "cell_type": "code",
      "metadata": {
        "colab": {
          "base_uri": "https://localhost:8080/"
        },
        "id": "dEZoT2t6pTTC",
        "outputId": "25f18e0a-30fd-45c0-a8f7-7ce835d435e3"
      },
      "source": [
        "print(data['input_ids'].shape)\n",
        "print(data['attention_mask'].shape)\n",
        "print(data['label'].shape)"
      ],
      "id": "dEZoT2t6pTTC",
      "execution_count": null,
      "outputs": [
        {
          "output_type": "stream",
          "text": [
            "torch.Size([8, 128])\n",
            "torch.Size([8, 128])\n",
            "torch.Size([8])\n"
          ],
          "name": "stdout"
        }
      ]
    },
    {
      "cell_type": "code",
      "metadata": {
        "colab": {
          "base_uri": "https://localhost:8080/"
        },
        "id": "IALZRIZF2F3H",
        "outputId": "6b12ef03-c098-4072-a0d6-0b1311fd8dec"
      },
      "source": [
        "print(data['original_text'][0])\n",
        "print(data['label'][0].numpy())"
      ],
      "id": "IALZRIZF2F3H",
      "execution_count": null,
      "outputs": [
        {
          "output_type": "stream",
          "text": [
            "The Sultan appoints judges, and can grant pardons and commute sentences.\n",
            "0.34937093\n"
          ],
          "name": "stdout"
        }
      ]
    },
    {
      "cell_type": "markdown",
      "metadata": {
        "id": "hg_V0Zhhw6Ll"
      },
      "source": [
        "### Define MonoTransQuest Model"
      ],
      "id": "hg_V0Zhhw6Ll"
    },
    {
      "cell_type": "code",
      "metadata": {
        "id": "IElDL0WPuyK9"
      },
      "source": [
        "class MonoTransQuest(nn.Module):\n",
        "\n",
        "  def __init__(self, config):\n",
        "    super(MonoTransQuest, self).__init__()\n",
        "    self.model = model_class.from_pretrained(MODEL_NAME)\n",
        "    self.dense = nn.Linear(config.hidden_size, config.hidden_size)\n",
        "    self.dropout = nn.Dropout(config.hidden_dropout_prob)\n",
        "    self.out_proj = nn.Linear(config.hidden_size, config.num_labels)\n",
        "  \n",
        "  def forward(self, input_ids, attention_mask):\n",
        "    outputs = self.model(input_ids=input_ids, attention_mask=attention_mask)\n",
        "    sequence_output = outputs[0]\n",
        "    x = sequence_output[:, 0, :]  # take <s> token (equiv. to [CLS])\n",
        "    x = self.dropout(x)\n",
        "    x = self.dense(x)\n",
        "    x = torch.tanh(x)\n",
        "    x = self.dropout(x)\n",
        "    x = self.out_proj(x)\n",
        "\n",
        "    return torch.sigmoid(x)"
      ],
      "id": "IElDL0WPuyK9",
      "execution_count": null,
      "outputs": []
    },
    {
      "cell_type": "code",
      "metadata": {
        "colab": {
          "base_uri": "https://localhost:8080/",
          "height": 66,
          "referenced_widgets": [
            "da01bf052842415fad3c0cb143391df5",
            "b9b86cdabe4f4d0b9961ca9fc5291c8e",
            "45072ce4589f491282e5e0b400f8ff10",
            "99cdc1bc9cd940819920510da80048d1",
            "884b166a6ad3475b815d17470f844eb6",
            "21a763e8561c4750bb2c67376bc4abc7",
            "16ce1e5709f749198e2fba5fd1fbdc37",
            "f5d4c2fad7e44c1691d6040f79c54a58"
          ]
        },
        "id": "f_QhuHSi0c14",
        "outputId": "0f92a363-e0ee-4abd-bb9f-327fdb9ddcb3"
      },
      "source": [
        "model = MonoTransQuest(config)\n",
        "model = model.to(device)"
      ],
      "id": "f_QhuHSi0c14",
      "execution_count": null,
      "outputs": [
        {
          "output_type": "display_data",
          "data": {
            "application/vnd.jupyter.widget-view+json": {
              "model_id": "da01bf052842415fad3c0cb143391df5",
              "version_minor": 0,
              "version_major": 2
            },
            "text/plain": [
              "HBox(children=(FloatProgress(value=0.0, description='Downloading', max=2244861551.0, style=ProgressStyle(descr…"
            ]
          },
          "metadata": {
            "tags": []
          }
        },
        {
          "output_type": "stream",
          "text": [
            "\n"
          ],
          "name": "stdout"
        }
      ]
    },
    {
      "cell_type": "markdown",
      "metadata": {
        "id": "43WheJVzxAIY"
      },
      "source": [
        "### Training"
      ],
      "id": "43WheJVzxAIY"
    },
    {
      "cell_type": "code",
      "metadata": {
        "id": "unX_3I59Oqml"
      },
      "source": [
        "import math\n",
        "\n",
        "t_total = len(train_data_loader) // args['gradient_accumulation_steps'] * args['num_train_epochs']\n",
        "warmup_steps = math.ceil(t_total * args['warmup_ratio'])\n",
        "args['warmup_steps'] = warmup_steps if args['warmup_steps'] == 0 else args['warmup_steps']\n",
        "\n",
        "optimizer = AdamW(model.parameters(), lr=args['learning_rate'], eps=args['adam_epsilon'])\n",
        "scheduler = get_linear_schedule_with_warmup(\n",
        "  optimizer,\n",
        "  num_warmup_steps=args['warmup_steps'], \n",
        "  num_training_steps=t_total\n",
        ")\n",
        "\n",
        "loss_fn = nn.MSELoss().to(device)"
      ],
      "id": "unX_3I59Oqml",
      "execution_count": null,
      "outputs": []
    },
    {
      "cell_type": "code",
      "metadata": {
        "id": "Pd1kfrd1UPXT"
      },
      "source": [
        "def train_epoch(\n",
        "  model,\n",
        "  data_loader,\n",
        "  loss_fn,\n",
        "  optimizer,\n",
        "  device,\n",
        "  scheduler,\n",
        "  n_examples\n",
        "):\n",
        "  model = model.train()\n",
        "  losses = []\n",
        "  for d in data_loader:\n",
        "    input_ids = d[\"input_ids\"].to(device)\n",
        "    attention_mask = d[\"attention_mask\"].to(device)\n",
        "    labels = torch.unsqueeze(d[\"label\"], 1)\n",
        "    labels = labels.float()\n",
        "    labels = labels.to(device)\n",
        "    outputs = model(\n",
        "      input_ids=input_ids,\n",
        "      attention_mask=attention_mask\n",
        "    )\n",
        "    loss = loss_fn(outputs, labels)\n",
        "    losses.append(loss.item())\n",
        "    loss.backward()\n",
        "    nn.utils.clip_grad_norm_(model.parameters(), max_norm=args['max_grad_norm'])\n",
        "    optimizer.step()\n",
        "    scheduler.step()\n",
        "    optimizer.zero_grad()\n",
        "  return np.mean(losses)"
      ],
      "id": "Pd1kfrd1UPXT",
      "execution_count": null,
      "outputs": []
    },
    {
      "cell_type": "code",
      "metadata": {
        "id": "8B8ctTAsUxsG"
      },
      "source": [
        "def eval_model(model, data_loader, loss_fn, device, n_examples):\n",
        "  model = model.eval()\n",
        "  losses = []\n",
        "  with torch.no_grad():\n",
        "    for d in data_loader:\n",
        "      input_ids = d[\"input_ids\"].to(device)\n",
        "      attention_mask = d[\"attention_mask\"].to(device)\n",
        "      labels = torch.unsqueeze(d[\"label\"], 1)\n",
        "      labels = labels.float()\n",
        "      labels = labels.to(device)\n",
        "      outputs = model(\n",
        "        input_ids=input_ids,\n",
        "        attention_mask=attention_mask\n",
        "      )\n",
        "      loss = loss_fn(outputs, labels)\n",
        "      losses.append(loss.item())\n",
        "  return np.mean(losses)"
      ],
      "id": "8B8ctTAsUxsG",
      "execution_count": null,
      "outputs": []
    },
    {
      "cell_type": "code",
      "metadata": {
        "colab": {
          "base_uri": "https://localhost:8080/"
        },
        "id": "6UcIPfl8Uzna",
        "outputId": "77b145e1-0e22-4e43-a49e-9ac1286c20a8"
      },
      "source": [
        "%%time\n",
        "\n",
        "history = defaultdict(list)\n",
        "best_loss = float('inf')\n",
        "for epoch in range(args['num_train_epochs']):\n",
        "  print(f'Epoch {epoch + 1}/{args[\"num_train_epochs\"]}')\n",
        "  print('-' * 10)\n",
        "  train_loss = train_epoch(\n",
        "    model,\n",
        "    train_data_loader,\n",
        "    loss_fn,\n",
        "    optimizer,\n",
        "    device,\n",
        "    scheduler,\n",
        "    len(df_train)\n",
        "  )\n",
        "  print(f'Train loss {train_loss}')\n",
        "  val_loss = eval_model(\n",
        "    model,\n",
        "    dev_data_loader,\n",
        "    loss_fn,\n",
        "    device,\n",
        "    len(df_dev)\n",
        "  )\n",
        "  print(f'Val   loss {val_loss}')\n",
        "  print()\n",
        "  history['train_loss'].append(train_loss)\n",
        "  history['val_loss'].append(val_loss)\n",
        "  if val_loss < best_loss:\n",
        "    torch.save(best_model_path)\n",
        "    best_loss = val_loss"
      ],
      "id": "6UcIPfl8Uzna",
      "execution_count": null,
      "outputs": [
        {
          "output_type": "stream",
          "text": [
            "Epoch 1/3\n",
            "----------\n",
            "Train loss 0.008857043634135543\n",
            "Val   loss 0.016658725567162035\n",
            "\n",
            "Epoch 2/3\n",
            "----------\n",
            "Train loss 0.0070073600908674835\n",
            "Val   loss 0.014177622240036726\n",
            "\n",
            "Epoch 3/3\n",
            "----------\n",
            "Train loss 0.006500671149663894\n",
            "Val   loss 0.013224454112350941\n",
            "\n",
            "CPU times: user 18min 51s, sys: 17min 9s, total: 36min 1s\n",
            "Wall time: 37min 18s\n"
          ],
          "name": "stdout"
        }
      ]
    },
    {
      "cell_type": "code",
      "metadata": {
        "id": "gYwXx_vsdgfP",
        "colab": {
          "base_uri": "https://localhost:8080/",
          "height": 295
        },
        "outputId": "9a6f80dd-5fca-48bc-d771-0e02168b14e4"
      },
      "source": [
        "# Plot graphs \n",
        "plt.plot(history['train_loss'], label='train loss')\n",
        "plt.plot(history['val_loss'], label='validation loss')\n",
        "plt.title('Training history')\n",
        "plt.ylabel('Loss')\n",
        "plt.xlabel('Epoch')\n",
        "plt.legend()\n",
        "plt.ylim([0, 0.02]);"
      ],
      "id": "gYwXx_vsdgfP",
      "execution_count": null,
      "outputs": [
        {
          "output_type": "display_data",
          "data": {
            "image/png": "[encoded data removed]",
            "text/plain": [
              "<Figure size 432x288 with 1 Axes>"
            ]
          },
          "metadata": {
            "tags": [],
            "needs_background": "light"
          }
        }
      ]
    },
    {
      "cell_type": "markdown",
      "metadata": {
        "id": "vIrZTkIoxMsG"
      },
      "source": [
        "### Generating predictions and metrics"
      ],
      "id": "vIrZTkIoxMsG"
    },
    {
      "cell_type": "code",
      "metadata": {
        "colab": {
          "base_uri": "https://localhost:8080/",
          "height": 66,
          "referenced_widgets": [
            "a732c4ce5c42479fa57c378a48d3980c",
            "756f80078e08493ab95463ec19e8b94f",
            "f314583a8db94152a85d3886bd76f8fc",
            "c12fd71cb4dc4cc3bd80c4b138181c10",
            "58f2c3b5e1a14b2c81c850974ec07149",
            "0eb7194d7c8440e794d9fb2b1503d844",
            "bdc901b3b2814a1dbdae99fa802a16c7",
            "f053187afc35473ba31d31906326beb9"
          ]
        },
        "id": "iBqTYThop1P4",
        "outputId": "d6bcee56-f5f5-48fe-d0fd-093d93605268"
      },
      "source": [
        "# Load pretrained model\n",
        "model = MonoTransQuest(config)\n",
        "model.load_state_dict(torch.load(best_model_path))\n",
        "model = model.to(device)"
      ],
      "id": "iBqTYThop1P4",
      "execution_count": null,
      "outputs": [
        {
          "output_type": "display_data",
          "data": {
            "application/vnd.jupyter.widget-view+json": {
              "model_id": "a732c4ce5c42479fa57c378a48d3980c",
              "version_minor": 0,
              "version_major": 2
            },
            "text/plain": [
              "HBox(children=(FloatProgress(value=0.0, description='Downloading', max=2244861551.0, style=ProgressStyle(descr…"
            ]
          },
          "metadata": {
            "tags": []
          }
        },
        {
          "output_type": "stream",
          "text": [
            "\n"
          ],
          "name": "stdout"
        }
      ]
    },
    {
      "cell_type": "code",
      "metadata": {
        "id": "w5cMbbkxxG9M"
      },
      "source": [
        "# Function to calculate predictions on test set\n",
        "def get_predictions(model, data_loader):\n",
        "  model = model.eval()\n",
        "  predictions = []\n",
        "  real_values = []\n",
        "  originals = []\n",
        "  translations = []\n",
        "\n",
        "  with torch.no_grad():\n",
        "    for d in data_loader:\n",
        "      ori = d[\"original_text\"]\n",
        "      trans = d[\"translation_text\"]\n",
        "      input_ids = d[\"input_ids\"].to(device)\n",
        "      attention_mask = d[\"attention_mask\"].to(device)\n",
        "      labels = torch.unsqueeze(d[\"label\"], 1)\n",
        "      labels = labels.float()\n",
        "      labels = labels.to(device)\n",
        "      preds = model(\n",
        "        input_ids=input_ids,\n",
        "        attention_mask=attention_mask\n",
        "      )\n",
        "      originals.extend(ori)\n",
        "      translations.extend(trans)\n",
        "      predictions.extend(preds)\n",
        "      real_values.extend(labels)\n",
        "  predictions = torch.stack(predictions).cpu()\n",
        "  real_values = torch.stack(real_values).cpu()\n",
        "  return originals, translations, predictions, real_values"
      ],
      "id": "w5cMbbkxxG9M",
      "execution_count": null,
      "outputs": []
    },
    {
      "cell_type": "code",
      "metadata": {
        "id": "y0vpYzeq08U7"
      },
      "source": [
        "# Get predictions \n",
        "originals, translations, predictions, real_values = get_predictions(model,test_data_loader)\n",
        "\n",
        "preds = predictions.numpy().squeeze()\n",
        "labels = real_values.numpy().squeeze()\n",
        "original = np.array(originals)\n",
        "translation = np.array(translations)\n",
        "\n",
        "df_results = pd.DataFrame()\n",
        "df_results['original'] = original\n",
        "df_results['translation'] = translation\n",
        "df_results['z_mean'] = labels\n",
        "df_results['pred_zscore'] = preds\n",
        "\n",
        "df_results = un_fit(df_results, 'pred_zscore')\n",
        "\n",
        "df_results.head(30)"
      ],
      "id": "y0vpYzeq08U7",
      "execution_count": null,
      "outputs": []
    },
    {
      "cell_type": "code",
      "metadata": {
        "colab": {
          "base_uri": "https://localhost:8080/"
        },
        "id": "J5v5AaJNExwa",
        "outputId": "c2ec448d-fe33-43ca-a877-ae5fe1f59d97"
      },
      "source": [
        "# Get evaluation metrics\n",
        "pearson, _ = stats.pearsonr(df_results['pred_zscore'], df_results['z_mean'])\n",
        "rmse = mean_squared_error(df_results['z_mean'], df_results['pred_zscore'], squared=False)\n",
        "mae = mean_absolute_error(df_results['z_mean'], df_results['pred_zscore'])\n",
        "print(\"Pearson: {}\".format(pearson))\n",
        "print(\"RMSE: {}\".format(rmse))\n",
        "print(\"MAE: {}\".format(mae))\n"
      ],
      "id": "J5v5AaJNExwa",
      "execution_count": null,
      "outputs": [
        {
          "output_type": "stream",
          "text": [
            "Pearson: 0.4660245942531315\n",
            "RMSE: 0.6782948958683707\n",
            "MAE: 0.5507497930966654\n"
          ],
          "name": "stdout"
        }
      ]
    },
    {
      "cell_type": "code",
      "metadata": {
        "id": "BKLfl0dexpll"
      },
      "source": [
        "# Save predictions to tsv\n",
        "df_results.to_csv(results_path, sep = '\\t', index=False)"
      ],
      "id": "BKLfl0dexpll",
      "execution_count": null,
      "outputs": []
    }
  ]
}