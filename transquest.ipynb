{
  "nbformat": 4,
  "nbformat_minor": 5,
  "metadata": {
    "kernelspec": {
      "name": "python3",
      "display_name": "Python 3"
    },
    "colab": {
      "name": "transquest.ipynb",
      "provenance": [],
      "collapsed_sections": [],
      "toc_visible": true,
      "include_colab_link": true
    },
    "language_info": {
      "name": "python"
    },
    "accelerator": "GPU",
    "widgets": {
      "application/vnd.jupyter.widget-state+json": {
        "a732c4ce5c42479fa57c378a48d3980c": {
          "model_module": "@jupyter-widgets/controls",
          "model_name": "HBoxModel",
          "state": {
            "_view_name": "HBoxView",
            "_dom_classes": [],
            "_model_name": "HBoxModel",
            "_view_module": "@jupyter-widgets/controls",
            "_model_module_version": "1.5.0",
            "_view_count": null,
            "_view_module_version": "1.5.0",
            "box_style": "",
            "layout": "IPY_MODEL_756f80078e08493ab95463ec19e8b94f",
            "_model_module": "@jupyter-widgets/controls",
            "children": [
              "IPY_MODEL_f314583a8db94152a85d3886bd76f8fc",
              "IPY_MODEL_c12fd71cb4dc4cc3bd80c4b138181c10"
            ]
          }
        },
        "756f80078e08493ab95463ec19e8b94f": {
          "model_module": "@jupyter-widgets/base",
          "model_name": "LayoutModel",
          "state": {
            "_view_name": "LayoutView",
            "grid_template_rows": null,
            "right": null,
            "justify_content": null,
            "_view_module": "@jupyter-widgets/base",
            "overflow": null,
            "_model_module_version": "1.2.0",
            "_view_count": null,
            "flex_flow": null,
            "width": null,
            "min_width": null,
            "border": null,
            "align_items": null,
            "bottom": null,
            "_model_module": "@jupyter-widgets/base",
            "top": null,
            "grid_column": null,
            "overflow_y": null,
            "overflow_x": null,
            "grid_auto_flow": null,
            "grid_area": null,
            "grid_template_columns": null,
            "flex": null,
            "_model_name": "LayoutModel",
            "justify_items": null,
            "grid_row": null,
            "max_height": null,
            "align_content": null,
            "visibility": null,
            "align_self": null,
            "height": null,
            "min_height": null,
            "padding": null,
            "grid_auto_rows": null,
            "grid_gap": null,
            "max_width": null,
            "order": null,
            "_view_module_version": "1.2.0",
            "grid_template_areas": null,
            "object_position": null,
            "object_fit": null,
            "grid_auto_columns": null,
            "margin": null,
            "display": null,
            "left": null
          }
        },
        "f314583a8db94152a85d3886bd76f8fc": {
          "model_module": "@jupyter-widgets/controls",
          "model_name": "FloatProgressModel",
          "state": {
            "_view_name": "ProgressView",
            "style": "IPY_MODEL_58f2c3b5e1a14b2c81c850974ec07149",
            "_dom_classes": [],
            "description": "Downloading: 100%",
            "_model_name": "FloatProgressModel",
            "bar_style": "success",
            "max": 2244861551,
            "_view_module": "@jupyter-widgets/controls",
            "_model_module_version": "1.5.0",
            "value": 2244861551,
            "_view_count": null,
            "_view_module_version": "1.5.0",
            "orientation": "horizontal",
            "min": 0,
            "description_tooltip": null,
            "_model_module": "@jupyter-widgets/controls",
            "layout": "IPY_MODEL_0eb7194d7c8440e794d9fb2b1503d844"
          }
        },
        "c12fd71cb4dc4cc3bd80c4b138181c10": {
          "model_module": "@jupyter-widgets/controls",
          "model_name": "HTMLModel",
          "state": {
            "_view_name": "HTMLView",
            "style": "IPY_MODEL_bdc901b3b2814a1dbdae99fa802a16c7",
            "_dom_classes": [],
            "description": "",
            "_model_name": "HTMLModel",
            "placeholder": "​",
            "_view_module": "@jupyter-widgets/controls",
            "_model_module_version": "1.5.0",
            "value": " 2.24G/2.24G [00:55&lt;00:00, 40.3MB/s]",
            "_view_count": null,
            "_view_module_version": "1.5.0",
            "description_tooltip": null,
            "_model_module": "@jupyter-widgets/controls",
            "layout": "IPY_MODEL_f053187afc35473ba31d31906326beb9"
          }
        },
        "58f2c3b5e1a14b2c81c850974ec07149": {
          "model_module": "@jupyter-widgets/controls",
          "model_name": "ProgressStyleModel",
          "state": {
            "_view_name": "StyleView",
            "_model_name": "ProgressStyleModel",
            "description_width": "initial",
            "_view_module": "@jupyter-widgets/base",
            "_model_module_version": "1.5.0",
            "_view_count": null,
            "_view_module_version": "1.2.0",
            "bar_color": null,
            "_model_module": "@jupyter-widgets/controls"
          }
        },
        "0eb7194d7c8440e794d9fb2b1503d844": {
          "model_module": "@jupyter-widgets/base",
          "model_name": "LayoutModel",
          "state": {
            "_view_name": "LayoutView",
            "grid_template_rows": null,
            "right": null,
            "justify_content": null,
            "_view_module": "@jupyter-widgets/base",
            "overflow": null,
            "_model_module_version": "1.2.0",
            "_view_count": null,
            "flex_flow": null,
            "width": null,
            "min_width": null,
            "border": null,
            "align_items": null,
            "bottom": null,
            "_model_module": "@jupyter-widgets/base",
            "top": null,
            "grid_column": null,
            "overflow_y": null,
            "overflow_x": null,
            "grid_auto_flow": null,
            "grid_area": null,
            "grid_template_columns": null,
            "flex": null,
            "_model_name": "LayoutModel",
            "justify_items": null,
            "grid_row": null,
            "max_height": null,
            "align_content": null,
            "visibility": null,
            "align_self": null,
            "height": null,
            "min_height": null,
            "padding": null,
            "grid_auto_rows": null,
            "grid_gap": null,
            "max_width": null,
            "order": null,
            "_view_module_version": "1.2.0",
            "grid_template_areas": null,
            "object_position": null,
            "object_fit": null,
            "grid_auto_columns": null,
            "margin": null,
            "display": null,
            "left": null
          }
        },
        "bdc901b3b2814a1dbdae99fa802a16c7": {
          "model_module": "@jupyter-widgets/controls",
          "model_name": "DescriptionStyleModel",
          "state": {
            "_view_name": "StyleView",
            "_model_name": "DescriptionStyleModel",
            "description_width": "",
            "_view_module": "@jupyter-widgets/base",
            "_model_module_version": "1.5.0",
            "_view_count": null,
            "_view_module_version": "1.2.0",
            "_model_module": "@jupyter-widgets/controls"
          }
        },
        "f053187afc35473ba31d31906326beb9": {
          "model_module": "@jupyter-widgets/base",
          "model_name": "LayoutModel",
          "state": {
            "_view_name": "LayoutView",
            "grid_template_rows": null,
            "right": null,
            "justify_content": null,
            "_view_module": "@jupyter-widgets/base",
            "overflow": null,
            "_model_module_version": "1.2.0",
            "_view_count": null,
            "flex_flow": null,
            "width": null,
            "min_width": null,
            "border": null,
            "align_items": null,
            "bottom": null,
            "_model_module": "@jupyter-widgets/base",
            "top": null,
            "grid_column": null,
            "overflow_y": null,
            "overflow_x": null,
            "grid_auto_flow": null,
            "grid_area": null,
            "grid_template_columns": null,
            "flex": null,
            "_model_name": "LayoutModel",
            "justify_items": null,
            "grid_row": null,
            "max_height": null,
            "align_content": null,
            "visibility": null,
            "align_self": null,
            "height": null,
            "min_height": null,
            "padding": null,
            "grid_auto_rows": null,
            "grid_gap": null,
            "max_width": null,
            "order": null,
            "_view_module_version": "1.2.0",
            "grid_template_areas": null,
            "object_position": null,
            "object_fit": null,
            "grid_auto_columns": null,
            "margin": null,
            "display": null,
            "left": null
          }
        }
      }
    }
  },
  "cells": [
    {
      "cell_type": "markdown",
      "metadata": {
        "id": "view-in-github",
        "colab_type": "text"
      },
      "source": [
        "<a href=\"https://colab.research.google.com/github/haleyrx/qe_project/blob/main/transquest.ipynb\" target=\"_parent\"><img src=\"https://colab.research.google.com/assets/colab-badge.svg\" alt=\"Open In Colab\"/></a>"
      ]
    },
    {
      "cell_type": "markdown",
      "metadata": {
        "id": "EPkGlI90jLv8"
      },
      "source": [
        "## **Prep**"
      ],
      "id": "EPkGlI90jLv8"
    },
    {
      "cell_type": "code",
      "metadata": {
        "colab": {
          "base_uri": "https://localhost:8080/"
        },
        "id": "_v8uSC_O3y3P",
        "outputId": "ffc42762-52b7-428d-d484-f26003c0fcb6"
      },
      "source": [
        "from google.colab import drive\n",
        "drive.mount('/content/gdrive')"
      ],
      "id": "_v8uSC_O3y3P",
      "execution_count": 2,
      "outputs": [
        {
          "output_type": "stream",
          "text": [
            "Mounted at /content/gdrive\n"
          ],
          "name": "stdout"
        }
      ]
    },
    {
      "cell_type": "code",
      "metadata": {
        "colab": {
          "base_uri": "https://localhost:8080/"
        },
        "id": "Dq8KdSHZ33KE",
        "outputId": "e2512140-a3a5-4e15-9ae0-0c3454b77bf5"
      },
      "source": [
        "%cd gdrive/MyDrive/CS7643"
      ],
      "id": "Dq8KdSHZ33KE",
      "execution_count": 7,
      "outputs": [
        {
          "output_type": "stream",
          "text": [
            "/content/gdrive/MyDrive/CS7643\n"
          ],
          "name": "stdout"
        }
      ]
    },
    {
      "cell_type": "code",
      "metadata": {
        "id": "1DgvOrJpMzT8",
        "colab": {
          "base_uri": "https://localhost:8080/"
        },
        "outputId": "3c80d095-12d1-47b8-eedb-82f8a7f548fa"
      },
      "source": [
        "# ! git clone https://2726c3be06d254f6092d9413236205338399aed0@github.com/haleyrx/qe_project"
      ],
      "id": "1DgvOrJpMzT8",
      "execution_count": null,
      "outputs": [
        {
          "output_type": "stream",
          "text": [
            "fatal: destination path 'qe_project' already exists and is not an empty directory.\n"
          ],
          "name": "stdout"
        }
      ]
    },
    {
      "cell_type": "code",
      "metadata": {
        "colab": {
          "base_uri": "https://localhost:8080/"
        },
        "id": "Orqmv_FO4UKR",
        "outputId": "cfb8f5c6-a20b-4bb4-e2e5-96fa6518a915"
      },
      "source": [
        "!ls"
      ],
      "id": "Orqmv_FO4UKR",
      "execution_count": 4,
      "outputs": [
        {
          "output_type": "stream",
          "text": [
            "colab_setup.ipynb  CS7643_HW4  qe_project\n"
          ],
          "name": "stdout"
        }
      ]
    },
    {
      "cell_type": "code",
      "metadata": {
        "colab": {
          "base_uri": "https://localhost:8080/"
        },
        "id": "8SPIeCW5391t",
        "outputId": "38b72a21-e3a9-4862-bf0b-55d07319a7d6"
      },
      "source": [
        "%cd qe_project\n",
        "# ! git pull"
      ],
      "id": "8SPIeCW5391t",
      "execution_count": 8,
      "outputs": [
        {
          "output_type": "stream",
          "text": [
            "/content/gdrive/MyDrive/CS7643/qe_project\n"
          ],
          "name": "stdout"
        }
      ]
    },
    {
      "cell_type": "code",
      "metadata": {
        "id": "10Fg1qM1NOnI",
        "colab": {
          "base_uri": "https://localhost:8080/"
        },
        "outputId": "061cd9e3-5185-4995-990e-9d7ff4d53cdd"
      },
      "source": [
        "!pip install sentencepiece\n",
        "!pip install transformers==3\n"
      ],
      "id": "10Fg1qM1NOnI",
      "execution_count": 5,
      "outputs": [
        {
          "output_type": "stream",
          "text": [
            "Requirement already satisfied: sentencepiece in /usr/local/lib/python3.7/dist-packages (0.1.95)\n",
            "Requirement already satisfied: transformers==3 in /usr/local/lib/python3.7/dist-packages (3.0.0)\n",
            "Requirement already satisfied: tqdm>=4.27 in /usr/local/lib/python3.7/dist-packages (from transformers==3) (4.41.1)\n",
            "Requirement already satisfied: filelock in /usr/local/lib/python3.7/dist-packages (from transformers==3) (3.0.12)\n",
            "Requirement already satisfied: sentencepiece in /usr/local/lib/python3.7/dist-packages (from transformers==3) (0.1.95)\n",
            "Requirement already satisfied: numpy in /usr/local/lib/python3.7/dist-packages (from transformers==3) (1.19.5)\n",
            "Requirement already satisfied: regex!=2019.12.17 in /usr/local/lib/python3.7/dist-packages (from transformers==3) (2019.12.20)\n",
            "Requirement already satisfied: packaging in /usr/local/lib/python3.7/dist-packages (from transformers==3) (20.9)\n",
            "Requirement already satisfied: requests in /usr/local/lib/python3.7/dist-packages (from transformers==3) (2.23.0)\n",
            "Requirement already satisfied: tokenizers==0.8.0-rc4 in /usr/local/lib/python3.7/dist-packages (from transformers==3) (0.8.0rc4)\n",
            "Requirement already satisfied: sacremoses in /usr/local/lib/python3.7/dist-packages (from transformers==3) (0.0.45)\n",
            "Requirement already satisfied: pyparsing>=2.0.2 in /usr/local/lib/python3.7/dist-packages (from packaging->transformers==3) (2.4.7)\n",
            "Requirement already satisfied: idna<3,>=2.5 in /usr/local/lib/python3.7/dist-packages (from requests->transformers==3) (2.10)\n",
            "Requirement already satisfied: urllib3!=1.25.0,!=1.25.1,<1.26,>=1.21.1 in /usr/local/lib/python3.7/dist-packages (from requests->transformers==3) (1.24.3)\n",
            "Requirement already satisfied: certifi>=2017.4.17 in /usr/local/lib/python3.7/dist-packages (from requests->transformers==3) (2020.12.5)\n",
            "Requirement already satisfied: chardet<4,>=3.0.2 in /usr/local/lib/python3.7/dist-packages (from requests->transformers==3) (3.0.4)\n",
            "Requirement already satisfied: click in /usr/local/lib/python3.7/dist-packages (from sacremoses->transformers==3) (7.1.2)\n",
            "Requirement already satisfied: joblib in /usr/local/lib/python3.7/dist-packages (from sacremoses->transformers==3) (1.0.1)\n",
            "Requirement already satisfied: six in /usr/local/lib/python3.7/dist-packages (from sacremoses->transformers==3) (1.15.0)\n"
          ],
          "name": "stdout"
        }
      ]
    },
    {
      "cell_type": "code",
      "metadata": {
        "id": "B2QTWHwjN8Lp",
        "colab": {
          "base_uri": "https://localhost:8080/"
        },
        "outputId": "f172c500-2c39-4985-89a5-1918014ae908"
      },
      "source": [
        "!nvidia-smi"
      ],
      "id": "B2QTWHwjN8Lp",
      "execution_count": 1,
      "outputs": [
        {
          "output_type": "stream",
          "text": [
            "Mon Apr 19 16:08:15 2021       \n",
            "+-----------------------------------------------------------------------------+\n",
            "| NVIDIA-SMI 460.67       Driver Version: 460.32.03    CUDA Version: 11.2     |\n",
            "|-------------------------------+----------------------+----------------------+\n",
            "| GPU  Name        Persistence-M| Bus-Id        Disp.A | Volatile Uncorr. ECC |\n",
            "| Fan  Temp  Perf  Pwr:Usage/Cap|         Memory-Usage | GPU-Util  Compute M. |\n",
            "|                               |                      |               MIG M. |\n",
            "|===============================+======================+======================|\n",
            "|   0  Tesla P100-PCIE...  Off  | 00000000:00:04.0 Off |                    0 |\n",
            "| N/A   38C    P0    27W / 250W |      0MiB / 16280MiB |      0%      Default |\n",
            "|                               |                      |                  N/A |\n",
            "+-------------------------------+----------------------+----------------------+\n",
            "                                                                               \n",
            "+-----------------------------------------------------------------------------+\n",
            "| Processes:                                                                  |\n",
            "|  GPU   GI   CI        PID   Type   Process name                  GPU Memory |\n",
            "|        ID   ID                                                   Usage      |\n",
            "|=============================================================================|\n",
            "|  No running processes found                                                 |\n",
            "+-----------------------------------------------------------------------------+\n"
          ],
          "name": "stdout"
        }
      ]
    },
    {
      "cell_type": "code",
      "metadata": {
        "id": "LE3G-EhYn5Pu",
        "colab": {
          "base_uri": "https://localhost:8080/",
          "height": 35
        },
        "outputId": "42c66b75-814a-4ea5-fc4f-dbf6f53e6457"
      },
      "source": [
        "%pwd"
      ],
      "id": "LE3G-EhYn5Pu",
      "execution_count": 6,
      "outputs": [
        {
          "output_type": "execute_result",
          "data": {
            "application/vnd.google.colaboratory.intrinsic+json": {
              "type": "string"
            },
            "text/plain": [
              "'/content'"
            ]
          },
          "metadata": {
            "tags": []
          },
          "execution_count": 6
        }
      ]
    },
    {
      "cell_type": "markdown",
      "metadata": {
        "id": "DFMB3O7ZtxF-"
      },
      "source": [
        "### Set up parameters"
      ],
      "id": "DFMB3O7ZtxF-"
    },
    {
      "cell_type": "code",
      "metadata": {
        "id": "6vSsgptt_vEe"
      },
      "source": [
        "SEED = 777\n",
        "RESULT_FILE = 'ne-en_result.tsv'\n",
        "METRICS_FILE = 'ne-en_metrics.txt'\n",
        "BEST_MODEL_FILE = 'ne-en_best_model.bin'\n",
        "MODEL_TYPE = 'xlmroberta'\n",
        "MODEL_NAME = 'xlm-roberta-large'\n",
        "TRAIN_DATA = 'ne-en/train.neen.df.short.tsv'\n",
        "DEV_DATA = 'ne-en/dev.neen.df.short.tsv'\n",
        "TEST_DATA = 'ne-en/test20.neen.df.short.tsv'\n",
        "\n",
        "# Model parameters\n",
        "args = {\n",
        "    'data_dir': './data/',\n",
        "    'output_dir': './results/',\n",
        "    'best_model_dir': './best_models/',\n",
        "  \n",
        "    'max_seq_length': 128,\n",
        "    'train_batch_size': 8,\n",
        "    'gradient_accumulation_steps': 1,\n",
        "    'eval_batch_size': 8,\n",
        "    'num_train_epochs': 3,\n",
        "    'weight_decay': 0,\n",
        "    'learning_rate': 1e-5,\n",
        "    'adam_epsilon': 1e-8,\n",
        "    'warmup_ratio': 0.1,\n",
        "    'warmup_steps': 0,\n",
        "    'max_grad_norm': 1.0,\n",
        "    \"manual_seed\": SEED,\n",
        "\n",
        "}"
      ],
      "id": "6vSsgptt_vEe",
      "execution_count": 13,
      "outputs": []
    },
    {
      "cell_type": "code",
      "metadata": {
        "id": "YYnB2vQpuAfR"
      },
      "source": [
        "# Get relevant paths\n",
        "\n",
        "import os \n",
        "\n",
        "train_path = os.path.join(args['data_dir'], TRAIN_DATA)\n",
        "dev_path = os.path.join(args['data_dir'], DEV_DATA)\n",
        "test_path = os.path.join(args['data_dir'], TEST_DATA)\n",
        "best_model_path = os.path.join(args['best_model_dir'], BEST_MODEL_FILE)\n",
        "results_path = os.path.join(args['output_dir'], RESULT_FILE)\n",
        "metrics_path = os.path.join(args['output_dir'], METRICS_FILE)\n"
      ],
      "id": "YYnB2vQpuAfR",
      "execution_count": 14,
      "outputs": []
    },
    {
      "cell_type": "code",
      "metadata": {
        "id": "BoQbUi9lrPph",
        "outputId": "8654bed3-5a4f-47b5-c84f-6c0f211132ec",
        "colab": {
          "base_uri": "https://localhost:8080/",
          "height": 35
        }
      },
      "source": [
        "train_path"
      ],
      "id": "BoQbUi9lrPph",
      "execution_count": 15,
      "outputs": [
        {
          "output_type": "execute_result",
          "data": {
            "application/vnd.google.colaboratory.intrinsic+json": {
              "type": "string"
            },
            "text/plain": [
              "'./data/ne-en/train.neen.df.short.tsv'"
            ]
          },
          "metadata": {
            "tags": []
          },
          "execution_count": 15
        }
      ]
    },
    {
      "cell_type": "markdown",
      "metadata": {
        "id": "HiL9PxhpjSkS"
      },
      "source": [
        "## Read in Data"
      ],
      "id": "HiL9PxhpjSkS"
    },
    {
      "cell_type": "code",
      "metadata": {
        "id": "UoauqED0Drop"
      },
      "source": [
        "import csv\n",
        "import pandas as pd\n",
        "\n",
        "# function adapted from https://github.com/TharinduDR/\n",
        "def read_file(path, index='index'):\n",
        "    indices = []\n",
        "    originals = []\n",
        "    translations = []\n",
        "    z_means = []\n",
        "    with open(path, mode='r', encoding='utf-8-sig') as csvfile:\n",
        "        reader = csv.DictReader(csvfile, delimiter='\\t', quoting=csv.QUOTE_NONE)\n",
        "        for row in reader:\n",
        "            indices.append(row[index])\n",
        "            originals.append(row['original'])\n",
        "            translations.append(row['translation'])\n",
        "            z_means.append(float(row['z_mean']))\n",
        "\n",
        "    return pd.DataFrame(\n",
        "        {'index': indices,\n",
        "         'original': originals,\n",
        "         'translation': translations,\n",
        "         'z_mean': z_means\n",
        "         })"
      ],
      "id": "UoauqED0Drop",
      "execution_count": 21,
      "outputs": []
    },
    {
      "cell_type": "code",
      "metadata": {
        "id": "IQW0bZbMmrac",
        "colab": {
          "base_uri": "https://localhost:8080/",
          "height": 204
        },
        "outputId": "ffa7f22b-7e79-4969-d4c8-0c6f2f89a557"
      },
      "source": [
        "# import pandas as pd\n",
        "# df_train = pd.read_csv(train_path, sep='\\t', encoding='utf-8-sig')\n",
        "df_train = read_file(train_path)\n",
        "train = df_train[['original', 'translation', 'z_mean']]\n",
        "train.head()"
      ],
      "id": "IQW0bZbMmrac",
      "execution_count": 22,
      "outputs": [
        {
          "output_type": "execute_result",
          "data": {
            "text/html": [
              "<div>\n",
              "<style scoped>\n",
              "    .dataframe tbody tr th:only-of-type {\n",
              "        vertical-align: middle;\n",
              "    }\n",
              "\n",
              "    .dataframe tbody tr th {\n",
              "        vertical-align: top;\n",
              "    }\n",
              "\n",
              "    .dataframe thead th {\n",
              "        text-align: right;\n",
              "    }\n",
              "</style>\n",
              "<table border=\"1\" class=\"dataframe\">\n",
              "  <thead>\n",
              "    <tr style=\"text-align: right;\">\n",
              "      <th></th>\n",
              "      <th>original</th>\n",
              "      <th>translation</th>\n",
              "      <th>z_mean</th>\n",
              "    </tr>\n",
              "  </thead>\n",
              "  <tbody>\n",
              "    <tr>\n",
              "      <th>0</th>\n",
              "      <td>रैका भन्ने शब्दबाट रैकावर/रैका तप्पा नामाकरण भ...</td>\n",
              "      <td>Raikawar / Raika Tappa is named from the word ...</td>\n",
              "      <td>0.853093</td>\n",
              "    </tr>\n",
              "    <tr>\n",
              "      <th>1</th>\n",
              "      <td>यो कुरा हनुमानको पादपीठमा कुँदिएको अभिलेखबाट थ...</td>\n",
              "      <td>It is known from a recipe that is cooked in th...</td>\n",
              "      <td>-0.431285</td>\n",
              "    </tr>\n",
              "    <tr>\n",
              "      <th>2</th>\n",
              "      <td>प्रस्तुत काव्यमा छन्दशास्त्रीय नियमअनुसार ‘शिख...</td>\n",
              "      <td>According to the rosary rules in the present c...</td>\n",
              "      <td>-1.465843</td>\n",
              "    </tr>\n",
              "    <tr>\n",
              "      <th>3</th>\n",
              "      <td>सिन्धुलीमाढी शहरमा झन्डै ४० हजार मानीस बसोबास ...</td>\n",
              "      <td>Maanis live nearly 40 thousand in the city of ...</td>\n",
              "      <td>-0.516619</td>\n",
              "    </tr>\n",
              "    <tr>\n",
              "      <th>4</th>\n",
              "      <td>भगवान् शिवको हातमा रहेको त्रिशुल, बज्र आयुध नै...</td>\n",
              "      <td>The Tree, which is in the hands of the goddess...</td>\n",
              "      <td>-1.058211</td>\n",
              "    </tr>\n",
              "  </tbody>\n",
              "</table>\n",
              "</div>"
            ],
            "text/plain": [
              "                                            original  ...    z_mean\n",
              "0  रैका भन्ने शब्दबाट रैकावर/रैका तप्पा नामाकरण भ...  ...  0.853093\n",
              "1  यो कुरा हनुमानको पादपीठमा कुँदिएको अभिलेखबाट थ...  ... -0.431285\n",
              "2  प्रस्तुत काव्यमा छन्दशास्त्रीय नियमअनुसार ‘शिख...  ... -1.465843\n",
              "3  सिन्धुलीमाढी शहरमा झन्डै ४० हजार मानीस बसोबास ...  ... -0.516619\n",
              "4  भगवान् शिवको हातमा रहेको त्रिशुल, बज्र आयुध नै...  ... -1.058211\n",
              "\n",
              "[5 rows x 3 columns]"
            ]
          },
          "metadata": {
            "tags": []
          },
          "execution_count": 22
        }
      ]
    },
    {
      "cell_type": "code",
      "metadata": {
        "colab": {
          "base_uri": "https://localhost:8080/",
          "height": 204
        },
        "id": "fPn0pdAv94XL",
        "outputId": "cd1cbd23-326c-4d41-c774-e8922396d63e"
      },
      "source": [
        "# df_dev = pd.read_csv(dev_path,sep='\\t')\n",
        "df_dev = read_file(dev_path)\n",
        "dev = df_dev[['original', 'translation', 'z_mean']]\n",
        "dev.head()"
      ],
      "id": "fPn0pdAv94XL",
      "execution_count": 23,
      "outputs": [
        {
          "output_type": "execute_result",
          "data": {
            "text/html": [
              "<div>\n",
              "<style scoped>\n",
              "    .dataframe tbody tr th:only-of-type {\n",
              "        vertical-align: middle;\n",
              "    }\n",
              "\n",
              "    .dataframe tbody tr th {\n",
              "        vertical-align: top;\n",
              "    }\n",
              "\n",
              "    .dataframe thead th {\n",
              "        text-align: right;\n",
              "    }\n",
              "</style>\n",
              "<table border=\"1\" class=\"dataframe\">\n",
              "  <thead>\n",
              "    <tr style=\"text-align: right;\">\n",
              "      <th></th>\n",
              "      <th>original</th>\n",
              "      <th>translation</th>\n",
              "      <th>z_mean</th>\n",
              "    </tr>\n",
              "  </thead>\n",
              "  <tbody>\n",
              "    <tr>\n",
              "      <th>0</th>\n",
              "      <td>बौद्धहरु गुम्बा वा देवतालाई परिक्रमा गर्दा दाह...</td>\n",
              "      <td>Bonpos, if the inhabitants are gamblers or god...</td>\n",
              "      <td>-0.983843</td>\n",
              "    </tr>\n",
              "    <tr>\n",
              "      <th>1</th>\n",
              "      <td>त्यसै गरी वेदका उपवेदहरू निम्न अनुसार छन्ः ऋग्...</td>\n",
              "      <td>So far the subsidiaries of the altar are as fo...</td>\n",
              "      <td>0.333005</td>\n",
              "    </tr>\n",
              "    <tr>\n",
              "      <th>2</th>\n",
              "      <td>आधारभूत संरचनामा सुधारको बेला, यो उपेक्षा गरीर...</td>\n",
              "      <td>During improvements to the basic structure, it...</td>\n",
              "      <td>0.708585</td>\n",
              "    </tr>\n",
              "    <tr>\n",
              "      <th>3</th>\n",
              "      <td>दाजुभाइले निस्रोमा टक्राएको चामल र विभिन्न खान...</td>\n",
              "      <td>The brothers carry a trapped chamber and vario...</td>\n",
              "      <td>-0.379051</td>\n",
              "    </tr>\n",
              "    <tr>\n",
              "      <th>4</th>\n",
              "      <td>फिल्म र कुनिजले मिश्रित प्रतिक्रिया पाए पनि चल...</td>\n",
              "      <td>Although the film and kuniz received a mixed r...</td>\n",
              "      <td>2.510893</td>\n",
              "    </tr>\n",
              "  </tbody>\n",
              "</table>\n",
              "</div>"
            ],
            "text/plain": [
              "                                            original  ...    z_mean\n",
              "0  बौद्धहरु गुम्बा वा देवतालाई परिक्रमा गर्दा दाह...  ... -0.983843\n",
              "1  त्यसै गरी वेदका उपवेदहरू निम्न अनुसार छन्ः ऋग्...  ...  0.333005\n",
              "2  आधारभूत संरचनामा सुधारको बेला, यो उपेक्षा गरीर...  ...  0.708585\n",
              "3  दाजुभाइले निस्रोमा टक्राएको चामल र विभिन्न खान...  ... -0.379051\n",
              "4  फिल्म र कुनिजले मिश्रित प्रतिक्रिया पाए पनि चल...  ...  2.510893\n",
              "\n",
              "[5 rows x 3 columns]"
            ]
          },
          "metadata": {
            "tags": []
          },
          "execution_count": 23
        }
      ]
    },
    {
      "cell_type": "code",
      "metadata": {
        "colab": {
          "base_uri": "https://localhost:8080/",
          "height": 204
        },
        "id": "G19rmEtc-It0",
        "outputId": "43b13e9a-034b-4edd-a4e4-5cf9a09865ba"
      },
      "source": [
        "# df_test = pd.read_csv(test_path,sep='\\t')\n",
        "df_test = read_file(test_path)\n",
        "test = df_test[['original', 'translation', 'z_mean']]\n",
        "test.head()"
      ],
      "id": "G19rmEtc-It0",
      "execution_count": 24,
      "outputs": [
        {
          "output_type": "execute_result",
          "data": {
            "text/html": [
              "<div>\n",
              "<style scoped>\n",
              "    .dataframe tbody tr th:only-of-type {\n",
              "        vertical-align: middle;\n",
              "    }\n",
              "\n",
              "    .dataframe tbody tr th {\n",
              "        vertical-align: top;\n",
              "    }\n",
              "\n",
              "    .dataframe thead th {\n",
              "        text-align: right;\n",
              "    }\n",
              "</style>\n",
              "<table border=\"1\" class=\"dataframe\">\n",
              "  <thead>\n",
              "    <tr style=\"text-align: right;\">\n",
              "      <th></th>\n",
              "      <th>original</th>\n",
              "      <th>translation</th>\n",
              "      <th>z_mean</th>\n",
              "    </tr>\n",
              "  </thead>\n",
              "  <tbody>\n",
              "    <tr>\n",
              "      <th>0</th>\n",
              "      <td>कोशी  अन्चल अस्पतालका साथै केही सामुदायीक तथा ...</td>\n",
              "      <td>Some community and private health institutions...</td>\n",
              "      <td>1.125492</td>\n",
              "    </tr>\n",
              "    <tr>\n",
              "      <th>1</th>\n",
              "      <td>विक्रम सम्वत२०३६ पछिको कथालेखन काललाई समसामयिक...</td>\n",
              "      <td>While the storytelling calculations after the ...</td>\n",
              "      <td>-0.561816</td>\n",
              "    </tr>\n",
              "    <tr>\n",
              "      <th>2</th>\n",
              "      <td>तथापी, उनले आफ्नो अधिकांश आविष्कारहरू बाहिर प्...</td>\n",
              "      <td>Nevertheless, many stole his inventions becaus...</td>\n",
              "      <td>0.179027</td>\n",
              "    </tr>\n",
              "    <tr>\n",
              "      <th>3</th>\n",
              "      <td>यस्तै अङ्गीरसमा करुण रसको कुरा उल्लेख नगर्नाले...</td>\n",
              "      <td>Similar to Angirus, not mentioning the Caribbe...</td>\n",
              "      <td>-0.194699</td>\n",
              "    </tr>\n",
              "    <tr>\n",
              "      <th>4</th>\n",
              "      <td>पछिल्लो समयमा सारावली, मानसागरी, जातकतत्व, भृग...</td>\n",
              "      <td>In later times, there have been sufficient chr...</td>\n",
              "      <td>0.363625</td>\n",
              "    </tr>\n",
              "  </tbody>\n",
              "</table>\n",
              "</div>"
            ],
            "text/plain": [
              "                                            original  ...    z_mean\n",
              "0  कोशी  अन्चल अस्पतालका साथै केही सामुदायीक तथा ...  ...  1.125492\n",
              "1  विक्रम सम्वत२०३६ पछिको कथालेखन काललाई समसामयिक...  ... -0.561816\n",
              "2  तथापी, उनले आफ्नो अधिकांश आविष्कारहरू बाहिर प्...  ...  0.179027\n",
              "3  यस्तै अङ्गीरसमा करुण रसको कुरा उल्लेख नगर्नाले...  ... -0.194699\n",
              "4  पछिल्लो समयमा सारावली, मानसागरी, जातकतत्व, भृग...  ...  0.363625\n",
              "\n",
              "[5 rows x 3 columns]"
            ]
          },
          "metadata": {
            "tags": []
          },
          "execution_count": 24
        }
      ]
    },
    {
      "cell_type": "code",
      "metadata": {
        "id": "AwDjf70J-lMB"
      },
      "source": [
        "train = train.rename(columns={'original': 'text_a', 'translation': 'text_b', 'z_mean': 'labels'}).dropna()\n",
        "dev = dev.rename(columns={'original': 'text_a', 'translation': 'text_b', 'z_mean': 'labels'}).dropna()\n",
        "test = test.rename(columns={'original': 'text_a', 'translation': 'text_b', 'z_mean': 'labels'}).dropna()"
      ],
      "id": "AwDjf70J-lMB",
      "execution_count": 15,
      "outputs": []
    },
    {
      "cell_type": "markdown",
      "metadata": {
        "id": "I_gKfdhChQaG"
      },
      "source": [
        "### Use sklearn to preprocess z-scores\n"
      ],
      "id": "I_gKfdhChQaG"
    },
    {
      "cell_type": "code",
      "metadata": {
        "id": "searching-equity"
      },
      "source": [
        "from sklearn import preprocessing\n",
        "min_max_scaler = preprocessing.MinMaxScaler()\n",
        "\n",
        "\n",
        "def fit(df, label):\n",
        "    x = df[[label]].values.astype(float)\n",
        "    x_scaled = min_max_scaler.fit_transform(x)\n",
        "    df[label] = x_scaled\n",
        "    return df\n",
        "\n",
        "\n",
        "def un_fit(df, label):\n",
        "    x = df[[label]].values.astype(float)\n",
        "    x_unscaled = min_max_scaler.inverse_transform(x)\n",
        "    df[label] = x_unscaled\n",
        "    return df"
      ],
      "id": "searching-equity",
      "execution_count": 16,
      "outputs": []
    },
    {
      "cell_type": "code",
      "metadata": {
        "id": "rcLQXavR_iY_"
      },
      "source": [
        "train = fit(train, 'labels')\n",
        "dev = fit(dev, 'labels')"
      ],
      "id": "rcLQXavR_iY_",
      "execution_count": 17,
      "outputs": []
    },
    {
      "cell_type": "markdown",
      "metadata": {
        "id": "Xpy69dtawS34"
      },
      "source": [
        "### Import packages"
      ],
      "id": "Xpy69dtawS34"
    },
    {
      "cell_type": "code",
      "metadata": {
        "id": "J7w7rmTrTcjv"
      },
      "source": [
        "import transformers\n",
        "from transformers import AdamW, get_linear_schedule_with_warmup\n",
        "from transformers import XLMRobertaConfig, XLMRobertaTokenizer, XLMRobertaForSequenceClassification, XLMRobertaModel\n",
        "import torch\n",
        "\n",
        "import numpy as np\n",
        "import pandas as pd\n",
        "from pylab import rcParams\n",
        "import matplotlib.pyplot as plt\n",
        "from matplotlib import rc\n",
        "from sklearn.metrics import mean_squared_error, mean_absolute_error\n",
        "from scipy import stats\n",
        "from collections import defaultdict\n",
        "from textwrap import wrap\n",
        "\n",
        "from torch import nn, optim\n",
        "from torch.utils.data import Dataset, DataLoader"
      ],
      "id": "J7w7rmTrTcjv",
      "execution_count": 18,
      "outputs": []
    },
    {
      "cell_type": "code",
      "metadata": {
        "colab": {
          "base_uri": "https://localhost:8080/"
        },
        "id": "MCiPHSh-TYta",
        "outputId": "fa3c040a-b1ad-4f8d-c3cb-b3fee52c8191"
      },
      "source": [
        "# Check device\n",
        "device = torch.device(\"cuda\" if torch.cuda.is_available() else \"cpu\")\n",
        "device"
      ],
      "id": "MCiPHSh-TYta",
      "execution_count": 19,
      "outputs": [
        {
          "output_type": "execute_result",
          "data": {
            "text/plain": [
              "device(type='cuda')"
            ]
          },
          "metadata": {
            "tags": []
          },
          "execution_count": 19
        }
      ]
    },
    {
      "cell_type": "markdown",
      "metadata": {
        "id": "zmgSEt44wp6p"
      },
      "source": [
        "### Download pretrained model"
      ],
      "id": "zmgSEt44wp6p"
    },
    {
      "cell_type": "code",
      "metadata": {
        "id": "50emkbPkUPnf"
      },
      "source": [
        "# Initialize config, tokenizer, and pretrained model\n",
        "MODEL_CLASSES = {'xlmroberta': (XLMRobertaConfig, XLMRobertaModel, XLMRobertaTokenizer)}\n",
        "\n",
        "config_class, model_class, tokenizer_class = MODEL_CLASSES[MODEL_TYPE]\n",
        "\n",
        "config = config_class.from_pretrained(MODEL_NAME, num_labels=1)\n",
        "tokenizer = tokenizer_class.from_pretrained(MODEL_NAME)"
      ],
      "id": "50emkbPkUPnf",
      "execution_count": 20,
      "outputs": []
    },
    {
      "cell_type": "markdown",
      "metadata": {
        "id": "n3rD10Qvwt6s"
      },
      "source": [
        "### Create data loader and load batches"
      ],
      "id": "n3rD10Qvwt6s"
    },
    {
      "cell_type": "code",
      "metadata": {
        "id": "wGNNC5auM2AN"
      },
      "source": [
        "class TranslationDataset(Dataset):\n",
        "  def __init__(self, text_a, text_b, labels, tokenizer, max_len):\n",
        "    self.text_a = text_a\n",
        "    self.text_b = text_b\n",
        "    self.labels = labels\n",
        "    self.tokenizer = tokenizer\n",
        "    self.max_len = max_len\n",
        "\n",
        "  def __len__(self):\n",
        "    return len(self.text_a)\n",
        "\n",
        "  def __getitem__(self, item):\n",
        "    original = str(self.text_a[item])\n",
        "    translation = str(self.text_b[item])\n",
        "    label = float(self.labels[item])\n",
        "    encoding = self.tokenizer.encode_plus(\n",
        "      original,\n",
        "      translation,\n",
        "      add_special_tokens=True,\n",
        "      max_length=self.max_len,\n",
        "      return_token_type_ids=False,\n",
        "      padding='max_length',\n",
        "      truncation=True,\n",
        "      return_attention_mask=True,\n",
        "      return_tensors='pt',\n",
        "    )\n",
        "\n",
        "    return {\n",
        "      'original_text': original,\n",
        "      'translation_text': translation,\n",
        "      'input_ids': encoding['input_ids'].flatten(),\n",
        "      'attention_mask': encoding['attention_mask'].flatten(),\n",
        "      'label': torch.tensor(label, dtype=torch.float32)\n",
        "    }"
      ],
      "id": "wGNNC5auM2AN",
      "execution_count": 21,
      "outputs": []
    },
    {
      "cell_type": "code",
      "metadata": {
        "id": "p5aGo74Il9ci"
      },
      "source": [
        "def create_data_loader(df, tokenizer, max_len, batch_size):\n",
        "  ds = TranslationDataset(\n",
        "    text_a=df.text_a.to_numpy(),\n",
        "    text_b=df.text_b.to_numpy(),\n",
        "    labels=df.labels.to_numpy(),\n",
        "    tokenizer=tokenizer,\n",
        "    max_len=max_len\n",
        "  )\n",
        "\n",
        "  return DataLoader(\n",
        "    ds,\n",
        "    batch_size=batch_size,\n",
        "    num_workers=2\n",
        "  )"
      ],
      "id": "p5aGo74Il9ci",
      "execution_count": 22,
      "outputs": []
    },
    {
      "cell_type": "code",
      "metadata": {
        "id": "6mgdstvfmxlv"
      },
      "source": [
        "train_data_loader = create_data_loader(train, tokenizer, args['max_seq_length'], args['train_batch_size'])\n",
        "dev_data_loader = create_data_loader(dev, tokenizer, args['max_seq_length'], args['train_batch_size'])\n",
        "test_data_loader = create_data_loader(test, tokenizer, args['max_seq_length'], args['train_batch_size'])"
      ],
      "id": "6mgdstvfmxlv",
      "execution_count": 23,
      "outputs": []
    },
    {
      "cell_type": "code",
      "metadata": {
        "colab": {
          "base_uri": "https://localhost:8080/"
        },
        "id": "EMGuqAFKokDS",
        "outputId": "898318b4-016c-485d-a47f-36f02a5f8846"
      },
      "source": [
        "data = next(iter(test_data_loader))\n",
        "data.keys()"
      ],
      "id": "EMGuqAFKokDS",
      "execution_count": 24,
      "outputs": [
        {
          "output_type": "execute_result",
          "data": {
            "text/plain": [
              "dict_keys(['original_text', 'translation_text', 'input_ids', 'attention_mask', 'label'])"
            ]
          },
          "metadata": {
            "tags": []
          },
          "execution_count": 24
        }
      ]
    },
    {
      "cell_type": "code",
      "metadata": {
        "colab": {
          "base_uri": "https://localhost:8080/"
        },
        "id": "dEZoT2t6pTTC",
        "outputId": "d0660134-5375-42d3-f7a9-c6984f8daa01"
      },
      "source": [
        "print(data['input_ids'].shape)\n",
        "print(data['attention_mask'].shape)\n",
        "print(data['label'].shape)"
      ],
      "id": "dEZoT2t6pTTC",
      "execution_count": 25,
      "outputs": [
        {
          "output_type": "stream",
          "text": [
            "torch.Size([8, 128])\n",
            "torch.Size([8, 128])\n",
            "torch.Size([8])\n"
          ],
          "name": "stdout"
        }
      ]
    },
    {
      "cell_type": "code",
      "metadata": {
        "colab": {
          "base_uri": "https://localhost:8080/"
        },
        "id": "IALZRIZF2F3H",
        "outputId": "e55a0bfe-62ec-4428-ac0f-3041b4788166"
      },
      "source": [
        "print(data['original_text'][0])\n",
        "print(data['label'][0].numpy())"
      ],
      "id": "IALZRIZF2F3H",
      "execution_count": 26,
      "outputs": [
        {
          "output_type": "stream",
          "text": [
            "Jocurile de oferă noi provocări pentru IA în domeniul teoriei jocurilor.\n",
            "0.3482595\n"
          ],
          "name": "stdout"
        }
      ]
    },
    {
      "cell_type": "markdown",
      "metadata": {
        "id": "hg_V0Zhhw6Ll"
      },
      "source": [
        "### Define MonoTransQuest Model"
      ],
      "id": "hg_V0Zhhw6Ll"
    },
    {
      "cell_type": "code",
      "metadata": {
        "id": "IElDL0WPuyK9"
      },
      "source": [
        "class MonoTransQuest(nn.Module):\n",
        "\n",
        "  def __init__(self, config):\n",
        "    super(MonoTransQuest, self).__init__()\n",
        "    self.model = model_class.from_pretrained(MODEL_NAME)\n",
        "    self.dense = nn.Linear(config.hidden_size, config.hidden_size)\n",
        "    self.dropout = nn.Dropout(config.hidden_dropout_prob)\n",
        "    self.out_proj = nn.Linear(config.hidden_size, config.num_labels)\n",
        "  \n",
        "  def forward(self, input_ids, attention_mask):\n",
        "    outputs = self.model(input_ids=input_ids, attention_mask=attention_mask)\n",
        "    sequence_output = outputs[0]\n",
        "    x = sequence_output[:, 0, :]  # take <s> token (equiv. to [CLS])\n",
        "    x = self.dropout(x)\n",
        "    x = self.dense(x)\n",
        "    x = torch.tanh(x)\n",
        "    x = self.dropout(x)\n",
        "    x = self.out_proj(x)\n",
        "\n",
        "    return torch.sigmoid(x)"
      ],
      "id": "IElDL0WPuyK9",
      "execution_count": 27,
      "outputs": []
    },
    {
      "cell_type": "code",
      "metadata": {
        "id": "f_QhuHSi0c14"
      },
      "source": [
        "model = MonoTransQuest(config)\n",
        "model = model.to(device)"
      ],
      "id": "f_QhuHSi0c14",
      "execution_count": 28,
      "outputs": []
    },
    {
      "cell_type": "markdown",
      "metadata": {
        "id": "43WheJVzxAIY"
      },
      "source": [
        "### Training"
      ],
      "id": "43WheJVzxAIY"
    },
    {
      "cell_type": "code",
      "metadata": {
        "id": "unX_3I59Oqml"
      },
      "source": [
        "import math\n",
        "\n",
        "t_total = len(train_data_loader) // args['gradient_accumulation_steps'] * args['num_train_epochs']\n",
        "warmup_steps = math.ceil(t_total * args['warmup_ratio'])\n",
        "args['warmup_steps'] = warmup_steps if args['warmup_steps'] == 0 else args['warmup_steps']\n",
        "\n",
        "optimizer = AdamW(model.parameters(), lr=args['learning_rate'], eps=args['adam_epsilon'])\n",
        "scheduler = get_linear_schedule_with_warmup(\n",
        "  optimizer,\n",
        "  num_warmup_steps=args['warmup_steps'], \n",
        "  num_training_steps=t_total\n",
        ")\n",
        "\n",
        "loss_fn = nn.MSELoss().to(device)"
      ],
      "id": "unX_3I59Oqml",
      "execution_count": 29,
      "outputs": []
    },
    {
      "cell_type": "code",
      "metadata": {
        "id": "Pd1kfrd1UPXT"
      },
      "source": [
        "def train_epoch(\n",
        "  model,\n",
        "  data_loader,\n",
        "  loss_fn,\n",
        "  optimizer,\n",
        "  device,\n",
        "  scheduler,\n",
        "  n_examples\n",
        "):\n",
        "  model = model.train()\n",
        "  losses = []\n",
        "  for d in data_loader:\n",
        "    input_ids = d[\"input_ids\"].to(device)\n",
        "    attention_mask = d[\"attention_mask\"].to(device)\n",
        "    labels = torch.unsqueeze(d[\"label\"], 1)\n",
        "    labels = labels.float()\n",
        "    labels = labels.to(device)\n",
        "    outputs = model(\n",
        "      input_ids=input_ids,\n",
        "      attention_mask=attention_mask\n",
        "    )\n",
        "    loss = loss_fn(outputs, labels)\n",
        "    losses.append(loss.item())\n",
        "    loss.backward()\n",
        "    nn.utils.clip_grad_norm_(model.parameters(), max_norm=args['max_grad_norm'])\n",
        "    optimizer.step()\n",
        "    scheduler.step()\n",
        "    optimizer.zero_grad()\n",
        "  return np.mean(losses)"
      ],
      "id": "Pd1kfrd1UPXT",
      "execution_count": 30,
      "outputs": []
    },
    {
      "cell_type": "code",
      "metadata": {
        "id": "8B8ctTAsUxsG"
      },
      "source": [
        "def eval_model(model, data_loader, loss_fn, device, n_examples):\n",
        "  model = model.eval()\n",
        "  losses = []\n",
        "  with torch.no_grad():\n",
        "    for d in data_loader:\n",
        "      input_ids = d[\"input_ids\"].to(device)\n",
        "      attention_mask = d[\"attention_mask\"].to(device)\n",
        "      labels = torch.unsqueeze(d[\"label\"], 1)\n",
        "      labels = labels.float()\n",
        "      labels = labels.to(device)\n",
        "      outputs = model(\n",
        "        input_ids=input_ids,\n",
        "        attention_mask=attention_mask\n",
        "      )\n",
        "      loss = loss_fn(outputs, labels)\n",
        "      losses.append(loss.item())\n",
        "  return np.mean(losses)"
      ],
      "id": "8B8ctTAsUxsG",
      "execution_count": 31,
      "outputs": []
    },
    {
      "cell_type": "code",
      "metadata": {
        "colab": {
          "base_uri": "https://localhost:8080/"
        },
        "id": "6UcIPfl8Uzna",
        "outputId": "80611f1a-d324-4d71-fae5-19538a030601"
      },
      "source": [
        "%%time\n",
        "\n",
        "history = defaultdict(list)\n",
        "best_loss = float('inf')\n",
        "for epoch in range(args['num_train_epochs']):\n",
        "  print(f'Epoch {epoch + 1}/{args[\"num_train_epochs\"]}')\n",
        "  print('-' * 10)\n",
        "  train_loss = train_epoch(\n",
        "    model,\n",
        "    train_data_loader,\n",
        "    loss_fn,\n",
        "    optimizer,\n",
        "    device,\n",
        "    scheduler,\n",
        "    len(df_train)\n",
        "  )\n",
        "  print(f'Train loss {train_loss}')\n",
        "  val_loss = eval_model(\n",
        "    model,\n",
        "    dev_data_loader,\n",
        "    loss_fn,\n",
        "    device,\n",
        "    len(df_dev)\n",
        "  )\n",
        "  print(f'Val   loss {val_loss}')\n",
        "  print()\n",
        "  history['train_loss'].append(train_loss)\n",
        "  history['val_loss'].append(val_loss)\n",
        "  if val_loss < best_loss:\n",
        "    torch.save(model.state_dict(), best_model_path)\n",
        "    best_loss = val_loss"
      ],
      "id": "6UcIPfl8Uzna",
      "execution_count": 32,
      "outputs": [
        {
          "output_type": "stream",
          "text": [
            "Epoch 1/3\n",
            "----------\n",
            "Train loss 0.04231612471926302\n",
            "Val   loss 0.02129944542365704\n",
            "\n",
            "Epoch 2/3\n",
            "----------\n",
            "Train loss 0.019759695528904164\n",
            "Val   loss 0.02346855099312961\n",
            "\n",
            "Epoch 3/3\n",
            "----------\n",
            "Train loss 0.013956073232169935\n",
            "Val   loss 0.017781193901196514\n",
            "\n",
            "CPU times: user 11min 20s, sys: 7min 48s, total: 19min 8s\n",
            "Wall time: 20min 1s\n"
          ],
          "name": "stdout"
        }
      ]
    },
    {
      "cell_type": "code",
      "metadata": {
        "id": "gYwXx_vsdgfP",
        "colab": {
          "base_uri": "https://localhost:8080/",
          "height": 295
        },
        "outputId": "40b3efde-e22d-46e3-925a-950415c64c82"
      },
      "source": [
        "# Plot graphs \n",
        "plt.plot(history['train_loss'], label='train loss')\n",
        "plt.plot(history['val_loss'], label='validation loss')\n",
        "plt.title('Training history')\n",
        "plt.ylabel('Loss')\n",
        "plt.xlabel('Epoch')\n",
        "plt.legend()\n",
        "plt.ylim([0, 0.09]);"
      ],
      "id": "gYwXx_vsdgfP",
      "execution_count": 33,
      "outputs": [
        {
          "output_type": "display_data",
          "data": {
            "image/png": "[encoded data removed]",
            "text/plain": [
              "<Figure size 432x288 with 1 Axes>"
            ]
          },
          "metadata": {
            "tags": [],
            "needs_background": "light"
          }
        }
      ]
    },
    {
      "cell_type": "markdown",
      "metadata": {
        "id": "vIrZTkIoxMsG"
      },
      "source": [
        "### Generating predictions and metrics"
      ],
      "id": "vIrZTkIoxMsG"
    },
    {
      "cell_type": "code",
      "metadata": {
        "colab": {
          "base_uri": "https://localhost:8080/",
          "height": 66,
          "referenced_widgets": [
            "a732c4ce5c42479fa57c378a48d3980c",
            "756f80078e08493ab95463ec19e8b94f",
            "f314583a8db94152a85d3886bd76f8fc",
            "c12fd71cb4dc4cc3bd80c4b138181c10",
            "58f2c3b5e1a14b2c81c850974ec07149",
            "0eb7194d7c8440e794d9fb2b1503d844",
            "bdc901b3b2814a1dbdae99fa802a16c7",
            "f053187afc35473ba31d31906326beb9"
          ]
        },
        "id": "iBqTYThop1P4",
        "outputId": "d6bcee56-f5f5-48fe-d0fd-093d93605268"
      },
      "source": [
        "# Load pretrained model\n",
        "model = MonoTransQuest(config)\n",
        "model.load_state_dict(torch.load(best_model_path))\n",
        "model = model.to(device)"
      ],
      "id": "iBqTYThop1P4",
      "execution_count": null,
      "outputs": [
        {
          "output_type": "display_data",
          "data": {
            "application/vnd.jupyter.widget-view+json": {
              "model_id": "a732c4ce5c42479fa57c378a48d3980c",
              "version_minor": 0,
              "version_major": 2
            },
            "text/plain": [
              "HBox(children=(FloatProgress(value=0.0, description='Downloading', max=2244861551.0, style=ProgressStyle(descr…"
            ]
          },
          "metadata": {
            "tags": []
          }
        },
        {
          "output_type": "stream",
          "text": [
            "\n"
          ],
          "name": "stdout"
        }
      ]
    },
    {
      "cell_type": "code",
      "metadata": {
        "id": "w5cMbbkxxG9M"
      },
      "source": [
        "# Function to calculate predictions on test set\n",
        "def get_predictions(model, data_loader):\n",
        "  model = model.eval()\n",
        "  predictions = []\n",
        "  real_values = []\n",
        "  originals = []\n",
        "  translations = []\n",
        "\n",
        "  with torch.no_grad():\n",
        "    for d in data_loader:\n",
        "      ori = d[\"original_text\"]\n",
        "      trans = d[\"translation_text\"]\n",
        "      input_ids = d[\"input_ids\"].to(device)\n",
        "      attention_mask = d[\"attention_mask\"].to(device)\n",
        "      labels = torch.unsqueeze(d[\"label\"], 1)\n",
        "      labels = labels.float()\n",
        "      labels = labels.to(device)\n",
        "      preds = model(\n",
        "        input_ids=input_ids,\n",
        "        attention_mask=attention_mask\n",
        "      )\n",
        "      originals.extend(ori)\n",
        "      translations.extend(trans)\n",
        "      predictions.extend(preds)\n",
        "      real_values.extend(labels)\n",
        "  predictions = torch.stack(predictions).cpu()\n",
        "  real_values = torch.stack(real_values).cpu()\n",
        "  return originals, translations, predictions, real_values"
      ],
      "id": "w5cMbbkxxG9M",
      "execution_count": 34,
      "outputs": []
    },
    {
      "cell_type": "code",
      "metadata": {
        "id": "y0vpYzeq08U7",
        "outputId": "56a99cbc-7f60-442f-ee2c-f34a54dd49d8",
        "colab": {
          "base_uri": "https://localhost:8080/",
          "height": 979
        }
      },
      "source": [
        "# Get predictions \n",
        "originals, translations, predictions, real_values = get_predictions(model,test_data_loader)\n",
        "\n",
        "preds = predictions.numpy().squeeze()\n",
        "labels = real_values.numpy().squeeze()\n",
        "original = np.array(originals)\n",
        "translation = np.array(translations)\n",
        "\n",
        "df_results = pd.DataFrame()\n",
        "df_results['original'] = original\n",
        "df_results['translation'] = translation\n",
        "df_results['z_mean'] = labels\n",
        "df_results['pred_zscore'] = preds\n",
        "\n",
        "df_results = un_fit(df_results, 'pred_zscore')\n",
        "\n",
        "df_results.head(30)"
      ],
      "id": "y0vpYzeq08U7",
      "execution_count": 35,
      "outputs": [
        {
          "output_type": "execute_result",
          "data": {
            "text/html": [
              "<div>\n",
              "<style scoped>\n",
              "    .dataframe tbody tr th:only-of-type {\n",
              "        vertical-align: middle;\n",
              "    }\n",
              "\n",
              "    .dataframe tbody tr th {\n",
              "        vertical-align: top;\n",
              "    }\n",
              "\n",
              "    .dataframe thead th {\n",
              "        text-align: right;\n",
              "    }\n",
              "</style>\n",
              "<table border=\"1\" class=\"dataframe\">\n",
              "  <thead>\n",
              "    <tr style=\"text-align: right;\">\n",
              "      <th></th>\n",
              "      <th>original</th>\n",
              "      <th>translation</th>\n",
              "      <th>z_mean</th>\n",
              "      <th>pred_zscore</th>\n",
              "    </tr>\n",
              "  </thead>\n",
              "  <tbody>\n",
              "    <tr>\n",
              "      <th>0</th>\n",
              "      <td>Jocurile de oferă noi provocări pentru IA în d...</td>\n",
              "      <td>Games provide new challenges for IA in the are...</td>\n",
              "      <td>0.348260</td>\n",
              "      <td>0.774597</td>\n",
              "    </tr>\n",
              "    <tr>\n",
              "      <th>1</th>\n",
              "      <td>Germanii au pierdut șansa distrugerii flotei d...</td>\n",
              "      <td>The Germans have lost the chance of destroying...</td>\n",
              "      <td>0.772494</td>\n",
              "      <td>0.833085</td>\n",
              "    </tr>\n",
              "    <tr>\n",
              "      <th>2</th>\n",
              "      <td>Nu toate lucrările lui Kafka sunt relatate îns...</td>\n",
              "      <td>Not all the work of Kafka is reported to the t...</td>\n",
              "      <td>0.723016</td>\n",
              "      <td>0.784927</td>\n",
              "    </tr>\n",
              "    <tr>\n",
              "      <th>3</th>\n",
              "      <td>Nu a menționat absolut nimic privind despăgubi...</td>\n",
              "      <td>He said absolutely nothing about war compensat...</td>\n",
              "      <td>0.802019</td>\n",
              "      <td>0.829134</td>\n",
              "    </tr>\n",
              "    <tr>\n",
              "      <th>4</th>\n",
              "      <td>Satul Livadia nu mai are un învățător stabil, ...</td>\n",
              "      <td>The Livadia village no longer has a permanent,...</td>\n",
              "      <td>-0.278231</td>\n",
              "      <td>-0.369657</td>\n",
              "    </tr>\n",
              "    <tr>\n",
              "      <th>5</th>\n",
              "      <td>Volscii, ernicii și equii au aderat la tratatu...</td>\n",
              "      <td>Volunteers, Eritreans and equii acceded to Spu...</td>\n",
              "      <td>-1.045913</td>\n",
              "      <td>-0.953594</td>\n",
              "    </tr>\n",
              "    <tr>\n",
              "      <th>6</th>\n",
              "      <td>Istoria evreilor Istoria Palestinei Conferința...</td>\n",
              "      <td>History of the Jews of Palestine Peace Confere...</td>\n",
              "      <td>0.409728</td>\n",
              "      <td>0.227077</td>\n",
              "    </tr>\n",
              "    <tr>\n",
              "      <th>7</th>\n",
              "      <td>Meciul fără reguli poate fi disputat între doi...</td>\n",
              "      <td>The machine without rules can be disputed betw...</td>\n",
              "      <td>-0.905103</td>\n",
              "      <td>-0.916730</td>\n",
              "    </tr>\n",
              "    <tr>\n",
              "      <th>8</th>\n",
              "      <td>Costa Blanca este foarte bine cunoscuta pentru...</td>\n",
              "      <td>Costa Blanca is well-known for her bland clima...</td>\n",
              "      <td>0.009572</td>\n",
              "      <td>0.518376</td>\n",
              "    </tr>\n",
              "    <tr>\n",
              "      <th>9</th>\n",
              "      <td>Mandatul de guvernator al lui Cezar a fost ext...</td>\n",
              "      <td>Cezar's term of office as Governor has been ex...</td>\n",
              "      <td>0.567059</td>\n",
              "      <td>0.827661</td>\n",
              "    </tr>\n",
              "    <tr>\n",
              "      <th>10</th>\n",
              "      <td>Unii dintre muzicienii clasici cei mai cunoscu...</td>\n",
              "      <td>Some of the world's best known traditional mus...</td>\n",
              "      <td>0.554547</td>\n",
              "      <td>0.581844</td>\n",
              "    </tr>\n",
              "    <tr>\n",
              "      <th>11</th>\n",
              "      <td>În 1790, populația Franței număra 27,9 milioan...</td>\n",
              "      <td>In 1790 the population of France counted 27,9 ...</td>\n",
              "      <td>0.915355</td>\n",
              "      <td>0.850208</td>\n",
              "    </tr>\n",
              "    <tr>\n",
              "      <th>12</th>\n",
              "      <td>West City Radio emite din anul 1995, când a pr...</td>\n",
              "      <td>West City Radio has issued its first broadcast...</td>\n",
              "      <td>-0.956602</td>\n",
              "      <td>0.655112</td>\n",
              "    </tr>\n",
              "    <tr>\n",
              "      <th>13</th>\n",
              "      <td>Jackson a susținut revizuirea ratelor taxelor ...</td>\n",
              "      <td>Jackson supported the review of the duty rates...</td>\n",
              "      <td>0.351990</td>\n",
              "      <td>-0.195415</td>\n",
              "    </tr>\n",
              "    <tr>\n",
              "      <th>14</th>\n",
              "      <td>Datorită varietății peisajelor culturale și na...</td>\n",
              "      <td>Due to the variety of cultural and natural lan...</td>\n",
              "      <td>-0.011331</td>\n",
              "      <td>0.812379</td>\n",
              "    </tr>\n",
              "    <tr>\n",
              "      <th>15</th>\n",
              "      <td>mai este cunoscută și sub denumirea de Casa Do...</td>\n",
              "      <td>is still known as Casa Dobribán.</td>\n",
              "      <td>0.165889</td>\n",
              "      <td>0.700401</td>\n",
              "    </tr>\n",
              "    <tr>\n",
              "      <th>16</th>\n",
              "      <td>Rezultatul a fost pierderea restului teritorii...</td>\n",
              "      <td>The result was the loss of the remaining Portu...</td>\n",
              "      <td>0.876681</td>\n",
              "      <td>0.830479</td>\n",
              "    </tr>\n",
              "    <tr>\n",
              "      <th>17</th>\n",
              "      <td>Pe termen lung, tendința de creștere demografi...</td>\n",
              "      <td>In the long term, the demographic growth trend...</td>\n",
              "      <td>0.858505</td>\n",
              "      <td>0.821912</td>\n",
              "    </tr>\n",
              "    <tr>\n",
              "      <th>18</th>\n",
              "      <td>Prin Edictul de la Potsdam din 1685, Frederic ...</td>\n",
              "      <td>Through the Potsdam Edict of 1685 Frederic Wil...</td>\n",
              "      <td>0.817198</td>\n",
              "      <td>0.687723</td>\n",
              "    </tr>\n",
              "    <tr>\n",
              "      <th>19</th>\n",
              "      <td>Cu toate acestea, rămâne o inegalitate în chel...</td>\n",
              "      <td>However, there remains an inequality in spendi...</td>\n",
              "      <td>0.833178</td>\n",
              "      <td>0.850088</td>\n",
              "    </tr>\n",
              "    <tr>\n",
              "      <th>20</th>\n",
              "      <td>Ceea ce reprezintă în continuare impedimente p...</td>\n",
              "      <td>This continues to hamper the relaunch of this ...</td>\n",
              "      <td>0.820279</td>\n",
              "      <td>0.824986</td>\n",
              "    </tr>\n",
              "    <tr>\n",
              "      <th>21</th>\n",
              "      <td>Unele dintre primele operațiuni de recucerire ...</td>\n",
              "      <td>Some of the reclaimed operations of Burmei too...</td>\n",
              "      <td>-0.640004</td>\n",
              "      <td>0.690308</td>\n",
              "    </tr>\n",
              "    <tr>\n",
              "      <th>22</th>\n",
              "      <td>Până la 1891, Valea Mare aparținea de comuna U...</td>\n",
              "      <td>Until 1891, Valea Mare belonged to the commune...</td>\n",
              "      <td>0.789141</td>\n",
              "      <td>0.385543</td>\n",
              "    </tr>\n",
              "    <tr>\n",
              "      <th>23</th>\n",
              "      <td>Condimentele, mirodeniile, joacă un rol centra...</td>\n",
              "      <td>Conditions, spices, play a central role in Chi...</td>\n",
              "      <td>-0.523529</td>\n",
              "      <td>0.131681</td>\n",
              "    </tr>\n",
              "    <tr>\n",
              "      <th>24</th>\n",
              "      <td>Așa cum au fost ele realizate cu o execuție fi...</td>\n",
              "      <td>As carried out with fine execution, they recal...</td>\n",
              "      <td>-0.559045</td>\n",
              "      <td>-0.504662</td>\n",
              "    </tr>\n",
              "    <tr>\n",
              "      <th>25</th>\n",
              "      <td>Cele mai cunoscute documentare realizate de re...</td>\n",
              "      <td>His humanitarian films about the people of Nub...</td>\n",
              "      <td>-0.482576</td>\n",
              "      <td>-0.514485</td>\n",
              "    </tr>\n",
              "    <tr>\n",
              "      <th>26</th>\n",
              "      <td>Un alt aeroport important este Aeroporto Inter...</td>\n",
              "      <td>Another major airport is Aeroporto Internacion...</td>\n",
              "      <td>1.044943</td>\n",
              "      <td>0.763189</td>\n",
              "    </tr>\n",
              "    <tr>\n",
              "      <th>27</th>\n",
              "      <td>Când natura invaziei germane a devenit evident...</td>\n",
              "      <td>When the nature of the German invasion became ...</td>\n",
              "      <td>0.805021</td>\n",
              "      <td>0.770484</td>\n",
              "    </tr>\n",
              "    <tr>\n",
              "      <th>28</th>\n",
              "      <td>grosimea simbolurilor literei lumina cunoștinț...</td>\n",
              "      <td>the thickness of the symbols of the letter lig...</td>\n",
              "      <td>-0.278397</td>\n",
              "      <td>0.213309</td>\n",
              "    </tr>\n",
              "    <tr>\n",
              "      <th>29</th>\n",
              "      <td>Alternativa ar fi fost declanșarea unui război...</td>\n",
              "      <td>The alternative would have been to trigger a w...</td>\n",
              "      <td>0.950789</td>\n",
              "      <td>0.853290</td>\n",
              "    </tr>\n",
              "  </tbody>\n",
              "</table>\n",
              "</div>"
            ],
            "text/plain": [
              "                                             original  ... pred_zscore\n",
              "0   Jocurile de oferă noi provocări pentru IA în d...  ...    0.774597\n",
              "1   Germanii au pierdut șansa distrugerii flotei d...  ...    0.833085\n",
              "2   Nu toate lucrările lui Kafka sunt relatate îns...  ...    0.784927\n",
              "3   Nu a menționat absolut nimic privind despăgubi...  ...    0.829134\n",
              "4   Satul Livadia nu mai are un învățător stabil, ...  ...   -0.369657\n",
              "5   Volscii, ernicii și equii au aderat la tratatu...  ...   -0.953594\n",
              "6   Istoria evreilor Istoria Palestinei Conferința...  ...    0.227077\n",
              "7   Meciul fără reguli poate fi disputat între doi...  ...   -0.916730\n",
              "8   Costa Blanca este foarte bine cunoscuta pentru...  ...    0.518376\n",
              "9   Mandatul de guvernator al lui Cezar a fost ext...  ...    0.827661\n",
              "10  Unii dintre muzicienii clasici cei mai cunoscu...  ...    0.581844\n",
              "11  În 1790, populația Franței număra 27,9 milioan...  ...    0.850208\n",
              "12  West City Radio emite din anul 1995, când a pr...  ...    0.655112\n",
              "13  Jackson a susținut revizuirea ratelor taxelor ...  ...   -0.195415\n",
              "14  Datorită varietății peisajelor culturale și na...  ...    0.812379\n",
              "15  mai este cunoscută și sub denumirea de Casa Do...  ...    0.700401\n",
              "16  Rezultatul a fost pierderea restului teritorii...  ...    0.830479\n",
              "17  Pe termen lung, tendința de creștere demografi...  ...    0.821912\n",
              "18  Prin Edictul de la Potsdam din 1685, Frederic ...  ...    0.687723\n",
              "19  Cu toate acestea, rămâne o inegalitate în chel...  ...    0.850088\n",
              "20  Ceea ce reprezintă în continuare impedimente p...  ...    0.824986\n",
              "21  Unele dintre primele operațiuni de recucerire ...  ...    0.690308\n",
              "22  Până la 1891, Valea Mare aparținea de comuna U...  ...    0.385543\n",
              "23  Condimentele, mirodeniile, joacă un rol centra...  ...    0.131681\n",
              "24  Așa cum au fost ele realizate cu o execuție fi...  ...   -0.504662\n",
              "25  Cele mai cunoscute documentare realizate de re...  ...   -0.514485\n",
              "26  Un alt aeroport important este Aeroporto Inter...  ...    0.763189\n",
              "27  Când natura invaziei germane a devenit evident...  ...    0.770484\n",
              "28  grosimea simbolurilor literei lumina cunoștinț...  ...    0.213309\n",
              "29  Alternativa ar fi fost declanșarea unui război...  ...    0.853290\n",
              "\n",
              "[30 rows x 4 columns]"
            ]
          },
          "metadata": {
            "tags": []
          },
          "execution_count": 35
        }
      ]
    },
    {
      "cell_type": "code",
      "metadata": {
        "colab": {
          "base_uri": "https://localhost:8080/"
        },
        "id": "J5v5AaJNExwa",
        "outputId": "dca6de87-fff4-4f7f-e31b-da24185d99b5"
      },
      "source": [
        "# Get evaluation metrics\n",
        "pearson, _ = stats.pearsonr(df_results['pred_zscore'], df_results['z_mean'])\n",
        "rmse = mean_squared_error(df_results['z_mean'], df_results['pred_zscore'], squared=False)\n",
        "mae = mean_absolute_error(df_results['z_mean'], df_results['pred_zscore'])\n",
        "print(\"Pearson: {}\".format(pearson))\n",
        "print(\"RMSE: {}\".format(rmse))\n",
        "print(\"MAE: {}\".format(mae))\n"
      ],
      "id": "J5v5AaJNExwa",
      "execution_count": 36,
      "outputs": [
        {
          "output_type": "stream",
          "text": [
            "Pearson: 0.8756013395476996\n",
            "RMSE: 0.4603537312381035\n",
            "MAE: 0.32472268850150554\n"
          ],
          "name": "stdout"
        }
      ]
    },
    {
      "cell_type": "code",
      "metadata": {
        "id": "BKLfl0dexpll"
      },
      "source": [
        "# Save predictions to tsv\n",
        "df_results.to_csv(results_path, sep = '\\t', index=False)"
      ],
      "id": "BKLfl0dexpll",
      "execution_count": 37,
      "outputs": []
    },
    {
      "cell_type": "code",
      "metadata": {
        "id": "fUmt0RcC4LYB"
      },
      "source": [
        ""
      ],
      "id": "fUmt0RcC4LYB",
      "execution_count": null,
      "outputs": []
    }
  ]
}