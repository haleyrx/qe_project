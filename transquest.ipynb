{
  "nbformat": 4,
  "nbformat_minor": 5,
  "metadata": {
    "kernelspec": {
      "name": "python3",
      "display_name": "Python 3"
    },
    "colab": {
      "name": "transquest.ipynb",
      "provenance": [],
      "collapsed_sections": [],
      "toc_visible": true,
      "include_colab_link": true
    },
    "language_info": {
      "name": "python"
    },
    "accelerator": "GPU",
    "widgets": {
      "application/vnd.jupyter.widget-state+json": {
        "a732c4ce5c42479fa57c378a48d3980c": {
          "model_module": "@jupyter-widgets/controls",
          "model_name": "HBoxModel",
          "state": {
            "_view_name": "HBoxView",
            "_dom_classes": [],
            "_model_name": "HBoxModel",
            "_view_module": "@jupyter-widgets/controls",
            "_model_module_version": "1.5.0",
            "_view_count": null,
            "_view_module_version": "1.5.0",
            "box_style": "",
            "layout": "IPY_MODEL_756f80078e08493ab95463ec19e8b94f",
            "_model_module": "@jupyter-widgets/controls",
            "children": [
              "IPY_MODEL_f314583a8db94152a85d3886bd76f8fc",
              "IPY_MODEL_c12fd71cb4dc4cc3bd80c4b138181c10"
            ]
          }
        },
        "756f80078e08493ab95463ec19e8b94f": {
          "model_module": "@jupyter-widgets/base",
          "model_name": "LayoutModel",
          "state": {
            "_view_name": "LayoutView",
            "grid_template_rows": null,
            "right": null,
            "justify_content": null,
            "_view_module": "@jupyter-widgets/base",
            "overflow": null,
            "_model_module_version": "1.2.0",
            "_view_count": null,
            "flex_flow": null,
            "width": null,
            "min_width": null,
            "border": null,
            "align_items": null,
            "bottom": null,
            "_model_module": "@jupyter-widgets/base",
            "top": null,
            "grid_column": null,
            "overflow_y": null,
            "overflow_x": null,
            "grid_auto_flow": null,
            "grid_area": null,
            "grid_template_columns": null,
            "flex": null,
            "_model_name": "LayoutModel",
            "justify_items": null,
            "grid_row": null,
            "max_height": null,
            "align_content": null,
            "visibility": null,
            "align_self": null,
            "height": null,
            "min_height": null,
            "padding": null,
            "grid_auto_rows": null,
            "grid_gap": null,
            "max_width": null,
            "order": null,
            "_view_module_version": "1.2.0",
            "grid_template_areas": null,
            "object_position": null,
            "object_fit": null,
            "grid_auto_columns": null,
            "margin": null,
            "display": null,
            "left": null
          }
        },
        "f314583a8db94152a85d3886bd76f8fc": {
          "model_module": "@jupyter-widgets/controls",
          "model_name": "FloatProgressModel",
          "state": {
            "_view_name": "ProgressView",
            "style": "IPY_MODEL_58f2c3b5e1a14b2c81c850974ec07149",
            "_dom_classes": [],
            "description": "Downloading: 100%",
            "_model_name": "FloatProgressModel",
            "bar_style": "success",
            "max": 2244861551,
            "_view_module": "@jupyter-widgets/controls",
            "_model_module_version": "1.5.0",
            "value": 2244861551,
            "_view_count": null,
            "_view_module_version": "1.5.0",
            "orientation": "horizontal",
            "min": 0,
            "description_tooltip": null,
            "_model_module": "@jupyter-widgets/controls",
            "layout": "IPY_MODEL_0eb7194d7c8440e794d9fb2b1503d844"
          }
        },
        "c12fd71cb4dc4cc3bd80c4b138181c10": {
          "model_module": "@jupyter-widgets/controls",
          "model_name": "HTMLModel",
          "state": {
            "_view_name": "HTMLView",
            "style": "IPY_MODEL_bdc901b3b2814a1dbdae99fa802a16c7",
            "_dom_classes": [],
            "description": "",
            "_model_name": "HTMLModel",
            "placeholder": "​",
            "_view_module": "@jupyter-widgets/controls",
            "_model_module_version": "1.5.0",
            "value": " 2.24G/2.24G [00:55&lt;00:00, 40.3MB/s]",
            "_view_count": null,
            "_view_module_version": "1.5.0",
            "description_tooltip": null,
            "_model_module": "@jupyter-widgets/controls",
            "layout": "IPY_MODEL_f053187afc35473ba31d31906326beb9"
          }
        },
        "58f2c3b5e1a14b2c81c850974ec07149": {
          "model_module": "@jupyter-widgets/controls",
          "model_name": "ProgressStyleModel",
          "state": {
            "_view_name": "StyleView",
            "_model_name": "ProgressStyleModel",
            "description_width": "initial",
            "_view_module": "@jupyter-widgets/base",
            "_model_module_version": "1.5.0",
            "_view_count": null,
            "_view_module_version": "1.2.0",
            "bar_color": null,
            "_model_module": "@jupyter-widgets/controls"
          }
        },
        "0eb7194d7c8440e794d9fb2b1503d844": {
          "model_module": "@jupyter-widgets/base",
          "model_name": "LayoutModel",
          "state": {
            "_view_name": "LayoutView",
            "grid_template_rows": null,
            "right": null,
            "justify_content": null,
            "_view_module": "@jupyter-widgets/base",
            "overflow": null,
            "_model_module_version": "1.2.0",
            "_view_count": null,
            "flex_flow": null,
            "width": null,
            "min_width": null,
            "border": null,
            "align_items": null,
            "bottom": null,
            "_model_module": "@jupyter-widgets/base",
            "top": null,
            "grid_column": null,
            "overflow_y": null,
            "overflow_x": null,
            "grid_auto_flow": null,
            "grid_area": null,
            "grid_template_columns": null,
            "flex": null,
            "_model_name": "LayoutModel",
            "justify_items": null,
            "grid_row": null,
            "max_height": null,
            "align_content": null,
            "visibility": null,
            "align_self": null,
            "height": null,
            "min_height": null,
            "padding": null,
            "grid_auto_rows": null,
            "grid_gap": null,
            "max_width": null,
            "order": null,
            "_view_module_version": "1.2.0",
            "grid_template_areas": null,
            "object_position": null,
            "object_fit": null,
            "grid_auto_columns": null,
            "margin": null,
            "display": null,
            "left": null
          }
        },
        "bdc901b3b2814a1dbdae99fa802a16c7": {
          "model_module": "@jupyter-widgets/controls",
          "model_name": "DescriptionStyleModel",
          "state": {
            "_view_name": "StyleView",
            "_model_name": "DescriptionStyleModel",
            "description_width": "",
            "_view_module": "@jupyter-widgets/base",
            "_model_module_version": "1.5.0",
            "_view_count": null,
            "_view_module_version": "1.2.0",
            "_model_module": "@jupyter-widgets/controls"
          }
        },
        "f053187afc35473ba31d31906326beb9": {
          "model_module": "@jupyter-widgets/base",
          "model_name": "LayoutModel",
          "state": {
            "_view_name": "LayoutView",
            "grid_template_rows": null,
            "right": null,
            "justify_content": null,
            "_view_module": "@jupyter-widgets/base",
            "overflow": null,
            "_model_module_version": "1.2.0",
            "_view_count": null,
            "flex_flow": null,
            "width": null,
            "min_width": null,
            "border": null,
            "align_items": null,
            "bottom": null,
            "_model_module": "@jupyter-widgets/base",
            "top": null,
            "grid_column": null,
            "overflow_y": null,
            "overflow_x": null,
            "grid_auto_flow": null,
            "grid_area": null,
            "grid_template_columns": null,
            "flex": null,
            "_model_name": "LayoutModel",
            "justify_items": null,
            "grid_row": null,
            "max_height": null,
            "align_content": null,
            "visibility": null,
            "align_self": null,
            "height": null,
            "min_height": null,
            "padding": null,
            "grid_auto_rows": null,
            "grid_gap": null,
            "max_width": null,
            "order": null,
            "_view_module_version": "1.2.0",
            "grid_template_areas": null,
            "object_position": null,
            "object_fit": null,
            "grid_auto_columns": null,
            "margin": null,
            "display": null,
            "left": null
          }
        }
      }
    }
  },
  "cells": [
    {
      "cell_type": "markdown",
      "metadata": {
        "id": "view-in-github",
        "colab_type": "text"
      },
      "source": [
        "<a href=\"https://colab.research.google.com/github/haleyrx/qe_project/blob/main/transquest.ipynb\" target=\"_parent\"><img src=\"https://colab.research.google.com/assets/colab-badge.svg\" alt=\"Open In Colab\"/></a>"
      ]
    },
    {
      "cell_type": "markdown",
      "metadata": {
        "id": "EPkGlI90jLv8"
      },
      "source": [
        "## **Prep**"
      ],
      "id": "EPkGlI90jLv8"
    },
    {
      "cell_type": "code",
      "metadata": {
        "colab": {
          "base_uri": "https://localhost:8080/"
        },
        "id": "_v8uSC_O3y3P",
        "outputId": "c9de1691-4ff0-4dd6-fe1d-87d862153951"
      },
      "source": [
        "from google.colab import drive\n",
        "drive.mount('/content/gdrive')"
      ],
      "id": "_v8uSC_O3y3P",
      "execution_count": 1,
      "outputs": [
        {
          "output_type": "stream",
          "text": [
            "Mounted at /content/gdrive\n"
          ],
          "name": "stdout"
        }
      ]
    },
    {
      "cell_type": "code",
      "metadata": {
        "colab": {
          "base_uri": "https://localhost:8080/"
        },
        "id": "Dq8KdSHZ33KE",
        "outputId": "08528c3b-ab7c-4e10-9796-e036d623f23f"
      },
      "source": [
        "%cd gdrive/MyDrive/CS7643"
      ],
      "id": "Dq8KdSHZ33KE",
      "execution_count": 2,
      "outputs": [
        {
          "output_type": "stream",
          "text": [
            "/content/gdrive/MyDrive/CS7643\n"
          ],
          "name": "stdout"
        }
      ]
    },
    {
      "cell_type": "code",
      "metadata": {
        "id": "1DgvOrJpMzT8",
        "colab": {
          "base_uri": "https://localhost:8080/"
        },
        "outputId": "3c80d095-12d1-47b8-eedb-82f8a7f548fa"
      },
      "source": [
        "# ! git clone https://2726c3be06d254f6092d9413236205338399aed0@github.com/haleyrx/qe_project"
      ],
      "id": "1DgvOrJpMzT8",
      "execution_count": null,
      "outputs": [
        {
          "output_type": "stream",
          "text": [
            "fatal: destination path 'qe_project' already exists and is not an empty directory.\n"
          ],
          "name": "stdout"
        }
      ]
    },
    {
      "cell_type": "code",
      "metadata": {
        "colab": {
          "base_uri": "https://localhost:8080/"
        },
        "id": "Orqmv_FO4UKR",
        "outputId": "9a8935c4-cb5a-4720-c330-c3da8fcf51c9"
      },
      "source": [
        "!ls"
      ],
      "id": "Orqmv_FO4UKR",
      "execution_count": 3,
      "outputs": [
        {
          "output_type": "stream",
          "text": [
            "colab_setup.ipynb  CS7643_HW4  qe_project\n"
          ],
          "name": "stdout"
        }
      ]
    },
    {
      "cell_type": "code",
      "metadata": {
        "colab": {
          "base_uri": "https://localhost:8080/"
        },
        "id": "8SPIeCW5391t",
        "outputId": "6dd53daf-99d0-46f9-f30f-bc447e6f66b4"
      },
      "source": [
        "%cd qe_project\n",
        "# ! git pull"
      ],
      "id": "8SPIeCW5391t",
      "execution_count": 3,
      "outputs": [
        {
          "output_type": "stream",
          "text": [
            "/content/gdrive/MyDrive/CS7643/qe_project\n"
          ],
          "name": "stdout"
        }
      ]
    },
    {
      "cell_type": "code",
      "metadata": {
        "id": "10Fg1qM1NOnI",
        "colab": {
          "base_uri": "https://localhost:8080/"
        },
        "outputId": "10e4f483-c5dc-407a-eaca-ce40de0bc9cb"
      },
      "source": [
        "!pip install sentencepiece\n",
        "!pip install transformers==3\n"
      ],
      "id": "10Fg1qM1NOnI",
      "execution_count": 5,
      "outputs": [
        {
          "output_type": "stream",
          "text": [
            "Collecting sentencepiece\n",
            "\u001b[?25l  Downloading https://files.pythonhosted.org/packages/f5/99/e0808cb947ba10f575839c43e8fafc9cc44e4a7a2c8f79c60db48220a577/sentencepiece-0.1.95-cp37-cp37m-manylinux2014_x86_64.whl (1.2MB)\n",
            "\r\u001b[K     |▎                               | 10kB 19.9MB/s eta 0:00:01\r\u001b[K     |▌                               | 20kB 27.1MB/s eta 0:00:01\r\u001b[K     |▉                               | 30kB 21.7MB/s eta 0:00:01\r\u001b[K     |█                               | 40kB 23.5MB/s eta 0:00:01\r\u001b[K     |█▍                              | 51kB 16.5MB/s eta 0:00:01\r\u001b[K     |█▋                              | 61kB 17.4MB/s eta 0:00:01\r\u001b[K     |██                              | 71kB 17.2MB/s eta 0:00:01\r\u001b[K     |██▏                             | 81kB 18.3MB/s eta 0:00:01\r\u001b[K     |██▌                             | 92kB 17.6MB/s eta 0:00:01\r\u001b[K     |██▊                             | 102kB 17.7MB/s eta 0:00:01\r\u001b[K     |███                             | 112kB 17.7MB/s eta 0:00:01\r\u001b[K     |███▎                            | 122kB 17.7MB/s eta 0:00:01\r\u001b[K     |███▌                            | 133kB 17.7MB/s eta 0:00:01\r\u001b[K     |███▉                            | 143kB 17.7MB/s eta 0:00:01\r\u001b[K     |████                            | 153kB 17.7MB/s eta 0:00:01\r\u001b[K     |████▍                           | 163kB 17.7MB/s eta 0:00:01\r\u001b[K     |████▋                           | 174kB 17.7MB/s eta 0:00:01\r\u001b[K     |█████                           | 184kB 17.7MB/s eta 0:00:01\r\u001b[K     |█████▏                          | 194kB 17.7MB/s eta 0:00:01\r\u001b[K     |█████▌                          | 204kB 17.7MB/s eta 0:00:01\r\u001b[K     |█████▊                          | 215kB 17.7MB/s eta 0:00:01\r\u001b[K     |██████                          | 225kB 17.7MB/s eta 0:00:01\r\u001b[K     |██████▎                         | 235kB 17.7MB/s eta 0:00:01\r\u001b[K     |██████▌                         | 245kB 17.7MB/s eta 0:00:01\r\u001b[K     |██████▉                         | 256kB 17.7MB/s eta 0:00:01\r\u001b[K     |███████                         | 266kB 17.7MB/s eta 0:00:01\r\u001b[K     |███████▍                        | 276kB 17.7MB/s eta 0:00:01\r\u001b[K     |███████▋                        | 286kB 17.7MB/s eta 0:00:01\r\u001b[K     |████████                        | 296kB 17.7MB/s eta 0:00:01\r\u001b[K     |████████▏                       | 307kB 17.7MB/s eta 0:00:01\r\u001b[K     |████████▍                       | 317kB 17.7MB/s eta 0:00:01\r\u001b[K     |████████▊                       | 327kB 17.7MB/s eta 0:00:01\r\u001b[K     |█████████                       | 337kB 17.7MB/s eta 0:00:01\r\u001b[K     |█████████▎                      | 348kB 17.7MB/s eta 0:00:01\r\u001b[K     |█████████▌                      | 358kB 17.7MB/s eta 0:00:01\r\u001b[K     |█████████▉                      | 368kB 17.7MB/s eta 0:00:01\r\u001b[K     |██████████                      | 378kB 17.7MB/s eta 0:00:01\r\u001b[K     |██████████▍                     | 389kB 17.7MB/s eta 0:00:01\r\u001b[K     |██████████▋                     | 399kB 17.7MB/s eta 0:00:01\r\u001b[K     |███████████                     | 409kB 17.7MB/s eta 0:00:01\r\u001b[K     |███████████▏                    | 419kB 17.7MB/s eta 0:00:01\r\u001b[K     |███████████▍                    | 430kB 17.7MB/s eta 0:00:01\r\u001b[K     |███████████▊                    | 440kB 17.7MB/s eta 0:00:01\r\u001b[K     |████████████                    | 450kB 17.7MB/s eta 0:00:01\r\u001b[K     |████████████▎                   | 460kB 17.7MB/s eta 0:00:01\r\u001b[K     |████████████▌                   | 471kB 17.7MB/s eta 0:00:01\r\u001b[K     |████████████▉                   | 481kB 17.7MB/s eta 0:00:01\r\u001b[K     |█████████████                   | 491kB 17.7MB/s eta 0:00:01\r\u001b[K     |█████████████▍                  | 501kB 17.7MB/s eta 0:00:01\r\u001b[K     |█████████████▋                  | 512kB 17.7MB/s eta 0:00:01\r\u001b[K     |█████████████▉                  | 522kB 17.7MB/s eta 0:00:01\r\u001b[K     |██████████████▏                 | 532kB 17.7MB/s eta 0:00:01\r\u001b[K     |██████████████▍                 | 542kB 17.7MB/s eta 0:00:01\r\u001b[K     |██████████████▊                 | 552kB 17.7MB/s eta 0:00:01\r\u001b[K     |███████████████                 | 563kB 17.7MB/s eta 0:00:01\r\u001b[K     |███████████████▎                | 573kB 17.7MB/s eta 0:00:01\r\u001b[K     |███████████████▌                | 583kB 17.7MB/s eta 0:00:01\r\u001b[K     |███████████████▉                | 593kB 17.7MB/s eta 0:00:01\r\u001b[K     |████████████████                | 604kB 17.7MB/s eta 0:00:01\r\u001b[K     |████████████████▍               | 614kB 17.7MB/s eta 0:00:01\r\u001b[K     |████████████████▋               | 624kB 17.7MB/s eta 0:00:01\r\u001b[K     |████████████████▉               | 634kB 17.7MB/s eta 0:00:01\r\u001b[K     |█████████████████▏              | 645kB 17.7MB/s eta 0:00:01\r\u001b[K     |█████████████████▍              | 655kB 17.7MB/s eta 0:00:01\r\u001b[K     |█████████████████▊              | 665kB 17.7MB/s eta 0:00:01\r\u001b[K     |██████████████████              | 675kB 17.7MB/s eta 0:00:01\r\u001b[K     |██████████████████▎             | 686kB 17.7MB/s eta 0:00:01\r\u001b[K     |██████████████████▌             | 696kB 17.7MB/s eta 0:00:01\r\u001b[K     |██████████████████▉             | 706kB 17.7MB/s eta 0:00:01\r\u001b[K     |███████████████████             | 716kB 17.7MB/s eta 0:00:01\r\u001b[K     |███████████████████▎            | 727kB 17.7MB/s eta 0:00:01\r\u001b[K     |███████████████████▋            | 737kB 17.7MB/s eta 0:00:01\r\u001b[K     |███████████████████▉            | 747kB 17.7MB/s eta 0:00:01\r\u001b[K     |████████████████████▏           | 757kB 17.7MB/s eta 0:00:01\r\u001b[K     |████████████████████▍           | 768kB 17.7MB/s eta 0:00:01\r\u001b[K     |████████████████████▊           | 778kB 17.7MB/s eta 0:00:01\r\u001b[K     |█████████████████████           | 788kB 17.7MB/s eta 0:00:01\r\u001b[K     |█████████████████████▎          | 798kB 17.7MB/s eta 0:00:01\r\u001b[K     |█████████████████████▌          | 808kB 17.7MB/s eta 0:00:01\r\u001b[K     |█████████████████████▉          | 819kB 17.7MB/s eta 0:00:01\r\u001b[K     |██████████████████████          | 829kB 17.7MB/s eta 0:00:01\r\u001b[K     |██████████████████████▎         | 839kB 17.7MB/s eta 0:00:01\r\u001b[K     |██████████████████████▋         | 849kB 17.7MB/s eta 0:00:01\r\u001b[K     |██████████████████████▉         | 860kB 17.7MB/s eta 0:00:01\r\u001b[K     |███████████████████████▏        | 870kB 17.7MB/s eta 0:00:01\r\u001b[K     |███████████████████████▍        | 880kB 17.7MB/s eta 0:00:01\r\u001b[K     |███████████████████████▊        | 890kB 17.7MB/s eta 0:00:01\r\u001b[K     |████████████████████████        | 901kB 17.7MB/s eta 0:00:01\r\u001b[K     |████████████████████████▎       | 911kB 17.7MB/s eta 0:00:01\r\u001b[K     |████████████████████████▌       | 921kB 17.7MB/s eta 0:00:01\r\u001b[K     |████████████████████████▊       | 931kB 17.7MB/s eta 0:00:01\r\u001b[K     |█████████████████████████       | 942kB 17.7MB/s eta 0:00:01\r\u001b[K     |█████████████████████████▎      | 952kB 17.7MB/s eta 0:00:01\r\u001b[K     |█████████████████████████▋      | 962kB 17.7MB/s eta 0:00:01\r\u001b[K     |█████████████████████████▉      | 972kB 17.7MB/s eta 0:00:01\r\u001b[K     |██████████████████████████▏     | 983kB 17.7MB/s eta 0:00:01\r\u001b[K     |██████████████████████████▍     | 993kB 17.7MB/s eta 0:00:01\r\u001b[K     |██████████████████████████▊     | 1.0MB 17.7MB/s eta 0:00:01\r\u001b[K     |███████████████████████████     | 1.0MB 17.7MB/s eta 0:00:01\r\u001b[K     |███████████████████████████▎    | 1.0MB 17.7MB/s eta 0:00:01\r\u001b[K     |███████████████████████████▌    | 1.0MB 17.7MB/s eta 0:00:01\r\u001b[K     |███████████████████████████▊    | 1.0MB 17.7MB/s eta 0:00:01\r\u001b[K     |████████████████████████████    | 1.1MB 17.7MB/s eta 0:00:01\r\u001b[K     |████████████████████████████▎   | 1.1MB 17.7MB/s eta 0:00:01\r\u001b[K     |████████████████████████████▋   | 1.1MB 17.7MB/s eta 0:00:01\r\u001b[K     |████████████████████████████▉   | 1.1MB 17.7MB/s eta 0:00:01\r\u001b[K     |█████████████████████████████▏  | 1.1MB 17.7MB/s eta 0:00:01\r\u001b[K     |█████████████████████████████▍  | 1.1MB 17.7MB/s eta 0:00:01\r\u001b[K     |█████████████████████████████▊  | 1.1MB 17.7MB/s eta 0:00:01\r\u001b[K     |██████████████████████████████  | 1.1MB 17.7MB/s eta 0:00:01\r\u001b[K     |██████████████████████████████▏ | 1.1MB 17.7MB/s eta 0:00:01\r\u001b[K     |██████████████████████████████▌ | 1.1MB 17.7MB/s eta 0:00:01\r\u001b[K     |██████████████████████████████▊ | 1.2MB 17.7MB/s eta 0:00:01\r\u001b[K     |███████████████████████████████ | 1.2MB 17.7MB/s eta 0:00:01\r\u001b[K     |███████████████████████████████▎| 1.2MB 17.7MB/s eta 0:00:01\r\u001b[K     |███████████████████████████████▋| 1.2MB 17.7MB/s eta 0:00:01\r\u001b[K     |███████████████████████████████▉| 1.2MB 17.7MB/s eta 0:00:01\r\u001b[K     |████████████████████████████████| 1.2MB 17.7MB/s \n",
            "\u001b[?25hInstalling collected packages: sentencepiece\n",
            "Successfully installed sentencepiece-0.1.95\n",
            "Collecting transformers==3\n",
            "\u001b[?25l  Downloading https://files.pythonhosted.org/packages/9c/35/1c3f6e62d81f5f0daff1384e6d5e6c5758682a8357ebc765ece2b9def62b/transformers-3.0.0-py3-none-any.whl (754kB)\n",
            "\u001b[K     |████████████████████████████████| 757kB 18.5MB/s \n",
            "\u001b[?25hCollecting tokenizers==0.8.0-rc4\n",
            "\u001b[?25l  Downloading https://files.pythonhosted.org/packages/f7/82/0e82a95bd9db2b32569500cc1bb47aa7c4e0f57aa5e35cceba414096917b/tokenizers-0.8.0rc4-cp37-cp37m-manylinux1_x86_64.whl (3.0MB)\n",
            "\u001b[K     |████████████████████████████████| 3.0MB 55.5MB/s \n",
            "\u001b[?25hCollecting sacremoses\n",
            "\u001b[?25l  Downloading https://files.pythonhosted.org/packages/75/ee/67241dc87f266093c533a2d4d3d69438e57d7a90abb216fa076e7d475d4a/sacremoses-0.0.45-py3-none-any.whl (895kB)\n",
            "\u001b[K     |████████████████████████████████| 901kB 51.8MB/s \n",
            "\u001b[?25hRequirement already satisfied: filelock in /usr/local/lib/python3.7/dist-packages (from transformers==3) (3.0.12)\n",
            "Requirement already satisfied: packaging in /usr/local/lib/python3.7/dist-packages (from transformers==3) (20.9)\n",
            "Requirement already satisfied: requests in /usr/local/lib/python3.7/dist-packages (from transformers==3) (2.23.0)\n",
            "Requirement already satisfied: regex!=2019.12.17 in /usr/local/lib/python3.7/dist-packages (from transformers==3) (2019.12.20)\n",
            "Requirement already satisfied: tqdm>=4.27 in /usr/local/lib/python3.7/dist-packages (from transformers==3) (4.41.1)\n",
            "Requirement already satisfied: numpy in /usr/local/lib/python3.7/dist-packages (from transformers==3) (1.19.5)\n",
            "Requirement already satisfied: sentencepiece in /usr/local/lib/python3.7/dist-packages (from transformers==3) (0.1.95)\n",
            "Requirement already satisfied: click in /usr/local/lib/python3.7/dist-packages (from sacremoses->transformers==3) (7.1.2)\n",
            "Requirement already satisfied: joblib in /usr/local/lib/python3.7/dist-packages (from sacremoses->transformers==3) (1.0.1)\n",
            "Requirement already satisfied: six in /usr/local/lib/python3.7/dist-packages (from sacremoses->transformers==3) (1.15.0)\n",
            "Requirement already satisfied: pyparsing>=2.0.2 in /usr/local/lib/python3.7/dist-packages (from packaging->transformers==3) (2.4.7)\n",
            "Requirement already satisfied: urllib3!=1.25.0,!=1.25.1,<1.26,>=1.21.1 in /usr/local/lib/python3.7/dist-packages (from requests->transformers==3) (1.24.3)\n",
            "Requirement already satisfied: certifi>=2017.4.17 in /usr/local/lib/python3.7/dist-packages (from requests->transformers==3) (2020.12.5)\n",
            "Requirement already satisfied: chardet<4,>=3.0.2 in /usr/local/lib/python3.7/dist-packages (from requests->transformers==3) (3.0.4)\n",
            "Requirement already satisfied: idna<3,>=2.5 in /usr/local/lib/python3.7/dist-packages (from requests->transformers==3) (2.10)\n",
            "Installing collected packages: tokenizers, sacremoses, transformers\n",
            "Successfully installed sacremoses-0.0.45 tokenizers-0.8.0rc4 transformers-3.0.0\n"
          ],
          "name": "stdout"
        }
      ]
    },
    {
      "cell_type": "code",
      "metadata": {
        "id": "B2QTWHwjN8Lp",
        "colab": {
          "base_uri": "https://localhost:8080/"
        },
        "outputId": "7d120123-d286-4399-ca02-738933c98120"
      },
      "source": [
        "!nvidia-smi"
      ],
      "id": "B2QTWHwjN8Lp",
      "execution_count": 4,
      "outputs": [
        {
          "output_type": "stream",
          "text": [
            "Mon Apr 19 18:36:46 2021       \n",
            "+-----------------------------------------------------------------------------+\n",
            "| NVIDIA-SMI 460.67       Driver Version: 460.32.03    CUDA Version: 11.2     |\n",
            "|-------------------------------+----------------------+----------------------+\n",
            "| GPU  Name        Persistence-M| Bus-Id        Disp.A | Volatile Uncorr. ECC |\n",
            "| Fan  Temp  Perf  Pwr:Usage/Cap|         Memory-Usage | GPU-Util  Compute M. |\n",
            "|                               |                      |               MIG M. |\n",
            "|===============================+======================+======================|\n",
            "|   0  Tesla T4            Off  | 00000000:00:04.0 Off |                    0 |\n",
            "| N/A   69C    P8    11W /  70W |      0MiB / 15109MiB |      0%      Default |\n",
            "|                               |                      |                  N/A |\n",
            "+-------------------------------+----------------------+----------------------+\n",
            "                                                                               \n",
            "+-----------------------------------------------------------------------------+\n",
            "| Processes:                                                                  |\n",
            "|  GPU   GI   CI        PID   Type   Process name                  GPU Memory |\n",
            "|        ID   ID                                                   Usage      |\n",
            "|=============================================================================|\n",
            "|  No running processes found                                                 |\n",
            "+-----------------------------------------------------------------------------+\n"
          ],
          "name": "stdout"
        }
      ]
    },
    {
      "cell_type": "code",
      "metadata": {
        "id": "LE3G-EhYn5Pu",
        "colab": {
          "base_uri": "https://localhost:8080/",
          "height": 35
        },
        "outputId": "76d75a6e-263d-4439-f088-92e8d891a58d"
      },
      "source": [
        "%pwd"
      ],
      "id": "LE3G-EhYn5Pu",
      "execution_count": 5,
      "outputs": [
        {
          "output_type": "execute_result",
          "data": {
            "application/vnd.google.colaboratory.intrinsic+json": {
              "type": "string"
            },
            "text/plain": [
              "'/content/gdrive/MyDrive/CS7643/qe_project'"
            ]
          },
          "metadata": {
            "tags": []
          },
          "execution_count": 5
        }
      ]
    },
    {
      "cell_type": "markdown",
      "metadata": {
        "id": "DFMB3O7ZtxF-"
      },
      "source": [
        "### Set up parameters"
      ],
      "id": "DFMB3O7ZtxF-"
    },
    {
      "cell_type": "code",
      "metadata": {
        "id": "6vSsgptt_vEe"
      },
      "source": [
        "SEED = 777\n",
        "RESULT_FILE = 'si-en_result.tsv'\n",
        "METRICS_FILE = 'si-en_metrics.txt'\n",
        "BEST_MODEL_FILE = 'si-en_best_model.bin'\n",
        "MODEL_TYPE = 'xlmroberta'\n",
        "MODEL_NAME = 'xlm-roberta-large'\n",
        "TRAIN_DATA = 'si-en/train.sien.df.short.tsv'\n",
        "DEV_DATA = 'si-en/dev.sien.df.short.tsv'\n",
        "TEST_DATA = 'si-en/test20.sien.df.short.tsv'\n",
        "\n",
        "# Model parameters\n",
        "args = {\n",
        "    'data_dir': './data/',\n",
        "    'output_dir': './results/',\n",
        "    'best_model_dir': './best_models/',\n",
        "  \n",
        "    'max_seq_length': 128,\n",
        "    'train_batch_size': 8,\n",
        "    'gradient_accumulation_steps': 1,\n",
        "    'eval_batch_size': 8,\n",
        "    'num_train_epochs': 3,\n",
        "    'weight_decay': 0,\n",
        "    'learning_rate': 1e-5,\n",
        "    'adam_epsilon': 1e-8,\n",
        "    'warmup_ratio': 0.1,\n",
        "    'warmup_steps': 0,\n",
        "    'max_grad_norm': 1.0,\n",
        "    \"manual_seed\": SEED,\n",
        "\n",
        "}"
      ],
      "id": "6vSsgptt_vEe",
      "execution_count": 6,
      "outputs": []
    },
    {
      "cell_type": "code",
      "metadata": {
        "id": "YYnB2vQpuAfR"
      },
      "source": [
        "# Get relevant paths\n",
        "\n",
        "import os \n",
        "\n",
        "train_path = os.path.join(args['data_dir'], TRAIN_DATA)\n",
        "dev_path = os.path.join(args['data_dir'], DEV_DATA)\n",
        "test_path = os.path.join(args['data_dir'], TEST_DATA)\n",
        "best_model_path = os.path.join(args['best_model_dir'], BEST_MODEL_FILE)\n",
        "results_path = os.path.join(args['output_dir'], RESULT_FILE)\n",
        "metrics_path = os.path.join(args['output_dir'], METRICS_FILE)\n"
      ],
      "id": "YYnB2vQpuAfR",
      "execution_count": 7,
      "outputs": []
    },
    {
      "cell_type": "code",
      "metadata": {
        "colab": {
          "base_uri": "https://localhost:8080/",
          "height": 35
        },
        "id": "BoQbUi9lrPph",
        "outputId": "6c6f8ac3-e2e9-4edd-cf65-88930a269f69"
      },
      "source": [
        "train_path"
      ],
      "id": "BoQbUi9lrPph",
      "execution_count": 8,
      "outputs": [
        {
          "output_type": "execute_result",
          "data": {
            "application/vnd.google.colaboratory.intrinsic+json": {
              "type": "string"
            },
            "text/plain": [
              "'./data/si-en/train.sien.df.short.tsv'"
            ]
          },
          "metadata": {
            "tags": []
          },
          "execution_count": 8
        }
      ]
    },
    {
      "cell_type": "markdown",
      "metadata": {
        "id": "HiL9PxhpjSkS"
      },
      "source": [
        "## Read in Data"
      ],
      "id": "HiL9PxhpjSkS"
    },
    {
      "cell_type": "code",
      "metadata": {
        "id": "UoauqED0Drop"
      },
      "source": [
        "import csv\n",
        "import pandas as pd\n",
        "\n",
        "# function adapted from https://github.com/TharinduDR/\n",
        "def read_file(path, index='index'):\n",
        "    originals = []\n",
        "    translations = []\n",
        "    z_means = []\n",
        "    with open(path, mode='r', encoding='utf-8-sig') as csvfile:\n",
        "        reader = csv.DictReader(csvfile, delimiter='\\t', quoting=csv.QUOTE_NONE)\n",
        "        for row in reader:\n",
        "            originals.append(row['original'])\n",
        "            translations.append(row['translation'])\n",
        "            z_means.append(float(row['z_mean']))\n",
        "\n",
        "    return pd.DataFrame(\n",
        "        {'original': originals,\n",
        "         'translation': translations,\n",
        "         'z_mean': z_means\n",
        "         })"
      ],
      "id": "UoauqED0Drop",
      "execution_count": 9,
      "outputs": []
    },
    {
      "cell_type": "code",
      "metadata": {
        "id": "IQW0bZbMmrac",
        "colab": {
          "base_uri": "https://localhost:8080/",
          "height": 204
        },
        "outputId": "bafcf8ae-04c9-436f-dd19-78382ec6cb9a"
      },
      "source": [
        "# import pandas as pd\n",
        "# df_train = pd.read_csv(train_path, sep='\\t', encoding='utf-8-sig')\n",
        "df_train = read_file(train_path)\n",
        "train = df_train[['original', 'translation', 'z_mean']]\n",
        "train.head()"
      ],
      "id": "IQW0bZbMmrac",
      "execution_count": 10,
      "outputs": [
        {
          "output_type": "execute_result",
          "data": {
            "text/html": [
              "<div>\n",
              "<style scoped>\n",
              "    .dataframe tbody tr th:only-of-type {\n",
              "        vertical-align: middle;\n",
              "    }\n",
              "\n",
              "    .dataframe tbody tr th {\n",
              "        vertical-align: top;\n",
              "    }\n",
              "\n",
              "    .dataframe thead th {\n",
              "        text-align: right;\n",
              "    }\n",
              "</style>\n",
              "<table border=\"1\" class=\"dataframe\">\n",
              "  <thead>\n",
              "    <tr style=\"text-align: right;\">\n",
              "      <th></th>\n",
              "      <th>original</th>\n",
              "      <th>translation</th>\n",
              "      <th>z_mean</th>\n",
              "    </tr>\n",
              "  </thead>\n",
              "  <tbody>\n",
              "    <tr>\n",
              "      <th>0</th>\n",
              "      <td>රහත් භාවයට පත් වූ කාශ්‍යප තෙරුණුවෝ තමන් වහන්සේ...</td>\n",
              "      <td>Since the secrets of the carnival thresholds t...</td>\n",
              "      <td>-1.088560</td>\n",
              "    </tr>\n",
              "    <tr>\n",
              "      <th>1</th>\n",
              "      <td>ප්‍රංශය සමග වු මෙම අර්ධ යුද්ධය යුරෝපය සමග ඇතිව...</td>\n",
              "      <td>This particular war with France was an escalat...</td>\n",
              "      <td>0.976268</td>\n",
              "    </tr>\n",
              "    <tr>\n",
              "      <th>2</th>\n",
              "      <td>සංගා සිය ගෝත්‍රයේ වැසියන්ට දිය ඇල්ල හරහා වූ රහ...</td>\n",
              "      <td>Sangha tells the citizens of hundreds of tribe...</td>\n",
              "      <td>0.551873</td>\n",
              "    </tr>\n",
              "    <tr>\n",
              "      <th>3</th>\n",
              "      <td>අපි මුලින්ම හඳුනගත්ත පැකිසිටස් ෆොසිල වාර්තා වල...</td>\n",
              "      <td>This is why we first identified pachycetus fos...</td>\n",
              "      <td>-0.009462</td>\n",
              "    </tr>\n",
              "    <tr>\n",
              "      <th>4</th>\n",
              "      <td>දෙවැන්න ප්‍රෝටීන් ආවරණය; ජානමය කොටසට ආරක්ෂාව ස...</td>\n",
              "      <td>Second protein shield; provides protection to ...</td>\n",
              "      <td>0.322577</td>\n",
              "    </tr>\n",
              "  </tbody>\n",
              "</table>\n",
              "</div>"
            ],
            "text/plain": [
              "                                            original  ...    z_mean\n",
              "0  රහත් භාවයට පත් වූ කාශ්‍යප තෙරුණුවෝ තමන් වහන්සේ...  ... -1.088560\n",
              "1  ප්‍රංශය සමග වු මෙම අර්ධ යුද්ධය යුරෝපය සමග ඇතිව...  ...  0.976268\n",
              "2  සංගා සිය ගෝත්‍රයේ වැසියන්ට දිය ඇල්ල හරහා වූ රහ...  ...  0.551873\n",
              "3  අපි මුලින්ම හඳුනගත්ත පැකිසිටස් ෆොසිල වාර්තා වල...  ... -0.009462\n",
              "4  දෙවැන්න ප්‍රෝටීන් ආවරණය; ජානමය කොටසට ආරක්ෂාව ස...  ...  0.322577\n",
              "\n",
              "[5 rows x 3 columns]"
            ]
          },
          "metadata": {
            "tags": []
          },
          "execution_count": 10
        }
      ]
    },
    {
      "cell_type": "code",
      "metadata": {
        "colab": {
          "base_uri": "https://localhost:8080/",
          "height": 204
        },
        "id": "fPn0pdAv94XL",
        "outputId": "4a0554cf-6bb3-4445-8c20-ad186a4013d6"
      },
      "source": [
        "# df_dev = pd.read_csv(dev_path,sep='\\t')\n",
        "df_dev = read_file(dev_path)\n",
        "dev = df_dev[['original', 'translation', 'z_mean']]\n",
        "dev.head()"
      ],
      "id": "fPn0pdAv94XL",
      "execution_count": 11,
      "outputs": [
        {
          "output_type": "execute_result",
          "data": {
            "text/html": [
              "<div>\n",
              "<style scoped>\n",
              "    .dataframe tbody tr th:only-of-type {\n",
              "        vertical-align: middle;\n",
              "    }\n",
              "\n",
              "    .dataframe tbody tr th {\n",
              "        vertical-align: top;\n",
              "    }\n",
              "\n",
              "    .dataframe thead th {\n",
              "        text-align: right;\n",
              "    }\n",
              "</style>\n",
              "<table border=\"1\" class=\"dataframe\">\n",
              "  <thead>\n",
              "    <tr style=\"text-align: right;\">\n",
              "      <th></th>\n",
              "      <th>original</th>\n",
              "      <th>translation</th>\n",
              "      <th>z_mean</th>\n",
              "    </tr>\n",
              "  </thead>\n",
              "  <tbody>\n",
              "    <tr>\n",
              "      <th>0</th>\n",
              "      <td>මෙම ශාක වලට අමතරව වෝල්නට්, මේපල්, සීඩර්, සයිප්...</td>\n",
              "      <td>In addition to these plants there are conifero...</td>\n",
              "      <td>1.608269</td>\n",
              "    </tr>\n",
              "    <tr>\n",
              "      <th>1</th>\n",
              "      <td>කිරිහුණු ද මෙම පිළියෙල කල මි‍ශ්‍රණයට එකතු කර එ...</td>\n",
              "      <td>Milk is also added to this filtered mixture an...</td>\n",
              "      <td>-1.180812</td>\n",
              "    </tr>\n",
              "    <tr>\n",
              "      <th>2</th>\n",
              "      <td>ආතන හා ඉලිප්සාකාර පථවලින් යුක්ත අවිධිමත් ලෙස ප...</td>\n",
              "      <td>There are a large number of remaining moons th...</td>\n",
              "      <td>-0.241004</td>\n",
              "    </tr>\n",
              "    <tr>\n",
              "      <th>3</th>\n",
              "      <td>මේ මුදල් ලැබෙන්නේ ආරම්භයේදී මුලික ‍මුදලක් ලබා ...</td>\n",
              "      <td>This money comes from an initial cash at the b...</td>\n",
              "      <td>1.187086</td>\n",
              "    </tr>\n",
              "    <tr>\n",
              "      <th>4</th>\n",
              "      <td>නමුත් 1170 සිට 1270 දක්වා රජය පාලනය කරන ලද්දේ ...</td>\n",
              "      <td>But from 1170 to 1270 the government was contr...</td>\n",
              "      <td>1.227002</td>\n",
              "    </tr>\n",
              "  </tbody>\n",
              "</table>\n",
              "</div>"
            ],
            "text/plain": [
              "                                            original  ...    z_mean\n",
              "0  මෙම ශාක වලට අමතරව වෝල්නට්, මේපල්, සීඩර්, සයිප්...  ...  1.608269\n",
              "1  කිරිහුණු ද මෙම පිළියෙල කල මි‍ශ්‍රණයට එකතු කර එ...  ... -1.180812\n",
              "2  ආතන හා ඉලිප්සාකාර පථවලින් යුක්ත අවිධිමත් ලෙස ප...  ... -0.241004\n",
              "3  මේ මුදල් ලැබෙන්නේ ආරම්භයේදී මුලික ‍මුදලක් ලබා ...  ...  1.187086\n",
              "4  නමුත් 1170 සිට 1270 දක්වා රජය පාලනය කරන ලද්දේ ...  ...  1.227002\n",
              "\n",
              "[5 rows x 3 columns]"
            ]
          },
          "metadata": {
            "tags": []
          },
          "execution_count": 11
        }
      ]
    },
    {
      "cell_type": "code",
      "metadata": {
        "colab": {
          "base_uri": "https://localhost:8080/",
          "height": 204
        },
        "id": "G19rmEtc-It0",
        "outputId": "378e48e5-a5be-491f-9b63-fa188f8c1fe2"
      },
      "source": [
        "# df_test = pd.read_csv(test_path,sep='\\t')\n",
        "df_test = read_file(test_path)\n",
        "test = df_test[['original', 'translation', 'z_mean']]\n",
        "test.head()"
      ],
      "id": "G19rmEtc-It0",
      "execution_count": 12,
      "outputs": [
        {
          "output_type": "execute_result",
          "data": {
            "text/html": [
              "<div>\n",
              "<style scoped>\n",
              "    .dataframe tbody tr th:only-of-type {\n",
              "        vertical-align: middle;\n",
              "    }\n",
              "\n",
              "    .dataframe tbody tr th {\n",
              "        vertical-align: top;\n",
              "    }\n",
              "\n",
              "    .dataframe thead th {\n",
              "        text-align: right;\n",
              "    }\n",
              "</style>\n",
              "<table border=\"1\" class=\"dataframe\">\n",
              "  <thead>\n",
              "    <tr style=\"text-align: right;\">\n",
              "      <th></th>\n",
              "      <th>original</th>\n",
              "      <th>translation</th>\n",
              "      <th>z_mean</th>\n",
              "    </tr>\n",
              "  </thead>\n",
              "  <tbody>\n",
              "    <tr>\n",
              "      <th>0</th>\n",
              "      <td>ඔහු ජෙෆෙර්සන් ගේ දිව්රුම් දීමට ප්‍රථමයෙන් වොෂි...</td>\n",
              "      <td>He was the first to give Jefferson's oath of a...</td>\n",
              "      <td>-1.246499</td>\n",
              "    </tr>\n",
              "    <tr>\n",
              "      <th>1</th>\n",
              "      <td>මෙම සිතුවම් මගින් පුරාතන රාජධානියේ එදිනෙදා දිව...</td>\n",
              "      <td>These paintings represent the life and cultura...</td>\n",
              "      <td>1.368105</td>\n",
              "    </tr>\n",
              "    <tr>\n",
              "      <th>2</th>\n",
              "      <td>ප්ලේටෝ ඉදිරිපත් කරන පරිදි මරණාභිමුඛ වූ සොක්‍රට...</td>\n",
              "      <td>As Plato presents the deathly Socrates, the gr...</td>\n",
              "      <td>0.403440</td>\n",
              "    </tr>\n",
              "    <tr>\n",
              "      <th>3</th>\n",
              "      <td>ආසියාවේ වර්ධනය වෙමින් පවතින සමෘධිමත් බවද මෙයට ...</td>\n",
              "      <td>This was a cause of growing prosperity in Asia.</td>\n",
              "      <td>0.472506</td>\n",
              "    </tr>\n",
              "    <tr>\n",
              "      <th>4</th>\n",
              "      <td>ගුප්තවරුන්ගේ මුල් බිම සම්බන්ධයෙන් විද්වතුන් අත...</td>\n",
              "      <td>The original floor of the mystices has also be...</td>\n",
              "      <td>0.260778</td>\n",
              "    </tr>\n",
              "  </tbody>\n",
              "</table>\n",
              "</div>"
            ],
            "text/plain": [
              "                                            original  ...    z_mean\n",
              "0  ඔහු ජෙෆෙර්සන් ගේ දිව්රුම් දීමට ප්‍රථමයෙන් වොෂි...  ... -1.246499\n",
              "1  මෙම සිතුවම් මගින් පුරාතන රාජධානියේ එදිනෙදා දිව...  ...  1.368105\n",
              "2  ප්ලේටෝ ඉදිරිපත් කරන පරිදි මරණාභිමුඛ වූ සොක්‍රට...  ...  0.403440\n",
              "3  ආසියාවේ වර්ධනය වෙමින් පවතින සමෘධිමත් බවද මෙයට ...  ...  0.472506\n",
              "4  ගුප්තවරුන්ගේ මුල් බිම සම්බන්ධයෙන් විද්වතුන් අත...  ...  0.260778\n",
              "\n",
              "[5 rows x 3 columns]"
            ]
          },
          "metadata": {
            "tags": []
          },
          "execution_count": 12
        }
      ]
    },
    {
      "cell_type": "code",
      "metadata": {
        "id": "AwDjf70J-lMB"
      },
      "source": [
        "train = train.rename(columns={'original': 'text_a', 'translation': 'text_b', 'z_mean': 'labels'}).dropna()\n",
        "dev = dev.rename(columns={'original': 'text_a', 'translation': 'text_b', 'z_mean': 'labels'}).dropna()\n",
        "test = test.rename(columns={'original': 'text_a', 'translation': 'text_b', 'z_mean': 'labels'}).dropna()"
      ],
      "id": "AwDjf70J-lMB",
      "execution_count": 13,
      "outputs": []
    },
    {
      "cell_type": "markdown",
      "metadata": {
        "id": "I_gKfdhChQaG"
      },
      "source": [
        "### Use sklearn to preprocess z-scores\n"
      ],
      "id": "I_gKfdhChQaG"
    },
    {
      "cell_type": "code",
      "metadata": {
        "id": "searching-equity"
      },
      "source": [
        "from sklearn import preprocessing\n",
        "min_max_scaler = preprocessing.MinMaxScaler()\n",
        "\n",
        "\n",
        "def fit(df, label):\n",
        "    x = df[[label]].values.astype(float)\n",
        "    x_scaled = min_max_scaler.fit_transform(x)\n",
        "    df[label] = x_scaled\n",
        "    return df\n",
        "\n",
        "\n",
        "def un_fit(df, label):\n",
        "    x = df[[label]].values.astype(float)\n",
        "    x_unscaled = min_max_scaler.inverse_transform(x)\n",
        "    df[label] = x_unscaled\n",
        "    return df"
      ],
      "id": "searching-equity",
      "execution_count": 14,
      "outputs": []
    },
    {
      "cell_type": "code",
      "metadata": {
        "id": "rcLQXavR_iY_"
      },
      "source": [
        "train = fit(train, 'labels')\n",
        "dev = fit(dev, 'labels')"
      ],
      "id": "rcLQXavR_iY_",
      "execution_count": 15,
      "outputs": []
    },
    {
      "cell_type": "markdown",
      "metadata": {
        "id": "Xpy69dtawS34"
      },
      "source": [
        "### Import packages"
      ],
      "id": "Xpy69dtawS34"
    },
    {
      "cell_type": "code",
      "metadata": {
        "id": "J7w7rmTrTcjv"
      },
      "source": [
        "import transformers\n",
        "from transformers import AdamW, get_linear_schedule_with_warmup\n",
        "from transformers import XLMRobertaConfig, XLMRobertaTokenizer, XLMRobertaForSequenceClassification, XLMRobertaModel\n",
        "import torch\n",
        "\n",
        "import numpy as np\n",
        "import pandas as pd\n",
        "from pylab import rcParams\n",
        "import matplotlib.pyplot as plt\n",
        "from matplotlib import rc\n",
        "from sklearn.metrics import mean_squared_error, mean_absolute_error\n",
        "from scipy import stats\n",
        "from collections import defaultdict\n",
        "from textwrap import wrap\n",
        "\n",
        "from torch import nn, optim\n",
        "from torch.utils.data import Dataset, DataLoader"
      ],
      "id": "J7w7rmTrTcjv",
      "execution_count": 16,
      "outputs": []
    },
    {
      "cell_type": "code",
      "metadata": {
        "colab": {
          "base_uri": "https://localhost:8080/"
        },
        "id": "MCiPHSh-TYta",
        "outputId": "4f4c0d21-7a8f-405a-ebb2-4181f96dce5a"
      },
      "source": [
        "# Check device\n",
        "device = torch.device(\"cuda\" if torch.cuda.is_available() else \"cpu\")\n",
        "device"
      ],
      "id": "MCiPHSh-TYta",
      "execution_count": 17,
      "outputs": [
        {
          "output_type": "execute_result",
          "data": {
            "text/plain": [
              "device(type='cuda')"
            ]
          },
          "metadata": {
            "tags": []
          },
          "execution_count": 17
        }
      ]
    },
    {
      "cell_type": "markdown",
      "metadata": {
        "id": "zmgSEt44wp6p"
      },
      "source": [
        "### Download pretrained model"
      ],
      "id": "zmgSEt44wp6p"
    },
    {
      "cell_type": "code",
      "metadata": {
        "id": "50emkbPkUPnf"
      },
      "source": [
        "# Initialize config, tokenizer, and pretrained model\n",
        "MODEL_CLASSES = {'xlmroberta': (XLMRobertaConfig, XLMRobertaModel, XLMRobertaTokenizer)}\n",
        "\n",
        "config_class, model_class, tokenizer_class = MODEL_CLASSES[MODEL_TYPE]\n",
        "\n",
        "config = config_class.from_pretrained(MODEL_NAME, num_labels=1)\n",
        "tokenizer = tokenizer_class.from_pretrained(MODEL_NAME)"
      ],
      "id": "50emkbPkUPnf",
      "execution_count": 18,
      "outputs": []
    },
    {
      "cell_type": "markdown",
      "metadata": {
        "id": "n3rD10Qvwt6s"
      },
      "source": [
        "### Create data loader and load batches"
      ],
      "id": "n3rD10Qvwt6s"
    },
    {
      "cell_type": "code",
      "metadata": {
        "id": "wGNNC5auM2AN"
      },
      "source": [
        "class TranslationDataset(Dataset):\n",
        "  def __init__(self, text_a, text_b, labels, tokenizer, max_len):\n",
        "    self.text_a = text_a\n",
        "    self.text_b = text_b\n",
        "    self.labels = labels\n",
        "    self.tokenizer = tokenizer\n",
        "    self.max_len = max_len\n",
        "\n",
        "  def __len__(self):\n",
        "    return len(self.text_a)\n",
        "\n",
        "  def __getitem__(self, item):\n",
        "    original = str(self.text_a[item])\n",
        "    translation = str(self.text_b[item])\n",
        "    label = float(self.labels[item])\n",
        "    encoding = self.tokenizer.encode_plus(\n",
        "      original,\n",
        "      translation,\n",
        "      add_special_tokens=True,\n",
        "      max_length=self.max_len,\n",
        "      return_token_type_ids=False,\n",
        "      padding='max_length',\n",
        "      truncation='longest_first',\n",
        "      return_attention_mask=True,\n",
        "      return_tensors='pt',\n",
        "    )\n",
        "\n",
        "    return {\n",
        "      'original_text': original,\n",
        "      'translation_text': translation,\n",
        "      'input_ids': encoding['input_ids'].flatten(),\n",
        "      'attention_mask': encoding['attention_mask'].flatten(),\n",
        "      'label': torch.tensor(label, dtype=torch.float32)\n",
        "    }"
      ],
      "id": "wGNNC5auM2AN",
      "execution_count": 19,
      "outputs": []
    },
    {
      "cell_type": "code",
      "metadata": {
        "id": "p5aGo74Il9ci"
      },
      "source": [
        "def create_data_loader(df, tokenizer, max_len, batch_size):\n",
        "  ds = TranslationDataset(\n",
        "    text_a=df.text_a.to_numpy(),\n",
        "    text_b=df.text_b.to_numpy(),\n",
        "    labels=df.labels.to_numpy(),\n",
        "    tokenizer=tokenizer,\n",
        "    max_len=max_len\n",
        "  )\n",
        "\n",
        "  return DataLoader(\n",
        "    ds,\n",
        "    batch_size=batch_size,\n",
        "    num_workers=2\n",
        "  )"
      ],
      "id": "p5aGo74Il9ci",
      "execution_count": 20,
      "outputs": []
    },
    {
      "cell_type": "code",
      "metadata": {
        "id": "6mgdstvfmxlv"
      },
      "source": [
        "train_data_loader = create_data_loader(train, tokenizer, args['max_seq_length'], args['train_batch_size'])\n",
        "dev_data_loader = create_data_loader(dev, tokenizer, args['max_seq_length'], args['train_batch_size'])\n",
        "test_data_loader = create_data_loader(test, tokenizer, args['max_seq_length'], args['train_batch_size'])"
      ],
      "id": "6mgdstvfmxlv",
      "execution_count": 21,
      "outputs": []
    },
    {
      "cell_type": "code",
      "metadata": {
        "colab": {
          "base_uri": "https://localhost:8080/"
        },
        "id": "EMGuqAFKokDS",
        "outputId": "aa50da2c-321d-4013-a47a-3fa9e4b3bd43"
      },
      "source": [
        "data = next(iter(train_data_loader))\n",
        "data.keys()"
      ],
      "id": "EMGuqAFKokDS",
      "execution_count": 22,
      "outputs": [
        {
          "output_type": "execute_result",
          "data": {
            "text/plain": [
              "dict_keys(['original_text', 'translation_text', 'input_ids', 'attention_mask', 'label'])"
            ]
          },
          "metadata": {
            "tags": []
          },
          "execution_count": 22
        }
      ]
    },
    {
      "cell_type": "code",
      "metadata": {
        "colab": {
          "base_uri": "https://localhost:8080/"
        },
        "id": "dEZoT2t6pTTC",
        "outputId": "235c9186-d94e-4596-a2da-76db383d7ac9"
      },
      "source": [
        "print(data['input_ids'].shape)\n",
        "print(data['attention_mask'].shape)\n",
        "print(data['label'].shape)"
      ],
      "id": "dEZoT2t6pTTC",
      "execution_count": 23,
      "outputs": [
        {
          "output_type": "stream",
          "text": [
            "torch.Size([8, 128])\n",
            "torch.Size([8, 128])\n",
            "torch.Size([8])\n"
          ],
          "name": "stdout"
        }
      ]
    },
    {
      "cell_type": "code",
      "metadata": {
        "colab": {
          "base_uri": "https://localhost:8080/"
        },
        "id": "IALZRIZF2F3H",
        "outputId": "c12fe61c-42d7-4f37-bde6-e11b84e9b7d8"
      },
      "source": [
        "print(data['original_text'][0])\n",
        "print(data['label'][0].numpy())"
      ],
      "id": "IALZRIZF2F3H",
      "execution_count": 24,
      "outputs": [
        {
          "output_type": "stream",
          "text": [
            "රහත් භාවයට පත් වූ කාශ්‍යප තෙරුණුවෝ තමන් වහන්සේ රූපයෙන් බුදුරජාණන් වහන්සේට සමාන වන බැවින් බොහෝ අපහසුතාවයන්ට පත් විය.\n",
            "0.236056\n"
          ],
          "name": "stdout"
        }
      ]
    },
    {
      "cell_type": "markdown",
      "metadata": {
        "id": "hg_V0Zhhw6Ll"
      },
      "source": [
        "### Define MonoTransQuest Model"
      ],
      "id": "hg_V0Zhhw6Ll"
    },
    {
      "cell_type": "code",
      "metadata": {
        "id": "IElDL0WPuyK9"
      },
      "source": [
        "class MonoTransQuest(nn.Module):\n",
        "\n",
        "  def __init__(self, config):\n",
        "    super(MonoTransQuest, self).__init__()\n",
        "    self.model = model_class.from_pretrained(MODEL_NAME)\n",
        "    self.dense = nn.Linear(config.hidden_size, config.hidden_size)\n",
        "    self.dropout = nn.Dropout(config.hidden_dropout_prob)\n",
        "    self.out_proj = nn.Linear(config.hidden_size, config.num_labels)\n",
        "  \n",
        "  def forward(self, input_ids, attention_mask):\n",
        "    outputs = self.model(input_ids=input_ids, attention_mask=attention_mask)\n",
        "    sequence_output = outputs[0]\n",
        "    x = sequence_output[:, 0, :]  # take <s> token (equiv. to [CLS])\n",
        "    x = self.dropout(x)\n",
        "    x = self.dense(x)\n",
        "    x = torch.tanh(x)\n",
        "    x = self.dropout(x)\n",
        "    x = self.out_proj(x)\n",
        "\n",
        "    return torch.sigmoid(x)"
      ],
      "id": "IElDL0WPuyK9",
      "execution_count": 25,
      "outputs": []
    },
    {
      "cell_type": "code",
      "metadata": {
        "id": "f_QhuHSi0c14"
      },
      "source": [
        "model = MonoTransQuest(config)\n",
        "model = model.to(device)"
      ],
      "id": "f_QhuHSi0c14",
      "execution_count": 26,
      "outputs": []
    },
    {
      "cell_type": "markdown",
      "metadata": {
        "id": "43WheJVzxAIY"
      },
      "source": [
        "### Training"
      ],
      "id": "43WheJVzxAIY"
    },
    {
      "cell_type": "code",
      "metadata": {
        "id": "unX_3I59Oqml"
      },
      "source": [
        "import math\n",
        "\n",
        "t_total = len(train_data_loader) // args['gradient_accumulation_steps'] * args['num_train_epochs']\n",
        "warmup_steps = math.ceil(t_total * args['warmup_ratio'])\n",
        "args['warmup_steps'] = warmup_steps if args['warmup_steps'] == 0 else args['warmup_steps']\n",
        "\n",
        "optimizer = AdamW(model.parameters(), lr=args['learning_rate'], eps=args['adam_epsilon'])\n",
        "scheduler = get_linear_schedule_with_warmup(\n",
        "  optimizer,\n",
        "  num_warmup_steps=args['warmup_steps'], \n",
        "  num_training_steps=t_total\n",
        ")\n",
        "\n",
        "loss_fn = nn.MSELoss().to(device)"
      ],
      "id": "unX_3I59Oqml",
      "execution_count": 27,
      "outputs": []
    },
    {
      "cell_type": "code",
      "metadata": {
        "id": "Pd1kfrd1UPXT"
      },
      "source": [
        "def train_epoch(\n",
        "  model,\n",
        "  data_loader,\n",
        "  loss_fn,\n",
        "  optimizer,\n",
        "  device,\n",
        "  scheduler,\n",
        "  n_examples\n",
        "):\n",
        "  model = model.train()\n",
        "  losses = []\n",
        "  for d in data_loader:\n",
        "    input_ids = d[\"input_ids\"].to(device)\n",
        "    attention_mask = d[\"attention_mask\"].to(device)\n",
        "    labels = torch.unsqueeze(d[\"label\"], 1)\n",
        "    labels = labels.float()\n",
        "    labels = labels.to(device)\n",
        "    outputs = model(\n",
        "      input_ids=input_ids,\n",
        "      attention_mask=attention_mask\n",
        "    )\n",
        "    loss = loss_fn(outputs, labels)\n",
        "    losses.append(loss.item())\n",
        "    loss.backward()\n",
        "    nn.utils.clip_grad_norm_(model.parameters(), max_norm=args['max_grad_norm'])\n",
        "    optimizer.step()\n",
        "    scheduler.step()\n",
        "    optimizer.zero_grad()\n",
        "  return np.mean(losses)"
      ],
      "id": "Pd1kfrd1UPXT",
      "execution_count": 28,
      "outputs": []
    },
    {
      "cell_type": "code",
      "metadata": {
        "id": "8B8ctTAsUxsG"
      },
      "source": [
        "def eval_model(model, data_loader, loss_fn, device, n_examples):\n",
        "  model = model.eval()\n",
        "  losses = []\n",
        "  with torch.no_grad():\n",
        "    for d in data_loader:\n",
        "      input_ids = d[\"input_ids\"].to(device)\n",
        "      attention_mask = d[\"attention_mask\"].to(device)\n",
        "      labels = torch.unsqueeze(d[\"label\"], 1)\n",
        "      labels = labels.float()\n",
        "      labels = labels.to(device)\n",
        "      outputs = model(\n",
        "        input_ids=input_ids,\n",
        "        attention_mask=attention_mask\n",
        "      )\n",
        "      loss = loss_fn(outputs, labels)\n",
        "      losses.append(loss.item())\n",
        "  return np.mean(losses)"
      ],
      "id": "8B8ctTAsUxsG",
      "execution_count": 29,
      "outputs": []
    },
    {
      "cell_type": "code",
      "metadata": {
        "colab": {
          "base_uri": "https://localhost:8080/"
        },
        "id": "6UcIPfl8Uzna",
        "outputId": "a4b2dd77-19b0-426d-a038-47071bfec62b"
      },
      "source": [
        "%%time\n",
        "\n",
        "history = defaultdict(list)\n",
        "best_loss = float('inf')\n",
        "for epoch in range(args['num_train_epochs']):\n",
        "  print(f'Epoch {epoch + 1}/{args[\"num_train_epochs\"]}')\n",
        "  print('-' * 10)\n",
        "  train_loss = train_epoch(\n",
        "    model,\n",
        "    train_data_loader,\n",
        "    loss_fn,\n",
        "    optimizer,\n",
        "    device,\n",
        "    scheduler,\n",
        "    len(df_train)\n",
        "  )\n",
        "  print(f'Train loss {train_loss}')\n",
        "  val_loss = eval_model(\n",
        "    model,\n",
        "    dev_data_loader,\n",
        "    loss_fn,\n",
        "    device,\n",
        "    len(df_dev)\n",
        "  )\n",
        "  print(f'Val   loss {val_loss}')\n",
        "  print()\n",
        "  history['train_loss'].append(train_loss)\n",
        "  history['val_loss'].append(val_loss)\n",
        "  if val_loss < best_loss:\n",
        "    torch.save(model.state_dict(), best_model_path)\n",
        "    best_loss = val_loss"
      ],
      "id": "6UcIPfl8Uzna",
      "execution_count": 30,
      "outputs": [
        {
          "output_type": "stream",
          "text": [
            "Epoch 1/3\n",
            "----------\n",
            "Train loss 0.055373476040150436\n",
            "Val   loss 0.03537442959100008\n",
            "\n",
            "Epoch 2/3\n",
            "----------\n",
            "Train loss 0.04101323948481253\n",
            "Val   loss 0.032864469159394505\n",
            "\n",
            "Epoch 3/3\n",
            "----------\n",
            "Train loss 0.029825006979251546\n",
            "Val   loss 0.031479198027402164\n",
            "\n",
            "CPU times: user 18min 53s, sys: 17min 29s, total: 36min 22s\n",
            "Wall time: 37min 36s\n"
          ],
          "name": "stdout"
        }
      ]
    },
    {
      "cell_type": "code",
      "metadata": {
        "id": "gYwXx_vsdgfP",
        "colab": {
          "base_uri": "https://localhost:8080/",
          "height": 295
        },
        "outputId": "d041ea11-8711-4a9b-e847-70e5580f704d"
      },
      "source": [
        "# Plot graphs \n",
        "plt.plot(history['train_loss'], label='train loss')\n",
        "plt.plot(history['val_loss'], label='validation loss')\n",
        "plt.title('Training history')\n",
        "plt.ylabel('Loss')\n",
        "plt.xlabel('Epoch')\n",
        "plt.legend()\n",
        "plt.ylim([0, 0.09]);"
      ],
      "id": "gYwXx_vsdgfP",
      "execution_count": 31,
      "outputs": [
        {
          "output_type": "display_data",
          "data": {
            "image/png": "[encoded data removed]",
            "text/plain": [
              "<Figure size 432x288 with 1 Axes>"
            ]
          },
          "metadata": {
            "tags": [],
            "needs_background": "light"
          }
        }
      ]
    },
    {
      "cell_type": "markdown",
      "metadata": {
        "id": "vIrZTkIoxMsG"
      },
      "source": [
        "### Generating predictions and metrics"
      ],
      "id": "vIrZTkIoxMsG"
    },
    {
      "cell_type": "code",
      "metadata": {
        "colab": {
          "base_uri": "https://localhost:8080/",
          "height": 66,
          "referenced_widgets": [
            "a732c4ce5c42479fa57c378a48d3980c",
            "756f80078e08493ab95463ec19e8b94f",
            "f314583a8db94152a85d3886bd76f8fc",
            "c12fd71cb4dc4cc3bd80c4b138181c10",
            "58f2c3b5e1a14b2c81c850974ec07149",
            "0eb7194d7c8440e794d9fb2b1503d844",
            "bdc901b3b2814a1dbdae99fa802a16c7",
            "f053187afc35473ba31d31906326beb9"
          ]
        },
        "id": "iBqTYThop1P4",
        "outputId": "d6bcee56-f5f5-48fe-d0fd-093d93605268"
      },
      "source": [
        "# Load pretrained model\n",
        "model = MonoTransQuest(config)\n",
        "model.load_state_dict(torch.load(best_model_path))\n",
        "model = model.to(device)"
      ],
      "id": "iBqTYThop1P4",
      "execution_count": null,
      "outputs": [
        {
          "output_type": "display_data",
          "data": {
            "application/vnd.jupyter.widget-view+json": {
              "model_id": "a732c4ce5c42479fa57c378a48d3980c",
              "version_minor": 0,
              "version_major": 2
            },
            "text/plain": [
              "HBox(children=(FloatProgress(value=0.0, description='Downloading', max=2244861551.0, style=ProgressStyle(descr…"
            ]
          },
          "metadata": {
            "tags": []
          }
        },
        {
          "output_type": "stream",
          "text": [
            "\n"
          ],
          "name": "stdout"
        }
      ]
    },
    {
      "cell_type": "code",
      "metadata": {
        "id": "w5cMbbkxxG9M"
      },
      "source": [
        "# Function to calculate predictions on test set\n",
        "def get_predictions(model, data_loader):\n",
        "  model = model.eval()\n",
        "  predictions = []\n",
        "  real_values = []\n",
        "  originals = []\n",
        "  translations = []\n",
        "\n",
        "  with torch.no_grad():\n",
        "    for d in data_loader:\n",
        "      ori = d[\"original_text\"]\n",
        "      trans = d[\"translation_text\"]\n",
        "      input_ids = d[\"input_ids\"].to(device)\n",
        "      attention_mask = d[\"attention_mask\"].to(device)\n",
        "      labels = torch.unsqueeze(d[\"label\"], 1)\n",
        "      labels = labels.float()\n",
        "      labels = labels.to(device)\n",
        "      preds = model(\n",
        "        input_ids=input_ids,\n",
        "        attention_mask=attention_mask\n",
        "      )\n",
        "      originals.extend(ori)\n",
        "      translations.extend(trans)\n",
        "      predictions.extend(preds)\n",
        "      real_values.extend(labels)\n",
        "  predictions = torch.stack(predictions).cpu()\n",
        "  real_values = torch.stack(real_values).cpu()\n",
        "  return originals, translations, predictions, real_values"
      ],
      "id": "w5cMbbkxxG9M",
      "execution_count": 32,
      "outputs": []
    },
    {
      "cell_type": "code",
      "metadata": {
        "id": "y0vpYzeq08U7",
        "colab": {
          "base_uri": "https://localhost:8080/",
          "height": 979
        },
        "outputId": "273c0258-9ad9-4e24-cc93-09ee3c4da0ef"
      },
      "source": [
        "# Get predictions \n",
        "originals, translations, predictions, real_values = get_predictions(model,test_data_loader)\n",
        "\n",
        "preds = predictions.numpy().squeeze()\n",
        "labels = real_values.numpy().squeeze()\n",
        "original = np.array(originals)\n",
        "translation = np.array(translations)\n",
        "\n",
        "df_results = pd.DataFrame()\n",
        "df_results['original'] = original\n",
        "df_results['translation'] = translation\n",
        "df_results['z_mean'] = labels\n",
        "df_results['pred_zscore'] = preds\n",
        "\n",
        "df_results = un_fit(df_results, 'pred_zscore')\n",
        "\n",
        "df_results.head(30)"
      ],
      "id": "y0vpYzeq08U7",
      "execution_count": 33,
      "outputs": [
        {
          "output_type": "execute_result",
          "data": {
            "text/html": [
              "<div>\n",
              "<style scoped>\n",
              "    .dataframe tbody tr th:only-of-type {\n",
              "        vertical-align: middle;\n",
              "    }\n",
              "\n",
              "    .dataframe tbody tr th {\n",
              "        vertical-align: top;\n",
              "    }\n",
              "\n",
              "    .dataframe thead th {\n",
              "        text-align: right;\n",
              "    }\n",
              "</style>\n",
              "<table border=\"1\" class=\"dataframe\">\n",
              "  <thead>\n",
              "    <tr style=\"text-align: right;\">\n",
              "      <th></th>\n",
              "      <th>original</th>\n",
              "      <th>translation</th>\n",
              "      <th>z_mean</th>\n",
              "      <th>pred_zscore</th>\n",
              "    </tr>\n",
              "  </thead>\n",
              "  <tbody>\n",
              "    <tr>\n",
              "      <th>0</th>\n",
              "      <td>ඔහු ජෙෆෙර්සන් ගේ දිව්රුම් දීමට ප්‍රථමයෙන් වොෂි...</td>\n",
              "      <td>He was the first to give Jefferson's oath of a...</td>\n",
              "      <td>-1.246499</td>\n",
              "      <td>0.003705</td>\n",
              "    </tr>\n",
              "    <tr>\n",
              "      <th>1</th>\n",
              "      <td>මෙම සිතුවම් මගින් පුරාතන රාජධානියේ එදිනෙදා දිව...</td>\n",
              "      <td>These paintings represent the life and cultura...</td>\n",
              "      <td>1.368105</td>\n",
              "      <td>1.238565</td>\n",
              "    </tr>\n",
              "    <tr>\n",
              "      <th>2</th>\n",
              "      <td>ප්ලේටෝ ඉදිරිපත් කරන පරිදි මරණාභිමුඛ වූ සොක්‍රට...</td>\n",
              "      <td>As Plato presents the deathly Socrates, the gr...</td>\n",
              "      <td>0.403440</td>\n",
              "      <td>-0.279472</td>\n",
              "    </tr>\n",
              "    <tr>\n",
              "      <th>3</th>\n",
              "      <td>ආසියාවේ වර්ධනය වෙමින් පවතින සමෘධිමත් බවද මෙයට ...</td>\n",
              "      <td>This was a cause of growing prosperity in Asia.</td>\n",
              "      <td>0.472506</td>\n",
              "      <td>0.470448</td>\n",
              "    </tr>\n",
              "    <tr>\n",
              "      <th>4</th>\n",
              "      <td>ගුප්තවරුන්ගේ මුල් බිම සම්බන්ධයෙන් විද්වතුන් අත...</td>\n",
              "      <td>The original floor of the mystices has also be...</td>\n",
              "      <td>0.260778</td>\n",
              "      <td>-0.112943</td>\n",
              "    </tr>\n",
              "    <tr>\n",
              "      <th>5</th>\n",
              "      <td>මේ තත්වය යෝග අභ්‍යාස මගින් බොහෝ දුරට වළක්වා ගැ...</td>\n",
              "      <td>This situation is mostly prevalent by yoga exe...</td>\n",
              "      <td>0.413922</td>\n",
              "      <td>-0.372492</td>\n",
              "    </tr>\n",
              "    <tr>\n",
              "      <th>6</th>\n",
              "      <td>එසේම කාන්තාවන් පුරුෂයන්ටය වඩා අසාමාන්‍ය චර්යාව...</td>\n",
              "      <td>Also women are more likely to have an unusual ...</td>\n",
              "      <td>-0.599468</td>\n",
              "      <td>-0.480774</td>\n",
              "    </tr>\n",
              "    <tr>\n",
              "      <th>7</th>\n",
              "      <td>ඇතැම් අවස්ථාවන්හිදී පොදු ජන එක්සත් පෙරමුණ නියෝ...</td>\n",
              "      <td>In some cases, some parliamentarians represent...</td>\n",
              "      <td>-0.420256</td>\n",
              "      <td>0.893146</td>\n",
              "    </tr>\n",
              "    <tr>\n",
              "      <th>8</th>\n",
              "      <td>මේ අතරින් වඩාත්ම ව්‍යසනකාරී වූයේ 874 සිට 884 ද...</td>\n",
              "      <td>The most disastrous among these was the huang ...</td>\n",
              "      <td>1.515809</td>\n",
              "      <td>1.171833</td>\n",
              "    </tr>\n",
              "    <tr>\n",
              "      <th>9</th>\n",
              "      <td>මෙය නිෂ්පාදකයා පැවසූ පරිදි 4K ප්‍රක්ෂේපක ක්‍රම...</td>\n",
              "      <td>This was the 4K projection scheme as the produ...</td>\n",
              "      <td>0.228831</td>\n",
              "      <td>0.599359</td>\n",
              "    </tr>\n",
              "    <tr>\n",
              "      <th>10</th>\n",
              "      <td>ග්යොංබොක්ගුංහි පාලනය සියතට ගත් විගස, දේවොන්ගුන...</td>\n",
              "      <td>As soon as the rule of gyeongbokgung was overt...</td>\n",
              "      <td>-0.101648</td>\n",
              "      <td>0.036433</td>\n",
              "    </tr>\n",
              "    <tr>\n",
              "      <th>11</th>\n",
              "      <td>තවද, ඔවුන් පත්‍ර මතට උණු කල තෙල් සහ විනාකිරි ම...</td>\n",
              "      <td>And, they're mixing hot oil and minute meals o...</td>\n",
              "      <td>-0.474821</td>\n",
              "      <td>-0.915247</td>\n",
              "    </tr>\n",
              "    <tr>\n",
              "      <th>12</th>\n",
              "      <td>vi.\\tපුද්ගලයා සහ සමාජය රාජ්‍ය යේ බලයට නිර්දය ල...</td>\n",
              "      <td>Controversy when vi.Com and society surrender ...</td>\n",
              "      <td>-1.273747</td>\n",
              "      <td>-0.991765</td>\n",
              "    </tr>\n",
              "    <tr>\n",
              "      <th>13</th>\n",
              "      <td>ආහාරයන් වෙනුවට, ඇඳුම් පැළදුම් රෑපවාහිනී වැඩසටහ...</td>\n",
              "      <td>Instead of food, costumed nighttime programs, ...</td>\n",
              "      <td>-0.825905</td>\n",
              "      <td>-0.934932</td>\n",
              "    </tr>\n",
              "    <tr>\n",
              "      <th>14</th>\n",
              "      <td>වතිකානු පුස්තකාලය හා වතිකානු කෞතුකාගාර එකතුව ව...</td>\n",
              "      <td>The Vatican library and Vatican Museum collect...</td>\n",
              "      <td>1.249704</td>\n",
              "      <td>1.263238</td>\n",
              "    </tr>\n",
              "    <tr>\n",
              "      <th>15</th>\n",
              "      <td>\"මේ බණ කීමෙන් යම්කිසි ලාභයක් නොලබමියි සිතා, මො...</td>\n",
              "      <td>\"This scare is thought to be somewhat unprofit...</td>\n",
              "      <td>-1.006360</td>\n",
              "      <td>-1.099047</td>\n",
              "    </tr>\n",
              "    <tr>\n",
              "      <th>16</th>\n",
              "      <td>විශේෂයෙන් එළිෆන්ට් හවුස් ආයතනයේ කාර්ය සාධනය වෙ...</td>\n",
              "      <td>Especially the performance of outfant house is...</td>\n",
              "      <td>-0.082541</td>\n",
              "      <td>0.025620</td>\n",
              "    </tr>\n",
              "    <tr>\n",
              "      <th>17</th>\n",
              "      <td>ද ටයිම්ස් ඔෆ් ඉන්ඩියාහි කාර්තික් පසුපුලාති පැව...</td>\n",
              "      <td>Da Times of India's karthik backlash said that...</td>\n",
              "      <td>0.051940</td>\n",
              "      <td>-0.029707</td>\n",
              "    </tr>\n",
              "    <tr>\n",
              "      <th>18</th>\n",
              "      <td>වොට්සන් ස්ටොක්හෝම් සහලක්ෂණය පිළිබඳ විස්තර කළේ ...</td>\n",
              "      <td>Watson described the Stockholm relief as \"a pr...</td>\n",
              "      <td>-0.336962</td>\n",
              "      <td>0.168058</td>\n",
              "    </tr>\n",
              "    <tr>\n",
              "      <th>19</th>\n",
              "      <td>එනිසාම ඔවුනගේ අධ්‍යයන කටයුතු සංජානනය, සංවේදනය,...</td>\n",
              "      <td>So they did not refer to their studies of sanc...</td>\n",
              "      <td>0.420418</td>\n",
              "      <td>-0.145002</td>\n",
              "    </tr>\n",
              "    <tr>\n",
              "      <th>20</th>\n",
              "      <td>සුදීප් පසුකොට යන උණ්ඩය ඔක්සිජන් සිලින්ඩරයක් තු...</td>\n",
              "      <td>The bullet passing through sudeep is merged in...</td>\n",
              "      <td>0.561932</td>\n",
              "      <td>-0.353208</td>\n",
              "    </tr>\n",
              "    <tr>\n",
              "      <th>21</th>\n",
              "      <td>ඡන්දය දීමේ අභිප්‍රාය යම් පමනකට හෝ වෙනස් වනවා න...</td>\n",
              "      <td>If the intent of voting is to be somewhat diff...</td>\n",
              "      <td>0.228009</td>\n",
              "      <td>0.529277</td>\n",
              "    </tr>\n",
              "    <tr>\n",
              "      <th>22</th>\n",
              "      <td>මව තවත් වෙනත් සළුවක් දුන් විට කුමරු එයද ප්‍රති...</td>\n",
              "      <td>When the mother gave it another cloak, the pri...</td>\n",
              "      <td>1.096381</td>\n",
              "      <td>0.226537</td>\n",
              "    </tr>\n",
              "    <tr>\n",
              "      <th>23</th>\n",
              "      <td>මේ සිදුවීමෙන් දින කිහිපයකට පස්සේ අංගුලිමාල හාම...</td>\n",
              "      <td>Several days after this event, the episode kis...</td>\n",
              "      <td>-1.168332</td>\n",
              "      <td>-1.265960</td>\n",
              "    </tr>\n",
              "    <tr>\n",
              "      <th>24</th>\n",
              "      <td>මේ තත්වය හෙපටයිටිස් B සහ හෙපටයිටිස් C වෛරස් සඳ...</td>\n",
              "      <td>This condition is winding for Hepatitis B and ...</td>\n",
              "      <td>-0.852875</td>\n",
              "      <td>0.223348</td>\n",
              "    </tr>\n",
              "    <tr>\n",
              "      <th>25</th>\n",
              "      <td>මෙය වෙළඳපොලේ සුවිශාල බලයක් හිමිකරගැනීමට හේතුවී...</td>\n",
              "      <td>This has caused the market to claim extraordin...</td>\n",
              "      <td>0.508682</td>\n",
              "      <td>1.175170</td>\n",
              "    </tr>\n",
              "    <tr>\n",
              "      <th>26</th>\n",
              "      <td>මාක් ගැබෝල්ඩ් ප්‍රකාශ කරන්නේ ටුටන්ඛාටන් අමර්ණහ...</td>\n",
              "      <td>Mark Gabold declares that the state did not co...</td>\n",
              "      <td>-0.605324</td>\n",
              "      <td>-0.457246</td>\n",
              "    </tr>\n",
              "    <tr>\n",
              "      <th>27</th>\n",
              "      <td>ජීවිතාරක්ෂක බෝට්ටු තිබුණේ නැව මත සිටි පිරිසෙන්...</td>\n",
              "      <td>Lifeboats were only about half of the crew on ...</td>\n",
              "      <td>-0.262248</td>\n",
              "      <td>0.451706</td>\n",
              "    </tr>\n",
              "    <tr>\n",
              "      <th>28</th>\n",
              "      <td>ප්‍රජාපත්‍ර කලාවේදය පිළිබදව අදහස,පත්‍රකලාවේදයේ...</td>\n",
              "      <td>The idea of democratic art, has been applied t...</td>\n",
              "      <td>0.148668</td>\n",
              "      <td>0.893934</td>\n",
              "    </tr>\n",
              "    <tr>\n",
              "      <th>29</th>\n",
              "      <td>එහි බැක්ටිරියාවක් ප්‍රතිජිවකය ප්‍රතිචාර දැක්වි...</td>\n",
              "      <td>It has a bacterium in response to the antibact...</td>\n",
              "      <td>0.051067</td>\n",
              "      <td>-0.019786</td>\n",
              "    </tr>\n",
              "  </tbody>\n",
              "</table>\n",
              "</div>"
            ],
            "text/plain": [
              "                                             original  ... pred_zscore\n",
              "0   ඔහු ජෙෆෙර්සන් ගේ දිව්රුම් දීමට ප්‍රථමයෙන් වොෂි...  ...    0.003705\n",
              "1   මෙම සිතුවම් මගින් පුරාතන රාජධානියේ එදිනෙදා දිව...  ...    1.238565\n",
              "2   ප්ලේටෝ ඉදිරිපත් කරන පරිදි මරණාභිමුඛ වූ සොක්‍රට...  ...   -0.279472\n",
              "3   ආසියාවේ වර්ධනය වෙමින් පවතින සමෘධිමත් බවද මෙයට ...  ...    0.470448\n",
              "4   ගුප්තවරුන්ගේ මුල් බිම සම්බන්ධයෙන් විද්වතුන් අත...  ...   -0.112943\n",
              "5   මේ තත්වය යෝග අභ්‍යාස මගින් බොහෝ දුරට වළක්වා ගැ...  ...   -0.372492\n",
              "6   එසේම කාන්තාවන් පුරුෂයන්ටය වඩා අසාමාන්‍ය චර්යාව...  ...   -0.480774\n",
              "7   ඇතැම් අවස්ථාවන්හිදී පොදු ජන එක්සත් පෙරමුණ නියෝ...  ...    0.893146\n",
              "8   මේ අතරින් වඩාත්ම ව්‍යසනකාරී වූයේ 874 සිට 884 ද...  ...    1.171833\n",
              "9   මෙය නිෂ්පාදකයා පැවසූ පරිදි 4K ප්‍රක්ෂේපක ක්‍රම...  ...    0.599359\n",
              "10  ග්යොංබොක්ගුංහි පාලනය සියතට ගත් විගස, දේවොන්ගුන...  ...    0.036433\n",
              "11  තවද, ඔවුන් පත්‍ර මතට උණු කල තෙල් සහ විනාකිරි ම...  ...   -0.915247\n",
              "12  vi.\\tපුද්ගලයා සහ සමාජය රාජ්‍ය යේ බලයට නිර්දය ල...  ...   -0.991765\n",
              "13  ආහාරයන් වෙනුවට, ඇඳුම් පැළදුම් රෑපවාහිනී වැඩසටහ...  ...   -0.934932\n",
              "14  වතිකානු පුස්තකාලය හා වතිකානු කෞතුකාගාර එකතුව ව...  ...    1.263238\n",
              "15  \"මේ බණ කීමෙන් යම්කිසි ලාභයක් නොලබමියි සිතා, මො...  ...   -1.099047\n",
              "16  විශේෂයෙන් එළිෆන්ට් හවුස් ආයතනයේ කාර්ය සාධනය වෙ...  ...    0.025620\n",
              "17  ද ටයිම්ස් ඔෆ් ඉන්ඩියාහි කාර්තික් පසුපුලාති පැව...  ...   -0.029707\n",
              "18  වොට්සන් ස්ටොක්හෝම් සහලක්ෂණය පිළිබඳ විස්තර කළේ ...  ...    0.168058\n",
              "19  එනිසාම ඔවුනගේ අධ්‍යයන කටයුතු සංජානනය, සංවේදනය,...  ...   -0.145002\n",
              "20  සුදීප් පසුකොට යන උණ්ඩය ඔක්සිජන් සිලින්ඩරයක් තු...  ...   -0.353208\n",
              "21  ඡන්දය දීමේ අභිප්‍රාය යම් පමනකට හෝ වෙනස් වනවා න...  ...    0.529277\n",
              "22  මව තවත් වෙනත් සළුවක් දුන් විට කුමරු එයද ප්‍රති...  ...    0.226537\n",
              "23  මේ සිදුවීමෙන් දින කිහිපයකට පස්සේ අංගුලිමාල හාම...  ...   -1.265960\n",
              "24  මේ තත්වය හෙපටයිටිස් B සහ හෙපටයිටිස් C වෛරස් සඳ...  ...    0.223348\n",
              "25  මෙය වෙළඳපොලේ සුවිශාල බලයක් හිමිකරගැනීමට හේතුවී...  ...    1.175170\n",
              "26  මාක් ගැබෝල්ඩ් ප්‍රකාශ කරන්නේ ටුටන්ඛාටන් අමර්ණහ...  ...   -0.457246\n",
              "27  ජීවිතාරක්ෂක බෝට්ටු තිබුණේ නැව මත සිටි පිරිසෙන්...  ...    0.451706\n",
              "28  ප්‍රජාපත්‍ර කලාවේදය පිළිබදව අදහස,පත්‍රකලාවේදයේ...  ...    0.893934\n",
              "29  එහි බැක්ටිරියාවක් ප්‍රතිජිවකය ප්‍රතිචාර දැක්වි...  ...   -0.019786\n",
              "\n",
              "[30 rows x 4 columns]"
            ]
          },
          "metadata": {
            "tags": []
          },
          "execution_count": 33
        }
      ]
    },
    {
      "cell_type": "code",
      "metadata": {
        "colab": {
          "base_uri": "https://localhost:8080/"
        },
        "id": "J5v5AaJNExwa",
        "outputId": "5403139e-a790-42a6-cfa2-370683bdd1e4"
      },
      "source": [
        "# Get evaluation metrics\n",
        "pearson, _ = stats.pearsonr(df_results['pred_zscore'], df_results['z_mean'])\n",
        "rmse = mean_squared_error(df_results['z_mean'], df_results['pred_zscore'], squared=False)\n",
        "mae = mean_absolute_error(df_results['z_mean'], df_results['pred_zscore'])\n",
        "print(\"Pearson: {}\".format(pearson))\n",
        "print(\"RMSE: {}\".format(rmse))\n",
        "print(\"MAE: {}\".format(mae))\n"
      ],
      "id": "J5v5AaJNExwa",
      "execution_count": 34,
      "outputs": [
        {
          "output_type": "stream",
          "text": [
            "Pearson: 0.6127661221198769\n",
            "RMSE: 0.6524848861955165\n",
            "MAE: 0.5144639736096677\n"
          ],
          "name": "stdout"
        }
      ]
    },
    {
      "cell_type": "code",
      "metadata": {
        "id": "BKLfl0dexpll"
      },
      "source": [
        "# Save predictions to tsv\n",
        "df_results.to_csv(results_path, sep = '\\t', index=False)"
      ],
      "id": "BKLfl0dexpll",
      "execution_count": 35,
      "outputs": []
    },
    {
      "cell_type": "code",
      "metadata": {
        "id": "fUmt0RcC4LYB"
      },
      "source": [
        ""
      ],
      "id": "fUmt0RcC4LYB",
      "execution_count": null,
      "outputs": []
    }
  ]
}