{
  "nbformat": 4,
  "nbformat_minor": 5,
  "metadata": {
    "kernelspec": {
      "name": "python3",
      "display_name": "Python 3"
    },
    "colab": {
      "name": "transquest_v3.ipynb",
      "provenance": [],
      "collapsed_sections": [],
      "toc_visible": true,
      "include_colab_link": true
    },
    "language_info": {
      "name": "python"
    },
    "accelerator": "GPU",
    "widgets": {
      "application/vnd.jupyter.widget-state+json": {
        "94f1e29e5e8948368e5bc64c7709d328": {
          "model_module": "@jupyter-widgets/controls",
          "model_name": "HBoxModel",
          "state": {
            "_view_name": "HBoxView",
            "_dom_classes": [],
            "_model_name": "HBoxModel",
            "_view_module": "@jupyter-widgets/controls",
            "_model_module_version": "1.5.0",
            "_view_count": null,
            "_view_module_version": "1.5.0",
            "box_style": "",
            "layout": "IPY_MODEL_63a7c5efeaed4fc39163a629ed5d470e",
            "_model_module": "@jupyter-widgets/controls",
            "children": [
              "IPY_MODEL_10d0507995e3409380451f38c5a8a504",
              "IPY_MODEL_25e934e260ba402394925d644c6aee7f"
            ]
          }
        },
        "63a7c5efeaed4fc39163a629ed5d470e": {
          "model_module": "@jupyter-widgets/base",
          "model_name": "LayoutModel",
          "state": {
            "_view_name": "LayoutView",
            "grid_template_rows": null,
            "right": null,
            "justify_content": null,
            "_view_module": "@jupyter-widgets/base",
            "overflow": null,
            "_model_module_version": "1.2.0",
            "_view_count": null,
            "flex_flow": null,
            "width": null,
            "min_width": null,
            "border": null,
            "align_items": null,
            "bottom": null,
            "_model_module": "@jupyter-widgets/base",
            "top": null,
            "grid_column": null,
            "overflow_y": null,
            "overflow_x": null,
            "grid_auto_flow": null,
            "grid_area": null,
            "grid_template_columns": null,
            "flex": null,
            "_model_name": "LayoutModel",
            "justify_items": null,
            "grid_row": null,
            "max_height": null,
            "align_content": null,
            "visibility": null,
            "align_self": null,
            "height": null,
            "min_height": null,
            "padding": null,
            "grid_auto_rows": null,
            "grid_gap": null,
            "max_width": null,
            "order": null,
            "_view_module_version": "1.2.0",
            "grid_template_areas": null,
            "object_position": null,
            "object_fit": null,
            "grid_auto_columns": null,
            "margin": null,
            "display": null,
            "left": null
          }
        },
        "10d0507995e3409380451f38c5a8a504": {
          "model_module": "@jupyter-widgets/controls",
          "model_name": "FloatProgressModel",
          "state": {
            "_view_name": "ProgressView",
            "style": "IPY_MODEL_57fb896d959947e19c16c8857ab5de3e",
            "_dom_classes": [],
            "description": "Downloading: 100%",
            "_model_name": "FloatProgressModel",
            "bar_style": "success",
            "max": 513,
            "_view_module": "@jupyter-widgets/controls",
            "_model_module_version": "1.5.0",
            "value": 513,
            "_view_count": null,
            "_view_module_version": "1.5.0",
            "orientation": "horizontal",
            "min": 0,
            "description_tooltip": null,
            "_model_module": "@jupyter-widgets/controls",
            "layout": "IPY_MODEL_a935751a00394cbda7807a04d564ca01"
          }
        },
        "25e934e260ba402394925d644c6aee7f": {
          "model_module": "@jupyter-widgets/controls",
          "model_name": "HTMLModel",
          "state": {
            "_view_name": "HTMLView",
            "style": "IPY_MODEL_648a4c5d774e4463aebf75bb9af9d9ea",
            "_dom_classes": [],
            "description": "",
            "_model_name": "HTMLModel",
            "placeholder": "​",
            "_view_module": "@jupyter-widgets/controls",
            "_model_module_version": "1.5.0",
            "value": " 513/513 [01:31&lt;00:00, 5.58B/s]",
            "_view_count": null,
            "_view_module_version": "1.5.0",
            "description_tooltip": null,
            "_model_module": "@jupyter-widgets/controls",
            "layout": "IPY_MODEL_b637e33d07bc4b33a0f406983817ea89"
          }
        },
        "57fb896d959947e19c16c8857ab5de3e": {
          "model_module": "@jupyter-widgets/controls",
          "model_name": "ProgressStyleModel",
          "state": {
            "_view_name": "StyleView",
            "_model_name": "ProgressStyleModel",
            "description_width": "initial",
            "_view_module": "@jupyter-widgets/base",
            "_model_module_version": "1.5.0",
            "_view_count": null,
            "_view_module_version": "1.2.0",
            "bar_color": null,
            "_model_module": "@jupyter-widgets/controls"
          }
        },
        "a935751a00394cbda7807a04d564ca01": {
          "model_module": "@jupyter-widgets/base",
          "model_name": "LayoutModel",
          "state": {
            "_view_name": "LayoutView",
            "grid_template_rows": null,
            "right": null,
            "justify_content": null,
            "_view_module": "@jupyter-widgets/base",
            "overflow": null,
            "_model_module_version": "1.2.0",
            "_view_count": null,
            "flex_flow": null,
            "width": null,
            "min_width": null,
            "border": null,
            "align_items": null,
            "bottom": null,
            "_model_module": "@jupyter-widgets/base",
            "top": null,
            "grid_column": null,
            "overflow_y": null,
            "overflow_x": null,
            "grid_auto_flow": null,
            "grid_area": null,
            "grid_template_columns": null,
            "flex": null,
            "_model_name": "LayoutModel",
            "justify_items": null,
            "grid_row": null,
            "max_height": null,
            "align_content": null,
            "visibility": null,
            "align_self": null,
            "height": null,
            "min_height": null,
            "padding": null,
            "grid_auto_rows": null,
            "grid_gap": null,
            "max_width": null,
            "order": null,
            "_view_module_version": "1.2.0",
            "grid_template_areas": null,
            "object_position": null,
            "object_fit": null,
            "grid_auto_columns": null,
            "margin": null,
            "display": null,
            "left": null
          }
        },
        "648a4c5d774e4463aebf75bb9af9d9ea": {
          "model_module": "@jupyter-widgets/controls",
          "model_name": "DescriptionStyleModel",
          "state": {
            "_view_name": "StyleView",
            "_model_name": "DescriptionStyleModel",
            "description_width": "",
            "_view_module": "@jupyter-widgets/base",
            "_model_module_version": "1.5.0",
            "_view_count": null,
            "_view_module_version": "1.2.0",
            "_model_module": "@jupyter-widgets/controls"
          }
        },
        "b637e33d07bc4b33a0f406983817ea89": {
          "model_module": "@jupyter-widgets/base",
          "model_name": "LayoutModel",
          "state": {
            "_view_name": "LayoutView",
            "grid_template_rows": null,
            "right": null,
            "justify_content": null,
            "_view_module": "@jupyter-widgets/base",
            "overflow": null,
            "_model_module_version": "1.2.0",
            "_view_count": null,
            "flex_flow": null,
            "width": null,
            "min_width": null,
            "border": null,
            "align_items": null,
            "bottom": null,
            "_model_module": "@jupyter-widgets/base",
            "top": null,
            "grid_column": null,
            "overflow_y": null,
            "overflow_x": null,
            "grid_auto_flow": null,
            "grid_area": null,
            "grid_template_columns": null,
            "flex": null,
            "_model_name": "LayoutModel",
            "justify_items": null,
            "grid_row": null,
            "max_height": null,
            "align_content": null,
            "visibility": null,
            "align_self": null,
            "height": null,
            "min_height": null,
            "padding": null,
            "grid_auto_rows": null,
            "grid_gap": null,
            "max_width": null,
            "order": null,
            "_view_module_version": "1.2.0",
            "grid_template_areas": null,
            "object_position": null,
            "object_fit": null,
            "grid_auto_columns": null,
            "margin": null,
            "display": null,
            "left": null
          }
        },
        "0f5abae4167d4739a546ab9a459384d7": {
          "model_module": "@jupyter-widgets/controls",
          "model_name": "HBoxModel",
          "state": {
            "_view_name": "HBoxView",
            "_dom_classes": [],
            "_model_name": "HBoxModel",
            "_view_module": "@jupyter-widgets/controls",
            "_model_module_version": "1.5.0",
            "_view_count": null,
            "_view_module_version": "1.5.0",
            "box_style": "",
            "layout": "IPY_MODEL_971ff30ea7f94b0f87bf1de9cd534459",
            "_model_module": "@jupyter-widgets/controls",
            "children": [
              "IPY_MODEL_a4476fa5cddc49af89161cecb22a9696",
              "IPY_MODEL_87f4263fb2e044c28b7adc242d66aeb3"
            ]
          }
        },
        "971ff30ea7f94b0f87bf1de9cd534459": {
          "model_module": "@jupyter-widgets/base",
          "model_name": "LayoutModel",
          "state": {
            "_view_name": "LayoutView",
            "grid_template_rows": null,
            "right": null,
            "justify_content": null,
            "_view_module": "@jupyter-widgets/base",
            "overflow": null,
            "_model_module_version": "1.2.0",
            "_view_count": null,
            "flex_flow": null,
            "width": null,
            "min_width": null,
            "border": null,
            "align_items": null,
            "bottom": null,
            "_model_module": "@jupyter-widgets/base",
            "top": null,
            "grid_column": null,
            "overflow_y": null,
            "overflow_x": null,
            "grid_auto_flow": null,
            "grid_area": null,
            "grid_template_columns": null,
            "flex": null,
            "_model_name": "LayoutModel",
            "justify_items": null,
            "grid_row": null,
            "max_height": null,
            "align_content": null,
            "visibility": null,
            "align_self": null,
            "height": null,
            "min_height": null,
            "padding": null,
            "grid_auto_rows": null,
            "grid_gap": null,
            "max_width": null,
            "order": null,
            "_view_module_version": "1.2.0",
            "grid_template_areas": null,
            "object_position": null,
            "object_fit": null,
            "grid_auto_columns": null,
            "margin": null,
            "display": null,
            "left": null
          }
        },
        "a4476fa5cddc49af89161cecb22a9696": {
          "model_module": "@jupyter-widgets/controls",
          "model_name": "FloatProgressModel",
          "state": {
            "_view_name": "ProgressView",
            "style": "IPY_MODEL_b764c3bb9e1645c7a0de91eb39d0ddfa",
            "_dom_classes": [],
            "description": "Downloading: 100%",
            "_model_name": "FloatProgressModel",
            "bar_style": "success",
            "max": 5069051,
            "_view_module": "@jupyter-widgets/controls",
            "_model_module_version": "1.5.0",
            "value": 5069051,
            "_view_count": null,
            "_view_module_version": "1.5.0",
            "orientation": "horizontal",
            "min": 0,
            "description_tooltip": null,
            "_model_module": "@jupyter-widgets/controls",
            "layout": "IPY_MODEL_4e398fdce98b4d6ba5ea23e273578647"
          }
        },
        "87f4263fb2e044c28b7adc242d66aeb3": {
          "model_module": "@jupyter-widgets/controls",
          "model_name": "HTMLModel",
          "state": {
            "_view_name": "HTMLView",
            "style": "IPY_MODEL_75c06e5562fc49cba9c852c97f6caa16",
            "_dom_classes": [],
            "description": "",
            "_model_name": "HTMLModel",
            "placeholder": "​",
            "_view_module": "@jupyter-widgets/controls",
            "_model_module_version": "1.5.0",
            "value": " 5.07M/5.07M [00:06&lt;00:00, 825kB/s]",
            "_view_count": null,
            "_view_module_version": "1.5.0",
            "description_tooltip": null,
            "_model_module": "@jupyter-widgets/controls",
            "layout": "IPY_MODEL_ec46ec4d3d994b56a68abd1475192279"
          }
        },
        "b764c3bb9e1645c7a0de91eb39d0ddfa": {
          "model_module": "@jupyter-widgets/controls",
          "model_name": "ProgressStyleModel",
          "state": {
            "_view_name": "StyleView",
            "_model_name": "ProgressStyleModel",
            "description_width": "initial",
            "_view_module": "@jupyter-widgets/base",
            "_model_module_version": "1.5.0",
            "_view_count": null,
            "_view_module_version": "1.2.0",
            "bar_color": null,
            "_model_module": "@jupyter-widgets/controls"
          }
        },
        "4e398fdce98b4d6ba5ea23e273578647": {
          "model_module": "@jupyter-widgets/base",
          "model_name": "LayoutModel",
          "state": {
            "_view_name": "LayoutView",
            "grid_template_rows": null,
            "right": null,
            "justify_content": null,
            "_view_module": "@jupyter-widgets/base",
            "overflow": null,
            "_model_module_version": "1.2.0",
            "_view_count": null,
            "flex_flow": null,
            "width": null,
            "min_width": null,
            "border": null,
            "align_items": null,
            "bottom": null,
            "_model_module": "@jupyter-widgets/base",
            "top": null,
            "grid_column": null,
            "overflow_y": null,
            "overflow_x": null,
            "grid_auto_flow": null,
            "grid_area": null,
            "grid_template_columns": null,
            "flex": null,
            "_model_name": "LayoutModel",
            "justify_items": null,
            "grid_row": null,
            "max_height": null,
            "align_content": null,
            "visibility": null,
            "align_self": null,
            "height": null,
            "min_height": null,
            "padding": null,
            "grid_auto_rows": null,
            "grid_gap": null,
            "max_width": null,
            "order": null,
            "_view_module_version": "1.2.0",
            "grid_template_areas": null,
            "object_position": null,
            "object_fit": null,
            "grid_auto_columns": null,
            "margin": null,
            "display": null,
            "left": null
          }
        },
        "75c06e5562fc49cba9c852c97f6caa16": {
          "model_module": "@jupyter-widgets/controls",
          "model_name": "DescriptionStyleModel",
          "state": {
            "_view_name": "StyleView",
            "_model_name": "DescriptionStyleModel",
            "description_width": "",
            "_view_module": "@jupyter-widgets/base",
            "_model_module_version": "1.5.0",
            "_view_count": null,
            "_view_module_version": "1.2.0",
            "_model_module": "@jupyter-widgets/controls"
          }
        },
        "ec46ec4d3d994b56a68abd1475192279": {
          "model_module": "@jupyter-widgets/base",
          "model_name": "LayoutModel",
          "state": {
            "_view_name": "LayoutView",
            "grid_template_rows": null,
            "right": null,
            "justify_content": null,
            "_view_module": "@jupyter-widgets/base",
            "overflow": null,
            "_model_module_version": "1.2.0",
            "_view_count": null,
            "flex_flow": null,
            "width": null,
            "min_width": null,
            "border": null,
            "align_items": null,
            "bottom": null,
            "_model_module": "@jupyter-widgets/base",
            "top": null,
            "grid_column": null,
            "overflow_y": null,
            "overflow_x": null,
            "grid_auto_flow": null,
            "grid_area": null,
            "grid_template_columns": null,
            "flex": null,
            "_model_name": "LayoutModel",
            "justify_items": null,
            "grid_row": null,
            "max_height": null,
            "align_content": null,
            "visibility": null,
            "align_self": null,
            "height": null,
            "min_height": null,
            "padding": null,
            "grid_auto_rows": null,
            "grid_gap": null,
            "max_width": null,
            "order": null,
            "_view_module_version": "1.2.0",
            "grid_template_areas": null,
            "object_position": null,
            "object_fit": null,
            "grid_auto_columns": null,
            "margin": null,
            "display": null,
            "left": null
          }
        },
        "1f9c5201efe84b249ee04be69743a32a": {
          "model_module": "@jupyter-widgets/controls",
          "model_name": "HBoxModel",
          "state": {
            "_view_name": "HBoxView",
            "_dom_classes": [],
            "_model_name": "HBoxModel",
            "_view_module": "@jupyter-widgets/controls",
            "_model_module_version": "1.5.0",
            "_view_count": null,
            "_view_module_version": "1.5.0",
            "box_style": "",
            "layout": "IPY_MODEL_8e22ee9c35fd4ccd96d75c1a146040ef",
            "_model_module": "@jupyter-widgets/controls",
            "children": [
              "IPY_MODEL_47ca539254f14c6ea08d27e0044540d6",
              "IPY_MODEL_c2325226a8974f9495dbfe4515dd6b32"
            ]
          }
        },
        "8e22ee9c35fd4ccd96d75c1a146040ef": {
          "model_module": "@jupyter-widgets/base",
          "model_name": "LayoutModel",
          "state": {
            "_view_name": "LayoutView",
            "grid_template_rows": null,
            "right": null,
            "justify_content": null,
            "_view_module": "@jupyter-widgets/base",
            "overflow": null,
            "_model_module_version": "1.2.0",
            "_view_count": null,
            "flex_flow": null,
            "width": null,
            "min_width": null,
            "border": null,
            "align_items": null,
            "bottom": null,
            "_model_module": "@jupyter-widgets/base",
            "top": null,
            "grid_column": null,
            "overflow_y": null,
            "overflow_x": null,
            "grid_auto_flow": null,
            "grid_area": null,
            "grid_template_columns": null,
            "flex": null,
            "_model_name": "LayoutModel",
            "justify_items": null,
            "grid_row": null,
            "max_height": null,
            "align_content": null,
            "visibility": null,
            "align_self": null,
            "height": null,
            "min_height": null,
            "padding": null,
            "grid_auto_rows": null,
            "grid_gap": null,
            "max_width": null,
            "order": null,
            "_view_module_version": "1.2.0",
            "grid_template_areas": null,
            "object_position": null,
            "object_fit": null,
            "grid_auto_columns": null,
            "margin": null,
            "display": null,
            "left": null
          }
        },
        "47ca539254f14c6ea08d27e0044540d6": {
          "model_module": "@jupyter-widgets/controls",
          "model_name": "FloatProgressModel",
          "state": {
            "_view_name": "ProgressView",
            "style": "IPY_MODEL_4daee1a270084756a7796ffbd0dcac17",
            "_dom_classes": [],
            "description": "Downloading: 100%",
            "_model_name": "FloatProgressModel",
            "bar_style": "success",
            "max": 2244861551,
            "_view_module": "@jupyter-widgets/controls",
            "_model_module_version": "1.5.0",
            "value": 2244861551,
            "_view_count": null,
            "_view_module_version": "1.5.0",
            "orientation": "horizontal",
            "min": 0,
            "description_tooltip": null,
            "_model_module": "@jupyter-widgets/controls",
            "layout": "IPY_MODEL_3ee16a62ed784c1bb6b86703bea2638e"
          }
        },
        "c2325226a8974f9495dbfe4515dd6b32": {
          "model_module": "@jupyter-widgets/controls",
          "model_name": "HTMLModel",
          "state": {
            "_view_name": "HTMLView",
            "style": "IPY_MODEL_051b8f2bf74d4b6c89455a2c55dbe11d",
            "_dom_classes": [],
            "description": "",
            "_model_name": "HTMLModel",
            "placeholder": "​",
            "_view_module": "@jupyter-widgets/controls",
            "_model_module_version": "1.5.0",
            "value": " 2.24G/2.24G [00:46&lt;00:00, 48.8MB/s]",
            "_view_count": null,
            "_view_module_version": "1.5.0",
            "description_tooltip": null,
            "_model_module": "@jupyter-widgets/controls",
            "layout": "IPY_MODEL_d48a8e2b780747bc990c866383c4884c"
          }
        },
        "4daee1a270084756a7796ffbd0dcac17": {
          "model_module": "@jupyter-widgets/controls",
          "model_name": "ProgressStyleModel",
          "state": {
            "_view_name": "StyleView",
            "_model_name": "ProgressStyleModel",
            "description_width": "initial",
            "_view_module": "@jupyter-widgets/base",
            "_model_module_version": "1.5.0",
            "_view_count": null,
            "_view_module_version": "1.2.0",
            "bar_color": null,
            "_model_module": "@jupyter-widgets/controls"
          }
        },
        "3ee16a62ed784c1bb6b86703bea2638e": {
          "model_module": "@jupyter-widgets/base",
          "model_name": "LayoutModel",
          "state": {
            "_view_name": "LayoutView",
            "grid_template_rows": null,
            "right": null,
            "justify_content": null,
            "_view_module": "@jupyter-widgets/base",
            "overflow": null,
            "_model_module_version": "1.2.0",
            "_view_count": null,
            "flex_flow": null,
            "width": null,
            "min_width": null,
            "border": null,
            "align_items": null,
            "bottom": null,
            "_model_module": "@jupyter-widgets/base",
            "top": null,
            "grid_column": null,
            "overflow_y": null,
            "overflow_x": null,
            "grid_auto_flow": null,
            "grid_area": null,
            "grid_template_columns": null,
            "flex": null,
            "_model_name": "LayoutModel",
            "justify_items": null,
            "grid_row": null,
            "max_height": null,
            "align_content": null,
            "visibility": null,
            "align_self": null,
            "height": null,
            "min_height": null,
            "padding": null,
            "grid_auto_rows": null,
            "grid_gap": null,
            "max_width": null,
            "order": null,
            "_view_module_version": "1.2.0",
            "grid_template_areas": null,
            "object_position": null,
            "object_fit": null,
            "grid_auto_columns": null,
            "margin": null,
            "display": null,
            "left": null
          }
        },
        "051b8f2bf74d4b6c89455a2c55dbe11d": {
          "model_module": "@jupyter-widgets/controls",
          "model_name": "DescriptionStyleModel",
          "state": {
            "_view_name": "StyleView",
            "_model_name": "DescriptionStyleModel",
            "description_width": "",
            "_view_module": "@jupyter-widgets/base",
            "_model_module_version": "1.5.0",
            "_view_count": null,
            "_view_module_version": "1.2.0",
            "_model_module": "@jupyter-widgets/controls"
          }
        },
        "d48a8e2b780747bc990c866383c4884c": {
          "model_module": "@jupyter-widgets/base",
          "model_name": "LayoutModel",
          "state": {
            "_view_name": "LayoutView",
            "grid_template_rows": null,
            "right": null,
            "justify_content": null,
            "_view_module": "@jupyter-widgets/base",
            "overflow": null,
            "_model_module_version": "1.2.0",
            "_view_count": null,
            "flex_flow": null,
            "width": null,
            "min_width": null,
            "border": null,
            "align_items": null,
            "bottom": null,
            "_model_module": "@jupyter-widgets/base",
            "top": null,
            "grid_column": null,
            "overflow_y": null,
            "overflow_x": null,
            "grid_auto_flow": null,
            "grid_area": null,
            "grid_template_columns": null,
            "flex": null,
            "_model_name": "LayoutModel",
            "justify_items": null,
            "grid_row": null,
            "max_height": null,
            "align_content": null,
            "visibility": null,
            "align_self": null,
            "height": null,
            "min_height": null,
            "padding": null,
            "grid_auto_rows": null,
            "grid_gap": null,
            "max_width": null,
            "order": null,
            "_view_module_version": "1.2.0",
            "grid_template_areas": null,
            "object_position": null,
            "object_fit": null,
            "grid_auto_columns": null,
            "margin": null,
            "display": null,
            "left": null
          }
        },
        "a732c4ce5c42479fa57c378a48d3980c": {
          "model_module": "@jupyter-widgets/controls",
          "model_name": "HBoxModel",
          "state": {
            "_view_name": "HBoxView",
            "_dom_classes": [],
            "_model_name": "HBoxModel",
            "_view_module": "@jupyter-widgets/controls",
            "_model_module_version": "1.5.0",
            "_view_count": null,
            "_view_module_version": "1.5.0",
            "box_style": "",
            "layout": "IPY_MODEL_756f80078e08493ab95463ec19e8b94f",
            "_model_module": "@jupyter-widgets/controls",
            "children": [
              "IPY_MODEL_f314583a8db94152a85d3886bd76f8fc",
              "IPY_MODEL_c12fd71cb4dc4cc3bd80c4b138181c10"
            ]
          }
        },
        "756f80078e08493ab95463ec19e8b94f": {
          "model_module": "@jupyter-widgets/base",
          "model_name": "LayoutModel",
          "state": {
            "_view_name": "LayoutView",
            "grid_template_rows": null,
            "right": null,
            "justify_content": null,
            "_view_module": "@jupyter-widgets/base",
            "overflow": null,
            "_model_module_version": "1.2.0",
            "_view_count": null,
            "flex_flow": null,
            "width": null,
            "min_width": null,
            "border": null,
            "align_items": null,
            "bottom": null,
            "_model_module": "@jupyter-widgets/base",
            "top": null,
            "grid_column": null,
            "overflow_y": null,
            "overflow_x": null,
            "grid_auto_flow": null,
            "grid_area": null,
            "grid_template_columns": null,
            "flex": null,
            "_model_name": "LayoutModel",
            "justify_items": null,
            "grid_row": null,
            "max_height": null,
            "align_content": null,
            "visibility": null,
            "align_self": null,
            "height": null,
            "min_height": null,
            "padding": null,
            "grid_auto_rows": null,
            "grid_gap": null,
            "max_width": null,
            "order": null,
            "_view_module_version": "1.2.0",
            "grid_template_areas": null,
            "object_position": null,
            "object_fit": null,
            "grid_auto_columns": null,
            "margin": null,
            "display": null,
            "left": null
          }
        },
        "f314583a8db94152a85d3886bd76f8fc": {
          "model_module": "@jupyter-widgets/controls",
          "model_name": "FloatProgressModel",
          "state": {
            "_view_name": "ProgressView",
            "style": "IPY_MODEL_58f2c3b5e1a14b2c81c850974ec07149",
            "_dom_classes": [],
            "description": "Downloading: 100%",
            "_model_name": "FloatProgressModel",
            "bar_style": "success",
            "max": 2244861551,
            "_view_module": "@jupyter-widgets/controls",
            "_model_module_version": "1.5.0",
            "value": 2244861551,
            "_view_count": null,
            "_view_module_version": "1.5.0",
            "orientation": "horizontal",
            "min": 0,
            "description_tooltip": null,
            "_model_module": "@jupyter-widgets/controls",
            "layout": "IPY_MODEL_0eb7194d7c8440e794d9fb2b1503d844"
          }
        },
        "c12fd71cb4dc4cc3bd80c4b138181c10": {
          "model_module": "@jupyter-widgets/controls",
          "model_name": "HTMLModel",
          "state": {
            "_view_name": "HTMLView",
            "style": "IPY_MODEL_bdc901b3b2814a1dbdae99fa802a16c7",
            "_dom_classes": [],
            "description": "",
            "_model_name": "HTMLModel",
            "placeholder": "​",
            "_view_module": "@jupyter-widgets/controls",
            "_model_module_version": "1.5.0",
            "value": " 2.24G/2.24G [00:55&lt;00:00, 40.3MB/s]",
            "_view_count": null,
            "_view_module_version": "1.5.0",
            "description_tooltip": null,
            "_model_module": "@jupyter-widgets/controls",
            "layout": "IPY_MODEL_f053187afc35473ba31d31906326beb9"
          }
        },
        "58f2c3b5e1a14b2c81c850974ec07149": {
          "model_module": "@jupyter-widgets/controls",
          "model_name": "ProgressStyleModel",
          "state": {
            "_view_name": "StyleView",
            "_model_name": "ProgressStyleModel",
            "description_width": "initial",
            "_view_module": "@jupyter-widgets/base",
            "_model_module_version": "1.5.0",
            "_view_count": null,
            "_view_module_version": "1.2.0",
            "bar_color": null,
            "_model_module": "@jupyter-widgets/controls"
          }
        },
        "0eb7194d7c8440e794d9fb2b1503d844": {
          "model_module": "@jupyter-widgets/base",
          "model_name": "LayoutModel",
          "state": {
            "_view_name": "LayoutView",
            "grid_template_rows": null,
            "right": null,
            "justify_content": null,
            "_view_module": "@jupyter-widgets/base",
            "overflow": null,
            "_model_module_version": "1.2.0",
            "_view_count": null,
            "flex_flow": null,
            "width": null,
            "min_width": null,
            "border": null,
            "align_items": null,
            "bottom": null,
            "_model_module": "@jupyter-widgets/base",
            "top": null,
            "grid_column": null,
            "overflow_y": null,
            "overflow_x": null,
            "grid_auto_flow": null,
            "grid_area": null,
            "grid_template_columns": null,
            "flex": null,
            "_model_name": "LayoutModel",
            "justify_items": null,
            "grid_row": null,
            "max_height": null,
            "align_content": null,
            "visibility": null,
            "align_self": null,
            "height": null,
            "min_height": null,
            "padding": null,
            "grid_auto_rows": null,
            "grid_gap": null,
            "max_width": null,
            "order": null,
            "_view_module_version": "1.2.0",
            "grid_template_areas": null,
            "object_position": null,
            "object_fit": null,
            "grid_auto_columns": null,
            "margin": null,
            "display": null,
            "left": null
          }
        },
        "bdc901b3b2814a1dbdae99fa802a16c7": {
          "model_module": "@jupyter-widgets/controls",
          "model_name": "DescriptionStyleModel",
          "state": {
            "_view_name": "StyleView",
            "_model_name": "DescriptionStyleModel",
            "description_width": "",
            "_view_module": "@jupyter-widgets/base",
            "_model_module_version": "1.5.0",
            "_view_count": null,
            "_view_module_version": "1.2.0",
            "_model_module": "@jupyter-widgets/controls"
          }
        },
        "f053187afc35473ba31d31906326beb9": {
          "model_module": "@jupyter-widgets/base",
          "model_name": "LayoutModel",
          "state": {
            "_view_name": "LayoutView",
            "grid_template_rows": null,
            "right": null,
            "justify_content": null,
            "_view_module": "@jupyter-widgets/base",
            "overflow": null,
            "_model_module_version": "1.2.0",
            "_view_count": null,
            "flex_flow": null,
            "width": null,
            "min_width": null,
            "border": null,
            "align_items": null,
            "bottom": null,
            "_model_module": "@jupyter-widgets/base",
            "top": null,
            "grid_column": null,
            "overflow_y": null,
            "overflow_x": null,
            "grid_auto_flow": null,
            "grid_area": null,
            "grid_template_columns": null,
            "flex": null,
            "_model_name": "LayoutModel",
            "justify_items": null,
            "grid_row": null,
            "max_height": null,
            "align_content": null,
            "visibility": null,
            "align_self": null,
            "height": null,
            "min_height": null,
            "padding": null,
            "grid_auto_rows": null,
            "grid_gap": null,
            "max_width": null,
            "order": null,
            "_view_module_version": "1.2.0",
            "grid_template_areas": null,
            "object_position": null,
            "object_fit": null,
            "grid_auto_columns": null,
            "margin": null,
            "display": null,
            "left": null
          }
        }
      }
    }
  },
  "cells": [
    {
      "cell_type": "markdown",
      "metadata": {
        "id": "view-in-github",
        "colab_type": "text"
      },
      "source": [
        "<a href=\"https://colab.research.google.com/github/haleyrx/qe_project/blob/main/transquest_v3.ipynb\" target=\"_parent\"><img src=\"https://colab.research.google.com/assets/colab-badge.svg\" alt=\"Open In Colab\"/></a>"
      ]
    },
    {
      "cell_type": "markdown",
      "metadata": {
        "id": "EPkGlI90jLv8"
      },
      "source": [
        "## **Prep**"
      ],
      "id": "EPkGlI90jLv8"
    },
    {
      "cell_type": "code",
      "metadata": {
        "colab": {
          "base_uri": "https://localhost:8080/"
        },
        "id": "_v8uSC_O3y3P",
        "outputId": "6be026cf-be82-4c36-ebff-728f41cb5a33"
      },
      "source": [
        "from google.colab import drive\n",
        "drive.mount('/content/gdrive')"
      ],
      "id": "_v8uSC_O3y3P",
      "execution_count": 3,
      "outputs": [
        {
          "output_type": "stream",
          "text": [
            "Mounted at /content/gdrive\n"
          ],
          "name": "stdout"
        }
      ]
    },
    {
      "cell_type": "code",
      "metadata": {
        "colab": {
          "base_uri": "https://localhost:8080/"
        },
        "id": "Dq8KdSHZ33KE",
        "outputId": "44133b53-24e3-44c6-906e-4a89e2799a15"
      },
      "source": [
        "%cd gdrive/MyDrive/CS7643"
      ],
      "id": "Dq8KdSHZ33KE",
      "execution_count": 4,
      "outputs": [
        {
          "output_type": "stream",
          "text": [
            "/content/gdrive/MyDrive/CS7643\n"
          ],
          "name": "stdout"
        }
      ]
    },
    {
      "cell_type": "code",
      "metadata": {
        "id": "1DgvOrJpMzT8",
        "colab": {
          "base_uri": "https://localhost:8080/"
        },
        "outputId": "3c80d095-12d1-47b8-eedb-82f8a7f548fa"
      },
      "source": [
        "# ! git clone https://2726c3be06d254f6092d9413236205338399aed0@github.com/haleyrx/qe_project"
      ],
      "id": "1DgvOrJpMzT8",
      "execution_count": null,
      "outputs": [
        {
          "output_type": "stream",
          "text": [
            "fatal: destination path 'qe_project' already exists and is not an empty directory.\n"
          ],
          "name": "stdout"
        }
      ]
    },
    {
      "cell_type": "code",
      "metadata": {
        "colab": {
          "base_uri": "https://localhost:8080/"
        },
        "id": "Orqmv_FO4UKR",
        "outputId": "eb9dd3f5-9f1b-4c93-d8cc-ea8294f57182"
      },
      "source": [
        "!ls"
      ],
      "id": "Orqmv_FO4UKR",
      "execution_count": 5,
      "outputs": [
        {
          "output_type": "stream",
          "text": [
            "colab_setup.ipynb  CS7643_HW4  qe_project\n"
          ],
          "name": "stdout"
        }
      ]
    },
    {
      "cell_type": "code",
      "metadata": {
        "colab": {
          "base_uri": "https://localhost:8080/"
        },
        "id": "8SPIeCW5391t",
        "outputId": "45392aaa-cad6-4e63-9385-c2ff5b94b8e8"
      },
      "source": [
        "%cd qe_project\n",
        "# ! git pull"
      ],
      "id": "8SPIeCW5391t",
      "execution_count": 6,
      "outputs": [
        {
          "output_type": "stream",
          "text": [
            "/content/gdrive/MyDrive/CS7643/qe_project\n"
          ],
          "name": "stdout"
        }
      ]
    },
    {
      "cell_type": "code",
      "metadata": {
        "id": "10Fg1qM1NOnI",
        "colab": {
          "base_uri": "https://localhost:8080/"
        },
        "outputId": "5e5b2a4c-ae4e-4ce1-e93e-355c40ec496c"
      },
      "source": [
        "!pip install sentencepiece\n",
        "!pip install transformers==3\n"
      ],
      "id": "10Fg1qM1NOnI",
      "execution_count": 7,
      "outputs": [
        {
          "output_type": "stream",
          "text": [
            "Collecting sentencepiece\n",
            "\u001b[?25l  Downloading https://files.pythonhosted.org/packages/f5/99/e0808cb947ba10f575839c43e8fafc9cc44e4a7a2c8f79c60db48220a577/sentencepiece-0.1.95-cp37-cp37m-manylinux2014_x86_64.whl (1.2MB)\n",
            "\r\u001b[K     |▎                               | 10kB 27.9MB/s eta 0:00:01\r\u001b[K     |▌                               | 20kB 32.4MB/s eta 0:00:01\r\u001b[K     |▉                               | 30kB 21.0MB/s eta 0:00:01\r\u001b[K     |█                               | 40kB 24.4MB/s eta 0:00:01\r\u001b[K     |█▍                              | 51kB 26.8MB/s eta 0:00:01\r\u001b[K     |█▋                              | 61kB 21.1MB/s eta 0:00:01\r\u001b[K     |██                              | 71kB 20.3MB/s eta 0:00:01\r\u001b[K     |██▏                             | 81kB 21.5MB/s eta 0:00:01\r\u001b[K     |██▌                             | 92kB 20.1MB/s eta 0:00:01\r\u001b[K     |██▊                             | 102kB 21.4MB/s eta 0:00:01\r\u001b[K     |███                             | 112kB 21.4MB/s eta 0:00:01\r\u001b[K     |███▎                            | 122kB 21.4MB/s eta 0:00:01\r\u001b[K     |███▌                            | 133kB 21.4MB/s eta 0:00:01\r\u001b[K     |███▉                            | 143kB 21.4MB/s eta 0:00:01\r\u001b[K     |████                            | 153kB 21.4MB/s eta 0:00:01\r\u001b[K     |████▍                           | 163kB 21.4MB/s eta 0:00:01\r\u001b[K     |████▋                           | 174kB 21.4MB/s eta 0:00:01\r\u001b[K     |█████                           | 184kB 21.4MB/s eta 0:00:01\r\u001b[K     |█████▏                          | 194kB 21.4MB/s eta 0:00:01\r\u001b[K     |█████▌                          | 204kB 21.4MB/s eta 0:00:01\r\u001b[K     |█████▊                          | 215kB 21.4MB/s eta 0:00:01\r\u001b[K     |██████                          | 225kB 21.4MB/s eta 0:00:01\r\u001b[K     |██████▎                         | 235kB 21.4MB/s eta 0:00:01\r\u001b[K     |██████▌                         | 245kB 21.4MB/s eta 0:00:01\r\u001b[K     |██████▉                         | 256kB 21.4MB/s eta 0:00:01\r\u001b[K     |███████                         | 266kB 21.4MB/s eta 0:00:01\r\u001b[K     |███████▍                        | 276kB 21.4MB/s eta 0:00:01\r\u001b[K     |███████▋                        | 286kB 21.4MB/s eta 0:00:01\r\u001b[K     |████████                        | 296kB 21.4MB/s eta 0:00:01\r\u001b[K     |████████▏                       | 307kB 21.4MB/s eta 0:00:01\r\u001b[K     |████████▍                       | 317kB 21.4MB/s eta 0:00:01\r\u001b[K     |████████▊                       | 327kB 21.4MB/s eta 0:00:01\r\u001b[K     |█████████                       | 337kB 21.4MB/s eta 0:00:01\r\u001b[K     |█████████▎                      | 348kB 21.4MB/s eta 0:00:01\r\u001b[K     |█████████▌                      | 358kB 21.4MB/s eta 0:00:01\r\u001b[K     |█████████▉                      | 368kB 21.4MB/s eta 0:00:01\r\u001b[K     |██████████                      | 378kB 21.4MB/s eta 0:00:01\r\u001b[K     |██████████▍                     | 389kB 21.4MB/s eta 0:00:01\r\u001b[K     |██████████▋                     | 399kB 21.4MB/s eta 0:00:01\r\u001b[K     |███████████                     | 409kB 21.4MB/s eta 0:00:01\r\u001b[K     |███████████▏                    | 419kB 21.4MB/s eta 0:00:01\r\u001b[K     |███████████▍                    | 430kB 21.4MB/s eta 0:00:01\r\u001b[K     |███████████▊                    | 440kB 21.4MB/s eta 0:00:01\r\u001b[K     |████████████                    | 450kB 21.4MB/s eta 0:00:01\r\u001b[K     |████████████▎                   | 460kB 21.4MB/s eta 0:00:01\r\u001b[K     |████████████▌                   | 471kB 21.4MB/s eta 0:00:01\r\u001b[K     |████████████▉                   | 481kB 21.4MB/s eta 0:00:01\r\u001b[K     |█████████████                   | 491kB 21.4MB/s eta 0:00:01\r\u001b[K     |█████████████▍                  | 501kB 21.4MB/s eta 0:00:01\r\u001b[K     |█████████████▋                  | 512kB 21.4MB/s eta 0:00:01\r\u001b[K     |█████████████▉                  | 522kB 21.4MB/s eta 0:00:01\r\u001b[K     |██████████████▏                 | 532kB 21.4MB/s eta 0:00:01\r\u001b[K     |██████████████▍                 | 542kB 21.4MB/s eta 0:00:01\r\u001b[K     |██████████████▊                 | 552kB 21.4MB/s eta 0:00:01\r\u001b[K     |███████████████                 | 563kB 21.4MB/s eta 0:00:01\r\u001b[K     |███████████████▎                | 573kB 21.4MB/s eta 0:00:01\r\u001b[K     |███████████████▌                | 583kB 21.4MB/s eta 0:00:01\r\u001b[K     |███████████████▉                | 593kB 21.4MB/s eta 0:00:01\r\u001b[K     |████████████████                | 604kB 21.4MB/s eta 0:00:01\r\u001b[K     |████████████████▍               | 614kB 21.4MB/s eta 0:00:01\r\u001b[K     |████████████████▋               | 624kB 21.4MB/s eta 0:00:01\r\u001b[K     |████████████████▉               | 634kB 21.4MB/s eta 0:00:01\r\u001b[K     |█████████████████▏              | 645kB 21.4MB/s eta 0:00:01\r\u001b[K     |█████████████████▍              | 655kB 21.4MB/s eta 0:00:01\r\u001b[K     |█████████████████▊              | 665kB 21.4MB/s eta 0:00:01\r\u001b[K     |██████████████████              | 675kB 21.4MB/s eta 0:00:01\r\u001b[K     |██████████████████▎             | 686kB 21.4MB/s eta 0:00:01\r\u001b[K     |██████████████████▌             | 696kB 21.4MB/s eta 0:00:01\r\u001b[K     |██████████████████▉             | 706kB 21.4MB/s eta 0:00:01\r\u001b[K     |███████████████████             | 716kB 21.4MB/s eta 0:00:01\r\u001b[K     |███████████████████▎            | 727kB 21.4MB/s eta 0:00:01\r\u001b[K     |███████████████████▋            | 737kB 21.4MB/s eta 0:00:01\r\u001b[K     |███████████████████▉            | 747kB 21.4MB/s eta 0:00:01\r\u001b[K     |████████████████████▏           | 757kB 21.4MB/s eta 0:00:01\r\u001b[K     |████████████████████▍           | 768kB 21.4MB/s eta 0:00:01\r\u001b[K     |████████████████████▊           | 778kB 21.4MB/s eta 0:00:01\r\u001b[K     |█████████████████████           | 788kB 21.4MB/s eta 0:00:01\r\u001b[K     |█████████████████████▎          | 798kB 21.4MB/s eta 0:00:01\r\u001b[K     |█████████████████████▌          | 808kB 21.4MB/s eta 0:00:01\r\u001b[K     |█████████████████████▉          | 819kB 21.4MB/s eta 0:00:01\r\u001b[K     |██████████████████████          | 829kB 21.4MB/s eta 0:00:01\r\u001b[K     |██████████████████████▎         | 839kB 21.4MB/s eta 0:00:01\r\u001b[K     |██████████████████████▋         | 849kB 21.4MB/s eta 0:00:01\r\u001b[K     |██████████████████████▉         | 860kB 21.4MB/s eta 0:00:01\r\u001b[K     |███████████████████████▏        | 870kB 21.4MB/s eta 0:00:01\r\u001b[K     |███████████████████████▍        | 880kB 21.4MB/s eta 0:00:01\r\u001b[K     |███████████████████████▊        | 890kB 21.4MB/s eta 0:00:01\r\u001b[K     |████████████████████████        | 901kB 21.4MB/s eta 0:00:01\r\u001b[K     |████████████████████████▎       | 911kB 21.4MB/s eta 0:00:01\r\u001b[K     |████████████████████████▌       | 921kB 21.4MB/s eta 0:00:01\r\u001b[K     |████████████████████████▊       | 931kB 21.4MB/s eta 0:00:01\r\u001b[K     |█████████████████████████       | 942kB 21.4MB/s eta 0:00:01\r\u001b[K     |█████████████████████████▎      | 952kB 21.4MB/s eta 0:00:01\r\u001b[K     |█████████████████████████▋      | 962kB 21.4MB/s eta 0:00:01\r\u001b[K     |█████████████████████████▉      | 972kB 21.4MB/s eta 0:00:01\r\u001b[K     |██████████████████████████▏     | 983kB 21.4MB/s eta 0:00:01\r\u001b[K     |██████████████████████████▍     | 993kB 21.4MB/s eta 0:00:01\r\u001b[K     |██████████████████████████▊     | 1.0MB 21.4MB/s eta 0:00:01\r\u001b[K     |███████████████████████████     | 1.0MB 21.4MB/s eta 0:00:01\r\u001b[K     |███████████████████████████▎    | 1.0MB 21.4MB/s eta 0:00:01\r\u001b[K     |███████████████████████████▌    | 1.0MB 21.4MB/s eta 0:00:01\r\u001b[K     |███████████████████████████▊    | 1.0MB 21.4MB/s eta 0:00:01\r\u001b[K     |████████████████████████████    | 1.1MB 21.4MB/s eta 0:00:01\r\u001b[K     |████████████████████████████▎   | 1.1MB 21.4MB/s eta 0:00:01\r\u001b[K     |████████████████████████████▋   | 1.1MB 21.4MB/s eta 0:00:01\r\u001b[K     |████████████████████████████▉   | 1.1MB 21.4MB/s eta 0:00:01\r\u001b[K     |█████████████████████████████▏  | 1.1MB 21.4MB/s eta 0:00:01\r\u001b[K     |█████████████████████████████▍  | 1.1MB 21.4MB/s eta 0:00:01\r\u001b[K     |█████████████████████████████▊  | 1.1MB 21.4MB/s eta 0:00:01\r\u001b[K     |██████████████████████████████  | 1.1MB 21.4MB/s eta 0:00:01\r\u001b[K     |██████████████████████████████▏ | 1.1MB 21.4MB/s eta 0:00:01\r\u001b[K     |██████████████████████████████▌ | 1.1MB 21.4MB/s eta 0:00:01\r\u001b[K     |██████████████████████████████▊ | 1.2MB 21.4MB/s eta 0:00:01\r\u001b[K     |███████████████████████████████ | 1.2MB 21.4MB/s eta 0:00:01\r\u001b[K     |███████████████████████████████▎| 1.2MB 21.4MB/s eta 0:00:01\r\u001b[K     |███████████████████████████████▋| 1.2MB 21.4MB/s eta 0:00:01\r\u001b[K     |███████████████████████████████▉| 1.2MB 21.4MB/s eta 0:00:01\r\u001b[K     |████████████████████████████████| 1.2MB 21.4MB/s \n",
            "\u001b[?25hInstalling collected packages: sentencepiece\n",
            "Successfully installed sentencepiece-0.1.95\n",
            "Collecting transformers==3\n",
            "\u001b[?25l  Downloading https://files.pythonhosted.org/packages/9c/35/1c3f6e62d81f5f0daff1384e6d5e6c5758682a8357ebc765ece2b9def62b/transformers-3.0.0-py3-none-any.whl (754kB)\n",
            "\u001b[K     |████████████████████████████████| 757kB 19.6MB/s \n",
            "\u001b[?25hCollecting tokenizers==0.8.0-rc4\n",
            "\u001b[?25l  Downloading https://files.pythonhosted.org/packages/f7/82/0e82a95bd9db2b32569500cc1bb47aa7c4e0f57aa5e35cceba414096917b/tokenizers-0.8.0rc4-cp37-cp37m-manylinux1_x86_64.whl (3.0MB)\n",
            "\u001b[K     |████████████████████████████████| 3.0MB 46.8MB/s \n",
            "\u001b[?25hRequirement already satisfied: requests in /usr/local/lib/python3.7/dist-packages (from transformers==3) (2.23.0)\n",
            "Requirement already satisfied: regex!=2019.12.17 in /usr/local/lib/python3.7/dist-packages (from transformers==3) (2019.12.20)\n",
            "Requirement already satisfied: numpy in /usr/local/lib/python3.7/dist-packages (from transformers==3) (1.19.5)\n",
            "Requirement already satisfied: sentencepiece in /usr/local/lib/python3.7/dist-packages (from transformers==3) (0.1.95)\n",
            "Requirement already satisfied: tqdm>=4.27 in /usr/local/lib/python3.7/dist-packages (from transformers==3) (4.41.1)\n",
            "Requirement already satisfied: packaging in /usr/local/lib/python3.7/dist-packages (from transformers==3) (20.9)\n",
            "Requirement already satisfied: filelock in /usr/local/lib/python3.7/dist-packages (from transformers==3) (3.0.12)\n",
            "Collecting sacremoses\n",
            "\u001b[?25l  Downloading https://files.pythonhosted.org/packages/75/ee/67241dc87f266093c533a2d4d3d69438e57d7a90abb216fa076e7d475d4a/sacremoses-0.0.45-py3-none-any.whl (895kB)\n",
            "\u001b[K     |████████████████████████████████| 901kB 49.2MB/s \n",
            "\u001b[?25hRequirement already satisfied: chardet<4,>=3.0.2 in /usr/local/lib/python3.7/dist-packages (from requests->transformers==3) (3.0.4)\n",
            "Requirement already satisfied: urllib3!=1.25.0,!=1.25.1,<1.26,>=1.21.1 in /usr/local/lib/python3.7/dist-packages (from requests->transformers==3) (1.24.3)\n",
            "Requirement already satisfied: idna<3,>=2.5 in /usr/local/lib/python3.7/dist-packages (from requests->transformers==3) (2.10)\n",
            "Requirement already satisfied: certifi>=2017.4.17 in /usr/local/lib/python3.7/dist-packages (from requests->transformers==3) (2020.12.5)\n",
            "Requirement already satisfied: pyparsing>=2.0.2 in /usr/local/lib/python3.7/dist-packages (from packaging->transformers==3) (2.4.7)\n",
            "Requirement already satisfied: click in /usr/local/lib/python3.7/dist-packages (from sacremoses->transformers==3) (7.1.2)\n",
            "Requirement already satisfied: six in /usr/local/lib/python3.7/dist-packages (from sacremoses->transformers==3) (1.15.0)\n",
            "Requirement already satisfied: joblib in /usr/local/lib/python3.7/dist-packages (from sacremoses->transformers==3) (1.0.1)\n",
            "Installing collected packages: tokenizers, sacremoses, transformers\n",
            "Successfully installed sacremoses-0.0.45 tokenizers-0.8.0rc4 transformers-3.0.0\n"
          ],
          "name": "stdout"
        }
      ]
    },
    {
      "cell_type": "code",
      "metadata": {
        "id": "B2QTWHwjN8Lp",
        "colab": {
          "base_uri": "https://localhost:8080/"
        },
        "outputId": "2a46c100-2338-427c-907d-e16a07637ad9"
      },
      "source": [
        "!nvidia-smi"
      ],
      "id": "B2QTWHwjN8Lp",
      "execution_count": 8,
      "outputs": [
        {
          "output_type": "stream",
          "text": [
            "Sat Apr 24 00:31:36 2021       \n",
            "+-----------------------------------------------------------------------------+\n",
            "| NVIDIA-SMI 465.19.01    Driver Version: 460.32.03    CUDA Version: 11.2     |\n",
            "|-------------------------------+----------------------+----------------------+\n",
            "| GPU  Name        Persistence-M| Bus-Id        Disp.A | Volatile Uncorr. ECC |\n",
            "| Fan  Temp  Perf  Pwr:Usage/Cap|         Memory-Usage | GPU-Util  Compute M. |\n",
            "|                               |                      |               MIG M. |\n",
            "|===============================+======================+======================|\n",
            "|   0  Tesla T4            Off  | 00000000:00:04.0 Off |                    0 |\n",
            "| N/A   45C    P8    10W /  70W |      0MiB / 15109MiB |      0%      Default |\n",
            "|                               |                      |                  N/A |\n",
            "+-------------------------------+----------------------+----------------------+\n",
            "                                                                               \n",
            "+-----------------------------------------------------------------------------+\n",
            "| Processes:                                                                  |\n",
            "|  GPU   GI   CI        PID   Type   Process name                  GPU Memory |\n",
            "|        ID   ID                                                   Usage      |\n",
            "|=============================================================================|\n",
            "|  No running processes found                                                 |\n",
            "+-----------------------------------------------------------------------------+\n"
          ],
          "name": "stdout"
        }
      ]
    },
    {
      "cell_type": "code",
      "metadata": {
        "id": "LE3G-EhYn5Pu",
        "colab": {
          "base_uri": "https://localhost:8080/",
          "height": 35
        },
        "outputId": "3a5a3754-4ee4-43f5-e81f-3407e1c7ec28"
      },
      "source": [
        "%pwd"
      ],
      "id": "LE3G-EhYn5Pu",
      "execution_count": 9,
      "outputs": [
        {
          "output_type": "execute_result",
          "data": {
            "application/vnd.google.colaboratory.intrinsic+json": {
              "type": "string"
            },
            "text/plain": [
              "'/content/gdrive/MyDrive/CS7643/qe_project'"
            ]
          },
          "metadata": {
            "tags": []
          },
          "execution_count": 9
        }
      ]
    },
    {
      "cell_type": "code",
      "metadata": {
        "id": "yBB-oMRndFgd"
      },
      "source": [
        "import sys\n",
        "sys.path.append('/content/gdrive/MyDrive/CS7643/qe_project/code')"
      ],
      "id": "yBB-oMRndFgd",
      "execution_count": 10,
      "outputs": []
    },
    {
      "cell_type": "markdown",
      "metadata": {
        "id": "DFMB3O7ZtxF-"
      },
      "source": [
        "### Set up parameters"
      ],
      "id": "DFMB3O7ZtxF-"
    },
    {
      "cell_type": "code",
      "metadata": {
        "id": "6vSsgptt_vEe"
      },
      "source": [
        "SEED = 777\n",
        "RESULT_FILE = 'en-de_result.tsv'\n",
        "METRICS_FILE = 'en-de_metrics.txt'\n",
        "BEST_MODEL_FILE = 'en-de_best_model.bin'\n",
        "TRAIN_DATA = 'en-de/train.ende.df.short.tsv'\n",
        "DEV_DATA = 'en-de/dev.ende.df.short.tsv'\n",
        "TEST_DATA = 'en-de/test20.ende.df.short.tsv'\n",
        "DATA_DIR = './data/'\n",
        "OUTPUT_DIR = './results/'\n",
        "BEST_MODEL_DIR = './best_models/'\n",
        "\n",
        "# Model parameters\n",
        "args = {\n",
        "    'max_seq_length': 128,\n",
        "    'train_batch_size': 8,\n",
        "    'gradient_accumulation_steps': 1,\n",
        "    'eval_batch_size': 8,\n",
        "    'num_train_epochs': 3,\n",
        "    'weight_decay': 0,\n",
        "    'learning_rate': 1e-5,\n",
        "    'adam_epsilon': 1e-8,\n",
        "    'warmup_ratio': 0.1,\n",
        "    'warmup_steps': 0,\n",
        "    'max_grad_norm': 1.0,\n",
        "    'dropout': 0.1\n",
        "}"
      ],
      "id": "6vSsgptt_vEe",
      "execution_count": 11,
      "outputs": []
    },
    {
      "cell_type": "code",
      "metadata": {
        "id": "YYnB2vQpuAfR"
      },
      "source": [
        "# Get relevant paths\n",
        "import os \n",
        "\n",
        "train_path = os.path.join(DATA_DIR, TRAIN_DATA)\n",
        "dev_path = os.path.join(DATA_DIR, DEV_DATA)\n",
        "test_path = os.path.join(DATA_DIR, TEST_DATA)\n",
        "best_model_path = os.path.join(BEST_MODEL_DIR, BEST_MODEL_FILE)\n",
        "results_path = os.path.join(OUTPUT_DIR, RESULT_FILE)\n",
        "metrics_path = os.path.join(OUTPUT_DIR, METRICS_FILE)\n"
      ],
      "id": "YYnB2vQpuAfR",
      "execution_count": 12,
      "outputs": []
    },
    {
      "cell_type": "code",
      "metadata": {
        "colab": {
          "base_uri": "https://localhost:8080/",
          "height": 35
        },
        "id": "BoQbUi9lrPph",
        "outputId": "95409217-b6b4-455e-ca15-5e0e3af9cb31"
      },
      "source": [
        "train_path"
      ],
      "id": "BoQbUi9lrPph",
      "execution_count": 13,
      "outputs": [
        {
          "output_type": "execute_result",
          "data": {
            "application/vnd.google.colaboratory.intrinsic+json": {
              "type": "string"
            },
            "text/plain": [
              "'./data/en-de/train.ende.df.short.tsv'"
            ]
          },
          "metadata": {
            "tags": []
          },
          "execution_count": 13
        }
      ]
    },
    {
      "cell_type": "markdown",
      "metadata": {
        "id": "HiL9PxhpjSkS"
      },
      "source": [
        "## Read in Data"
      ],
      "id": "HiL9PxhpjSkS"
    },
    {
      "cell_type": "code",
      "metadata": {
        "id": "IQW0bZbMmrac",
        "colab": {
          "base_uri": "https://localhost:8080/",
          "height": 204
        },
        "outputId": "8ce69a2b-94ee-489e-d281-643233b53585"
      },
      "source": [
        "from utils import read_file, fit, un_fit, get_metrics\n",
        "\n",
        "df_train = read_file(train_path)\n",
        "train = df_train[['original', 'translation', 'z_mean']]\n",
        "train.head()"
      ],
      "id": "IQW0bZbMmrac",
      "execution_count": 14,
      "outputs": [
        {
          "output_type": "execute_result",
          "data": {
            "text/html": [
              "<div>\n",
              "<style scoped>\n",
              "    .dataframe tbody tr th:only-of-type {\n",
              "        vertical-align: middle;\n",
              "    }\n",
              "\n",
              "    .dataframe tbody tr th {\n",
              "        vertical-align: top;\n",
              "    }\n",
              "\n",
              "    .dataframe thead th {\n",
              "        text-align: right;\n",
              "    }\n",
              "</style>\n",
              "<table border=\"1\" class=\"dataframe\">\n",
              "  <thead>\n",
              "    <tr style=\"text-align: right;\">\n",
              "      <th></th>\n",
              "      <th>original</th>\n",
              "      <th>translation</th>\n",
              "      <th>z_mean</th>\n",
              "    </tr>\n",
              "  </thead>\n",
              "  <tbody>\n",
              "    <tr>\n",
              "      <th>0</th>\n",
              "      <td>José Ortega y Gasset visited Husserl at Freibu...</td>\n",
              "      <td>1934 besuchte José Ortega y Gasset Husserl in ...</td>\n",
              "      <td>1.119409</td>\n",
              "    </tr>\n",
              "    <tr>\n",
              "      <th>1</th>\n",
              "      <td>However, a disappointing ninth in China meant ...</td>\n",
              "      <td>Eine enttäuschende Neunte in China bedeutete j...</td>\n",
              "      <td>-0.488591</td>\n",
              "    </tr>\n",
              "    <tr>\n",
              "      <th>2</th>\n",
              "      <td>In his diary, Chase wrote that the release of ...</td>\n",
              "      <td>In seinem Tagebuch, Chase schrieb, dass die Ve...</td>\n",
              "      <td>-2.207007</td>\n",
              "    </tr>\n",
              "    <tr>\n",
              "      <th>3</th>\n",
              "      <td>Heavy arquebuses mounted on wagons were called...</td>\n",
              "      <td>Schwere Arquebuses auf Waggons montiert wurden...</td>\n",
              "      <td>-0.799946</td>\n",
              "    </tr>\n",
              "    <tr>\n",
              "      <th>4</th>\n",
              "      <td>Once North Pacific salmon die off after spawni...</td>\n",
              "      <td>Sobald der nordpazifische Lachs nach dem Laich...</td>\n",
              "      <td>0.381633</td>\n",
              "    </tr>\n",
              "  </tbody>\n",
              "</table>\n",
              "</div>"
            ],
            "text/plain": [
              "                                            original  ...    z_mean\n",
              "0  José Ortega y Gasset visited Husserl at Freibu...  ...  1.119409\n",
              "1  However, a disappointing ninth in China meant ...  ... -0.488591\n",
              "2  In his diary, Chase wrote that the release of ...  ... -2.207007\n",
              "3  Heavy arquebuses mounted on wagons were called...  ... -0.799946\n",
              "4  Once North Pacific salmon die off after spawni...  ...  0.381633\n",
              "\n",
              "[5 rows x 3 columns]"
            ]
          },
          "metadata": {
            "tags": []
          },
          "execution_count": 14
        }
      ]
    },
    {
      "cell_type": "code",
      "metadata": {
        "colab": {
          "base_uri": "https://localhost:8080/",
          "height": 204
        },
        "id": "fPn0pdAv94XL",
        "outputId": "512122ea-b7b2-4e16-f6c8-1bf28497c2f3"
      },
      "source": [
        "# df_dev = pd.read_csv(dev_path,sep='\\t')\n",
        "df_dev = read_file(dev_path)\n",
        "dev = df_dev[['original', 'translation', 'z_mean']]\n",
        "dev.head()"
      ],
      "id": "fPn0pdAv94XL",
      "execution_count": 15,
      "outputs": [
        {
          "output_type": "execute_result",
          "data": {
            "text/html": [
              "<div>\n",
              "<style scoped>\n",
              "    .dataframe tbody tr th:only-of-type {\n",
              "        vertical-align: middle;\n",
              "    }\n",
              "\n",
              "    .dataframe tbody tr th {\n",
              "        vertical-align: top;\n",
              "    }\n",
              "\n",
              "    .dataframe thead th {\n",
              "        text-align: right;\n",
              "    }\n",
              "</style>\n",
              "<table border=\"1\" class=\"dataframe\">\n",
              "  <thead>\n",
              "    <tr style=\"text-align: right;\">\n",
              "      <th></th>\n",
              "      <th>original</th>\n",
              "      <th>translation</th>\n",
              "      <th>z_mean</th>\n",
              "    </tr>\n",
              "  </thead>\n",
              "  <tbody>\n",
              "    <tr>\n",
              "      <th>0</th>\n",
              "      <td>Simultaneously, the Legion took part to the pa...</td>\n",
              "      <td>Gleichzeitig nahm die Legion an der Befriedung...</td>\n",
              "      <td>-0.312186</td>\n",
              "    </tr>\n",
              "    <tr>\n",
              "      <th>1</th>\n",
              "      <td>He also begins an affair with Veronica Harring...</td>\n",
              "      <td>Er beginnt auch eine Affäre mit Veronica Harri...</td>\n",
              "      <td>-0.401581</td>\n",
              "    </tr>\n",
              "    <tr>\n",
              "      <th>2</th>\n",
              "      <td>The urban morphology of these two local waters...</td>\n",
              "      <td>Die urbane Morphologie dieser beiden lokalen W...</td>\n",
              "      <td>0.275414</td>\n",
              "    </tr>\n",
              "    <tr>\n",
              "      <th>3</th>\n",
              "      <td>Important finds included a bronze axe in Wellw...</td>\n",
              "      <td>Wichtige Funde waren eine Bronzeaxt in Wellwoo...</td>\n",
              "      <td>0.580925</td>\n",
              "    </tr>\n",
              "    <tr>\n",
              "      <th>4</th>\n",
              "      <td>Previously, Englishmen had drunk mainly dark s...</td>\n",
              "      <td>Früher hatten Engländer vor allem dunkle Stout...</td>\n",
              "      <td>-1.895129</td>\n",
              "    </tr>\n",
              "  </tbody>\n",
              "</table>\n",
              "</div>"
            ],
            "text/plain": [
              "                                            original  ...    z_mean\n",
              "0  Simultaneously, the Legion took part to the pa...  ... -0.312186\n",
              "1  He also begins an affair with Veronica Harring...  ... -0.401581\n",
              "2  The urban morphology of these two local waters...  ...  0.275414\n",
              "3  Important finds included a bronze axe in Wellw...  ...  0.580925\n",
              "4  Previously, Englishmen had drunk mainly dark s...  ... -1.895129\n",
              "\n",
              "[5 rows x 3 columns]"
            ]
          },
          "metadata": {
            "tags": []
          },
          "execution_count": 15
        }
      ]
    },
    {
      "cell_type": "code",
      "metadata": {
        "colab": {
          "base_uri": "https://localhost:8080/",
          "height": 204
        },
        "id": "G19rmEtc-It0",
        "outputId": "ed7dc7d9-9123-45e9-bc2f-b8fa74000807"
      },
      "source": [
        "# df_test = pd.read_csv(test_path,sep='\\t')\n",
        "df_test = read_file(test_path)\n",
        "test = df_test[['original', 'translation', 'z_mean']]\n",
        "test.head()"
      ],
      "id": "G19rmEtc-It0",
      "execution_count": 16,
      "outputs": [
        {
          "output_type": "execute_result",
          "data": {
            "text/html": [
              "<div>\n",
              "<style scoped>\n",
              "    .dataframe tbody tr th:only-of-type {\n",
              "        vertical-align: middle;\n",
              "    }\n",
              "\n",
              "    .dataframe tbody tr th {\n",
              "        vertical-align: top;\n",
              "    }\n",
              "\n",
              "    .dataframe thead th {\n",
              "        text-align: right;\n",
              "    }\n",
              "</style>\n",
              "<table border=\"1\" class=\"dataframe\">\n",
              "  <thead>\n",
              "    <tr style=\"text-align: right;\">\n",
              "      <th></th>\n",
              "      <th>original</th>\n",
              "      <th>translation</th>\n",
              "      <th>z_mean</th>\n",
              "    </tr>\n",
              "  </thead>\n",
              "  <tbody>\n",
              "    <tr>\n",
              "      <th>0</th>\n",
              "      <td>The Sultan appoints judges, and can grant pard...</td>\n",
              "      <td>Der Sultan ernennt Richter und kann Begnadigun...</td>\n",
              "      <td>0.349371</td>\n",
              "    </tr>\n",
              "    <tr>\n",
              "      <th>1</th>\n",
              "      <td>Antisemitism in modern Ukraine Antisemitism an...</td>\n",
              "      <td>Antisemitismus in der modernen Ukraine Antisem...</td>\n",
              "      <td>0.392435</td>\n",
              "    </tr>\n",
              "    <tr>\n",
              "      <th>2</th>\n",
              "      <td>Morales continued his feud with Buddy Rose, de...</td>\n",
              "      <td>Morales setzte seine Fehde mit Buddy Rose fort...</td>\n",
              "      <td>0.645034</td>\n",
              "    </tr>\n",
              "    <tr>\n",
              "      <th>3</th>\n",
              "      <td>American Maury Tripp attended the Jamboree fro...</td>\n",
              "      <td>Der Amerikaner Maury Tripp besuchte das Jambor...</td>\n",
              "      <td>0.544519</td>\n",
              "    </tr>\n",
              "    <tr>\n",
              "      <th>4</th>\n",
              "      <td>He bowled a series of bouncers at Viv Richards...</td>\n",
              "      <td>Er boomte eine Reihe von Bouncern bei Viv Rich...</td>\n",
              "      <td>-0.589531</td>\n",
              "    </tr>\n",
              "  </tbody>\n",
              "</table>\n",
              "</div>"
            ],
            "text/plain": [
              "                                            original  ...    z_mean\n",
              "0  The Sultan appoints judges, and can grant pard...  ...  0.349371\n",
              "1  Antisemitism in modern Ukraine Antisemitism an...  ...  0.392435\n",
              "2  Morales continued his feud with Buddy Rose, de...  ...  0.645034\n",
              "3  American Maury Tripp attended the Jamboree fro...  ...  0.544519\n",
              "4  He bowled a series of bouncers at Viv Richards...  ... -0.589531\n",
              "\n",
              "[5 rows x 3 columns]"
            ]
          },
          "metadata": {
            "tags": []
          },
          "execution_count": 16
        }
      ]
    },
    {
      "cell_type": "code",
      "metadata": {
        "id": "AwDjf70J-lMB"
      },
      "source": [
        "train = train.rename(columns={'original': 'text_a', 'translation': 'text_b', 'z_mean': 'labels'}).dropna()\n",
        "dev = dev.rename(columns={'original': 'text_a', 'translation': 'text_b', 'z_mean': 'labels'}).dropna()\n",
        "test = test.rename(columns={'original': 'text_a', 'translation': 'text_b', 'z_mean': 'labels'}).dropna()"
      ],
      "id": "AwDjf70J-lMB",
      "execution_count": 17,
      "outputs": []
    },
    {
      "cell_type": "code",
      "metadata": {
        "id": "rcLQXavR_iY_"
      },
      "source": [
        "# Normalize scores to be between 0 and 1\n",
        "train = fit(train, 'labels')\n",
        "dev = fit(dev, 'labels')"
      ],
      "id": "rcLQXavR_iY_",
      "execution_count": 18,
      "outputs": []
    },
    {
      "cell_type": "markdown",
      "metadata": {
        "id": "Xpy69dtawS34"
      },
      "source": [
        "### Import packages"
      ],
      "id": "Xpy69dtawS34"
    },
    {
      "cell_type": "code",
      "metadata": {
        "id": "J7w7rmTrTcjv"
      },
      "source": [
        "import transformers\n",
        "from transformers import AdamW, get_linear_schedule_with_warmup\n",
        "from transformers import XLMRobertaConfig, XLMRobertaTokenizer, XLMRobertaModel\n",
        "import torch\n",
        "\n",
        "import numpy as np\n",
        "import pandas as pd\n",
        "# from pylab import rcParams\n",
        "import matplotlib.pyplot as plt\n",
        "# from matplotlib import rc\n",
        "from sklearn.metrics import mean_squared_error, mean_absolute_error\n",
        "from scipy import stats\n",
        "from collections import defaultdict\n",
        "# from textwrap import wrap\n",
        "\n",
        "from torch import nn, optim\n",
        "from torch.utils.data import Dataset, DataLoader"
      ],
      "id": "J7w7rmTrTcjv",
      "execution_count": 19,
      "outputs": []
    },
    {
      "cell_type": "code",
      "metadata": {
        "colab": {
          "base_uri": "https://localhost:8080/"
        },
        "id": "MCiPHSh-TYta",
        "outputId": "9a362607-a556-477a-dc38-25e59ad33ae2"
      },
      "source": [
        "# Check device\n",
        "device = torch.device(\"cuda\" if torch.cuda.is_available() else \"cpu\")\n",
        "device"
      ],
      "id": "MCiPHSh-TYta",
      "execution_count": 20,
      "outputs": [
        {
          "output_type": "execute_result",
          "data": {
            "text/plain": [
              "device(type='cuda')"
            ]
          },
          "metadata": {
            "tags": []
          },
          "execution_count": 20
        }
      ]
    },
    {
      "cell_type": "markdown",
      "metadata": {
        "id": "zmgSEt44wp6p"
      },
      "source": [
        "### Download pretrained model"
      ],
      "id": "zmgSEt44wp6p"
    },
    {
      "cell_type": "code",
      "metadata": {
        "id": "50emkbPkUPnf",
        "colab": {
          "base_uri": "https://localhost:8080/",
          "height": 115,
          "referenced_widgets": [
            "94f1e29e5e8948368e5bc64c7709d328",
            "63a7c5efeaed4fc39163a629ed5d470e",
            "10d0507995e3409380451f38c5a8a504",
            "25e934e260ba402394925d644c6aee7f",
            "57fb896d959947e19c16c8857ab5de3e",
            "a935751a00394cbda7807a04d564ca01",
            "648a4c5d774e4463aebf75bb9af9d9ea",
            "b637e33d07bc4b33a0f406983817ea89",
            "0f5abae4167d4739a546ab9a459384d7",
            "971ff30ea7f94b0f87bf1de9cd534459",
            "a4476fa5cddc49af89161cecb22a9696",
            "87f4263fb2e044c28b7adc242d66aeb3",
            "b764c3bb9e1645c7a0de91eb39d0ddfa",
            "4e398fdce98b4d6ba5ea23e273578647",
            "75c06e5562fc49cba9c852c97f6caa16",
            "ec46ec4d3d994b56a68abd1475192279"
          ]
        },
        "outputId": "01d6dc26-dbe2-4849-9df2-b9451f458bc4"
      },
      "source": [
        "# Initialize config, tokenizer, and pretrained model\n",
        "MODEL_CLASSES = {'xlmroberta': (XLMRobertaConfig, XLMRobertaModel, XLMRobertaTokenizer)}\n",
        "MODEL_TYPE = 'xlmroberta'\n",
        "MODEL_NAME = 'xlm-roberta-large'\n",
        "\n",
        "config_class, model_class, tokenizer_class = MODEL_CLASSES[MODEL_TYPE]\n",
        "\n",
        "config = config_class.from_pretrained(MODEL_NAME, num_labels=1, hidden_dropout_prob=args['dropout'])\n",
        "# config = config_class.from_pretrained(MODEL_NAME, num_labels=1)\n",
        "tokenizer = tokenizer_class.from_pretrained(MODEL_NAME)"
      ],
      "id": "50emkbPkUPnf",
      "execution_count": 21,
      "outputs": [
        {
          "output_type": "display_data",
          "data": {
            "application/vnd.jupyter.widget-view+json": {
              "model_id": "94f1e29e5e8948368e5bc64c7709d328",
              "version_minor": 0,
              "version_major": 2
            },
            "text/plain": [
              "HBox(children=(FloatProgress(value=0.0, description='Downloading', max=513.0, style=ProgressStyle(description_…"
            ]
          },
          "metadata": {
            "tags": []
          }
        },
        {
          "output_type": "stream",
          "text": [
            "\n"
          ],
          "name": "stdout"
        },
        {
          "output_type": "display_data",
          "data": {
            "application/vnd.jupyter.widget-view+json": {
              "model_id": "0f5abae4167d4739a546ab9a459384d7",
              "version_minor": 0,
              "version_major": 2
            },
            "text/plain": [
              "HBox(children=(FloatProgress(value=0.0, description='Downloading', max=5069051.0, style=ProgressStyle(descript…"
            ]
          },
          "metadata": {
            "tags": []
          }
        },
        {
          "output_type": "stream",
          "text": [
            "\n"
          ],
          "name": "stdout"
        }
      ]
    },
    {
      "cell_type": "code",
      "metadata": {
        "colab": {
          "base_uri": "https://localhost:8080/"
        },
        "id": "3p9CZWYB-_vw",
        "outputId": "fa85dbf4-b7fa-4679-bef9-043b07ffc760"
      },
      "source": [
        "config"
      ],
      "id": "3p9CZWYB-_vw",
      "execution_count": 22,
      "outputs": [
        {
          "output_type": "execute_result",
          "data": {
            "text/plain": [
              "XLMRobertaConfig {\n",
              "  \"architectures\": [\n",
              "    \"XLMRobertaForMaskedLM\"\n",
              "  ],\n",
              "  \"attention_probs_dropout_prob\": 0.1,\n",
              "  \"bos_token_id\": 0,\n",
              "  \"eos_token_id\": 2,\n",
              "  \"gradient_checkpointing\": false,\n",
              "  \"hidden_act\": \"gelu\",\n",
              "  \"hidden_dropout_prob\": 0.1,\n",
              "  \"hidden_size\": 1024,\n",
              "  \"id2label\": {\n",
              "    \"0\": \"LABEL_0\"\n",
              "  },\n",
              "  \"initializer_range\": 0.02,\n",
              "  \"intermediate_size\": 4096,\n",
              "  \"label2id\": {\n",
              "    \"LABEL_0\": 0\n",
              "  },\n",
              "  \"layer_norm_eps\": 1e-05,\n",
              "  \"max_position_embeddings\": 514,\n",
              "  \"model_type\": \"xlm-roberta\",\n",
              "  \"num_attention_heads\": 16,\n",
              "  \"num_hidden_layers\": 24,\n",
              "  \"output_past\": true,\n",
              "  \"pad_token_id\": 1,\n",
              "  \"type_vocab_size\": 1,\n",
              "  \"vocab_size\": 250002\n",
              "}"
            ]
          },
          "metadata": {
            "tags": []
          },
          "execution_count": 22
        }
      ]
    },
    {
      "cell_type": "markdown",
      "metadata": {
        "id": "n3rD10Qvwt6s"
      },
      "source": [
        "### Create data loader and load batches"
      ],
      "id": "n3rD10Qvwt6s"
    },
    {
      "cell_type": "code",
      "metadata": {
        "id": "wGNNC5auM2AN"
      },
      "source": [
        "class TranslationDataset(Dataset):\n",
        "  def __init__(self, text_a, text_b, labels, tokenizer, max_len):\n",
        "    self.text_a = text_a\n",
        "    self.text_b = text_b\n",
        "    self.labels = labels\n",
        "    self.tokenizer = tokenizer\n",
        "    self.max_len = max_len\n",
        "\n",
        "  def __len__(self):\n",
        "    return len(self.text_a)\n",
        "\n",
        "  def __getitem__(self, item):\n",
        "    original = str(self.text_a[item])\n",
        "    translation = str(self.text_b[item])\n",
        "    label = float(self.labels[item])\n",
        "    encoding = self.tokenizer.encode_plus(\n",
        "      original,\n",
        "      translation,\n",
        "      add_special_tokens=True,\n",
        "      max_length=self.max_len,\n",
        "      return_token_type_ids=False,\n",
        "      padding='max_length',\n",
        "      truncation='longest_first',\n",
        "      return_attention_mask=True,\n",
        "      return_tensors='pt',\n",
        "    )\n",
        "\n",
        "    return {\n",
        "      'original_text': original,\n",
        "      'translation_text': translation,\n",
        "      'input_ids': encoding['input_ids'].flatten(),\n",
        "      'attention_mask': encoding['attention_mask'].flatten(),\n",
        "      'label': torch.tensor(label, dtype=torch.float32)\n",
        "    }"
      ],
      "id": "wGNNC5auM2AN",
      "execution_count": 23,
      "outputs": []
    },
    {
      "cell_type": "code",
      "metadata": {
        "id": "p5aGo74Il9ci"
      },
      "source": [
        "def create_data_loader(df, tokenizer, max_len, batch_size):\n",
        "  ds = TranslationDataset(\n",
        "    text_a=df.text_a.to_numpy(),\n",
        "    text_b=df.text_b.to_numpy(),\n",
        "    labels=df.labels.to_numpy(),\n",
        "    tokenizer=tokenizer,\n",
        "    max_len=max_len\n",
        "  )\n",
        "\n",
        "  return DataLoader(\n",
        "    ds,\n",
        "    batch_size=batch_size,\n",
        "    num_workers=2\n",
        "  )"
      ],
      "id": "p5aGo74Il9ci",
      "execution_count": 24,
      "outputs": []
    },
    {
      "cell_type": "code",
      "metadata": {
        "id": "6mgdstvfmxlv"
      },
      "source": [
        "train_data_loader = create_data_loader(train, tokenizer, args['max_seq_length'], args['train_batch_size'])\n",
        "dev_data_loader = create_data_loader(dev, tokenizer, args['max_seq_length'], args['train_batch_size'])\n",
        "test_data_loader = create_data_loader(test, tokenizer, args['max_seq_length'], args['train_batch_size'])"
      ],
      "id": "6mgdstvfmxlv",
      "execution_count": 25,
      "outputs": []
    },
    {
      "cell_type": "code",
      "metadata": {
        "colab": {
          "base_uri": "https://localhost:8080/"
        },
        "id": "EMGuqAFKokDS",
        "outputId": "f051cd42-2058-42ae-ccc3-73592c8b1ec2"
      },
      "source": [
        "data = next(iter(train_data_loader))\n",
        "data.keys()"
      ],
      "id": "EMGuqAFKokDS",
      "execution_count": 26,
      "outputs": [
        {
          "output_type": "execute_result",
          "data": {
            "text/plain": [
              "dict_keys(['original_text', 'translation_text', 'input_ids', 'attention_mask', 'label'])"
            ]
          },
          "metadata": {
            "tags": []
          },
          "execution_count": 26
        }
      ]
    },
    {
      "cell_type": "code",
      "metadata": {
        "colab": {
          "base_uri": "https://localhost:8080/"
        },
        "id": "dEZoT2t6pTTC",
        "outputId": "3f957f80-848e-4e6c-d705-b08619e10df8"
      },
      "source": [
        "print(data['input_ids'].shape)\n",
        "print(data['attention_mask'].shape)\n",
        "print(data['label'].shape)"
      ],
      "id": "dEZoT2t6pTTC",
      "execution_count": 27,
      "outputs": [
        {
          "output_type": "stream",
          "text": [
            "torch.Size([8, 128])\n",
            "torch.Size([8, 128])\n",
            "torch.Size([8])\n"
          ],
          "name": "stdout"
        }
      ]
    },
    {
      "cell_type": "code",
      "metadata": {
        "colab": {
          "base_uri": "https://localhost:8080/"
        },
        "id": "IALZRIZF2F3H",
        "outputId": "af907cf9-90e9-45d9-e7d4-74b6f158135d"
      },
      "source": [
        "print(data['original_text'][0])\n",
        "print(data['label'][0].numpy())"
      ],
      "id": "IALZRIZF2F3H",
      "execution_count": 28,
      "outputs": [
        {
          "output_type": "stream",
          "text": [
            "José Ortega y Gasset visited Husserl at Freiburg in 1934.\n",
            "0.8421048\n"
          ],
          "name": "stdout"
        }
      ]
    },
    {
      "cell_type": "markdown",
      "metadata": {
        "id": "hg_V0Zhhw6Ll"
      },
      "source": [
        "### Define MonoTransQuest Model"
      ],
      "id": "hg_V0Zhhw6Ll"
    },
    {
      "cell_type": "code",
      "metadata": {
        "id": "IElDL0WPuyK9"
      },
      "source": [
        "class MonoTransQuest(nn.Module):\n",
        "\n",
        "  def __init__(self, config):\n",
        "    super(MonoTransQuest, self).__init__()\n",
        "    self.model = XLMRobertaModel.from_pretrained('xlm-roberta-large')\n",
        "    self.dense = nn.Linear(config.hidden_size, config.hidden_size)\n",
        "    self.dropout = nn.Dropout(config.hidden_dropout_prob)\n",
        "    self.out_proj = nn.Linear(config.hidden_size, config.num_labels)\n",
        "  \n",
        "  def forward(self, input_ids, attention_mask):\n",
        "    outputs = self.model(input_ids=input_ids, attention_mask=attention_mask)\n",
        "    sequence_output = outputs[0]\n",
        "    x = sequence_output[:, 0, :]  # take <s> token (equiv. to [CLS])\n",
        "    x = self.dropout(x)\n",
        "    x = self.dense(x)\n",
        "    x = torch.tanh(x)\n",
        "    x = self.dropout(x)\n",
        "    x = self.out_proj(x)\n",
        "\n",
        "    return torch.sigmoid(x)"
      ],
      "id": "IElDL0WPuyK9",
      "execution_count": 29,
      "outputs": []
    },
    {
      "cell_type": "code",
      "metadata": {
        "id": "f_QhuHSi0c14",
        "colab": {
          "base_uri": "https://localhost:8080/",
          "height": 66,
          "referenced_widgets": [
            "1f9c5201efe84b249ee04be69743a32a",
            "8e22ee9c35fd4ccd96d75c1a146040ef",
            "47ca539254f14c6ea08d27e0044540d6",
            "c2325226a8974f9495dbfe4515dd6b32",
            "4daee1a270084756a7796ffbd0dcac17",
            "3ee16a62ed784c1bb6b86703bea2638e",
            "051b8f2bf74d4b6c89455a2c55dbe11d",
            "d48a8e2b780747bc990c866383c4884c"
          ]
        },
        "outputId": "ba489bb9-9b60-40b5-888a-e690aba99584"
      },
      "source": [
        "model = MonoTransQuest(config)\n",
        "model = model.to(device)"
      ],
      "id": "f_QhuHSi0c14",
      "execution_count": 30,
      "outputs": [
        {
          "output_type": "display_data",
          "data": {
            "application/vnd.jupyter.widget-view+json": {
              "model_id": "1f9c5201efe84b249ee04be69743a32a",
              "version_minor": 0,
              "version_major": 2
            },
            "text/plain": [
              "HBox(children=(FloatProgress(value=0.0, description='Downloading', max=2244861551.0, style=ProgressStyle(descr…"
            ]
          },
          "metadata": {
            "tags": []
          }
        },
        {
          "output_type": "stream",
          "text": [
            "\n"
          ],
          "name": "stdout"
        }
      ]
    },
    {
      "cell_type": "markdown",
      "metadata": {
        "id": "43WheJVzxAIY"
      },
      "source": [
        "### Training"
      ],
      "id": "43WheJVzxAIY"
    },
    {
      "cell_type": "code",
      "metadata": {
        "id": "unX_3I59Oqml"
      },
      "source": [
        "import math\n",
        "\n",
        "t_total = len(train_data_loader) // args['gradient_accumulation_steps'] * args['num_train_epochs']\n",
        "warmup_steps = math.ceil(t_total * args['warmup_ratio'])\n",
        "args['warmup_steps'] = warmup_steps if args['warmup_steps'] == 0 else args['warmup_steps']\n",
        "\n",
        "optimizer = AdamW(model.parameters(), lr=args['learning_rate'], eps=args['adam_epsilon'])\n",
        "scheduler = get_linear_schedule_with_warmup(\n",
        "  optimizer,\n",
        "  num_warmup_steps=args['warmup_steps'], \n",
        "  num_training_steps=t_total\n",
        ")\n",
        "\n",
        "loss_fn = nn.MSELoss().to(device)"
      ],
      "id": "unX_3I59Oqml",
      "execution_count": 31,
      "outputs": []
    },
    {
      "cell_type": "code",
      "metadata": {
        "id": "Pd1kfrd1UPXT"
      },
      "source": [
        "def train_epoch(\n",
        "  model,\n",
        "  data_loader,\n",
        "  loss_fn,\n",
        "  optimizer,\n",
        "  device,\n",
        "  scheduler,\n",
        "  n_examples\n",
        "):\n",
        "  model = model.train()\n",
        "  losses = []\n",
        "  for d in data_loader:\n",
        "    input_ids = d[\"input_ids\"].to(device)\n",
        "    attention_mask = d[\"attention_mask\"].to(device)\n",
        "    labels = torch.unsqueeze(d[\"label\"], 1)\n",
        "    labels = labels.float()\n",
        "    labels = labels.to(device)\n",
        "    outputs = model(\n",
        "      input_ids=input_ids,\n",
        "      attention_mask=attention_mask\n",
        "    )\n",
        "    loss = loss_fn(outputs, labels)\n",
        "    losses.append(loss.item())\n",
        "    loss.backward()\n",
        "    nn.utils.clip_grad_norm_(model.parameters(), max_norm=args['max_grad_norm'])\n",
        "    optimizer.step()\n",
        "    scheduler.step()\n",
        "    optimizer.zero_grad()\n",
        "  return np.mean(losses)"
      ],
      "id": "Pd1kfrd1UPXT",
      "execution_count": 32,
      "outputs": []
    },
    {
      "cell_type": "code",
      "metadata": {
        "id": "8B8ctTAsUxsG"
      },
      "source": [
        "def eval_model(model, data_loader, loss_fn, device, n_examples):\n",
        "  model = model.eval()\n",
        "  losses = []\n",
        "  with torch.no_grad():\n",
        "    for d in data_loader:\n",
        "      input_ids = d[\"input_ids\"].to(device)\n",
        "      attention_mask = d[\"attention_mask\"].to(device)\n",
        "      labels = torch.unsqueeze(d[\"label\"], 1)\n",
        "      labels = labels.float()\n",
        "      labels = labels.to(device)\n",
        "      outputs = model(\n",
        "        input_ids=input_ids,\n",
        "        attention_mask=attention_mask\n",
        "      )\n",
        "      loss = loss_fn(outputs, labels)\n",
        "      losses.append(loss.item())\n",
        "  return np.mean(losses)"
      ],
      "id": "8B8ctTAsUxsG",
      "execution_count": 33,
      "outputs": []
    },
    {
      "cell_type": "code",
      "metadata": {
        "colab": {
          "base_uri": "https://localhost:8080/"
        },
        "id": "6UcIPfl8Uzna",
        "outputId": "2779e74d-9f05-47ad-81a4-dd8978f5a643"
      },
      "source": [
        "%%time\n",
        "\n",
        "history = defaultdict(list)\n",
        "best_loss = float('inf')\n",
        "for epoch in range(args['num_train_epochs']):\n",
        "  print(f'Epoch {epoch + 1}/{args[\"num_train_epochs\"]}')\n",
        "  print('-' * 10)\n",
        "  train_loss = train_epoch(\n",
        "    model,\n",
        "    train_data_loader,\n",
        "    loss_fn,\n",
        "    optimizer,\n",
        "    device,\n",
        "    scheduler,\n",
        "    len(df_train)\n",
        "  )\n",
        "  print(f'Train loss {train_loss}')\n",
        "  val_loss = eval_model(\n",
        "    model,\n",
        "    dev_data_loader,\n",
        "    loss_fn,\n",
        "    device,\n",
        "    len(df_dev)\n",
        "  )\n",
        "  print(f'Val   loss {val_loss}')\n",
        "  print()\n",
        "  history['train_loss'].append(train_loss)\n",
        "  history['val_loss'].append(val_loss)\n",
        "  if val_loss < best_loss:\n",
        "    # torch.save(model.state_dict(), best_model_path)\n",
        "    best_loss = val_loss"
      ],
      "id": "6UcIPfl8Uzna",
      "execution_count": 34,
      "outputs": [
        {
          "output_type": "stream",
          "text": [
            "Epoch 1/3\n",
            "----------\n",
            "Train loss 0.011108124872436747\n",
            "Val   loss 0.02185358040034771\n",
            "\n",
            "Epoch 2/3\n",
            "----------\n",
            "Train loss 0.007191898816032335\n",
            "Val   loss 0.01655806286633015\n",
            "\n",
            "Epoch 3/3\n",
            "----------\n",
            "Train loss 0.006734433658944909\n",
            "Val   loss 0.014824635073542595\n",
            "\n",
            "CPU times: user 18min 46s, sys: 17min 37s, total: 36min 23s\n",
            "Wall time: 36min 24s\n"
          ],
          "name": "stdout"
        }
      ]
    },
    {
      "cell_type": "code",
      "metadata": {
        "id": "gYwXx_vsdgfP",
        "colab": {
          "base_uri": "https://localhost:8080/",
          "height": 295
        },
        "outputId": "d041ea11-8711-4a9b-e847-70e5580f704d"
      },
      "source": [
        "# Plot graphs \n",
        "plt.plot(history['train_loss'], label='train loss')\n",
        "plt.plot(history['val_loss'], label='validation loss')\n",
        "plt.title('Training history')\n",
        "plt.ylabel('Loss')\n",
        "plt.xlabel('Epoch')\n",
        "plt.legend()\n",
        "plt.ylim([0, 0.09]);"
      ],
      "id": "gYwXx_vsdgfP",
      "execution_count": null,
      "outputs": [
        {
          "output_type": "display_data",
          "data": {
            "image/png": "[encoded data removed]",
            "text/plain": [
              "<Figure size 432x288 with 1 Axes>"
            ]
          },
          "metadata": {
            "tags": [],
            "needs_background": "light"
          }
        }
      ]
    },
    {
      "cell_type": "markdown",
      "metadata": {
        "id": "vIrZTkIoxMsG"
      },
      "source": [
        "### Generating predictions and metrics"
      ],
      "id": "vIrZTkIoxMsG"
    },
    {
      "cell_type": "code",
      "metadata": {
        "colab": {
          "base_uri": "https://localhost:8080/",
          "height": 66,
          "referenced_widgets": [
            "a732c4ce5c42479fa57c378a48d3980c",
            "756f80078e08493ab95463ec19e8b94f",
            "f314583a8db94152a85d3886bd76f8fc",
            "c12fd71cb4dc4cc3bd80c4b138181c10",
            "58f2c3b5e1a14b2c81c850974ec07149",
            "0eb7194d7c8440e794d9fb2b1503d844",
            "bdc901b3b2814a1dbdae99fa802a16c7",
            "f053187afc35473ba31d31906326beb9"
          ]
        },
        "id": "iBqTYThop1P4",
        "outputId": "d6bcee56-f5f5-48fe-d0fd-093d93605268"
      },
      "source": [
        "# Load pretrained model\n",
        "model = MonoTransQuest(config)\n",
        "model.load_state_dict(torch.load(best_model_path))\n",
        "model = model.to(device)"
      ],
      "id": "iBqTYThop1P4",
      "execution_count": null,
      "outputs": [
        {
          "output_type": "display_data",
          "data": {
            "application/vnd.jupyter.widget-view+json": {
              "model_id": "a732c4ce5c42479fa57c378a48d3980c",
              "version_minor": 0,
              "version_major": 2
            },
            "text/plain": [
              "HBox(children=(FloatProgress(value=0.0, description='Downloading', max=2244861551.0, style=ProgressStyle(descr…"
            ]
          },
          "metadata": {
            "tags": []
          }
        },
        {
          "output_type": "stream",
          "text": [
            "\n"
          ],
          "name": "stdout"
        }
      ]
    },
    {
      "cell_type": "code",
      "metadata": {
        "id": "w5cMbbkxxG9M"
      },
      "source": [
        "# Function to calculate predictions on test set\n",
        "def get_predictions(model, data_loader):\n",
        "  model = model.eval()\n",
        "  predictions = []\n",
        "  real_values = []\n",
        "  originals = []\n",
        "  translations = []\n",
        "\n",
        "  with torch.no_grad():\n",
        "    for d in data_loader:\n",
        "      ori = d[\"original_text\"]\n",
        "      trans = d[\"translation_text\"]\n",
        "      input_ids = d[\"input_ids\"].to(device)\n",
        "      attention_mask = d[\"attention_mask\"].to(device)\n",
        "      labels = torch.unsqueeze(d[\"label\"], 1)\n",
        "      labels = labels.float()\n",
        "      labels = labels.to(device)\n",
        "      preds = model(\n",
        "        input_ids=input_ids,\n",
        "        attention_mask=attention_mask\n",
        "      )\n",
        "      originals.extend(ori)\n",
        "      translations.extend(trans)\n",
        "      predictions.extend(preds)\n",
        "      real_values.extend(labels)\n",
        "  predictions = torch.stack(predictions).cpu()\n",
        "  real_values = torch.stack(real_values).cpu()\n",
        "  return originals, translations, predictions, real_values"
      ],
      "id": "w5cMbbkxxG9M",
      "execution_count": 35,
      "outputs": []
    },
    {
      "cell_type": "code",
      "metadata": {
        "id": "y0vpYzeq08U7",
        "colab": {
          "base_uri": "https://localhost:8080/",
          "height": 979
        },
        "outputId": "98b85b98-b768-4a87-e66d-3d56aa519506"
      },
      "source": [
        "# Get predictions \n",
        "originals, translations, predictions, real_values = get_predictions(model, test_data_loader)\n",
        "\n",
        "preds = predictions.numpy().squeeze()\n",
        "labels = real_values.numpy().squeeze()\n",
        "original = np.array(originals)\n",
        "translation = np.array(translations)\n",
        "\n",
        "df_results = pd.DataFrame()\n",
        "df_results['original'] = original\n",
        "df_results['translation'] = translation\n",
        "df_results['z_mean'] = labels\n",
        "df_results['pred_zscore'] = preds\n",
        "\n",
        "df_results = un_fit(df_results, 'pred_zscore')\n",
        "\n",
        "df_results.head(30)"
      ],
      "id": "y0vpYzeq08U7",
      "execution_count": 36,
      "outputs": [
        {
          "output_type": "execute_result",
          "data": {
            "text/html": [
              "<div>\n",
              "<style scoped>\n",
              "    .dataframe tbody tr th:only-of-type {\n",
              "        vertical-align: middle;\n",
              "    }\n",
              "\n",
              "    .dataframe tbody tr th {\n",
              "        vertical-align: top;\n",
              "    }\n",
              "\n",
              "    .dataframe thead th {\n",
              "        text-align: right;\n",
              "    }\n",
              "</style>\n",
              "<table border=\"1\" class=\"dataframe\">\n",
              "  <thead>\n",
              "    <tr style=\"text-align: right;\">\n",
              "      <th></th>\n",
              "      <th>original</th>\n",
              "      <th>translation</th>\n",
              "      <th>z_mean</th>\n",
              "      <th>pred_zscore</th>\n",
              "    </tr>\n",
              "  </thead>\n",
              "  <tbody>\n",
              "    <tr>\n",
              "      <th>0</th>\n",
              "      <td>The Sultan appoints judges, and can grant pard...</td>\n",
              "      <td>Der Sultan ernennt Richter und kann Begnadigun...</td>\n",
              "      <td>0.349371</td>\n",
              "      <td>-0.180513</td>\n",
              "    </tr>\n",
              "    <tr>\n",
              "      <th>1</th>\n",
              "      <td>Antisemitism in modern Ukraine Antisemitism an...</td>\n",
              "      <td>Antisemitismus in der modernen Ukraine Antisem...</td>\n",
              "      <td>0.392435</td>\n",
              "      <td>-0.240227</td>\n",
              "    </tr>\n",
              "    <tr>\n",
              "      <th>2</th>\n",
              "      <td>Morales continued his feud with Buddy Rose, de...</td>\n",
              "      <td>Morales setzte seine Fehde mit Buddy Rose fort...</td>\n",
              "      <td>0.645034</td>\n",
              "      <td>-0.285555</td>\n",
              "    </tr>\n",
              "    <tr>\n",
              "      <th>3</th>\n",
              "      <td>American Maury Tripp attended the Jamboree fro...</td>\n",
              "      <td>Der Amerikaner Maury Tripp besuchte das Jambor...</td>\n",
              "      <td>0.544519</td>\n",
              "      <td>-0.204697</td>\n",
              "    </tr>\n",
              "    <tr>\n",
              "      <th>4</th>\n",
              "      <td>He bowled a series of bouncers at Viv Richards...</td>\n",
              "      <td>Er boomte eine Reihe von Bouncern bei Viv Rich...</td>\n",
              "      <td>-0.589531</td>\n",
              "      <td>-0.394623</td>\n",
              "    </tr>\n",
              "    <tr>\n",
              "      <th>5</th>\n",
              "      <td>The Frenchwoman's win irritated some of her ma...</td>\n",
              "      <td>Der Sieg der Französin irritierte einige ihrer...</td>\n",
              "      <td>0.545212</td>\n",
              "      <td>-0.244608</td>\n",
              "    </tr>\n",
              "    <tr>\n",
              "      <th>6</th>\n",
              "      <td>Good or bad, the theories of educators such as...</td>\n",
              "      <td>Gut oder schlecht, die Theorien der Pädagogen ...</td>\n",
              "      <td>0.482552</td>\n",
              "      <td>-0.322643</td>\n",
              "    </tr>\n",
              "    <tr>\n",
              "      <th>7</th>\n",
              "      <td>Alfred Stieglitz enrolled in the Real Gymnasiu...</td>\n",
              "      <td>Alfred Stieglitz hat sich am Real Gymnasium Ka...</td>\n",
              "      <td>0.527603</td>\n",
              "      <td>-0.117829</td>\n",
              "    </tr>\n",
              "    <tr>\n",
              "      <th>8</th>\n",
              "      <td>Superman battles the Phantom Zone villains in ...</td>\n",
              "      <td>Superman kämpft gegen die Schurken der Phantom...</td>\n",
              "      <td>0.572117</td>\n",
              "      <td>-0.178461</td>\n",
              "    </tr>\n",
              "    <tr>\n",
              "      <th>9</th>\n",
              "      <td>However, Berke remained neutral militarily, an...</td>\n",
              "      <td>Berke blieb jedoch militärisch neutral und tra...</td>\n",
              "      <td>0.144321</td>\n",
              "      <td>-0.306057</td>\n",
              "    </tr>\n",
              "    <tr>\n",
              "      <th>10</th>\n",
              "      <td>Meanwhile, Poivre had finally obtained seedlin...</td>\n",
              "      <td>Inzwischen hatte Poivre schließlich Sämlinge v...</td>\n",
              "      <td>0.293639</td>\n",
              "      <td>-0.272451</td>\n",
              "    </tr>\n",
              "    <tr>\n",
              "      <th>11</th>\n",
              "      <td>The Barnstormers currently play in the Indoor ...</td>\n",
              "      <td>Die Barnstormers spielen derzeit in der Indoor...</td>\n",
              "      <td>0.308164</td>\n",
              "      <td>-0.191921</td>\n",
              "    </tr>\n",
              "    <tr>\n",
              "      <th>12</th>\n",
              "      <td>Terminally, it bears four lobes, two inner glo...</td>\n",
              "      <td>Schließlich trägt er vier Lappen, zwei innere ...</td>\n",
              "      <td>-0.483659</td>\n",
              "      <td>-0.277400</td>\n",
              "    </tr>\n",
              "    <tr>\n",
              "      <th>13</th>\n",
              "      <td>None of James's biographers accepted them as p...</td>\n",
              "      <td>Keiner von James 's Biographen akzeptierte sie...</td>\n",
              "      <td>0.607984</td>\n",
              "      <td>-0.171543</td>\n",
              "    </tr>\n",
              "    <tr>\n",
              "      <th>14</th>\n",
              "      <td>The original soundtrack cracked the top 20 of ...</td>\n",
              "      <td>Der originale Soundtrack knackte die Top 20 de...</td>\n",
              "      <td>0.606063</td>\n",
              "      <td>-0.227754</td>\n",
              "    </tr>\n",
              "    <tr>\n",
              "      <th>15</th>\n",
              "      <td>Through their property in east Orlando flowed ...</td>\n",
              "      <td>Durch ihr Eigentum im Osten Orlando floss die ...</td>\n",
              "      <td>-0.593054</td>\n",
              "      <td>-0.321634</td>\n",
              "    </tr>\n",
              "    <tr>\n",
              "      <th>16</th>\n",
              "      <td>Surrey batted first and reached 174/2 at lunch...</td>\n",
              "      <td>Surrey schlug zuerst und erreichte 174 / 2 zur...</td>\n",
              "      <td>0.542983</td>\n",
              "      <td>-0.305411</td>\n",
              "    </tr>\n",
              "    <tr>\n",
              "      <th>17</th>\n",
              "      <td>Within the pods, the hippos tend to segregate ...</td>\n",
              "      <td>Innerhalb der Hülsen neigen die Flusspferde da...</td>\n",
              "      <td>0.403677</td>\n",
              "      <td>-0.271715</td>\n",
              "    </tr>\n",
              "    <tr>\n",
              "      <th>18</th>\n",
              "      <td>Next, at The Manchester Trophy in Manchester, ...</td>\n",
              "      <td>Als nächstes, bei der Manchester Trophy in Man...</td>\n",
              "      <td>-1.409811</td>\n",
              "      <td>-0.406559</td>\n",
              "    </tr>\n",
              "    <tr>\n",
              "      <th>19</th>\n",
              "      <td>On Day 35, HouseGuests competed in the \"A Lott...</td>\n",
              "      <td>Am Tag 35, HouseGuest konkurrierte in der \"A L...</td>\n",
              "      <td>-0.824544</td>\n",
              "      <td>-0.443398</td>\n",
              "    </tr>\n",
              "    <tr>\n",
              "      <th>20</th>\n",
              "      <td>The highway headed northeast through Keene, wh...</td>\n",
              "      <td>Die Autobahn führte nordöstlich durch Keene, w...</td>\n",
              "      <td>0.696320</td>\n",
              "      <td>-0.196224</td>\n",
              "    </tr>\n",
              "    <tr>\n",
              "      <th>21</th>\n",
              "      <td>With the fall of Terry Alderman's wicket, Aust...</td>\n",
              "      <td>Mit dem Fall von Terry Alderman 's wicket, Aus...</td>\n",
              "      <td>-0.669961</td>\n",
              "      <td>-0.514874</td>\n",
              "    </tr>\n",
              "    <tr>\n",
              "      <th>22</th>\n",
              "      <td>The Big Ten followed the NCAA actions, concurr...</td>\n",
              "      <td>Die Big Ten folgten den NCAA-Aktionen, die mit...</td>\n",
              "      <td>-0.556494</td>\n",
              "      <td>-0.277261</td>\n",
              "    </tr>\n",
              "    <tr>\n",
              "      <th>23</th>\n",
              "      <td>Two other EF0 tornadoes touched down in Arkans...</td>\n",
              "      <td>Zwei weitere EF0 Tornados landeten in Arkansas...</td>\n",
              "      <td>0.569214</td>\n",
              "      <td>-0.133466</td>\n",
              "    </tr>\n",
              "    <tr>\n",
              "      <th>24</th>\n",
              "      <td>Allen first appeared as the superhero Impulse,...</td>\n",
              "      <td>Allen erschien zuerst als Superheld Impulse, e...</td>\n",
              "      <td>0.361976</td>\n",
              "      <td>-0.264793</td>\n",
              "    </tr>\n",
              "    <tr>\n",
              "      <th>25</th>\n",
              "      <td>Stimulates maturation of the follicle, which t...</td>\n",
              "      <td>Stimuliert die Reifung des Follikels, das wied...</td>\n",
              "      <td>0.635306</td>\n",
              "      <td>-0.167551</td>\n",
              "    </tr>\n",
              "    <tr>\n",
              "      <th>26</th>\n",
              "      <td>Israeli jets used napalm bombs during their so...</td>\n",
              "      <td>Israelische Jets nutzten Napalmbomben während ...</td>\n",
              "      <td>-0.441434</td>\n",
              "      <td>-0.173127</td>\n",
              "    </tr>\n",
              "    <tr>\n",
              "      <th>27</th>\n",
              "      <td>They streamlined the Superman mythos, by downs...</td>\n",
              "      <td>Sie rationalisierten den Superman-Mythos, inde...</td>\n",
              "      <td>0.451185</td>\n",
              "      <td>-0.248362</td>\n",
              "    </tr>\n",
              "    <tr>\n",
              "      <th>28</th>\n",
              "      <td>Frustrated at the dismissal of former Presiden...</td>\n",
              "      <td>Frustriert über die Entlassung des ehemaligen ...</td>\n",
              "      <td>0.561521</td>\n",
              "      <td>-0.136657</td>\n",
              "    </tr>\n",
              "    <tr>\n",
              "      <th>29</th>\n",
              "      <td>Most of his inscriptions began with invocation...</td>\n",
              "      <td>Die meisten seiner Inschriften begannen mit An...</td>\n",
              "      <td>-0.409434</td>\n",
              "      <td>-0.132409</td>\n",
              "    </tr>\n",
              "  </tbody>\n",
              "</table>\n",
              "</div>"
            ],
            "text/plain": [
              "                                             original  ... pred_zscore\n",
              "0   The Sultan appoints judges, and can grant pard...  ...   -0.180513\n",
              "1   Antisemitism in modern Ukraine Antisemitism an...  ...   -0.240227\n",
              "2   Morales continued his feud with Buddy Rose, de...  ...   -0.285555\n",
              "3   American Maury Tripp attended the Jamboree fro...  ...   -0.204697\n",
              "4   He bowled a series of bouncers at Viv Richards...  ...   -0.394623\n",
              "5   The Frenchwoman's win irritated some of her ma...  ...   -0.244608\n",
              "6   Good or bad, the theories of educators such as...  ...   -0.322643\n",
              "7   Alfred Stieglitz enrolled in the Real Gymnasiu...  ...   -0.117829\n",
              "8   Superman battles the Phantom Zone villains in ...  ...   -0.178461\n",
              "9   However, Berke remained neutral militarily, an...  ...   -0.306057\n",
              "10  Meanwhile, Poivre had finally obtained seedlin...  ...   -0.272451\n",
              "11  The Barnstormers currently play in the Indoor ...  ...   -0.191921\n",
              "12  Terminally, it bears four lobes, two inner glo...  ...   -0.277400\n",
              "13  None of James's biographers accepted them as p...  ...   -0.171543\n",
              "14  The original soundtrack cracked the top 20 of ...  ...   -0.227754\n",
              "15  Through their property in east Orlando flowed ...  ...   -0.321634\n",
              "16  Surrey batted first and reached 174/2 at lunch...  ...   -0.305411\n",
              "17  Within the pods, the hippos tend to segregate ...  ...   -0.271715\n",
              "18  Next, at The Manchester Trophy in Manchester, ...  ...   -0.406559\n",
              "19  On Day 35, HouseGuests competed in the \"A Lott...  ...   -0.443398\n",
              "20  The highway headed northeast through Keene, wh...  ...   -0.196224\n",
              "21  With the fall of Terry Alderman's wicket, Aust...  ...   -0.514874\n",
              "22  The Big Ten followed the NCAA actions, concurr...  ...   -0.277261\n",
              "23  Two other EF0 tornadoes touched down in Arkans...  ...   -0.133466\n",
              "24  Allen first appeared as the superhero Impulse,...  ...   -0.264793\n",
              "25  Stimulates maturation of the follicle, which t...  ...   -0.167551\n",
              "26  Israeli jets used napalm bombs during their so...  ...   -0.173127\n",
              "27  They streamlined the Superman mythos, by downs...  ...   -0.248362\n",
              "28  Frustrated at the dismissal of former Presiden...  ...   -0.136657\n",
              "29  Most of his inscriptions began with invocation...  ...   -0.132409\n",
              "\n",
              "[30 rows x 4 columns]"
            ]
          },
          "metadata": {
            "tags": []
          },
          "execution_count": 36
        }
      ]
    },
    {
      "cell_type": "code",
      "metadata": {
        "colab": {
          "base_uri": "https://localhost:8080/"
        },
        "id": "VHbYTpyAeXu4",
        "outputId": "a841ee2b-214d-467c-e77d-172587e7db29"
      },
      "source": [
        "filename = 'en-de_lr'+str(args['learning_rate'])+'_d'+str(args['dropout'])+'.txt'\n",
        "output_path = os.path.join(OUTPUT_DIR, filename)\n",
        "get_metrics(df_results, output_path=output_path, dropout=args['dropout'], lr=args['learning_rate'])"
      ],
      "id": "VHbYTpyAeXu4",
      "execution_count": 38,
      "outputs": [
        {
          "output_type": "stream",
          "text": [
            "Pearson: 0.39480906256986\n",
            "RMSE: 0.7341931840012408\n",
            "MAE: 0.6038007483245742\n"
          ],
          "name": "stdout"
        }
      ]
    },
    {
      "cell_type": "code",
      "metadata": {
        "id": "BKLfl0dexpll"
      },
      "source": [
        "# Save predictions to tsv\n",
        "df_results.to_csv(results_path, sep = '\\t', index=False)"
      ],
      "id": "BKLfl0dexpll",
      "execution_count": null,
      "outputs": []
    },
    {
      "cell_type": "code",
      "metadata": {
        "id": "fUmt0RcC4LYB"
      },
      "source": [
        ""
      ],
      "id": "fUmt0RcC4LYB",
      "execution_count": null,
      "outputs": []
    }
  ]
}